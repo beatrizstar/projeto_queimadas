{
 "cells": [
  {
   "cell_type": "markdown",
   "metadata": {},
   "source": [
    "#### Esse mini projeto tem como objetivo explorar os dados das queimadoas do Brasil do ano de 2011 até 2022, coletadas pelo o site https://queimadas.dgi.inpe.br/queimadas/bdqueimadas#exportar-dados"
   ]
  },
  {
   "cell_type": "code",
   "execution_count": 2,
   "metadata": {},
   "outputs": [],
   "source": [
    "import pandas as pd\n",
    "import numpy as np\n",
    "from dash import Dash\n",
    "import plotly.express as px\n",
    "from scipy.stats import trim_mean\n",
    "import plotly.graph_objects as go\n",
    "from plotly.subplots import make_subplots\n",
    "import seaborn as sns\n",
    "import matplotlib.pyplot as plt\n",
    "\n"
   ]
  },
  {
   "cell_type": "code",
   "execution_count": 3,
   "metadata": {},
   "outputs": [
    {
     "data": {
      "text/html": [
       "<div>\n",
       "<style scoped>\n",
       "    .dataframe tbody tr th:only-of-type {\n",
       "        vertical-align: middle;\n",
       "    }\n",
       "\n",
       "    .dataframe tbody tr th {\n",
       "        vertical-align: top;\n",
       "    }\n",
       "\n",
       "    .dataframe thead th {\n",
       "        text-align: right;\n",
       "    }\n",
       "</style>\n",
       "<table border=\"1\" class=\"dataframe\">\n",
       "  <thead>\n",
       "    <tr style=\"text-align: right;\">\n",
       "      <th></th>\n",
       "      <th>Unnamed: 0</th>\n",
       "      <th>datahora</th>\n",
       "      <th>satelite</th>\n",
       "      <th>estado</th>\n",
       "      <th>municipio</th>\n",
       "      <th>bioma</th>\n",
       "      <th>diasemchuva</th>\n",
       "      <th>precipitacao</th>\n",
       "      <th>riscofogo</th>\n",
       "      <th>latitude</th>\n",
       "      <th>longitude</th>\n",
       "      <th>frp</th>\n",
       "      <th>pais</th>\n",
       "    </tr>\n",
       "  </thead>\n",
       "  <tbody>\n",
       "    <tr>\n",
       "      <th>0</th>\n",
       "      <td>0.0</td>\n",
       "      <td>2011/01/01 04:33:00</td>\n",
       "      <td>AQUA_M-M</td>\n",
       "      <td>SAO PAULO</td>\n",
       "      <td>ITUPEVA</td>\n",
       "      <td>Mata Atlantica</td>\n",
       "      <td>NaN</td>\n",
       "      <td>NaN</td>\n",
       "      <td>NaN</td>\n",
       "      <td>-23.14400</td>\n",
       "      <td>-47.11800</td>\n",
       "      <td>NaN</td>\n",
       "      <td>NaN</td>\n",
       "    </tr>\n",
       "    <tr>\n",
       "      <th>1</th>\n",
       "      <td>1.0</td>\n",
       "      <td>2011/01/01 09:05:48</td>\n",
       "      <td>NOAA-16N</td>\n",
       "      <td>RIO GRANDE DO NORTE</td>\n",
       "      <td>TOUROS</td>\n",
       "      <td>Caatinga</td>\n",
       "      <td>NaN</td>\n",
       "      <td>NaN</td>\n",
       "      <td>NaN</td>\n",
       "      <td>-5.32167</td>\n",
       "      <td>-35.62667</td>\n",
       "      <td>NaN</td>\n",
       "      <td>NaN</td>\n",
       "    </tr>\n",
       "    <tr>\n",
       "      <th>2</th>\n",
       "      <td>2.0</td>\n",
       "      <td>2011/01/01 12:45:00</td>\n",
       "      <td>GOES-12</td>\n",
       "      <td>BAHIA</td>\n",
       "      <td>GLORIA</td>\n",
       "      <td>Caatinga</td>\n",
       "      <td>NaN</td>\n",
       "      <td>NaN</td>\n",
       "      <td>NaN</td>\n",
       "      <td>-9.03354</td>\n",
       "      <td>-38.32000</td>\n",
       "      <td>NaN</td>\n",
       "      <td>NaN</td>\n",
       "    </tr>\n",
       "    <tr>\n",
       "      <th>3</th>\n",
       "      <td>3.0</td>\n",
       "      <td>2011/01/01 12:45:00</td>\n",
       "      <td>GOES-12</td>\n",
       "      <td>BAHIA</td>\n",
       "      <td>GLORIA</td>\n",
       "      <td>Caatinga</td>\n",
       "      <td>NaN</td>\n",
       "      <td>NaN</td>\n",
       "      <td>NaN</td>\n",
       "      <td>-9.00355</td>\n",
       "      <td>-38.33000</td>\n",
       "      <td>NaN</td>\n",
       "      <td>NaN</td>\n",
       "    </tr>\n",
       "    <tr>\n",
       "      <th>4</th>\n",
       "      <td>4.0</td>\n",
       "      <td>2011/01/01 13:00:00</td>\n",
       "      <td>GOES-12</td>\n",
       "      <td>PERNAMBUCO</td>\n",
       "      <td>FLORESTA</td>\n",
       "      <td>Caatinga</td>\n",
       "      <td>NaN</td>\n",
       "      <td>NaN</td>\n",
       "      <td>NaN</td>\n",
       "      <td>-8.81357</td>\n",
       "      <td>-38.53000</td>\n",
       "      <td>NaN</td>\n",
       "      <td>NaN</td>\n",
       "    </tr>\n",
       "    <tr>\n",
       "      <th>...</th>\n",
       "      <td>...</td>\n",
       "      <td>...</td>\n",
       "      <td>...</td>\n",
       "      <td>...</td>\n",
       "      <td>...</td>\n",
       "      <td>...</td>\n",
       "      <td>...</td>\n",
       "      <td>...</td>\n",
       "      <td>...</td>\n",
       "      <td>...</td>\n",
       "      <td>...</td>\n",
       "      <td>...</td>\n",
       "      <td>...</td>\n",
       "    </tr>\n",
       "    <tr>\n",
       "      <th>195401</th>\n",
       "      <td>NaN</td>\n",
       "      <td>2022/12/07 16:47:00</td>\n",
       "      <td>AQUA_M-T</td>\n",
       "      <td>CEARA</td>\n",
       "      <td>MOMBACA</td>\n",
       "      <td>Caatinga</td>\n",
       "      <td>NaN</td>\n",
       "      <td>NaN</td>\n",
       "      <td>NaN</td>\n",
       "      <td>-5.72511</td>\n",
       "      <td>-39.79423</td>\n",
       "      <td>56.6</td>\n",
       "      <td>Brasil</td>\n",
       "    </tr>\n",
       "    <tr>\n",
       "      <th>195402</th>\n",
       "      <td>NaN</td>\n",
       "      <td>2022/12/07 16:47:00</td>\n",
       "      <td>AQUA_M-T</td>\n",
       "      <td>CEARA</td>\n",
       "      <td>TAUA</td>\n",
       "      <td>Caatinga</td>\n",
       "      <td>NaN</td>\n",
       "      <td>NaN</td>\n",
       "      <td>NaN</td>\n",
       "      <td>-5.94157</td>\n",
       "      <td>-39.92683</td>\n",
       "      <td>45.3</td>\n",
       "      <td>Brasil</td>\n",
       "    </tr>\n",
       "    <tr>\n",
       "      <th>195403</th>\n",
       "      <td>NaN</td>\n",
       "      <td>2022/12/07 16:47:00</td>\n",
       "      <td>AQUA_M-T</td>\n",
       "      <td>RIO GRANDE DO NORTE</td>\n",
       "      <td>APODI</td>\n",
       "      <td>Caatinga</td>\n",
       "      <td>NaN</td>\n",
       "      <td>NaN</td>\n",
       "      <td>NaN</td>\n",
       "      <td>-5.65971</td>\n",
       "      <td>-38.06494</td>\n",
       "      <td>39.0</td>\n",
       "      <td>Brasil</td>\n",
       "    </tr>\n",
       "    <tr>\n",
       "      <th>195404</th>\n",
       "      <td>NaN</td>\n",
       "      <td>2022/12/07 16:49:00</td>\n",
       "      <td>AQUA_M-T</td>\n",
       "      <td>CEARA</td>\n",
       "      <td>IPAPORANGA</td>\n",
       "      <td>Caatinga</td>\n",
       "      <td>NaN</td>\n",
       "      <td>NaN</td>\n",
       "      <td>NaN</td>\n",
       "      <td>-4.89644</td>\n",
       "      <td>-40.61369</td>\n",
       "      <td>48.3</td>\n",
       "      <td>Brasil</td>\n",
       "    </tr>\n",
       "    <tr>\n",
       "      <th>195405</th>\n",
       "      <td>NaN</td>\n",
       "      <td>2022/12/07 18:28:00</td>\n",
       "      <td>AQUA_M-T</td>\n",
       "      <td>AMAZONAS</td>\n",
       "      <td>GUAJARA</td>\n",
       "      <td>Amazonia</td>\n",
       "      <td>NaN</td>\n",
       "      <td>NaN</td>\n",
       "      <td>NaN</td>\n",
       "      <td>-7.32908</td>\n",
       "      <td>-72.78465</td>\n",
       "      <td>8.6</td>\n",
       "      <td>Brasil</td>\n",
       "    </tr>\n",
       "  </tbody>\n",
       "</table>\n",
       "<p>29360427 rows × 13 columns</p>\n",
       "</div>"
      ],
      "text/plain": [
       "        Unnamed: 0             datahora  satelite               estado  \\\n",
       "0              0.0  2011/01/01 04:33:00  AQUA_M-M            SAO PAULO   \n",
       "1              1.0  2011/01/01 09:05:48  NOAA-16N  RIO GRANDE DO NORTE   \n",
       "2              2.0  2011/01/01 12:45:00   GOES-12                BAHIA   \n",
       "3              3.0  2011/01/01 12:45:00   GOES-12                BAHIA   \n",
       "4              4.0  2011/01/01 13:00:00   GOES-12           PERNAMBUCO   \n",
       "...            ...                  ...       ...                  ...   \n",
       "195401         NaN  2022/12/07 16:47:00  AQUA_M-T                CEARA   \n",
       "195402         NaN  2022/12/07 16:47:00  AQUA_M-T                CEARA   \n",
       "195403         NaN  2022/12/07 16:47:00  AQUA_M-T  RIO GRANDE DO NORTE   \n",
       "195404         NaN  2022/12/07 16:49:00  AQUA_M-T                CEARA   \n",
       "195405         NaN  2022/12/07 18:28:00  AQUA_M-T             AMAZONAS   \n",
       "\n",
       "         municipio           bioma  diasemchuva  precipitacao  riscofogo  \\\n",
       "0          ITUPEVA  Mata Atlantica          NaN           NaN        NaN   \n",
       "1           TOUROS        Caatinga          NaN           NaN        NaN   \n",
       "2           GLORIA        Caatinga          NaN           NaN        NaN   \n",
       "3           GLORIA        Caatinga          NaN           NaN        NaN   \n",
       "4         FLORESTA        Caatinga          NaN           NaN        NaN   \n",
       "...            ...             ...          ...           ...        ...   \n",
       "195401     MOMBACA        Caatinga          NaN           NaN        NaN   \n",
       "195402        TAUA        Caatinga          NaN           NaN        NaN   \n",
       "195403       APODI        Caatinga          NaN           NaN        NaN   \n",
       "195404  IPAPORANGA        Caatinga          NaN           NaN        NaN   \n",
       "195405     GUAJARA        Amazonia          NaN           NaN        NaN   \n",
       "\n",
       "        latitude  longitude   frp    pais  \n",
       "0      -23.14400  -47.11800   NaN     NaN  \n",
       "1       -5.32167  -35.62667   NaN     NaN  \n",
       "2       -9.03354  -38.32000   NaN     NaN  \n",
       "3       -9.00355  -38.33000   NaN     NaN  \n",
       "4       -8.81357  -38.53000   NaN     NaN  \n",
       "...          ...        ...   ...     ...  \n",
       "195401  -5.72511  -39.79423  56.6  Brasil  \n",
       "195402  -5.94157  -39.92683  45.3  Brasil  \n",
       "195403  -5.65971  -38.06494  39.0  Brasil  \n",
       "195404  -4.89644  -40.61369  48.3  Brasil  \n",
       "195405  -7.32908  -72.78465   8.6  Brasil  \n",
       "\n",
       "[29360427 rows x 13 columns]"
      ]
     },
     "execution_count": 3,
     "metadata": {},
     "output_type": "execute_result"
    }
   ],
   "source": [
    "df_2011_2021 = pd.read_csv(\"focos-queimadas-brasil-2011-2021-002.csv\",sep = ',')\n",
    "df_2022 = pd.read_csv(\"Focos_2022-01-03_2022-12-07.csv\",sep = ',')\n",
    "\n",
    "df = pd.concat([df_2011_2021,df_2022])\n",
    "df"
   ]
  },
  {
   "cell_type": "markdown",
   "metadata": {},
   "source": [
    "## Explorando e limpando os dados"
   ]
  },
  {
   "cell_type": "code",
   "execution_count": 7,
   "metadata": {},
   "outputs": [
    {
     "data": {
      "text/html": [
       "<div>\n",
       "<style scoped>\n",
       "    .dataframe tbody tr th:only-of-type {\n",
       "        vertical-align: middle;\n",
       "    }\n",
       "\n",
       "    .dataframe tbody tr th {\n",
       "        vertical-align: top;\n",
       "    }\n",
       "\n",
       "    .dataframe thead th {\n",
       "        text-align: right;\n",
       "    }\n",
       "</style>\n",
       "<table border=\"1\" class=\"dataframe\">\n",
       "  <thead>\n",
       "    <tr style=\"text-align: right;\">\n",
       "      <th></th>\n",
       "      <th>datahora</th>\n",
       "      <th>satelite</th>\n",
       "      <th>estado</th>\n",
       "      <th>municipio</th>\n",
       "      <th>bioma</th>\n",
       "      <th>diasemchuva</th>\n",
       "      <th>precipitacao</th>\n",
       "      <th>riscofogo</th>\n",
       "      <th>latitude</th>\n",
       "      <th>longitude</th>\n",
       "      <th>frp</th>\n",
       "    </tr>\n",
       "  </thead>\n",
       "  <tbody>\n",
       "    <tr>\n",
       "      <th>0</th>\n",
       "      <td>2011/01/01 04:33:00</td>\n",
       "      <td>AQUA_M-M</td>\n",
       "      <td>SAO PAULO</td>\n",
       "      <td>ITUPEVA</td>\n",
       "      <td>Mata Atlantica</td>\n",
       "      <td>NaN</td>\n",
       "      <td>NaN</td>\n",
       "      <td>NaN</td>\n",
       "      <td>-23.14400</td>\n",
       "      <td>-47.11800</td>\n",
       "      <td>NaN</td>\n",
       "    </tr>\n",
       "    <tr>\n",
       "      <th>1</th>\n",
       "      <td>2011/01/01 09:05:48</td>\n",
       "      <td>NOAA-16N</td>\n",
       "      <td>RIO GRANDE DO NORTE</td>\n",
       "      <td>TOUROS</td>\n",
       "      <td>Caatinga</td>\n",
       "      <td>NaN</td>\n",
       "      <td>NaN</td>\n",
       "      <td>NaN</td>\n",
       "      <td>-5.32167</td>\n",
       "      <td>-35.62667</td>\n",
       "      <td>NaN</td>\n",
       "    </tr>\n",
       "    <tr>\n",
       "      <th>2</th>\n",
       "      <td>2011/01/01 12:45:00</td>\n",
       "      <td>GOES-12</td>\n",
       "      <td>BAHIA</td>\n",
       "      <td>GLORIA</td>\n",
       "      <td>Caatinga</td>\n",
       "      <td>NaN</td>\n",
       "      <td>NaN</td>\n",
       "      <td>NaN</td>\n",
       "      <td>-9.03354</td>\n",
       "      <td>-38.32000</td>\n",
       "      <td>NaN</td>\n",
       "    </tr>\n",
       "    <tr>\n",
       "      <th>3</th>\n",
       "      <td>2011/01/01 12:45:00</td>\n",
       "      <td>GOES-12</td>\n",
       "      <td>BAHIA</td>\n",
       "      <td>GLORIA</td>\n",
       "      <td>Caatinga</td>\n",
       "      <td>NaN</td>\n",
       "      <td>NaN</td>\n",
       "      <td>NaN</td>\n",
       "      <td>-9.00355</td>\n",
       "      <td>-38.33000</td>\n",
       "      <td>NaN</td>\n",
       "    </tr>\n",
       "    <tr>\n",
       "      <th>4</th>\n",
       "      <td>2011/01/01 13:00:00</td>\n",
       "      <td>GOES-12</td>\n",
       "      <td>PERNAMBUCO</td>\n",
       "      <td>FLORESTA</td>\n",
       "      <td>Caatinga</td>\n",
       "      <td>NaN</td>\n",
       "      <td>NaN</td>\n",
       "      <td>NaN</td>\n",
       "      <td>-8.81357</td>\n",
       "      <td>-38.53000</td>\n",
       "      <td>NaN</td>\n",
       "    </tr>\n",
       "    <tr>\n",
       "      <th>...</th>\n",
       "      <td>...</td>\n",
       "      <td>...</td>\n",
       "      <td>...</td>\n",
       "      <td>...</td>\n",
       "      <td>...</td>\n",
       "      <td>...</td>\n",
       "      <td>...</td>\n",
       "      <td>...</td>\n",
       "      <td>...</td>\n",
       "      <td>...</td>\n",
       "      <td>...</td>\n",
       "    </tr>\n",
       "    <tr>\n",
       "      <th>195401</th>\n",
       "      <td>2022/12/07 16:47:00</td>\n",
       "      <td>AQUA_M-T</td>\n",
       "      <td>CEARA</td>\n",
       "      <td>MOMBACA</td>\n",
       "      <td>Caatinga</td>\n",
       "      <td>NaN</td>\n",
       "      <td>NaN</td>\n",
       "      <td>NaN</td>\n",
       "      <td>-5.72511</td>\n",
       "      <td>-39.79423</td>\n",
       "      <td>56.6</td>\n",
       "    </tr>\n",
       "    <tr>\n",
       "      <th>195402</th>\n",
       "      <td>2022/12/07 16:47:00</td>\n",
       "      <td>AQUA_M-T</td>\n",
       "      <td>CEARA</td>\n",
       "      <td>TAUA</td>\n",
       "      <td>Caatinga</td>\n",
       "      <td>NaN</td>\n",
       "      <td>NaN</td>\n",
       "      <td>NaN</td>\n",
       "      <td>-5.94157</td>\n",
       "      <td>-39.92683</td>\n",
       "      <td>45.3</td>\n",
       "    </tr>\n",
       "    <tr>\n",
       "      <th>195403</th>\n",
       "      <td>2022/12/07 16:47:00</td>\n",
       "      <td>AQUA_M-T</td>\n",
       "      <td>RIO GRANDE DO NORTE</td>\n",
       "      <td>APODI</td>\n",
       "      <td>Caatinga</td>\n",
       "      <td>NaN</td>\n",
       "      <td>NaN</td>\n",
       "      <td>NaN</td>\n",
       "      <td>-5.65971</td>\n",
       "      <td>-38.06494</td>\n",
       "      <td>39.0</td>\n",
       "    </tr>\n",
       "    <tr>\n",
       "      <th>195404</th>\n",
       "      <td>2022/12/07 16:49:00</td>\n",
       "      <td>AQUA_M-T</td>\n",
       "      <td>CEARA</td>\n",
       "      <td>IPAPORANGA</td>\n",
       "      <td>Caatinga</td>\n",
       "      <td>NaN</td>\n",
       "      <td>NaN</td>\n",
       "      <td>NaN</td>\n",
       "      <td>-4.89644</td>\n",
       "      <td>-40.61369</td>\n",
       "      <td>48.3</td>\n",
       "    </tr>\n",
       "    <tr>\n",
       "      <th>195405</th>\n",
       "      <td>2022/12/07 18:28:00</td>\n",
       "      <td>AQUA_M-T</td>\n",
       "      <td>AMAZONAS</td>\n",
       "      <td>GUAJARA</td>\n",
       "      <td>Amazonia</td>\n",
       "      <td>NaN</td>\n",
       "      <td>NaN</td>\n",
       "      <td>NaN</td>\n",
       "      <td>-7.32908</td>\n",
       "      <td>-72.78465</td>\n",
       "      <td>8.6</td>\n",
       "    </tr>\n",
       "  </tbody>\n",
       "</table>\n",
       "<p>29360427 rows × 11 columns</p>\n",
       "</div>"
      ],
      "text/plain": [
       "                   datahora  satelite               estado   municipio  \\\n",
       "0       2011/01/01 04:33:00  AQUA_M-M            SAO PAULO     ITUPEVA   \n",
       "1       2011/01/01 09:05:48  NOAA-16N  RIO GRANDE DO NORTE      TOUROS   \n",
       "2       2011/01/01 12:45:00   GOES-12                BAHIA      GLORIA   \n",
       "3       2011/01/01 12:45:00   GOES-12                BAHIA      GLORIA   \n",
       "4       2011/01/01 13:00:00   GOES-12           PERNAMBUCO    FLORESTA   \n",
       "...                     ...       ...                  ...         ...   \n",
       "195401  2022/12/07 16:47:00  AQUA_M-T                CEARA     MOMBACA   \n",
       "195402  2022/12/07 16:47:00  AQUA_M-T                CEARA        TAUA   \n",
       "195403  2022/12/07 16:47:00  AQUA_M-T  RIO GRANDE DO NORTE       APODI   \n",
       "195404  2022/12/07 16:49:00  AQUA_M-T                CEARA  IPAPORANGA   \n",
       "195405  2022/12/07 18:28:00  AQUA_M-T             AMAZONAS     GUAJARA   \n",
       "\n",
       "                 bioma  diasemchuva  precipitacao  riscofogo  latitude  \\\n",
       "0       Mata Atlantica          NaN           NaN        NaN -23.14400   \n",
       "1             Caatinga          NaN           NaN        NaN  -5.32167   \n",
       "2             Caatinga          NaN           NaN        NaN  -9.03354   \n",
       "3             Caatinga          NaN           NaN        NaN  -9.00355   \n",
       "4             Caatinga          NaN           NaN        NaN  -8.81357   \n",
       "...                ...          ...           ...        ...       ...   \n",
       "195401        Caatinga          NaN           NaN        NaN  -5.72511   \n",
       "195402        Caatinga          NaN           NaN        NaN  -5.94157   \n",
       "195403        Caatinga          NaN           NaN        NaN  -5.65971   \n",
       "195404        Caatinga          NaN           NaN        NaN  -4.89644   \n",
       "195405        Amazonia          NaN           NaN        NaN  -7.32908   \n",
       "\n",
       "        longitude   frp  \n",
       "0       -47.11800   NaN  \n",
       "1       -35.62667   NaN  \n",
       "2       -38.32000   NaN  \n",
       "3       -38.33000   NaN  \n",
       "4       -38.53000   NaN  \n",
       "...           ...   ...  \n",
       "195401  -39.79423  56.6  \n",
       "195402  -39.92683  45.3  \n",
       "195403  -38.06494  39.0  \n",
       "195404  -40.61369  48.3  \n",
       "195405  -72.78465   8.6  \n",
       "\n",
       "[29360427 rows x 11 columns]"
      ]
     },
     "execution_count": 7,
     "metadata": {},
     "output_type": "execute_result"
    }
   ],
   "source": [
    "df.drop(['Unnamed: 0', 'pais'], axis =1, inplace=True)\n",
    "df"
   ]
  },
  {
   "cell_type": "code",
   "execution_count": 8,
   "metadata": {},
   "outputs": [
    {
     "name": "stdout",
     "output_type": "stream",
     "text": [
      "<class 'pandas.core.frame.DataFrame'>\n",
      "Int64Index: 29360427 entries, 0 to 195405\n",
      "Data columns (total 11 columns):\n",
      " #   Column        Dtype  \n",
      "---  ------        -----  \n",
      " 0   datahora      object \n",
      " 1   satelite      object \n",
      " 2   estado        object \n",
      " 3   municipio     object \n",
      " 4   bioma         object \n",
      " 5   diasemchuva   float64\n",
      " 6   precipitacao  float64\n",
      " 7   riscofogo     float64\n",
      " 8   latitude      float64\n",
      " 9   longitude     float64\n",
      " 10  frp           float64\n",
      "dtypes: float64(6), object(5)\n",
      "memory usage: 2.6+ GB\n"
     ]
    }
   ],
   "source": [
    "df.info()"
   ]
  },
  {
   "cell_type": "code",
   "execution_count": 9,
   "metadata": {},
   "outputs": [
    {
     "data": {
      "text/html": [
       "<div>\n",
       "<style scoped>\n",
       "    .dataframe tbody tr th:only-of-type {\n",
       "        vertical-align: middle;\n",
       "    }\n",
       "\n",
       "    .dataframe tbody tr th {\n",
       "        vertical-align: top;\n",
       "    }\n",
       "\n",
       "    .dataframe thead th {\n",
       "        text-align: right;\n",
       "    }\n",
       "</style>\n",
       "<table border=\"1\" class=\"dataframe\">\n",
       "  <thead>\n",
       "    <tr style=\"text-align: right;\">\n",
       "      <th></th>\n",
       "      <th>diasemchuva</th>\n",
       "      <th>precipitacao</th>\n",
       "      <th>riscofogo</th>\n",
       "      <th>latitude</th>\n",
       "      <th>longitude</th>\n",
       "      <th>frp</th>\n",
       "    </tr>\n",
       "  </thead>\n",
       "  <tbody>\n",
       "    <tr>\n",
       "      <th>count</th>\n",
       "      <td>2.449739e+07</td>\n",
       "      <td>2.449739e+07</td>\n",
       "      <td>2.449739e+07</td>\n",
       "      <td>2.936043e+07</td>\n",
       "      <td>2.936043e+07</td>\n",
       "      <td>8.250305e+06</td>\n",
       "    </tr>\n",
       "    <tr>\n",
       "      <th>mean</th>\n",
       "      <td>1.358547e+01</td>\n",
       "      <td>7.187974e-01</td>\n",
       "      <td>-7.721010e+00</td>\n",
       "      <td>-1.036197e+01</td>\n",
       "      <td>-5.148136e+01</td>\n",
       "      <td>2.030435e+01</td>\n",
       "    </tr>\n",
       "    <tr>\n",
       "      <th>std</th>\n",
       "      <td>8.054118e+01</td>\n",
       "      <td>3.292095e+00</td>\n",
       "      <td>9.190020e+01</td>\n",
       "      <td>5.887504e+00</td>\n",
       "      <td>7.121668e+00</td>\n",
       "      <td>5.991733e+01</td>\n",
       "    </tr>\n",
       "    <tr>\n",
       "      <th>min</th>\n",
       "      <td>-9.990000e+02</td>\n",
       "      <td>0.000000e+00</td>\n",
       "      <td>-9.990000e+02</td>\n",
       "      <td>-3.374046e+01</td>\n",
       "      <td>-7.393146e+01</td>\n",
       "      <td>-3.700000e+00</td>\n",
       "    </tr>\n",
       "    <tr>\n",
       "      <th>25%</th>\n",
       "      <td>2.000000e+00</td>\n",
       "      <td>0.000000e+00</td>\n",
       "      <td>7.000000e-01</td>\n",
       "      <td>-1.368300e+01</td>\n",
       "      <td>-5.638989e+01</td>\n",
       "      <td>3.400000e+00</td>\n",
       "    </tr>\n",
       "    <tr>\n",
       "      <th>50%</th>\n",
       "      <td>7.000000e+00</td>\n",
       "      <td>0.000000e+00</td>\n",
       "      <td>1.000000e+00</td>\n",
       "      <td>-9.643220e+00</td>\n",
       "      <td>-5.060000e+01</td>\n",
       "      <td>7.600000e+00</td>\n",
       "    </tr>\n",
       "    <tr>\n",
       "      <th>75%</th>\n",
       "      <td>2.200000e+01</td>\n",
       "      <td>1.000000e-01</td>\n",
       "      <td>1.000000e+00</td>\n",
       "      <td>-6.351910e+00</td>\n",
       "      <td>-4.595300e+01</td>\n",
       "      <td>1.770000e+01</td>\n",
       "    </tr>\n",
       "    <tr>\n",
       "      <th>max</th>\n",
       "      <td>3.570000e+02</td>\n",
       "      <td>2.037000e+02</td>\n",
       "      <td>1.000000e+00</td>\n",
       "      <td>5.230000e+00</td>\n",
       "      <td>-3.241993e+01</td>\n",
       "      <td>9.722600e+03</td>\n",
       "    </tr>\n",
       "  </tbody>\n",
       "</table>\n",
       "</div>"
      ],
      "text/plain": [
       "        diasemchuva  precipitacao     riscofogo      latitude     longitude  \\\n",
       "count  2.449739e+07  2.449739e+07  2.449739e+07  2.936043e+07  2.936043e+07   \n",
       "mean   1.358547e+01  7.187974e-01 -7.721010e+00 -1.036197e+01 -5.148136e+01   \n",
       "std    8.054118e+01  3.292095e+00  9.190020e+01  5.887504e+00  7.121668e+00   \n",
       "min   -9.990000e+02  0.000000e+00 -9.990000e+02 -3.374046e+01 -7.393146e+01   \n",
       "25%    2.000000e+00  0.000000e+00  7.000000e-01 -1.368300e+01 -5.638989e+01   \n",
       "50%    7.000000e+00  0.000000e+00  1.000000e+00 -9.643220e+00 -5.060000e+01   \n",
       "75%    2.200000e+01  1.000000e-01  1.000000e+00 -6.351910e+00 -4.595300e+01   \n",
       "max    3.570000e+02  2.037000e+02  1.000000e+00  5.230000e+00 -3.241993e+01   \n",
       "\n",
       "                frp  \n",
       "count  8.250305e+06  \n",
       "mean   2.030435e+01  \n",
       "std    5.991733e+01  \n",
       "min   -3.700000e+00  \n",
       "25%    3.400000e+00  \n",
       "50%    7.600000e+00  \n",
       "75%    1.770000e+01  \n",
       "max    9.722600e+03  "
      ]
     },
     "execution_count": 9,
     "metadata": {},
     "output_type": "execute_result"
    }
   ],
   "source": [
    "df.describe()"
   ]
  },
  {
   "cell_type": "code",
   "execution_count": 10,
   "metadata": {},
   "outputs": [
    {
     "data": {
      "text/html": [
       "<div>\n",
       "<style scoped>\n",
       "    .dataframe tbody tr th:only-of-type {\n",
       "        vertical-align: middle;\n",
       "    }\n",
       "\n",
       "    .dataframe tbody tr th {\n",
       "        vertical-align: top;\n",
       "    }\n",
       "\n",
       "    .dataframe thead th {\n",
       "        text-align: right;\n",
       "    }\n",
       "</style>\n",
       "<table border=\"1\" class=\"dataframe\">\n",
       "  <thead>\n",
       "    <tr style=\"text-align: right;\">\n",
       "      <th></th>\n",
       "      <th>datahora</th>\n",
       "      <th>satelite</th>\n",
       "      <th>estado</th>\n",
       "      <th>municipio</th>\n",
       "      <th>bioma</th>\n",
       "      <th>diasemchuva</th>\n",
       "      <th>precipitacao</th>\n",
       "      <th>riscofogo</th>\n",
       "      <th>latitude</th>\n",
       "      <th>longitude</th>\n",
       "      <th>frp</th>\n",
       "    </tr>\n",
       "  </thead>\n",
       "  <tbody>\n",
       "    <tr>\n",
       "      <th>2673557</th>\n",
       "      <td>2012/08/31 17:25:00</td>\n",
       "      <td>NPP-375</td>\n",
       "      <td>TOCANTINS</td>\n",
       "      <td>DIANOPOLIS</td>\n",
       "      <td>Cerrado</td>\n",
       "      <td>NaN</td>\n",
       "      <td>NaN</td>\n",
       "      <td>NaN</td>\n",
       "      <td>-11.57084</td>\n",
       "      <td>-46.42419</td>\n",
       "      <td>NaN</td>\n",
       "    </tr>\n",
       "    <tr>\n",
       "      <th>26740825</th>\n",
       "      <td>2021/04/26 18:23:49</td>\n",
       "      <td>GOES-16</td>\n",
       "      <td>GOIAS</td>\n",
       "      <td>BRITANIA</td>\n",
       "      <td>Cerrado</td>\n",
       "      <td>6.0</td>\n",
       "      <td>0.1</td>\n",
       "      <td>0.7</td>\n",
       "      <td>-15.39000</td>\n",
       "      <td>-51.03000</td>\n",
       "      <td>NaN</td>\n",
       "    </tr>\n",
       "    <tr>\n",
       "      <th>25975380</th>\n",
       "      <td>2021/10/13 16:52:00</td>\n",
       "      <td>NPP-375</td>\n",
       "      <td>PARA</td>\n",
       "      <td>CACHOEIRA DO PIRIA</td>\n",
       "      <td>Amazonia</td>\n",
       "      <td>4.0</td>\n",
       "      <td>0.0</td>\n",
       "      <td>0.3</td>\n",
       "      <td>-1.68812</td>\n",
       "      <td>-46.55207</td>\n",
       "      <td>5.8</td>\n",
       "    </tr>\n",
       "    <tr>\n",
       "      <th>14625911</th>\n",
       "      <td>2018/09/12 04:10:00</td>\n",
       "      <td>AQUA_M-M</td>\n",
       "      <td>MATO GROSSO</td>\n",
       "      <td>SANTA TEREZINHA</td>\n",
       "      <td>Amazonia</td>\n",
       "      <td>23.0</td>\n",
       "      <td>11.0</td>\n",
       "      <td>0.0</td>\n",
       "      <td>-9.87600</td>\n",
       "      <td>-50.50500</td>\n",
       "      <td>46.7</td>\n",
       "    </tr>\n",
       "    <tr>\n",
       "      <th>13544430</th>\n",
       "      <td>2017/10/10 21:04:55</td>\n",
       "      <td>GOES-16</td>\n",
       "      <td>MARANHAO</td>\n",
       "      <td>BARRA DO CORDA</td>\n",
       "      <td>Cerrado</td>\n",
       "      <td>0.0</td>\n",
       "      <td>0.0</td>\n",
       "      <td>1.0</td>\n",
       "      <td>-5.14000</td>\n",
       "      <td>-45.19000</td>\n",
       "      <td>NaN</td>\n",
       "    </tr>\n",
       "  </tbody>\n",
       "</table>\n",
       "</div>"
      ],
      "text/plain": [
       "                     datahora  satelite       estado           municipio  \\\n",
       "2673557   2012/08/31 17:25:00   NPP-375    TOCANTINS          DIANOPOLIS   \n",
       "26740825  2021/04/26 18:23:49   GOES-16        GOIAS            BRITANIA   \n",
       "25975380  2021/10/13 16:52:00   NPP-375         PARA  CACHOEIRA DO PIRIA   \n",
       "14625911  2018/09/12 04:10:00  AQUA_M-M  MATO GROSSO     SANTA TEREZINHA   \n",
       "13544430  2017/10/10 21:04:55   GOES-16     MARANHAO      BARRA DO CORDA   \n",
       "\n",
       "             bioma  diasemchuva  precipitacao  riscofogo  latitude  longitude  \\\n",
       "2673557    Cerrado          NaN           NaN        NaN -11.57084  -46.42419   \n",
       "26740825   Cerrado          6.0           0.1        0.7 -15.39000  -51.03000   \n",
       "25975380  Amazonia          4.0           0.0        0.3  -1.68812  -46.55207   \n",
       "14625911  Amazonia         23.0          11.0        0.0  -9.87600  -50.50500   \n",
       "13544430   Cerrado          0.0           0.0        1.0  -5.14000  -45.19000   \n",
       "\n",
       "           frp  \n",
       "2673557    NaN  \n",
       "26740825   NaN  \n",
       "25975380   5.8  \n",
       "14625911  46.7  \n",
       "13544430   NaN  "
      ]
     },
     "execution_count": 10,
     "metadata": {},
     "output_type": "execute_result"
    }
   ],
   "source": [
    "#Retornando uma amostra aleatória de itens de um eixo de objeto.\n",
    "df.sample(n=5) "
   ]
  },
  {
   "cell_type": "code",
   "execution_count": 11,
   "metadata": {},
   "outputs": [],
   "source": [
    "#Tirando os numeros faltantes e substituindo por zero\n",
    "df['diasemchuva'].fillna(0, inplace = True)\n",
    "df['precipitacao'].fillna(0, inplace = True)\n",
    "df['riscofogo'].fillna(0, inplace = True)\n",
    "df['frp'].fillna(0, inplace = True)"
   ]
  },
  {
   "cell_type": "code",
   "execution_count": 40,
   "metadata": {},
   "outputs": [],
   "source": [
    "# Transformando o tipo da coluna datahora para datetime\n",
    "df['datahora'] = pd.to_datetime(df['datahora'], format = '%Y/%m/%d')"
   ]
  },
  {
   "cell_type": "code",
   "execution_count": 41,
   "metadata": {},
   "outputs": [
    {
     "data": {
      "text/html": [
       "<div>\n",
       "<style scoped>\n",
       "    .dataframe tbody tr th:only-of-type {\n",
       "        vertical-align: middle;\n",
       "    }\n",
       "\n",
       "    .dataframe tbody tr th {\n",
       "        vertical-align: top;\n",
       "    }\n",
       "\n",
       "    .dataframe thead th {\n",
       "        text-align: right;\n",
       "    }\n",
       "</style>\n",
       "<table border=\"1\" class=\"dataframe\">\n",
       "  <thead>\n",
       "    <tr style=\"text-align: right;\">\n",
       "      <th></th>\n",
       "      <th>datahora</th>\n",
       "      <th>satelite</th>\n",
       "      <th>estado</th>\n",
       "      <th>municipio</th>\n",
       "      <th>bioma</th>\n",
       "      <th>diasemchuva</th>\n",
       "      <th>precipitacao</th>\n",
       "      <th>riscofogo</th>\n",
       "      <th>latitude</th>\n",
       "      <th>longitude</th>\n",
       "      <th>frp</th>\n",
       "    </tr>\n",
       "  </thead>\n",
       "  <tbody>\n",
       "    <tr>\n",
       "      <th>0</th>\n",
       "      <td>2011-01-01 04:33:00</td>\n",
       "      <td>AQUA_M-M</td>\n",
       "      <td>SAO PAULO</td>\n",
       "      <td>ITUPEVA</td>\n",
       "      <td>Mata Atlantica</td>\n",
       "      <td>0.0</td>\n",
       "      <td>0.0</td>\n",
       "      <td>0.0</td>\n",
       "      <td>-23.14400</td>\n",
       "      <td>-47.11800</td>\n",
       "      <td>0.0</td>\n",
       "    </tr>\n",
       "    <tr>\n",
       "      <th>1</th>\n",
       "      <td>2011-01-01 09:05:48</td>\n",
       "      <td>NOAA-16N</td>\n",
       "      <td>RIO GRANDE DO NORTE</td>\n",
       "      <td>TOUROS</td>\n",
       "      <td>Caatinga</td>\n",
       "      <td>0.0</td>\n",
       "      <td>0.0</td>\n",
       "      <td>0.0</td>\n",
       "      <td>-5.32167</td>\n",
       "      <td>-35.62667</td>\n",
       "      <td>0.0</td>\n",
       "    </tr>\n",
       "    <tr>\n",
       "      <th>2</th>\n",
       "      <td>2011-01-01 12:45:00</td>\n",
       "      <td>GOES-12</td>\n",
       "      <td>BAHIA</td>\n",
       "      <td>GLORIA</td>\n",
       "      <td>Caatinga</td>\n",
       "      <td>0.0</td>\n",
       "      <td>0.0</td>\n",
       "      <td>0.0</td>\n",
       "      <td>-9.03354</td>\n",
       "      <td>-38.32000</td>\n",
       "      <td>0.0</td>\n",
       "    </tr>\n",
       "    <tr>\n",
       "      <th>3</th>\n",
       "      <td>2011-01-01 12:45:00</td>\n",
       "      <td>GOES-12</td>\n",
       "      <td>BAHIA</td>\n",
       "      <td>GLORIA</td>\n",
       "      <td>Caatinga</td>\n",
       "      <td>0.0</td>\n",
       "      <td>0.0</td>\n",
       "      <td>0.0</td>\n",
       "      <td>-9.00355</td>\n",
       "      <td>-38.33000</td>\n",
       "      <td>0.0</td>\n",
       "    </tr>\n",
       "    <tr>\n",
       "      <th>4</th>\n",
       "      <td>2011-01-01 13:00:00</td>\n",
       "      <td>GOES-12</td>\n",
       "      <td>PERNAMBUCO</td>\n",
       "      <td>FLORESTA</td>\n",
       "      <td>Caatinga</td>\n",
       "      <td>0.0</td>\n",
       "      <td>0.0</td>\n",
       "      <td>0.0</td>\n",
       "      <td>-8.81357</td>\n",
       "      <td>-38.53000</td>\n",
       "      <td>0.0</td>\n",
       "    </tr>\n",
       "    <tr>\n",
       "      <th>...</th>\n",
       "      <td>...</td>\n",
       "      <td>...</td>\n",
       "      <td>...</td>\n",
       "      <td>...</td>\n",
       "      <td>...</td>\n",
       "      <td>...</td>\n",
       "      <td>...</td>\n",
       "      <td>...</td>\n",
       "      <td>...</td>\n",
       "      <td>...</td>\n",
       "      <td>...</td>\n",
       "    </tr>\n",
       "    <tr>\n",
       "      <th>195401</th>\n",
       "      <td>2022-12-07 16:47:00</td>\n",
       "      <td>AQUA_M-T</td>\n",
       "      <td>CEARA</td>\n",
       "      <td>MOMBACA</td>\n",
       "      <td>Caatinga</td>\n",
       "      <td>0.0</td>\n",
       "      <td>0.0</td>\n",
       "      <td>0.0</td>\n",
       "      <td>-5.72511</td>\n",
       "      <td>-39.79423</td>\n",
       "      <td>56.6</td>\n",
       "    </tr>\n",
       "    <tr>\n",
       "      <th>195402</th>\n",
       "      <td>2022-12-07 16:47:00</td>\n",
       "      <td>AQUA_M-T</td>\n",
       "      <td>CEARA</td>\n",
       "      <td>TAUA</td>\n",
       "      <td>Caatinga</td>\n",
       "      <td>0.0</td>\n",
       "      <td>0.0</td>\n",
       "      <td>0.0</td>\n",
       "      <td>-5.94157</td>\n",
       "      <td>-39.92683</td>\n",
       "      <td>45.3</td>\n",
       "    </tr>\n",
       "    <tr>\n",
       "      <th>195403</th>\n",
       "      <td>2022-12-07 16:47:00</td>\n",
       "      <td>AQUA_M-T</td>\n",
       "      <td>RIO GRANDE DO NORTE</td>\n",
       "      <td>APODI</td>\n",
       "      <td>Caatinga</td>\n",
       "      <td>0.0</td>\n",
       "      <td>0.0</td>\n",
       "      <td>0.0</td>\n",
       "      <td>-5.65971</td>\n",
       "      <td>-38.06494</td>\n",
       "      <td>39.0</td>\n",
       "    </tr>\n",
       "    <tr>\n",
       "      <th>195404</th>\n",
       "      <td>2022-12-07 16:49:00</td>\n",
       "      <td>AQUA_M-T</td>\n",
       "      <td>CEARA</td>\n",
       "      <td>IPAPORANGA</td>\n",
       "      <td>Caatinga</td>\n",
       "      <td>0.0</td>\n",
       "      <td>0.0</td>\n",
       "      <td>0.0</td>\n",
       "      <td>-4.89644</td>\n",
       "      <td>-40.61369</td>\n",
       "      <td>48.3</td>\n",
       "    </tr>\n",
       "    <tr>\n",
       "      <th>195405</th>\n",
       "      <td>2022-12-07 18:28:00</td>\n",
       "      <td>AQUA_M-T</td>\n",
       "      <td>AMAZONAS</td>\n",
       "      <td>GUAJARA</td>\n",
       "      <td>Amazonia</td>\n",
       "      <td>0.0</td>\n",
       "      <td>0.0</td>\n",
       "      <td>0.0</td>\n",
       "      <td>-7.32908</td>\n",
       "      <td>-72.78465</td>\n",
       "      <td>8.6</td>\n",
       "    </tr>\n",
       "  </tbody>\n",
       "</table>\n",
       "<p>29360427 rows × 11 columns</p>\n",
       "</div>"
      ],
      "text/plain": [
       "                  datahora  satelite               estado   municipio  \\\n",
       "0      2011-01-01 04:33:00  AQUA_M-M            SAO PAULO     ITUPEVA   \n",
       "1      2011-01-01 09:05:48  NOAA-16N  RIO GRANDE DO NORTE      TOUROS   \n",
       "2      2011-01-01 12:45:00   GOES-12                BAHIA      GLORIA   \n",
       "3      2011-01-01 12:45:00   GOES-12                BAHIA      GLORIA   \n",
       "4      2011-01-01 13:00:00   GOES-12           PERNAMBUCO    FLORESTA   \n",
       "...                    ...       ...                  ...         ...   \n",
       "195401 2022-12-07 16:47:00  AQUA_M-T                CEARA     MOMBACA   \n",
       "195402 2022-12-07 16:47:00  AQUA_M-T                CEARA        TAUA   \n",
       "195403 2022-12-07 16:47:00  AQUA_M-T  RIO GRANDE DO NORTE       APODI   \n",
       "195404 2022-12-07 16:49:00  AQUA_M-T                CEARA  IPAPORANGA   \n",
       "195405 2022-12-07 18:28:00  AQUA_M-T             AMAZONAS     GUAJARA   \n",
       "\n",
       "                 bioma  diasemchuva  precipitacao  riscofogo  latitude  \\\n",
       "0       Mata Atlantica          0.0           0.0        0.0 -23.14400   \n",
       "1             Caatinga          0.0           0.0        0.0  -5.32167   \n",
       "2             Caatinga          0.0           0.0        0.0  -9.03354   \n",
       "3             Caatinga          0.0           0.0        0.0  -9.00355   \n",
       "4             Caatinga          0.0           0.0        0.0  -8.81357   \n",
       "...                ...          ...           ...        ...       ...   \n",
       "195401        Caatinga          0.0           0.0        0.0  -5.72511   \n",
       "195402        Caatinga          0.0           0.0        0.0  -5.94157   \n",
       "195403        Caatinga          0.0           0.0        0.0  -5.65971   \n",
       "195404        Caatinga          0.0           0.0        0.0  -4.89644   \n",
       "195405        Amazonia          0.0           0.0        0.0  -7.32908   \n",
       "\n",
       "        longitude   frp  \n",
       "0       -47.11800   0.0  \n",
       "1       -35.62667   0.0  \n",
       "2       -38.32000   0.0  \n",
       "3       -38.33000   0.0  \n",
       "4       -38.53000   0.0  \n",
       "...           ...   ...  \n",
       "195401  -39.79423  56.6  \n",
       "195402  -39.92683  45.3  \n",
       "195403  -38.06494  39.0  \n",
       "195404  -40.61369  48.3  \n",
       "195405  -72.78465   8.6  \n",
       "\n",
       "[29360427 rows x 11 columns]"
      ]
     },
     "execution_count": 41,
     "metadata": {},
     "output_type": "execute_result"
    }
   ],
   "source": [
    "df"
   ]
  },
  {
   "cell_type": "markdown",
   "metadata": {},
   "source": [
    "## Qual ano e bioma que teve mais queimadas?"
   ]
  },
  {
   "cell_type": "code",
   "execution_count": 22,
   "metadata": {},
   "outputs": [
    {
     "data": {
      "text/html": [
       "<div>\n",
       "<style scoped>\n",
       "    .dataframe tbody tr th:only-of-type {\n",
       "        vertical-align: middle;\n",
       "    }\n",
       "\n",
       "    .dataframe tbody tr th {\n",
       "        vertical-align: top;\n",
       "    }\n",
       "\n",
       "    .dataframe thead th {\n",
       "        text-align: right;\n",
       "    }\n",
       "</style>\n",
       "<table border=\"1\" class=\"dataframe\">\n",
       "  <thead>\n",
       "    <tr style=\"text-align: right;\">\n",
       "      <th></th>\n",
       "      <th>datahora</th>\n",
       "      <th>bioma</th>\n",
       "      <th>diasemchuva</th>\n",
       "      <th>precipitacao</th>\n",
       "      <th>riscofogo</th>\n",
       "      <th>frp</th>\n",
       "    </tr>\n",
       "  </thead>\n",
       "  <tbody>\n",
       "    <tr>\n",
       "      <th>0</th>\n",
       "      <td>2011/01/01 04:33:00</td>\n",
       "      <td>Mata Atlantica</td>\n",
       "      <td>0.0</td>\n",
       "      <td>0.0</td>\n",
       "      <td>0.0</td>\n",
       "      <td>0.0</td>\n",
       "    </tr>\n",
       "    <tr>\n",
       "      <th>1</th>\n",
       "      <td>2011/01/01 09:05:48</td>\n",
       "      <td>Caatinga</td>\n",
       "      <td>0.0</td>\n",
       "      <td>0.0</td>\n",
       "      <td>0.0</td>\n",
       "      <td>0.0</td>\n",
       "    </tr>\n",
       "    <tr>\n",
       "      <th>2</th>\n",
       "      <td>2011/01/01 12:45:00</td>\n",
       "      <td>Caatinga</td>\n",
       "      <td>0.0</td>\n",
       "      <td>0.0</td>\n",
       "      <td>0.0</td>\n",
       "      <td>0.0</td>\n",
       "    </tr>\n",
       "    <tr>\n",
       "      <th>3</th>\n",
       "      <td>2011/01/01 12:45:00</td>\n",
       "      <td>Caatinga</td>\n",
       "      <td>0.0</td>\n",
       "      <td>0.0</td>\n",
       "      <td>0.0</td>\n",
       "      <td>0.0</td>\n",
       "    </tr>\n",
       "    <tr>\n",
       "      <th>4</th>\n",
       "      <td>2011/01/01 13:00:00</td>\n",
       "      <td>Caatinga</td>\n",
       "      <td>0.0</td>\n",
       "      <td>0.0</td>\n",
       "      <td>0.0</td>\n",
       "      <td>0.0</td>\n",
       "    </tr>\n",
       "    <tr>\n",
       "      <th>...</th>\n",
       "      <td>...</td>\n",
       "      <td>...</td>\n",
       "      <td>...</td>\n",
       "      <td>...</td>\n",
       "      <td>...</td>\n",
       "      <td>...</td>\n",
       "    </tr>\n",
       "    <tr>\n",
       "      <th>195401</th>\n",
       "      <td>2022/12/07 16:47:00</td>\n",
       "      <td>Caatinga</td>\n",
       "      <td>0.0</td>\n",
       "      <td>0.0</td>\n",
       "      <td>0.0</td>\n",
       "      <td>56.6</td>\n",
       "    </tr>\n",
       "    <tr>\n",
       "      <th>195402</th>\n",
       "      <td>2022/12/07 16:47:00</td>\n",
       "      <td>Caatinga</td>\n",
       "      <td>0.0</td>\n",
       "      <td>0.0</td>\n",
       "      <td>0.0</td>\n",
       "      <td>45.3</td>\n",
       "    </tr>\n",
       "    <tr>\n",
       "      <th>195403</th>\n",
       "      <td>2022/12/07 16:47:00</td>\n",
       "      <td>Caatinga</td>\n",
       "      <td>0.0</td>\n",
       "      <td>0.0</td>\n",
       "      <td>0.0</td>\n",
       "      <td>39.0</td>\n",
       "    </tr>\n",
       "    <tr>\n",
       "      <th>195404</th>\n",
       "      <td>2022/12/07 16:49:00</td>\n",
       "      <td>Caatinga</td>\n",
       "      <td>0.0</td>\n",
       "      <td>0.0</td>\n",
       "      <td>0.0</td>\n",
       "      <td>48.3</td>\n",
       "    </tr>\n",
       "    <tr>\n",
       "      <th>195405</th>\n",
       "      <td>2022/12/07 18:28:00</td>\n",
       "      <td>Amazonia</td>\n",
       "      <td>0.0</td>\n",
       "      <td>0.0</td>\n",
       "      <td>0.0</td>\n",
       "      <td>8.6</td>\n",
       "    </tr>\n",
       "  </tbody>\n",
       "</table>\n",
       "<p>29360427 rows × 6 columns</p>\n",
       "</div>"
      ],
      "text/plain": [
       "                   datahora           bioma  diasemchuva  precipitacao  \\\n",
       "0       2011/01/01 04:33:00  Mata Atlantica          0.0           0.0   \n",
       "1       2011/01/01 09:05:48        Caatinga          0.0           0.0   \n",
       "2       2011/01/01 12:45:00        Caatinga          0.0           0.0   \n",
       "3       2011/01/01 12:45:00        Caatinga          0.0           0.0   \n",
       "4       2011/01/01 13:00:00        Caatinga          0.0           0.0   \n",
       "...                     ...             ...          ...           ...   \n",
       "195401  2022/12/07 16:47:00        Caatinga          0.0           0.0   \n",
       "195402  2022/12/07 16:47:00        Caatinga          0.0           0.0   \n",
       "195403  2022/12/07 16:47:00        Caatinga          0.0           0.0   \n",
       "195404  2022/12/07 16:49:00        Caatinga          0.0           0.0   \n",
       "195405  2022/12/07 18:28:00        Amazonia          0.0           0.0   \n",
       "\n",
       "        riscofogo   frp  \n",
       "0             0.0   0.0  \n",
       "1             0.0   0.0  \n",
       "2             0.0   0.0  \n",
       "3             0.0   0.0  \n",
       "4             0.0   0.0  \n",
       "...           ...   ...  \n",
       "195401        0.0  56.6  \n",
       "195402        0.0  45.3  \n",
       "195403        0.0  39.0  \n",
       "195404        0.0  48.3  \n",
       "195405        0.0   8.6  \n",
       "\n",
       "[29360427 rows x 6 columns]"
      ]
     },
     "execution_count": 22,
     "metadata": {},
     "output_type": "execute_result"
    }
   ],
   "source": [
    "dados = df[['datahora','bioma','diasemchuva','precipitacao','riscofogo','frp']]\n",
    "dados\n"
   ]
  },
  {
   "cell_type": "code",
   "execution_count": 42,
   "metadata": {},
   "outputs": [],
   "source": [
    "biomas_por_ano =pd.DataFrame( df.groupby(df['datahora'].dt.year)['bioma'].value_counts())\n",
    "biomas_por_ano.rename(columns={'bioma': 'count'}, inplace = True)\n",
    "biomas_por_ano.reset_index(inplace=True)"
   ]
  },
  {
   "cell_type": "code",
   "execution_count": 43,
   "metadata": {},
   "outputs": [
    {
     "data": {
      "application/vnd.plotly.v1+json": {
       "config": {
        "plotlyServerURL": "https://plot.ly"
       },
       "data": [
        {
         "hovertemplate": "bioma=Cerrado<br>datahora=%{x}<br>count=%{y}<extra></extra>",
         "legendgroup": "Cerrado",
         "line": {
          "color": "#636efa",
          "dash": "solid"
         },
         "marker": {
          "symbol": "circle"
         },
         "mode": "lines",
         "name": "Cerrado",
         "orientation": "v",
         "showlegend": true,
         "type": "scatter",
         "x": [
          2011,
          2012,
          2013,
          2014,
          2015,
          2016,
          2017,
          2018,
          2019,
          2020,
          2021,
          2022
         ],
         "xaxis": "x",
         "y": [
          231983,
          1205672,
          543099,
          815419,
          1006265,
          729216,
          1061276,
          604711,
          1406085,
          1550576,
          1575246,
          56018
         ],
         "yaxis": "y"
        },
        {
         "hovertemplate": "bioma=Amazonia<br>datahora=%{x}<br>count=%{y}<extra></extra>",
         "legendgroup": "Amazonia",
         "line": {
          "color": "#EF553B",
          "dash": "solid"
         },
         "marker": {
          "symbol": "circle"
         },
         "mode": "lines",
         "name": "Amazonia",
         "orientation": "v",
         "showlegend": true,
         "type": "scatter",
         "x": [
          2011,
          2012,
          2013,
          2014,
          2015,
          2016,
          2017,
          2018,
          2019,
          2020,
          2021,
          2022
         ],
         "xaxis": "x",
         "y": [
          163147,
          921306,
          485744,
          770694,
          1257284,
          892350,
          1434113,
          919153,
          1810193,
          2334463,
          1821321,
          112761
         ],
         "yaxis": "y"
        },
        {
         "hovertemplate": "bioma=Mata Atlantica<br>datahora=%{x}<br>count=%{y}<extra></extra>",
         "legendgroup": "Mata Atlantica",
         "line": {
          "color": "#00cc96",
          "dash": "solid"
         },
         "marker": {
          "symbol": "circle"
         },
         "mode": "lines",
         "name": "Mata Atlantica",
         "orientation": "v",
         "showlegend": true,
         "type": "scatter",
         "x": [
          2011,
          2012,
          2013,
          2014,
          2015,
          2016,
          2017,
          2018,
          2019,
          2020,
          2021,
          2022
         ],
         "xaxis": "x",
         "y": [
          62716,
          154097,
          118100,
          149033,
          155383,
          153692,
          158246,
          116015,
          289630,
          252996,
          309693,
          10648
         ],
         "yaxis": "y"
        },
        {
         "hovertemplate": "bioma=Caatinga<br>datahora=%{x}<br>count=%{y}<extra></extra>",
         "legendgroup": "Caatinga",
         "line": {
          "color": "#ab63fa",
          "dash": "solid"
         },
         "marker": {
          "symbol": "circle"
         },
         "mode": "lines",
         "name": "Caatinga",
         "orientation": "v",
         "showlegend": true,
         "type": "scatter",
         "x": [
          2011,
          2012,
          2013,
          2014,
          2015,
          2016,
          2017,
          2018,
          2019,
          2020,
          2021,
          2022
         ],
         "xaxis": "x",
         "y": [
          39378,
          183886,
          102991,
          100163,
          166083,
          139669,
          126315,
          140843,
          287893,
          287350,
          388970,
          13860
         ],
         "yaxis": "y"
        },
        {
         "hovertemplate": "bioma=Pantanal<br>datahora=%{x}<br>count=%{y}<extra></extra>",
         "legendgroup": "Pantanal",
         "line": {
          "color": "#FFA15A",
          "dash": "solid"
         },
         "marker": {
          "symbol": "circle"
         },
         "mode": "lines",
         "name": "Pantanal",
         "orientation": "v",
         "showlegend": true,
         "type": "scatter",
         "x": [
          2011,
          2012,
          2013,
          2014,
          2015,
          2016,
          2017,
          2018,
          2019,
          2020,
          2021,
          2022
         ],
         "xaxis": "x",
         "y": [
          17398,
          89628,
          45201,
          14815,
          48201,
          58251,
          76181,
          21918,
          230295,
          742977,
          292961,
          1440
         ],
         "yaxis": "y"
        },
        {
         "hovertemplate": "bioma=Pampa<br>datahora=%{x}<br>count=%{y}<extra></extra>",
         "legendgroup": "Pampa",
         "line": {
          "color": "#19d3f3",
          "dash": "solid"
         },
         "marker": {
          "symbol": "circle"
         },
         "mode": "lines",
         "name": "Pampa",
         "orientation": "v",
         "showlegend": true,
         "type": "scatter",
         "x": [
          2011,
          2012,
          2013,
          2014,
          2015,
          2016,
          2017,
          2018,
          2019,
          2020,
          2021,
          2022
         ],
         "xaxis": "x",
         "y": [
          1511,
          7943,
          6386,
          5271,
          5747,
          9443,
          7777,
          6463,
          16321,
          20471,
          16404,
          679
         ],
         "yaxis": "y"
        }
       ],
       "layout": {
        "legend": {
         "title": {
          "text": "bioma"
         },
         "tracegroupgap": 0
        },
        "margin": {
         "t": 60
        },
        "template": {
         "data": {
          "bar": [
           {
            "error_x": {
             "color": "#2a3f5f"
            },
            "error_y": {
             "color": "#2a3f5f"
            },
            "marker": {
             "line": {
              "color": "#E5ECF6",
              "width": 0.5
             },
             "pattern": {
              "fillmode": "overlay",
              "size": 10,
              "solidity": 0.2
             }
            },
            "type": "bar"
           }
          ],
          "barpolar": [
           {
            "marker": {
             "line": {
              "color": "#E5ECF6",
              "width": 0.5
             },
             "pattern": {
              "fillmode": "overlay",
              "size": 10,
              "solidity": 0.2
             }
            },
            "type": "barpolar"
           }
          ],
          "carpet": [
           {
            "aaxis": {
             "endlinecolor": "#2a3f5f",
             "gridcolor": "white",
             "linecolor": "white",
             "minorgridcolor": "white",
             "startlinecolor": "#2a3f5f"
            },
            "baxis": {
             "endlinecolor": "#2a3f5f",
             "gridcolor": "white",
             "linecolor": "white",
             "minorgridcolor": "white",
             "startlinecolor": "#2a3f5f"
            },
            "type": "carpet"
           }
          ],
          "choropleth": [
           {
            "colorbar": {
             "outlinewidth": 0,
             "ticks": ""
            },
            "type": "choropleth"
           }
          ],
          "contour": [
           {
            "colorbar": {
             "outlinewidth": 0,
             "ticks": ""
            },
            "colorscale": [
             [
              0,
              "#0d0887"
             ],
             [
              0.1111111111111111,
              "#46039f"
             ],
             [
              0.2222222222222222,
              "#7201a8"
             ],
             [
              0.3333333333333333,
              "#9c179e"
             ],
             [
              0.4444444444444444,
              "#bd3786"
             ],
             [
              0.5555555555555556,
              "#d8576b"
             ],
             [
              0.6666666666666666,
              "#ed7953"
             ],
             [
              0.7777777777777778,
              "#fb9f3a"
             ],
             [
              0.8888888888888888,
              "#fdca26"
             ],
             [
              1,
              "#f0f921"
             ]
            ],
            "type": "contour"
           }
          ],
          "contourcarpet": [
           {
            "colorbar": {
             "outlinewidth": 0,
             "ticks": ""
            },
            "type": "contourcarpet"
           }
          ],
          "heatmap": [
           {
            "colorbar": {
             "outlinewidth": 0,
             "ticks": ""
            },
            "colorscale": [
             [
              0,
              "#0d0887"
             ],
             [
              0.1111111111111111,
              "#46039f"
             ],
             [
              0.2222222222222222,
              "#7201a8"
             ],
             [
              0.3333333333333333,
              "#9c179e"
             ],
             [
              0.4444444444444444,
              "#bd3786"
             ],
             [
              0.5555555555555556,
              "#d8576b"
             ],
             [
              0.6666666666666666,
              "#ed7953"
             ],
             [
              0.7777777777777778,
              "#fb9f3a"
             ],
             [
              0.8888888888888888,
              "#fdca26"
             ],
             [
              1,
              "#f0f921"
             ]
            ],
            "type": "heatmap"
           }
          ],
          "heatmapgl": [
           {
            "colorbar": {
             "outlinewidth": 0,
             "ticks": ""
            },
            "colorscale": [
             [
              0,
              "#0d0887"
             ],
             [
              0.1111111111111111,
              "#46039f"
             ],
             [
              0.2222222222222222,
              "#7201a8"
             ],
             [
              0.3333333333333333,
              "#9c179e"
             ],
             [
              0.4444444444444444,
              "#bd3786"
             ],
             [
              0.5555555555555556,
              "#d8576b"
             ],
             [
              0.6666666666666666,
              "#ed7953"
             ],
             [
              0.7777777777777778,
              "#fb9f3a"
             ],
             [
              0.8888888888888888,
              "#fdca26"
             ],
             [
              1,
              "#f0f921"
             ]
            ],
            "type": "heatmapgl"
           }
          ],
          "histogram": [
           {
            "marker": {
             "pattern": {
              "fillmode": "overlay",
              "size": 10,
              "solidity": 0.2
             }
            },
            "type": "histogram"
           }
          ],
          "histogram2d": [
           {
            "colorbar": {
             "outlinewidth": 0,
             "ticks": ""
            },
            "colorscale": [
             [
              0,
              "#0d0887"
             ],
             [
              0.1111111111111111,
              "#46039f"
             ],
             [
              0.2222222222222222,
              "#7201a8"
             ],
             [
              0.3333333333333333,
              "#9c179e"
             ],
             [
              0.4444444444444444,
              "#bd3786"
             ],
             [
              0.5555555555555556,
              "#d8576b"
             ],
             [
              0.6666666666666666,
              "#ed7953"
             ],
             [
              0.7777777777777778,
              "#fb9f3a"
             ],
             [
              0.8888888888888888,
              "#fdca26"
             ],
             [
              1,
              "#f0f921"
             ]
            ],
            "type": "histogram2d"
           }
          ],
          "histogram2dcontour": [
           {
            "colorbar": {
             "outlinewidth": 0,
             "ticks": ""
            },
            "colorscale": [
             [
              0,
              "#0d0887"
             ],
             [
              0.1111111111111111,
              "#46039f"
             ],
             [
              0.2222222222222222,
              "#7201a8"
             ],
             [
              0.3333333333333333,
              "#9c179e"
             ],
             [
              0.4444444444444444,
              "#bd3786"
             ],
             [
              0.5555555555555556,
              "#d8576b"
             ],
             [
              0.6666666666666666,
              "#ed7953"
             ],
             [
              0.7777777777777778,
              "#fb9f3a"
             ],
             [
              0.8888888888888888,
              "#fdca26"
             ],
             [
              1,
              "#f0f921"
             ]
            ],
            "type": "histogram2dcontour"
           }
          ],
          "mesh3d": [
           {
            "colorbar": {
             "outlinewidth": 0,
             "ticks": ""
            },
            "type": "mesh3d"
           }
          ],
          "parcoords": [
           {
            "line": {
             "colorbar": {
              "outlinewidth": 0,
              "ticks": ""
             }
            },
            "type": "parcoords"
           }
          ],
          "pie": [
           {
            "automargin": true,
            "type": "pie"
           }
          ],
          "scatter": [
           {
            "fillpattern": {
             "fillmode": "overlay",
             "size": 10,
             "solidity": 0.2
            },
            "type": "scatter"
           }
          ],
          "scatter3d": [
           {
            "line": {
             "colorbar": {
              "outlinewidth": 0,
              "ticks": ""
             }
            },
            "marker": {
             "colorbar": {
              "outlinewidth": 0,
              "ticks": ""
             }
            },
            "type": "scatter3d"
           }
          ],
          "scattercarpet": [
           {
            "marker": {
             "colorbar": {
              "outlinewidth": 0,
              "ticks": ""
             }
            },
            "type": "scattercarpet"
           }
          ],
          "scattergeo": [
           {
            "marker": {
             "colorbar": {
              "outlinewidth": 0,
              "ticks": ""
             }
            },
            "type": "scattergeo"
           }
          ],
          "scattergl": [
           {
            "marker": {
             "colorbar": {
              "outlinewidth": 0,
              "ticks": ""
             }
            },
            "type": "scattergl"
           }
          ],
          "scattermapbox": [
           {
            "marker": {
             "colorbar": {
              "outlinewidth": 0,
              "ticks": ""
             }
            },
            "type": "scattermapbox"
           }
          ],
          "scatterpolar": [
           {
            "marker": {
             "colorbar": {
              "outlinewidth": 0,
              "ticks": ""
             }
            },
            "type": "scatterpolar"
           }
          ],
          "scatterpolargl": [
           {
            "marker": {
             "colorbar": {
              "outlinewidth": 0,
              "ticks": ""
             }
            },
            "type": "scatterpolargl"
           }
          ],
          "scatterternary": [
           {
            "marker": {
             "colorbar": {
              "outlinewidth": 0,
              "ticks": ""
             }
            },
            "type": "scatterternary"
           }
          ],
          "surface": [
           {
            "colorbar": {
             "outlinewidth": 0,
             "ticks": ""
            },
            "colorscale": [
             [
              0,
              "#0d0887"
             ],
             [
              0.1111111111111111,
              "#46039f"
             ],
             [
              0.2222222222222222,
              "#7201a8"
             ],
             [
              0.3333333333333333,
              "#9c179e"
             ],
             [
              0.4444444444444444,
              "#bd3786"
             ],
             [
              0.5555555555555556,
              "#d8576b"
             ],
             [
              0.6666666666666666,
              "#ed7953"
             ],
             [
              0.7777777777777778,
              "#fb9f3a"
             ],
             [
              0.8888888888888888,
              "#fdca26"
             ],
             [
              1,
              "#f0f921"
             ]
            ],
            "type": "surface"
           }
          ],
          "table": [
           {
            "cells": {
             "fill": {
              "color": "#EBF0F8"
             },
             "line": {
              "color": "white"
             }
            },
            "header": {
             "fill": {
              "color": "#C8D4E3"
             },
             "line": {
              "color": "white"
             }
            },
            "type": "table"
           }
          ]
         },
         "layout": {
          "annotationdefaults": {
           "arrowcolor": "#2a3f5f",
           "arrowhead": 0,
           "arrowwidth": 1
          },
          "autotypenumbers": "strict",
          "coloraxis": {
           "colorbar": {
            "outlinewidth": 0,
            "ticks": ""
           }
          },
          "colorscale": {
           "diverging": [
            [
             0,
             "#8e0152"
            ],
            [
             0.1,
             "#c51b7d"
            ],
            [
             0.2,
             "#de77ae"
            ],
            [
             0.3,
             "#f1b6da"
            ],
            [
             0.4,
             "#fde0ef"
            ],
            [
             0.5,
             "#f7f7f7"
            ],
            [
             0.6,
             "#e6f5d0"
            ],
            [
             0.7,
             "#b8e186"
            ],
            [
             0.8,
             "#7fbc41"
            ],
            [
             0.9,
             "#4d9221"
            ],
            [
             1,
             "#276419"
            ]
           ],
           "sequential": [
            [
             0,
             "#0d0887"
            ],
            [
             0.1111111111111111,
             "#46039f"
            ],
            [
             0.2222222222222222,
             "#7201a8"
            ],
            [
             0.3333333333333333,
             "#9c179e"
            ],
            [
             0.4444444444444444,
             "#bd3786"
            ],
            [
             0.5555555555555556,
             "#d8576b"
            ],
            [
             0.6666666666666666,
             "#ed7953"
            ],
            [
             0.7777777777777778,
             "#fb9f3a"
            ],
            [
             0.8888888888888888,
             "#fdca26"
            ],
            [
             1,
             "#f0f921"
            ]
           ],
           "sequentialminus": [
            [
             0,
             "#0d0887"
            ],
            [
             0.1111111111111111,
             "#46039f"
            ],
            [
             0.2222222222222222,
             "#7201a8"
            ],
            [
             0.3333333333333333,
             "#9c179e"
            ],
            [
             0.4444444444444444,
             "#bd3786"
            ],
            [
             0.5555555555555556,
             "#d8576b"
            ],
            [
             0.6666666666666666,
             "#ed7953"
            ],
            [
             0.7777777777777778,
             "#fb9f3a"
            ],
            [
             0.8888888888888888,
             "#fdca26"
            ],
            [
             1,
             "#f0f921"
            ]
           ]
          },
          "colorway": [
           "#636efa",
           "#EF553B",
           "#00cc96",
           "#ab63fa",
           "#FFA15A",
           "#19d3f3",
           "#FF6692",
           "#B6E880",
           "#FF97FF",
           "#FECB52"
          ],
          "font": {
           "color": "#2a3f5f"
          },
          "geo": {
           "bgcolor": "white",
           "lakecolor": "white",
           "landcolor": "#E5ECF6",
           "showlakes": true,
           "showland": true,
           "subunitcolor": "white"
          },
          "hoverlabel": {
           "align": "left"
          },
          "hovermode": "closest",
          "mapbox": {
           "style": "light"
          },
          "paper_bgcolor": "white",
          "plot_bgcolor": "#E5ECF6",
          "polar": {
           "angularaxis": {
            "gridcolor": "white",
            "linecolor": "white",
            "ticks": ""
           },
           "bgcolor": "#E5ECF6",
           "radialaxis": {
            "gridcolor": "white",
            "linecolor": "white",
            "ticks": ""
           }
          },
          "scene": {
           "xaxis": {
            "backgroundcolor": "#E5ECF6",
            "gridcolor": "white",
            "gridwidth": 2,
            "linecolor": "white",
            "showbackground": true,
            "ticks": "",
            "zerolinecolor": "white"
           },
           "yaxis": {
            "backgroundcolor": "#E5ECF6",
            "gridcolor": "white",
            "gridwidth": 2,
            "linecolor": "white",
            "showbackground": true,
            "ticks": "",
            "zerolinecolor": "white"
           },
           "zaxis": {
            "backgroundcolor": "#E5ECF6",
            "gridcolor": "white",
            "gridwidth": 2,
            "linecolor": "white",
            "showbackground": true,
            "ticks": "",
            "zerolinecolor": "white"
           }
          },
          "shapedefaults": {
           "line": {
            "color": "#2a3f5f"
           }
          },
          "ternary": {
           "aaxis": {
            "gridcolor": "white",
            "linecolor": "white",
            "ticks": ""
           },
           "baxis": {
            "gridcolor": "white",
            "linecolor": "white",
            "ticks": ""
           },
           "bgcolor": "#E5ECF6",
           "caxis": {
            "gridcolor": "white",
            "linecolor": "white",
            "ticks": ""
           }
          },
          "title": {
           "x": 0.05
          },
          "xaxis": {
           "automargin": true,
           "gridcolor": "white",
           "linecolor": "white",
           "ticks": "",
           "title": {
            "standoff": 15
           },
           "zerolinecolor": "white",
           "zerolinewidth": 2
          },
          "yaxis": {
           "automargin": true,
           "gridcolor": "white",
           "linecolor": "white",
           "ticks": "",
           "title": {
            "standoff": 15
           },
           "zerolinecolor": "white",
           "zerolinewidth": 2
          }
         }
        },
        "title": {
         "text": "Queimadas por ano dos biomas brasileiros",
         "x": 0.5
        },
        "xaxis": {
         "anchor": "y",
         "domain": [
          0,
          1
         ],
         "linecolor": "rgba(0,0,0,1)",
         "tickformat": "False",
         "tickmode": "array",
         "title": {
          "text": "Anos"
         }
        },
        "yaxis": {
         "anchor": "x",
         "domain": [
          0,
          1
         ],
         "linecolor": "rgba(0,0,0,1)",
         "title": {
          "text": "Quantidade"
         }
        }
       }
      },
      "text/html": [
       "<div>                            <div id=\"ada39343-7215-48e5-8ea6-68fa059a0215\" class=\"plotly-graph-div\" style=\"height:525px; width:100%;\"></div>            <script type=\"text/javascript\">                require([\"plotly\"], function(Plotly) {                    window.PLOTLYENV=window.PLOTLYENV || {};                                    if (document.getElementById(\"ada39343-7215-48e5-8ea6-68fa059a0215\")) {                    Plotly.newPlot(                        \"ada39343-7215-48e5-8ea6-68fa059a0215\",                        [{\"hovertemplate\":\"bioma=Cerrado<br>datahora=%{x}<br>count=%{y}<extra></extra>\",\"legendgroup\":\"Cerrado\",\"line\":{\"color\":\"#636efa\",\"dash\":\"solid\"},\"marker\":{\"symbol\":\"circle\"},\"mode\":\"lines\",\"name\":\"Cerrado\",\"orientation\":\"v\",\"showlegend\":true,\"x\":[2011,2012,2013,2014,2015,2016,2017,2018,2019,2020,2021,2022],\"xaxis\":\"x\",\"y\":[231983,1205672,543099,815419,1006265,729216,1061276,604711,1406085,1550576,1575246,56018],\"yaxis\":\"y\",\"type\":\"scatter\"},{\"hovertemplate\":\"bioma=Amazonia<br>datahora=%{x}<br>count=%{y}<extra></extra>\",\"legendgroup\":\"Amazonia\",\"line\":{\"color\":\"#EF553B\",\"dash\":\"solid\"},\"marker\":{\"symbol\":\"circle\"},\"mode\":\"lines\",\"name\":\"Amazonia\",\"orientation\":\"v\",\"showlegend\":true,\"x\":[2011,2012,2013,2014,2015,2016,2017,2018,2019,2020,2021,2022],\"xaxis\":\"x\",\"y\":[163147,921306,485744,770694,1257284,892350,1434113,919153,1810193,2334463,1821321,112761],\"yaxis\":\"y\",\"type\":\"scatter\"},{\"hovertemplate\":\"bioma=Mata Atlantica<br>datahora=%{x}<br>count=%{y}<extra></extra>\",\"legendgroup\":\"Mata Atlantica\",\"line\":{\"color\":\"#00cc96\",\"dash\":\"solid\"},\"marker\":{\"symbol\":\"circle\"},\"mode\":\"lines\",\"name\":\"Mata Atlantica\",\"orientation\":\"v\",\"showlegend\":true,\"x\":[2011,2012,2013,2014,2015,2016,2017,2018,2019,2020,2021,2022],\"xaxis\":\"x\",\"y\":[62716,154097,118100,149033,155383,153692,158246,116015,289630,252996,309693,10648],\"yaxis\":\"y\",\"type\":\"scatter\"},{\"hovertemplate\":\"bioma=Caatinga<br>datahora=%{x}<br>count=%{y}<extra></extra>\",\"legendgroup\":\"Caatinga\",\"line\":{\"color\":\"#ab63fa\",\"dash\":\"solid\"},\"marker\":{\"symbol\":\"circle\"},\"mode\":\"lines\",\"name\":\"Caatinga\",\"orientation\":\"v\",\"showlegend\":true,\"x\":[2011,2012,2013,2014,2015,2016,2017,2018,2019,2020,2021,2022],\"xaxis\":\"x\",\"y\":[39378,183886,102991,100163,166083,139669,126315,140843,287893,287350,388970,13860],\"yaxis\":\"y\",\"type\":\"scatter\"},{\"hovertemplate\":\"bioma=Pantanal<br>datahora=%{x}<br>count=%{y}<extra></extra>\",\"legendgroup\":\"Pantanal\",\"line\":{\"color\":\"#FFA15A\",\"dash\":\"solid\"},\"marker\":{\"symbol\":\"circle\"},\"mode\":\"lines\",\"name\":\"Pantanal\",\"orientation\":\"v\",\"showlegend\":true,\"x\":[2011,2012,2013,2014,2015,2016,2017,2018,2019,2020,2021,2022],\"xaxis\":\"x\",\"y\":[17398,89628,45201,14815,48201,58251,76181,21918,230295,742977,292961,1440],\"yaxis\":\"y\",\"type\":\"scatter\"},{\"hovertemplate\":\"bioma=Pampa<br>datahora=%{x}<br>count=%{y}<extra></extra>\",\"legendgroup\":\"Pampa\",\"line\":{\"color\":\"#19d3f3\",\"dash\":\"solid\"},\"marker\":{\"symbol\":\"circle\"},\"mode\":\"lines\",\"name\":\"Pampa\",\"orientation\":\"v\",\"showlegend\":true,\"x\":[2011,2012,2013,2014,2015,2016,2017,2018,2019,2020,2021,2022],\"xaxis\":\"x\",\"y\":[1511,7943,6386,5271,5747,9443,7777,6463,16321,20471,16404,679],\"yaxis\":\"y\",\"type\":\"scatter\"}],                        {\"template\":{\"data\":{\"histogram2dcontour\":[{\"type\":\"histogram2dcontour\",\"colorbar\":{\"outlinewidth\":0,\"ticks\":\"\"},\"colorscale\":[[0.0,\"#0d0887\"],[0.1111111111111111,\"#46039f\"],[0.2222222222222222,\"#7201a8\"],[0.3333333333333333,\"#9c179e\"],[0.4444444444444444,\"#bd3786\"],[0.5555555555555556,\"#d8576b\"],[0.6666666666666666,\"#ed7953\"],[0.7777777777777778,\"#fb9f3a\"],[0.8888888888888888,\"#fdca26\"],[1.0,\"#f0f921\"]]}],\"choropleth\":[{\"type\":\"choropleth\",\"colorbar\":{\"outlinewidth\":0,\"ticks\":\"\"}}],\"histogram2d\":[{\"type\":\"histogram2d\",\"colorbar\":{\"outlinewidth\":0,\"ticks\":\"\"},\"colorscale\":[[0.0,\"#0d0887\"],[0.1111111111111111,\"#46039f\"],[0.2222222222222222,\"#7201a8\"],[0.3333333333333333,\"#9c179e\"],[0.4444444444444444,\"#bd3786\"],[0.5555555555555556,\"#d8576b\"],[0.6666666666666666,\"#ed7953\"],[0.7777777777777778,\"#fb9f3a\"],[0.8888888888888888,\"#fdca26\"],[1.0,\"#f0f921\"]]}],\"heatmap\":[{\"type\":\"heatmap\",\"colorbar\":{\"outlinewidth\":0,\"ticks\":\"\"},\"colorscale\":[[0.0,\"#0d0887\"],[0.1111111111111111,\"#46039f\"],[0.2222222222222222,\"#7201a8\"],[0.3333333333333333,\"#9c179e\"],[0.4444444444444444,\"#bd3786\"],[0.5555555555555556,\"#d8576b\"],[0.6666666666666666,\"#ed7953\"],[0.7777777777777778,\"#fb9f3a\"],[0.8888888888888888,\"#fdca26\"],[1.0,\"#f0f921\"]]}],\"heatmapgl\":[{\"type\":\"heatmapgl\",\"colorbar\":{\"outlinewidth\":0,\"ticks\":\"\"},\"colorscale\":[[0.0,\"#0d0887\"],[0.1111111111111111,\"#46039f\"],[0.2222222222222222,\"#7201a8\"],[0.3333333333333333,\"#9c179e\"],[0.4444444444444444,\"#bd3786\"],[0.5555555555555556,\"#d8576b\"],[0.6666666666666666,\"#ed7953\"],[0.7777777777777778,\"#fb9f3a\"],[0.8888888888888888,\"#fdca26\"],[1.0,\"#f0f921\"]]}],\"contourcarpet\":[{\"type\":\"contourcarpet\",\"colorbar\":{\"outlinewidth\":0,\"ticks\":\"\"}}],\"contour\":[{\"type\":\"contour\",\"colorbar\":{\"outlinewidth\":0,\"ticks\":\"\"},\"colorscale\":[[0.0,\"#0d0887\"],[0.1111111111111111,\"#46039f\"],[0.2222222222222222,\"#7201a8\"],[0.3333333333333333,\"#9c179e\"],[0.4444444444444444,\"#bd3786\"],[0.5555555555555556,\"#d8576b\"],[0.6666666666666666,\"#ed7953\"],[0.7777777777777778,\"#fb9f3a\"],[0.8888888888888888,\"#fdca26\"],[1.0,\"#f0f921\"]]}],\"surface\":[{\"type\":\"surface\",\"colorbar\":{\"outlinewidth\":0,\"ticks\":\"\"},\"colorscale\":[[0.0,\"#0d0887\"],[0.1111111111111111,\"#46039f\"],[0.2222222222222222,\"#7201a8\"],[0.3333333333333333,\"#9c179e\"],[0.4444444444444444,\"#bd3786\"],[0.5555555555555556,\"#d8576b\"],[0.6666666666666666,\"#ed7953\"],[0.7777777777777778,\"#fb9f3a\"],[0.8888888888888888,\"#fdca26\"],[1.0,\"#f0f921\"]]}],\"mesh3d\":[{\"type\":\"mesh3d\",\"colorbar\":{\"outlinewidth\":0,\"ticks\":\"\"}}],\"scatter\":[{\"fillpattern\":{\"fillmode\":\"overlay\",\"size\":10,\"solidity\":0.2},\"type\":\"scatter\"}],\"parcoords\":[{\"type\":\"parcoords\",\"line\":{\"colorbar\":{\"outlinewidth\":0,\"ticks\":\"\"}}}],\"scatterpolargl\":[{\"type\":\"scatterpolargl\",\"marker\":{\"colorbar\":{\"outlinewidth\":0,\"ticks\":\"\"}}}],\"bar\":[{\"error_x\":{\"color\":\"#2a3f5f\"},\"error_y\":{\"color\":\"#2a3f5f\"},\"marker\":{\"line\":{\"color\":\"#E5ECF6\",\"width\":0.5},\"pattern\":{\"fillmode\":\"overlay\",\"size\":10,\"solidity\":0.2}},\"type\":\"bar\"}],\"scattergeo\":[{\"type\":\"scattergeo\",\"marker\":{\"colorbar\":{\"outlinewidth\":0,\"ticks\":\"\"}}}],\"scatterpolar\":[{\"type\":\"scatterpolar\",\"marker\":{\"colorbar\":{\"outlinewidth\":0,\"ticks\":\"\"}}}],\"histogram\":[{\"marker\":{\"pattern\":{\"fillmode\":\"overlay\",\"size\":10,\"solidity\":0.2}},\"type\":\"histogram\"}],\"scattergl\":[{\"type\":\"scattergl\",\"marker\":{\"colorbar\":{\"outlinewidth\":0,\"ticks\":\"\"}}}],\"scatter3d\":[{\"type\":\"scatter3d\",\"line\":{\"colorbar\":{\"outlinewidth\":0,\"ticks\":\"\"}},\"marker\":{\"colorbar\":{\"outlinewidth\":0,\"ticks\":\"\"}}}],\"scattermapbox\":[{\"type\":\"scattermapbox\",\"marker\":{\"colorbar\":{\"outlinewidth\":0,\"ticks\":\"\"}}}],\"scatterternary\":[{\"type\":\"scatterternary\",\"marker\":{\"colorbar\":{\"outlinewidth\":0,\"ticks\":\"\"}}}],\"scattercarpet\":[{\"type\":\"scattercarpet\",\"marker\":{\"colorbar\":{\"outlinewidth\":0,\"ticks\":\"\"}}}],\"carpet\":[{\"aaxis\":{\"endlinecolor\":\"#2a3f5f\",\"gridcolor\":\"white\",\"linecolor\":\"white\",\"minorgridcolor\":\"white\",\"startlinecolor\":\"#2a3f5f\"},\"baxis\":{\"endlinecolor\":\"#2a3f5f\",\"gridcolor\":\"white\",\"linecolor\":\"white\",\"minorgridcolor\":\"white\",\"startlinecolor\":\"#2a3f5f\"},\"type\":\"carpet\"}],\"table\":[{\"cells\":{\"fill\":{\"color\":\"#EBF0F8\"},\"line\":{\"color\":\"white\"}},\"header\":{\"fill\":{\"color\":\"#C8D4E3\"},\"line\":{\"color\":\"white\"}},\"type\":\"table\"}],\"barpolar\":[{\"marker\":{\"line\":{\"color\":\"#E5ECF6\",\"width\":0.5},\"pattern\":{\"fillmode\":\"overlay\",\"size\":10,\"solidity\":0.2}},\"type\":\"barpolar\"}],\"pie\":[{\"automargin\":true,\"type\":\"pie\"}]},\"layout\":{\"autotypenumbers\":\"strict\",\"colorway\":[\"#636efa\",\"#EF553B\",\"#00cc96\",\"#ab63fa\",\"#FFA15A\",\"#19d3f3\",\"#FF6692\",\"#B6E880\",\"#FF97FF\",\"#FECB52\"],\"font\":{\"color\":\"#2a3f5f\"},\"hovermode\":\"closest\",\"hoverlabel\":{\"align\":\"left\"},\"paper_bgcolor\":\"white\",\"plot_bgcolor\":\"#E5ECF6\",\"polar\":{\"bgcolor\":\"#E5ECF6\",\"angularaxis\":{\"gridcolor\":\"white\",\"linecolor\":\"white\",\"ticks\":\"\"},\"radialaxis\":{\"gridcolor\":\"white\",\"linecolor\":\"white\",\"ticks\":\"\"}},\"ternary\":{\"bgcolor\":\"#E5ECF6\",\"aaxis\":{\"gridcolor\":\"white\",\"linecolor\":\"white\",\"ticks\":\"\"},\"baxis\":{\"gridcolor\":\"white\",\"linecolor\":\"white\",\"ticks\":\"\"},\"caxis\":{\"gridcolor\":\"white\",\"linecolor\":\"white\",\"ticks\":\"\"}},\"coloraxis\":{\"colorbar\":{\"outlinewidth\":0,\"ticks\":\"\"}},\"colorscale\":{\"sequential\":[[0.0,\"#0d0887\"],[0.1111111111111111,\"#46039f\"],[0.2222222222222222,\"#7201a8\"],[0.3333333333333333,\"#9c179e\"],[0.4444444444444444,\"#bd3786\"],[0.5555555555555556,\"#d8576b\"],[0.6666666666666666,\"#ed7953\"],[0.7777777777777778,\"#fb9f3a\"],[0.8888888888888888,\"#fdca26\"],[1.0,\"#f0f921\"]],\"sequentialminus\":[[0.0,\"#0d0887\"],[0.1111111111111111,\"#46039f\"],[0.2222222222222222,\"#7201a8\"],[0.3333333333333333,\"#9c179e\"],[0.4444444444444444,\"#bd3786\"],[0.5555555555555556,\"#d8576b\"],[0.6666666666666666,\"#ed7953\"],[0.7777777777777778,\"#fb9f3a\"],[0.8888888888888888,\"#fdca26\"],[1.0,\"#f0f921\"]],\"diverging\":[[0,\"#8e0152\"],[0.1,\"#c51b7d\"],[0.2,\"#de77ae\"],[0.3,\"#f1b6da\"],[0.4,\"#fde0ef\"],[0.5,\"#f7f7f7\"],[0.6,\"#e6f5d0\"],[0.7,\"#b8e186\"],[0.8,\"#7fbc41\"],[0.9,\"#4d9221\"],[1,\"#276419\"]]},\"xaxis\":{\"gridcolor\":\"white\",\"linecolor\":\"white\",\"ticks\":\"\",\"title\":{\"standoff\":15},\"zerolinecolor\":\"white\",\"automargin\":true,\"zerolinewidth\":2},\"yaxis\":{\"gridcolor\":\"white\",\"linecolor\":\"white\",\"ticks\":\"\",\"title\":{\"standoff\":15},\"zerolinecolor\":\"white\",\"automargin\":true,\"zerolinewidth\":2},\"scene\":{\"xaxis\":{\"backgroundcolor\":\"#E5ECF6\",\"gridcolor\":\"white\",\"linecolor\":\"white\",\"showbackground\":true,\"ticks\":\"\",\"zerolinecolor\":\"white\",\"gridwidth\":2},\"yaxis\":{\"backgroundcolor\":\"#E5ECF6\",\"gridcolor\":\"white\",\"linecolor\":\"white\",\"showbackground\":true,\"ticks\":\"\",\"zerolinecolor\":\"white\",\"gridwidth\":2},\"zaxis\":{\"backgroundcolor\":\"#E5ECF6\",\"gridcolor\":\"white\",\"linecolor\":\"white\",\"showbackground\":true,\"ticks\":\"\",\"zerolinecolor\":\"white\",\"gridwidth\":2}},\"shapedefaults\":{\"line\":{\"color\":\"#2a3f5f\"}},\"annotationdefaults\":{\"arrowcolor\":\"#2a3f5f\",\"arrowhead\":0,\"arrowwidth\":1},\"geo\":{\"bgcolor\":\"white\",\"landcolor\":\"#E5ECF6\",\"subunitcolor\":\"white\",\"showland\":true,\"showlakes\":true,\"lakecolor\":\"white\"},\"title\":{\"x\":0.05},\"mapbox\":{\"style\":\"light\"}}},\"xaxis\":{\"anchor\":\"y\",\"domain\":[0.0,1.0],\"title\":{\"text\":\"Anos\"},\"linecolor\":\"rgba(0,0,0,1)\",\"tickmode\":\"array\",\"tickformat\":\"False\"},\"yaxis\":{\"anchor\":\"x\",\"domain\":[0.0,1.0],\"title\":{\"text\":\"Quantidade\"},\"linecolor\":\"rgba(0,0,0,1)\"},\"legend\":{\"title\":{\"text\":\"bioma\"},\"tracegroupgap\":0},\"margin\":{\"t\":60},\"title\":{\"text\":\"Queimadas por ano dos biomas brasileiros\",\"x\":0.5}},                        {\"responsive\": true}                    ).then(function(){\n",
       "                            \n",
       "var gd = document.getElementById('ada39343-7215-48e5-8ea6-68fa059a0215');\n",
       "var x = new MutationObserver(function (mutations, observer) {{\n",
       "        var display = window.getComputedStyle(gd).display;\n",
       "        if (!display || display === 'none') {{\n",
       "            console.log([gd, 'removed!']);\n",
       "            Plotly.purge(gd);\n",
       "            observer.disconnect();\n",
       "        }}\n",
       "}});\n",
       "\n",
       "// Listen for the removal of the full notebook cells\n",
       "var notebookContainer = gd.closest('#notebook-container');\n",
       "if (notebookContainer) {{\n",
       "    x.observe(notebookContainer, {childList: true});\n",
       "}}\n",
       "\n",
       "// Listen for the clearing of the current output cell\n",
       "var outputEl = gd.closest('.output');\n",
       "if (outputEl) {{\n",
       "    x.observe(outputEl, {childList: true});\n",
       "}}\n",
       "\n",
       "                        })                };                });            </script>        </div>"
      ]
     },
     "metadata": {},
     "output_type": "display_data"
    }
   ],
   "source": [
    "queimaidas_por_ano = px.line(biomas_por_ano,  x= \"datahora\",y= 'count',color = 'bioma')\n",
    "queimaidas_por_ano.update_layout(xaxis = dict(title = 'Anos',\n",
    "                                linecolor='rgba(0,0,0,1)', # adicionando linppppppppe3ha em y = 0\n",
    "                                tickmode = 'array', # alterando o modo dos ticks\n",
    "                                tickformat=False,\n",
    "                               ), # setando o valor do tick de x\n",
    "                    yaxis = dict(title = 'Quantidade',  # alterando o titulo do eixo y\n",
    "                                  linecolor='rgba(0,0,0,1)', # adicionando linha em x = 0\n",
    "                                  ),\n",
    "                    title_text='Queimadas por ano dos biomas brasileiros', title_x = 0.5)\n",
    "queimaidas_por_ano"
   ]
  },
  {
   "cell_type": "markdown",
   "metadata": {},
   "source": [
    "## Ranking dos biomas mais prejudicados "
   ]
  },
  {
   "cell_type": "code",
   "execution_count": 25,
   "metadata": {},
   "outputs": [
    {
     "data": {
      "text/html": [
       "<div>\n",
       "<style scoped>\n",
       "    .dataframe tbody tr th:only-of-type {\n",
       "        vertical-align: middle;\n",
       "    }\n",
       "\n",
       "    .dataframe tbody tr th {\n",
       "        vertical-align: top;\n",
       "    }\n",
       "\n",
       "    .dataframe thead th {\n",
       "        text-align: right;\n",
       "    }\n",
       "</style>\n",
       "<table border=\"1\" class=\"dataframe\">\n",
       "  <thead>\n",
       "    <tr style=\"text-align: right;\">\n",
       "      <th></th>\n",
       "      <th>bioma</th>\n",
       "      <th>0</th>\n",
       "    </tr>\n",
       "  </thead>\n",
       "  <tbody>\n",
       "    <tr>\n",
       "      <th>0</th>\n",
       "      <td>Amazonia</td>\n",
       "      <td>12922529</td>\n",
       "    </tr>\n",
       "    <tr>\n",
       "      <th>1</th>\n",
       "      <td>Cerrado</td>\n",
       "      <td>10785566</td>\n",
       "    </tr>\n",
       "    <tr>\n",
       "      <th>2</th>\n",
       "      <td>Caatinga</td>\n",
       "      <td>1977401</td>\n",
       "    </tr>\n",
       "    <tr>\n",
       "      <th>3</th>\n",
       "      <td>Mata Atlantica</td>\n",
       "      <td>1930249</td>\n",
       "    </tr>\n",
       "    <tr>\n",
       "      <th>4</th>\n",
       "      <td>Pantanal</td>\n",
       "      <td>1639266</td>\n",
       "    </tr>\n",
       "    <tr>\n",
       "      <th>5</th>\n",
       "      <td>Pampa</td>\n",
       "      <td>104416</td>\n",
       "    </tr>\n",
       "  </tbody>\n",
       "</table>\n",
       "</div>"
      ],
      "text/plain": [
       "            bioma         0\n",
       "0        Amazonia  12922529\n",
       "1         Cerrado  10785566\n",
       "2        Caatinga   1977401\n",
       "3  Mata Atlantica   1930249\n",
       "4        Pantanal   1639266\n",
       "5           Pampa    104416"
      ]
     },
     "execution_count": 25,
     "metadata": {},
     "output_type": "execute_result"
    }
   ],
   "source": [
    "quant =pd.DataFrame( df.groupby(\"bioma\").size().sort_values(ascending=False))\n",
    "quant.reset_index(inplace=True)\n",
    "quant"
   ]
  },
  {
   "cell_type": "code",
   "execution_count": 26,
   "metadata": {},
   "outputs": [
    {
     "data": {
      "application/vnd.plotly.v1+json": {
       "config": {
        "plotlyServerURL": "https://plot.ly"
       },
       "data": [
        {
         "cells": {
          "align": "left",
          "fill": {
           "color": "lavender"
          },
          "values": [
           [
            "Amazonia",
            "Cerrado",
            "Caatinga",
            "Mata Atlantica",
            "Pantanal",
            "Pampa"
           ],
           [
            12922529,
            10785566,
            1977401,
            1930249,
            1639266,
            104416
           ]
          ]
         },
         "header": {
          "align": "left",
          "fill": {
           "color": "paleturquoise"
          },
          "values": [
           "bioma",
           0
          ]
         },
         "type": "table"
        }
       ],
       "layout": {
        "template": {
         "data": {
          "bar": [
           {
            "error_x": {
             "color": "#2a3f5f"
            },
            "error_y": {
             "color": "#2a3f5f"
            },
            "marker": {
             "line": {
              "color": "#E5ECF6",
              "width": 0.5
             },
             "pattern": {
              "fillmode": "overlay",
              "size": 10,
              "solidity": 0.2
             }
            },
            "type": "bar"
           }
          ],
          "barpolar": [
           {
            "marker": {
             "line": {
              "color": "#E5ECF6",
              "width": 0.5
             },
             "pattern": {
              "fillmode": "overlay",
              "size": 10,
              "solidity": 0.2
             }
            },
            "type": "barpolar"
           }
          ],
          "carpet": [
           {
            "aaxis": {
             "endlinecolor": "#2a3f5f",
             "gridcolor": "white",
             "linecolor": "white",
             "minorgridcolor": "white",
             "startlinecolor": "#2a3f5f"
            },
            "baxis": {
             "endlinecolor": "#2a3f5f",
             "gridcolor": "white",
             "linecolor": "white",
             "minorgridcolor": "white",
             "startlinecolor": "#2a3f5f"
            },
            "type": "carpet"
           }
          ],
          "choropleth": [
           {
            "colorbar": {
             "outlinewidth": 0,
             "ticks": ""
            },
            "type": "choropleth"
           }
          ],
          "contour": [
           {
            "colorbar": {
             "outlinewidth": 0,
             "ticks": ""
            },
            "colorscale": [
             [
              0,
              "#0d0887"
             ],
             [
              0.1111111111111111,
              "#46039f"
             ],
             [
              0.2222222222222222,
              "#7201a8"
             ],
             [
              0.3333333333333333,
              "#9c179e"
             ],
             [
              0.4444444444444444,
              "#bd3786"
             ],
             [
              0.5555555555555556,
              "#d8576b"
             ],
             [
              0.6666666666666666,
              "#ed7953"
             ],
             [
              0.7777777777777778,
              "#fb9f3a"
             ],
             [
              0.8888888888888888,
              "#fdca26"
             ],
             [
              1,
              "#f0f921"
             ]
            ],
            "type": "contour"
           }
          ],
          "contourcarpet": [
           {
            "colorbar": {
             "outlinewidth": 0,
             "ticks": ""
            },
            "type": "contourcarpet"
           }
          ],
          "heatmap": [
           {
            "colorbar": {
             "outlinewidth": 0,
             "ticks": ""
            },
            "colorscale": [
             [
              0,
              "#0d0887"
             ],
             [
              0.1111111111111111,
              "#46039f"
             ],
             [
              0.2222222222222222,
              "#7201a8"
             ],
             [
              0.3333333333333333,
              "#9c179e"
             ],
             [
              0.4444444444444444,
              "#bd3786"
             ],
             [
              0.5555555555555556,
              "#d8576b"
             ],
             [
              0.6666666666666666,
              "#ed7953"
             ],
             [
              0.7777777777777778,
              "#fb9f3a"
             ],
             [
              0.8888888888888888,
              "#fdca26"
             ],
             [
              1,
              "#f0f921"
             ]
            ],
            "type": "heatmap"
           }
          ],
          "heatmapgl": [
           {
            "colorbar": {
             "outlinewidth": 0,
             "ticks": ""
            },
            "colorscale": [
             [
              0,
              "#0d0887"
             ],
             [
              0.1111111111111111,
              "#46039f"
             ],
             [
              0.2222222222222222,
              "#7201a8"
             ],
             [
              0.3333333333333333,
              "#9c179e"
             ],
             [
              0.4444444444444444,
              "#bd3786"
             ],
             [
              0.5555555555555556,
              "#d8576b"
             ],
             [
              0.6666666666666666,
              "#ed7953"
             ],
             [
              0.7777777777777778,
              "#fb9f3a"
             ],
             [
              0.8888888888888888,
              "#fdca26"
             ],
             [
              1,
              "#f0f921"
             ]
            ],
            "type": "heatmapgl"
           }
          ],
          "histogram": [
           {
            "marker": {
             "pattern": {
              "fillmode": "overlay",
              "size": 10,
              "solidity": 0.2
             }
            },
            "type": "histogram"
           }
          ],
          "histogram2d": [
           {
            "colorbar": {
             "outlinewidth": 0,
             "ticks": ""
            },
            "colorscale": [
             [
              0,
              "#0d0887"
             ],
             [
              0.1111111111111111,
              "#46039f"
             ],
             [
              0.2222222222222222,
              "#7201a8"
             ],
             [
              0.3333333333333333,
              "#9c179e"
             ],
             [
              0.4444444444444444,
              "#bd3786"
             ],
             [
              0.5555555555555556,
              "#d8576b"
             ],
             [
              0.6666666666666666,
              "#ed7953"
             ],
             [
              0.7777777777777778,
              "#fb9f3a"
             ],
             [
              0.8888888888888888,
              "#fdca26"
             ],
             [
              1,
              "#f0f921"
             ]
            ],
            "type": "histogram2d"
           }
          ],
          "histogram2dcontour": [
           {
            "colorbar": {
             "outlinewidth": 0,
             "ticks": ""
            },
            "colorscale": [
             [
              0,
              "#0d0887"
             ],
             [
              0.1111111111111111,
              "#46039f"
             ],
             [
              0.2222222222222222,
              "#7201a8"
             ],
             [
              0.3333333333333333,
              "#9c179e"
             ],
             [
              0.4444444444444444,
              "#bd3786"
             ],
             [
              0.5555555555555556,
              "#d8576b"
             ],
             [
              0.6666666666666666,
              "#ed7953"
             ],
             [
              0.7777777777777778,
              "#fb9f3a"
             ],
             [
              0.8888888888888888,
              "#fdca26"
             ],
             [
              1,
              "#f0f921"
             ]
            ],
            "type": "histogram2dcontour"
           }
          ],
          "mesh3d": [
           {
            "colorbar": {
             "outlinewidth": 0,
             "ticks": ""
            },
            "type": "mesh3d"
           }
          ],
          "parcoords": [
           {
            "line": {
             "colorbar": {
              "outlinewidth": 0,
              "ticks": ""
             }
            },
            "type": "parcoords"
           }
          ],
          "pie": [
           {
            "automargin": true,
            "type": "pie"
           }
          ],
          "scatter": [
           {
            "fillpattern": {
             "fillmode": "overlay",
             "size": 10,
             "solidity": 0.2
            },
            "type": "scatter"
           }
          ],
          "scatter3d": [
           {
            "line": {
             "colorbar": {
              "outlinewidth": 0,
              "ticks": ""
             }
            },
            "marker": {
             "colorbar": {
              "outlinewidth": 0,
              "ticks": ""
             }
            },
            "type": "scatter3d"
           }
          ],
          "scattercarpet": [
           {
            "marker": {
             "colorbar": {
              "outlinewidth": 0,
              "ticks": ""
             }
            },
            "type": "scattercarpet"
           }
          ],
          "scattergeo": [
           {
            "marker": {
             "colorbar": {
              "outlinewidth": 0,
              "ticks": ""
             }
            },
            "type": "scattergeo"
           }
          ],
          "scattergl": [
           {
            "marker": {
             "colorbar": {
              "outlinewidth": 0,
              "ticks": ""
             }
            },
            "type": "scattergl"
           }
          ],
          "scattermapbox": [
           {
            "marker": {
             "colorbar": {
              "outlinewidth": 0,
              "ticks": ""
             }
            },
            "type": "scattermapbox"
           }
          ],
          "scatterpolar": [
           {
            "marker": {
             "colorbar": {
              "outlinewidth": 0,
              "ticks": ""
             }
            },
            "type": "scatterpolar"
           }
          ],
          "scatterpolargl": [
           {
            "marker": {
             "colorbar": {
              "outlinewidth": 0,
              "ticks": ""
             }
            },
            "type": "scatterpolargl"
           }
          ],
          "scatterternary": [
           {
            "marker": {
             "colorbar": {
              "outlinewidth": 0,
              "ticks": ""
             }
            },
            "type": "scatterternary"
           }
          ],
          "surface": [
           {
            "colorbar": {
             "outlinewidth": 0,
             "ticks": ""
            },
            "colorscale": [
             [
              0,
              "#0d0887"
             ],
             [
              0.1111111111111111,
              "#46039f"
             ],
             [
              0.2222222222222222,
              "#7201a8"
             ],
             [
              0.3333333333333333,
              "#9c179e"
             ],
             [
              0.4444444444444444,
              "#bd3786"
             ],
             [
              0.5555555555555556,
              "#d8576b"
             ],
             [
              0.6666666666666666,
              "#ed7953"
             ],
             [
              0.7777777777777778,
              "#fb9f3a"
             ],
             [
              0.8888888888888888,
              "#fdca26"
             ],
             [
              1,
              "#f0f921"
             ]
            ],
            "type": "surface"
           }
          ],
          "table": [
           {
            "cells": {
             "fill": {
              "color": "#EBF0F8"
             },
             "line": {
              "color": "white"
             }
            },
            "header": {
             "fill": {
              "color": "#C8D4E3"
             },
             "line": {
              "color": "white"
             }
            },
            "type": "table"
           }
          ]
         },
         "layout": {
          "annotationdefaults": {
           "arrowcolor": "#2a3f5f",
           "arrowhead": 0,
           "arrowwidth": 1
          },
          "autotypenumbers": "strict",
          "coloraxis": {
           "colorbar": {
            "outlinewidth": 0,
            "ticks": ""
           }
          },
          "colorscale": {
           "diverging": [
            [
             0,
             "#8e0152"
            ],
            [
             0.1,
             "#c51b7d"
            ],
            [
             0.2,
             "#de77ae"
            ],
            [
             0.3,
             "#f1b6da"
            ],
            [
             0.4,
             "#fde0ef"
            ],
            [
             0.5,
             "#f7f7f7"
            ],
            [
             0.6,
             "#e6f5d0"
            ],
            [
             0.7,
             "#b8e186"
            ],
            [
             0.8,
             "#7fbc41"
            ],
            [
             0.9,
             "#4d9221"
            ],
            [
             1,
             "#276419"
            ]
           ],
           "sequential": [
            [
             0,
             "#0d0887"
            ],
            [
             0.1111111111111111,
             "#46039f"
            ],
            [
             0.2222222222222222,
             "#7201a8"
            ],
            [
             0.3333333333333333,
             "#9c179e"
            ],
            [
             0.4444444444444444,
             "#bd3786"
            ],
            [
             0.5555555555555556,
             "#d8576b"
            ],
            [
             0.6666666666666666,
             "#ed7953"
            ],
            [
             0.7777777777777778,
             "#fb9f3a"
            ],
            [
             0.8888888888888888,
             "#fdca26"
            ],
            [
             1,
             "#f0f921"
            ]
           ],
           "sequentialminus": [
            [
             0,
             "#0d0887"
            ],
            [
             0.1111111111111111,
             "#46039f"
            ],
            [
             0.2222222222222222,
             "#7201a8"
            ],
            [
             0.3333333333333333,
             "#9c179e"
            ],
            [
             0.4444444444444444,
             "#bd3786"
            ],
            [
             0.5555555555555556,
             "#d8576b"
            ],
            [
             0.6666666666666666,
             "#ed7953"
            ],
            [
             0.7777777777777778,
             "#fb9f3a"
            ],
            [
             0.8888888888888888,
             "#fdca26"
            ],
            [
             1,
             "#f0f921"
            ]
           ]
          },
          "colorway": [
           "#636efa",
           "#EF553B",
           "#00cc96",
           "#ab63fa",
           "#FFA15A",
           "#19d3f3",
           "#FF6692",
           "#B6E880",
           "#FF97FF",
           "#FECB52"
          ],
          "font": {
           "color": "#2a3f5f"
          },
          "geo": {
           "bgcolor": "white",
           "lakecolor": "white",
           "landcolor": "#E5ECF6",
           "showlakes": true,
           "showland": true,
           "subunitcolor": "white"
          },
          "hoverlabel": {
           "align": "left"
          },
          "hovermode": "closest",
          "mapbox": {
           "style": "light"
          },
          "paper_bgcolor": "white",
          "plot_bgcolor": "#E5ECF6",
          "polar": {
           "angularaxis": {
            "gridcolor": "white",
            "linecolor": "white",
            "ticks": ""
           },
           "bgcolor": "#E5ECF6",
           "radialaxis": {
            "gridcolor": "white",
            "linecolor": "white",
            "ticks": ""
           }
          },
          "scene": {
           "xaxis": {
            "backgroundcolor": "#E5ECF6",
            "gridcolor": "white",
            "gridwidth": 2,
            "linecolor": "white",
            "showbackground": true,
            "ticks": "",
            "zerolinecolor": "white"
           },
           "yaxis": {
            "backgroundcolor": "#E5ECF6",
            "gridcolor": "white",
            "gridwidth": 2,
            "linecolor": "white",
            "showbackground": true,
            "ticks": "",
            "zerolinecolor": "white"
           },
           "zaxis": {
            "backgroundcolor": "#E5ECF6",
            "gridcolor": "white",
            "gridwidth": 2,
            "linecolor": "white",
            "showbackground": true,
            "ticks": "",
            "zerolinecolor": "white"
           }
          },
          "shapedefaults": {
           "line": {
            "color": "#2a3f5f"
           }
          },
          "ternary": {
           "aaxis": {
            "gridcolor": "white",
            "linecolor": "white",
            "ticks": ""
           },
           "baxis": {
            "gridcolor": "white",
            "linecolor": "white",
            "ticks": ""
           },
           "bgcolor": "#E5ECF6",
           "caxis": {
            "gridcolor": "white",
            "linecolor": "white",
            "ticks": ""
           }
          },
          "title": {
           "x": 0.05
          },
          "xaxis": {
           "automargin": true,
           "gridcolor": "white",
           "linecolor": "white",
           "ticks": "",
           "title": {
            "standoff": 15
           },
           "zerolinecolor": "white",
           "zerolinewidth": 2
          },
          "yaxis": {
           "automargin": true,
           "gridcolor": "white",
           "linecolor": "white",
           "ticks": "",
           "title": {
            "standoff": 15
           },
           "zerolinecolor": "white",
           "zerolinewidth": 2
          }
         }
        }
       }
      },
      "text/html": [
       "<div>                            <div id=\"4d026e1d-5381-43c8-a5e4-f1fe5fd6140b\" class=\"plotly-graph-div\" style=\"height:525px; width:100%;\"></div>            <script type=\"text/javascript\">                require([\"plotly\"], function(Plotly) {                    window.PLOTLYENV=window.PLOTLYENV || {};                                    if (document.getElementById(\"4d026e1d-5381-43c8-a5e4-f1fe5fd6140b\")) {                    Plotly.newPlot(                        \"4d026e1d-5381-43c8-a5e4-f1fe5fd6140b\",                        [{\"cells\":{\"align\":\"left\",\"fill\":{\"color\":\"lavender\"},\"values\":[[\"Amazonia\",\"Cerrado\",\"Caatinga\",\"Mata Atlantica\",\"Pantanal\",\"Pampa\"],[12922529,10785566,1977401,1930249,1639266,104416]]},\"header\":{\"align\":\"left\",\"fill\":{\"color\":\"paleturquoise\"},\"values\":[\"bioma\",0]},\"type\":\"table\"}],                        {\"template\":{\"data\":{\"histogram2dcontour\":[{\"type\":\"histogram2dcontour\",\"colorbar\":{\"outlinewidth\":0,\"ticks\":\"\"},\"colorscale\":[[0.0,\"#0d0887\"],[0.1111111111111111,\"#46039f\"],[0.2222222222222222,\"#7201a8\"],[0.3333333333333333,\"#9c179e\"],[0.4444444444444444,\"#bd3786\"],[0.5555555555555556,\"#d8576b\"],[0.6666666666666666,\"#ed7953\"],[0.7777777777777778,\"#fb9f3a\"],[0.8888888888888888,\"#fdca26\"],[1.0,\"#f0f921\"]]}],\"choropleth\":[{\"type\":\"choropleth\",\"colorbar\":{\"outlinewidth\":0,\"ticks\":\"\"}}],\"histogram2d\":[{\"type\":\"histogram2d\",\"colorbar\":{\"outlinewidth\":0,\"ticks\":\"\"},\"colorscale\":[[0.0,\"#0d0887\"],[0.1111111111111111,\"#46039f\"],[0.2222222222222222,\"#7201a8\"],[0.3333333333333333,\"#9c179e\"],[0.4444444444444444,\"#bd3786\"],[0.5555555555555556,\"#d8576b\"],[0.6666666666666666,\"#ed7953\"],[0.7777777777777778,\"#fb9f3a\"],[0.8888888888888888,\"#fdca26\"],[1.0,\"#f0f921\"]]}],\"heatmap\":[{\"type\":\"heatmap\",\"colorbar\":{\"outlinewidth\":0,\"ticks\":\"\"},\"colorscale\":[[0.0,\"#0d0887\"],[0.1111111111111111,\"#46039f\"],[0.2222222222222222,\"#7201a8\"],[0.3333333333333333,\"#9c179e\"],[0.4444444444444444,\"#bd3786\"],[0.5555555555555556,\"#d8576b\"],[0.6666666666666666,\"#ed7953\"],[0.7777777777777778,\"#fb9f3a\"],[0.8888888888888888,\"#fdca26\"],[1.0,\"#f0f921\"]]}],\"heatmapgl\":[{\"type\":\"heatmapgl\",\"colorbar\":{\"outlinewidth\":0,\"ticks\":\"\"},\"colorscale\":[[0.0,\"#0d0887\"],[0.1111111111111111,\"#46039f\"],[0.2222222222222222,\"#7201a8\"],[0.3333333333333333,\"#9c179e\"],[0.4444444444444444,\"#bd3786\"],[0.5555555555555556,\"#d8576b\"],[0.6666666666666666,\"#ed7953\"],[0.7777777777777778,\"#fb9f3a\"],[0.8888888888888888,\"#fdca26\"],[1.0,\"#f0f921\"]]}],\"contourcarpet\":[{\"type\":\"contourcarpet\",\"colorbar\":{\"outlinewidth\":0,\"ticks\":\"\"}}],\"contour\":[{\"type\":\"contour\",\"colorbar\":{\"outlinewidth\":0,\"ticks\":\"\"},\"colorscale\":[[0.0,\"#0d0887\"],[0.1111111111111111,\"#46039f\"],[0.2222222222222222,\"#7201a8\"],[0.3333333333333333,\"#9c179e\"],[0.4444444444444444,\"#bd3786\"],[0.5555555555555556,\"#d8576b\"],[0.6666666666666666,\"#ed7953\"],[0.7777777777777778,\"#fb9f3a\"],[0.8888888888888888,\"#fdca26\"],[1.0,\"#f0f921\"]]}],\"surface\":[{\"type\":\"surface\",\"colorbar\":{\"outlinewidth\":0,\"ticks\":\"\"},\"colorscale\":[[0.0,\"#0d0887\"],[0.1111111111111111,\"#46039f\"],[0.2222222222222222,\"#7201a8\"],[0.3333333333333333,\"#9c179e\"],[0.4444444444444444,\"#bd3786\"],[0.5555555555555556,\"#d8576b\"],[0.6666666666666666,\"#ed7953\"],[0.7777777777777778,\"#fb9f3a\"],[0.8888888888888888,\"#fdca26\"],[1.0,\"#f0f921\"]]}],\"mesh3d\":[{\"type\":\"mesh3d\",\"colorbar\":{\"outlinewidth\":0,\"ticks\":\"\"}}],\"scatter\":[{\"fillpattern\":{\"fillmode\":\"overlay\",\"size\":10,\"solidity\":0.2},\"type\":\"scatter\"}],\"parcoords\":[{\"type\":\"parcoords\",\"line\":{\"colorbar\":{\"outlinewidth\":0,\"ticks\":\"\"}}}],\"scatterpolargl\":[{\"type\":\"scatterpolargl\",\"marker\":{\"colorbar\":{\"outlinewidth\":0,\"ticks\":\"\"}}}],\"bar\":[{\"error_x\":{\"color\":\"#2a3f5f\"},\"error_y\":{\"color\":\"#2a3f5f\"},\"marker\":{\"line\":{\"color\":\"#E5ECF6\",\"width\":0.5},\"pattern\":{\"fillmode\":\"overlay\",\"size\":10,\"solidity\":0.2}},\"type\":\"bar\"}],\"scattergeo\":[{\"type\":\"scattergeo\",\"marker\":{\"colorbar\":{\"outlinewidth\":0,\"ticks\":\"\"}}}],\"scatterpolar\":[{\"type\":\"scatterpolar\",\"marker\":{\"colorbar\":{\"outlinewidth\":0,\"ticks\":\"\"}}}],\"histogram\":[{\"marker\":{\"pattern\":{\"fillmode\":\"overlay\",\"size\":10,\"solidity\":0.2}},\"type\":\"histogram\"}],\"scattergl\":[{\"type\":\"scattergl\",\"marker\":{\"colorbar\":{\"outlinewidth\":0,\"ticks\":\"\"}}}],\"scatter3d\":[{\"type\":\"scatter3d\",\"line\":{\"colorbar\":{\"outlinewidth\":0,\"ticks\":\"\"}},\"marker\":{\"colorbar\":{\"outlinewidth\":0,\"ticks\":\"\"}}}],\"scattermapbox\":[{\"type\":\"scattermapbox\",\"marker\":{\"colorbar\":{\"outlinewidth\":0,\"ticks\":\"\"}}}],\"scatterternary\":[{\"type\":\"scatterternary\",\"marker\":{\"colorbar\":{\"outlinewidth\":0,\"ticks\":\"\"}}}],\"scattercarpet\":[{\"type\":\"scattercarpet\",\"marker\":{\"colorbar\":{\"outlinewidth\":0,\"ticks\":\"\"}}}],\"carpet\":[{\"aaxis\":{\"endlinecolor\":\"#2a3f5f\",\"gridcolor\":\"white\",\"linecolor\":\"white\",\"minorgridcolor\":\"white\",\"startlinecolor\":\"#2a3f5f\"},\"baxis\":{\"endlinecolor\":\"#2a3f5f\",\"gridcolor\":\"white\",\"linecolor\":\"white\",\"minorgridcolor\":\"white\",\"startlinecolor\":\"#2a3f5f\"},\"type\":\"carpet\"}],\"table\":[{\"cells\":{\"fill\":{\"color\":\"#EBF0F8\"},\"line\":{\"color\":\"white\"}},\"header\":{\"fill\":{\"color\":\"#C8D4E3\"},\"line\":{\"color\":\"white\"}},\"type\":\"table\"}],\"barpolar\":[{\"marker\":{\"line\":{\"color\":\"#E5ECF6\",\"width\":0.5},\"pattern\":{\"fillmode\":\"overlay\",\"size\":10,\"solidity\":0.2}},\"type\":\"barpolar\"}],\"pie\":[{\"automargin\":true,\"type\":\"pie\"}]},\"layout\":{\"autotypenumbers\":\"strict\",\"colorway\":[\"#636efa\",\"#EF553B\",\"#00cc96\",\"#ab63fa\",\"#FFA15A\",\"#19d3f3\",\"#FF6692\",\"#B6E880\",\"#FF97FF\",\"#FECB52\"],\"font\":{\"color\":\"#2a3f5f\"},\"hovermode\":\"closest\",\"hoverlabel\":{\"align\":\"left\"},\"paper_bgcolor\":\"white\",\"plot_bgcolor\":\"#E5ECF6\",\"polar\":{\"bgcolor\":\"#E5ECF6\",\"angularaxis\":{\"gridcolor\":\"white\",\"linecolor\":\"white\",\"ticks\":\"\"},\"radialaxis\":{\"gridcolor\":\"white\",\"linecolor\":\"white\",\"ticks\":\"\"}},\"ternary\":{\"bgcolor\":\"#E5ECF6\",\"aaxis\":{\"gridcolor\":\"white\",\"linecolor\":\"white\",\"ticks\":\"\"},\"baxis\":{\"gridcolor\":\"white\",\"linecolor\":\"white\",\"ticks\":\"\"},\"caxis\":{\"gridcolor\":\"white\",\"linecolor\":\"white\",\"ticks\":\"\"}},\"coloraxis\":{\"colorbar\":{\"outlinewidth\":0,\"ticks\":\"\"}},\"colorscale\":{\"sequential\":[[0.0,\"#0d0887\"],[0.1111111111111111,\"#46039f\"],[0.2222222222222222,\"#7201a8\"],[0.3333333333333333,\"#9c179e\"],[0.4444444444444444,\"#bd3786\"],[0.5555555555555556,\"#d8576b\"],[0.6666666666666666,\"#ed7953\"],[0.7777777777777778,\"#fb9f3a\"],[0.8888888888888888,\"#fdca26\"],[1.0,\"#f0f921\"]],\"sequentialminus\":[[0.0,\"#0d0887\"],[0.1111111111111111,\"#46039f\"],[0.2222222222222222,\"#7201a8\"],[0.3333333333333333,\"#9c179e\"],[0.4444444444444444,\"#bd3786\"],[0.5555555555555556,\"#d8576b\"],[0.6666666666666666,\"#ed7953\"],[0.7777777777777778,\"#fb9f3a\"],[0.8888888888888888,\"#fdca26\"],[1.0,\"#f0f921\"]],\"diverging\":[[0,\"#8e0152\"],[0.1,\"#c51b7d\"],[0.2,\"#de77ae\"],[0.3,\"#f1b6da\"],[0.4,\"#fde0ef\"],[0.5,\"#f7f7f7\"],[0.6,\"#e6f5d0\"],[0.7,\"#b8e186\"],[0.8,\"#7fbc41\"],[0.9,\"#4d9221\"],[1,\"#276419\"]]},\"xaxis\":{\"gridcolor\":\"white\",\"linecolor\":\"white\",\"ticks\":\"\",\"title\":{\"standoff\":15},\"zerolinecolor\":\"white\",\"automargin\":true,\"zerolinewidth\":2},\"yaxis\":{\"gridcolor\":\"white\",\"linecolor\":\"white\",\"ticks\":\"\",\"title\":{\"standoff\":15},\"zerolinecolor\":\"white\",\"automargin\":true,\"zerolinewidth\":2},\"scene\":{\"xaxis\":{\"backgroundcolor\":\"#E5ECF6\",\"gridcolor\":\"white\",\"linecolor\":\"white\",\"showbackground\":true,\"ticks\":\"\",\"zerolinecolor\":\"white\",\"gridwidth\":2},\"yaxis\":{\"backgroundcolor\":\"#E5ECF6\",\"gridcolor\":\"white\",\"linecolor\":\"white\",\"showbackground\":true,\"ticks\":\"\",\"zerolinecolor\":\"white\",\"gridwidth\":2},\"zaxis\":{\"backgroundcolor\":\"#E5ECF6\",\"gridcolor\":\"white\",\"linecolor\":\"white\",\"showbackground\":true,\"ticks\":\"\",\"zerolinecolor\":\"white\",\"gridwidth\":2}},\"shapedefaults\":{\"line\":{\"color\":\"#2a3f5f\"}},\"annotationdefaults\":{\"arrowcolor\":\"#2a3f5f\",\"arrowhead\":0,\"arrowwidth\":1},\"geo\":{\"bgcolor\":\"white\",\"landcolor\":\"#E5ECF6\",\"subunitcolor\":\"white\",\"showland\":true,\"showlakes\":true,\"lakecolor\":\"white\"},\"title\":{\"x\":0.05},\"mapbox\":{\"style\":\"light\"}}}},                        {\"responsive\": true}                    ).then(function(){\n",
       "                            \n",
       "var gd = document.getElementById('4d026e1d-5381-43c8-a5e4-f1fe5fd6140b');\n",
       "var x = new MutationObserver(function (mutations, observer) {{\n",
       "        var display = window.getComputedStyle(gd).display;\n",
       "        if (!display || display === 'none') {{\n",
       "            console.log([gd, 'removed!']);\n",
       "            Plotly.purge(gd);\n",
       "            observer.disconnect();\n",
       "        }}\n",
       "}});\n",
       "\n",
       "// Listen for the removal of the full notebook cells\n",
       "var notebookContainer = gd.closest('#notebook-container');\n",
       "if (notebookContainer) {{\n",
       "    x.observe(notebookContainer, {childList: true});\n",
       "}}\n",
       "\n",
       "// Listen for the clearing of the current output cell\n",
       "var outputEl = gd.closest('.output');\n",
       "if (outputEl) {{\n",
       "    x.observe(outputEl, {childList: true});\n",
       "}}\n",
       "\n",
       "                        })                };                });            </script>        </div>"
      ]
     },
     "metadata": {},
     "output_type": "display_data"
    }
   ],
   "source": [
    "go.Figure(data=[go.Table(\n",
    "    header=dict(values=list(quant.columns),\n",
    "                fill_color='paleturquoise',\n",
    "                align='left'),\n",
    "    cells=dict(values=[quant['bioma'],quant[0]],\n",
    "               fill_color='lavender',\n",
    "               align='left'))\n",
    "])"
   ]
  },
  {
   "cell_type": "markdown",
   "metadata": {},
   "source": [
    "## Municipios mais prejudicados"
   ]
  },
  {
   "cell_type": "code",
   "execution_count": 27,
   "metadata": {},
   "outputs": [
    {
     "data": {
      "text/html": [
       "<div>\n",
       "<style scoped>\n",
       "    .dataframe tbody tr th:only-of-type {\n",
       "        vertical-align: middle;\n",
       "    }\n",
       "\n",
       "    .dataframe tbody tr th {\n",
       "        vertical-align: top;\n",
       "    }\n",
       "\n",
       "    .dataframe thead th {\n",
       "        text-align: right;\n",
       "    }\n",
       "</style>\n",
       "<table border=\"1\" class=\"dataframe\">\n",
       "  <thead>\n",
       "    <tr style=\"text-align: right;\">\n",
       "      <th></th>\n",
       "      <th>0</th>\n",
       "    </tr>\n",
       "    <tr>\n",
       "      <th>municipio</th>\n",
       "      <th></th>\n",
       "    </tr>\n",
       "  </thead>\n",
       "  <tbody>\n",
       "    <tr>\n",
       "      <th>CORUMBA</th>\n",
       "      <td>709085</td>\n",
       "    </tr>\n",
       "    <tr>\n",
       "      <th>ALTAMIRA</th>\n",
       "      <td>566607</td>\n",
       "    </tr>\n",
       "    <tr>\n",
       "      <th>SAO FELIX DO XINGU</th>\n",
       "      <td>490127</td>\n",
       "    </tr>\n",
       "    <tr>\n",
       "      <th>PORTO VELHO</th>\n",
       "      <td>463526</td>\n",
       "    </tr>\n",
       "    <tr>\n",
       "      <th>LABREA</th>\n",
       "      <td>354481</td>\n",
       "    </tr>\n",
       "    <tr>\n",
       "      <th>...</th>\n",
       "      <td>...</td>\n",
       "    </tr>\n",
       "    <tr>\n",
       "      <th>Entre Rios</th>\n",
       "      <td>1</td>\n",
       "    </tr>\n",
       "    <tr>\n",
       "      <th>Itambe</th>\n",
       "      <td>1</td>\n",
       "    </tr>\n",
       "    <tr>\n",
       "      <th>Itajai</th>\n",
       "      <td>1</td>\n",
       "    </tr>\n",
       "    <tr>\n",
       "      <th>Iracema</th>\n",
       "      <td>1</td>\n",
       "    </tr>\n",
       "    <tr>\n",
       "      <th>Serrano Do Maranhao</th>\n",
       "      <td>1</td>\n",
       "    </tr>\n",
       "  </tbody>\n",
       "</table>\n",
       "<p>5559 rows × 1 columns</p>\n",
       "</div>"
      ],
      "text/plain": [
       "                          0\n",
       "municipio                  \n",
       "CORUMBA              709085\n",
       "ALTAMIRA             566607\n",
       "SAO FELIX DO XINGU   490127\n",
       "PORTO VELHO          463526\n",
       "LABREA               354481\n",
       "...                     ...\n",
       "Entre Rios                1\n",
       "Itambe                    1\n",
       "Itajai                    1\n",
       "Iracema                   1\n",
       "Serrano Do Maranhao       1\n",
       "\n",
       "[5559 rows x 1 columns]"
      ]
     },
     "execution_count": 27,
     "metadata": {},
     "output_type": "execute_result"
    }
   ],
   "source": [
    "municipios = pd.DataFrame( df.groupby(\"municipio\").size().sort_values(ascending=False))\n",
    "municipios"
   ]
  },
  {
   "cell_type": "markdown",
   "metadata": {},
   "source": [
    "## Qual é o ranking dos estados mais prejudicados por ano?"
   ]
  },
  {
   "cell_type": "code",
   "execution_count": 29,
   "metadata": {},
   "outputs": [
    {
     "data": {
      "text/html": [
       "<div>\n",
       "<style scoped>\n",
       "    .dataframe tbody tr th:only-of-type {\n",
       "        vertical-align: middle;\n",
       "    }\n",
       "\n",
       "    .dataframe tbody tr th {\n",
       "        vertical-align: top;\n",
       "    }\n",
       "\n",
       "    .dataframe thead th {\n",
       "        text-align: right;\n",
       "    }\n",
       "</style>\n",
       "<table border=\"1\" class=\"dataframe\">\n",
       "  <thead>\n",
       "    <tr style=\"text-align: right;\">\n",
       "      <th></th>\n",
       "      <th>datahora</th>\n",
       "      <th>estado</th>\n",
       "      <th>bioma</th>\n",
       "      <th>0</th>\n",
       "    </tr>\n",
       "  </thead>\n",
       "  <tbody>\n",
       "    <tr>\n",
       "      <th>578</th>\n",
       "      <td>2022</td>\n",
       "      <td>PARA</td>\n",
       "      <td>Amazonia</td>\n",
       "      <td>40158</td>\n",
       "    </tr>\n",
       "    <tr>\n",
       "      <th>557</th>\n",
       "      <td>2022</td>\n",
       "      <td>AMAZONAS</td>\n",
       "      <td>Amazonia</td>\n",
       "      <td>21070</td>\n",
       "    </tr>\n",
       "    <tr>\n",
       "      <th>569</th>\n",
       "      <td>2022</td>\n",
       "      <td>MATO GROSSO</td>\n",
       "      <td>Amazonia</td>\n",
       "      <td>20904</td>\n",
       "    </tr>\n",
       "    <tr>\n",
       "      <th>566</th>\n",
       "      <td>2022</td>\n",
       "      <td>MARANHAO</td>\n",
       "      <td>Cerrado</td>\n",
       "      <td>14898</td>\n",
       "    </tr>\n",
       "    <tr>\n",
       "      <th>592</th>\n",
       "      <td>2022</td>\n",
       "      <td>RONDONIA</td>\n",
       "      <td>Amazonia</td>\n",
       "      <td>12386</td>\n",
       "    </tr>\n",
       "    <tr>\n",
       "      <th>...</th>\n",
       "      <td>...</td>\n",
       "      <td>...</td>\n",
       "      <td>...</td>\n",
       "      <td>...</td>\n",
       "    </tr>\n",
       "    <tr>\n",
       "      <th>15</th>\n",
       "      <td>2011</td>\n",
       "      <td>MARANHAO</td>\n",
       "      <td>Caatinga</td>\n",
       "      <td>363</td>\n",
       "    </tr>\n",
       "    <tr>\n",
       "      <th>46</th>\n",
       "      <td>2011</td>\n",
       "      <td>SERGIPE</td>\n",
       "      <td>Caatinga</td>\n",
       "      <td>295</td>\n",
       "    </tr>\n",
       "    <tr>\n",
       "      <th>36</th>\n",
       "      <td>2011</td>\n",
       "      <td>RIO GRANDE DO NORTE</td>\n",
       "      <td>Mata Atlantica</td>\n",
       "      <td>265</td>\n",
       "    </tr>\n",
       "    <tr>\n",
       "      <th>29</th>\n",
       "      <td>2011</td>\n",
       "      <td>PARANA</td>\n",
       "      <td>Cerrado</td>\n",
       "      <td>66</td>\n",
       "    </tr>\n",
       "    <tr>\n",
       "      <th>40</th>\n",
       "      <td>2011</td>\n",
       "      <td>RONDONIA</td>\n",
       "      <td>Cerrado</td>\n",
       "      <td>8</td>\n",
       "    </tr>\n",
       "  </tbody>\n",
       "</table>\n",
       "<p>602 rows × 4 columns</p>\n",
       "</div>"
      ],
      "text/plain": [
       "     datahora               estado           bioma      0\n",
       "578      2022                 PARA        Amazonia  40158\n",
       "557      2022             AMAZONAS        Amazonia  21070\n",
       "569      2022          MATO GROSSO        Amazonia  20904\n",
       "566      2022             MARANHAO         Cerrado  14898\n",
       "592      2022             RONDONIA        Amazonia  12386\n",
       "..        ...                  ...             ...    ...\n",
       "15       2011             MARANHAO        Caatinga    363\n",
       "46       2011              SERGIPE        Caatinga    295\n",
       "36       2011  RIO GRANDE DO NORTE  Mata Atlantica    265\n",
       "29       2011               PARANA         Cerrado     66\n",
       "40       2011             RONDONIA         Cerrado      8\n",
       "\n",
       "[602 rows x 4 columns]"
      ]
     },
     "execution_count": 29,
     "metadata": {},
     "output_type": "execute_result"
    }
   ],
   "source": [
    "ranking =pd.DataFrame(df.groupby([df['datahora'].dt.year,'estado'])[['bioma']].value_counts())\n",
    "ranking.reset_index(inplace=True)\n",
    "ranking.sort_values(by=['datahora', 0], ascending=False, inplace = True)\n",
    "ranking"
   ]
  },
  {
   "cell_type": "code",
   "execution_count": 30,
   "metadata": {},
   "outputs": [
    {
     "data": {
      "application/vnd.plotly.v1+json": {
       "config": {
        "plotlyServerURL": "https://plot.ly"
       },
       "data": [
        {
         "cells": {
          "align": "left",
          "fill": {
           "color": "lavender"
          },
          "values": [
           [
            2022,
            2022,
            2022,
            2022,
            2022,
            2022,
            2022,
            2022,
            2022,
            2022,
            2022,
            2022,
            2022,
            2022,
            2022,
            2022,
            2022,
            2022,
            2022,
            2022,
            2022,
            2022,
            2022,
            2022,
            2022,
            2022,
            2022,
            2022,
            2022,
            2022,
            2022,
            2022,
            2022,
            2022,
            2022,
            2022,
            2022,
            2022,
            2022,
            2022,
            2022,
            2022,
            2022,
            2022,
            2022,
            2022,
            2022,
            2022,
            2022,
            2021,
            2021,
            2021,
            2021,
            2021,
            2021,
            2021,
            2021,
            2021,
            2021,
            2021,
            2021,
            2021,
            2021,
            2021,
            2021,
            2021,
            2021,
            2021,
            2021,
            2021,
            2021,
            2021,
            2021,
            2021,
            2021,
            2021,
            2021,
            2021,
            2021,
            2021,
            2021,
            2021,
            2021,
            2021,
            2021,
            2021,
            2021,
            2021,
            2021,
            2021,
            2021,
            2021,
            2021,
            2021,
            2021,
            2021,
            2021,
            2021,
            2021,
            2020,
            2020,
            2020,
            2020,
            2020,
            2020,
            2020,
            2020,
            2020,
            2020,
            2020,
            2020,
            2020,
            2020,
            2020,
            2020,
            2020,
            2020,
            2020,
            2020,
            2020,
            2020,
            2020,
            2020,
            2020,
            2020,
            2020,
            2020,
            2020,
            2020,
            2020,
            2020,
            2020,
            2020,
            2020,
            2020,
            2020,
            2020,
            2020,
            2020,
            2020,
            2020,
            2020,
            2020,
            2020,
            2020,
            2020,
            2020,
            2020,
            2020,
            2020,
            2019,
            2019,
            2019,
            2019,
            2019,
            2019,
            2019,
            2019,
            2019,
            2019,
            2019,
            2019,
            2019,
            2019,
            2019,
            2019,
            2019,
            2019,
            2019,
            2019,
            2019,
            2019,
            2019,
            2019,
            2019,
            2019,
            2019,
            2019,
            2019,
            2019,
            2019,
            2019,
            2019,
            2019,
            2019,
            2019,
            2019,
            2019,
            2019,
            2019,
            2019,
            2019,
            2019,
            2019,
            2019,
            2019,
            2019,
            2019,
            2019,
            2019,
            2019,
            2018,
            2018,
            2018,
            2018,
            2018,
            2018,
            2018,
            2018,
            2018,
            2018,
            2018,
            2018,
            2018,
            2018,
            2018,
            2018,
            2018,
            2018,
            2018,
            2018,
            2018,
            2018,
            2018,
            2018,
            2018,
            2018,
            2018,
            2018,
            2018,
            2018,
            2018,
            2018,
            2018,
            2018,
            2018,
            2018,
            2018,
            2018,
            2018,
            2018,
            2018,
            2018,
            2018,
            2018,
            2018,
            2018,
            2018,
            2018,
            2018,
            2018,
            2018,
            2017,
            2017,
            2017,
            2017,
            2017,
            2017,
            2017,
            2017,
            2017,
            2017,
            2017,
            2017,
            2017,
            2017,
            2017,
            2017,
            2017,
            2017,
            2017,
            2017,
            2017,
            2017,
            2017,
            2017,
            2017,
            2017,
            2017,
            2017,
            2017,
            2017,
            2017,
            2017,
            2017,
            2017,
            2017,
            2017,
            2017,
            2017,
            2017,
            2017,
            2017,
            2017,
            2017,
            2017,
            2017,
            2017,
            2017,
            2017,
            2017,
            2017,
            2016,
            2016,
            2016,
            2016,
            2016,
            2016,
            2016,
            2016,
            2016,
            2016,
            2016,
            2016,
            2016,
            2016,
            2016,
            2016,
            2016,
            2016,
            2016,
            2016,
            2016,
            2016,
            2016,
            2016,
            2016,
            2016,
            2016,
            2016,
            2016,
            2016,
            2016,
            2016,
            2016,
            2016,
            2016,
            2016,
            2016,
            2016,
            2016,
            2016,
            2016,
            2016,
            2016,
            2016,
            2016,
            2016,
            2016,
            2016,
            2016,
            2016,
            2016,
            2015,
            2015,
            2015,
            2015,
            2015,
            2015,
            2015,
            2015,
            2015,
            2015,
            2015,
            2015,
            2015,
            2015,
            2015,
            2015,
            2015,
            2015,
            2015,
            2015,
            2015,
            2015,
            2015,
            2015,
            2015,
            2015,
            2015,
            2015,
            2015,
            2015,
            2015,
            2015,
            2015,
            2015,
            2015,
            2015,
            2015,
            2015,
            2015,
            2015,
            2015,
            2015,
            2015,
            2015,
            2015,
            2015,
            2015,
            2015,
            2015,
            2015,
            2014,
            2014,
            2014,
            2014,
            2014,
            2014,
            2014,
            2014,
            2014,
            2014,
            2014,
            2014,
            2014,
            2014,
            2014,
            2014,
            2014,
            2014,
            2014,
            2014,
            2014,
            2014,
            2014,
            2014,
            2014,
            2014,
            2014,
            2014,
            2014,
            2014,
            2014,
            2014,
            2014,
            2014,
            2014,
            2014,
            2014,
            2014,
            2014,
            2014,
            2014,
            2014,
            2014,
            2014,
            2014,
            2014,
            2014,
            2014,
            2014,
            2013,
            2013,
            2013,
            2013,
            2013,
            2013,
            2013,
            2013,
            2013,
            2013,
            2013,
            2013,
            2013,
            2013,
            2013,
            2013,
            2013,
            2013,
            2013,
            2013,
            2013,
            2013,
            2013,
            2013,
            2013,
            2013,
            2013,
            2013,
            2013,
            2013,
            2013,
            2013,
            2013,
            2013,
            2013,
            2013,
            2013,
            2013,
            2013,
            2013,
            2013,
            2013,
            2013,
            2013,
            2013,
            2013,
            2013,
            2013,
            2013,
            2013,
            2013,
            2012,
            2012,
            2012,
            2012,
            2012,
            2012,
            2012,
            2012,
            2012,
            2012,
            2012,
            2012,
            2012,
            2012,
            2012,
            2012,
            2012,
            2012,
            2012,
            2012,
            2012,
            2012,
            2012,
            2012,
            2012,
            2012,
            2012,
            2012,
            2012,
            2012,
            2012,
            2012,
            2012,
            2012,
            2012,
            2012,
            2012,
            2012,
            2012,
            2012,
            2012,
            2012,
            2012,
            2012,
            2012,
            2012,
            2012,
            2012,
            2012,
            2012,
            2011,
            2011,
            2011,
            2011,
            2011,
            2011,
            2011,
            2011,
            2011,
            2011,
            2011,
            2011,
            2011,
            2011,
            2011,
            2011,
            2011,
            2011,
            2011,
            2011,
            2011,
            2011,
            2011,
            2011,
            2011,
            2011,
            2011,
            2011,
            2011,
            2011,
            2011,
            2011,
            2011,
            2011,
            2011,
            2011,
            2011,
            2011,
            2011,
            2011,
            2011,
            2011,
            2011,
            2011,
            2011,
            2011,
            2011,
            2011,
            2011
           ],
           [
            "PARA",
            "AMAZONAS",
            "MATO GROSSO",
            "MARANHAO",
            "RONDONIA",
            "ACRE",
            "TOCANTINS",
            "MATO GROSSO",
            "PIAUI",
            "BAHIA",
            "PIAUI",
            "GOIAS",
            "MINAS GERAIS",
            "MARANHAO",
            "BAHIA",
            "CEARA",
            "MINAS GERAIS",
            "PARANA",
            "SANTA CATARINA",
            "MATO GROSSO DO SUL",
            "RORAIMA",
            "AMAPA",
            "SAO PAULO",
            "BAHIA",
            "PERNAMBUCO",
            "MATO GROSSO DO SUL",
            "RIO GRANDE DO SUL",
            "RIO DE JANEIRO",
            "RIO GRANDE DO SUL",
            "SAO PAULO",
            "PARAIBA",
            "ESPIRITO SANTO",
            "TOCANTINS",
            "MATO GROSSO",
            "RIO GRANDE DO NORTE",
            "MARANHAO",
            "MINAS GERAIS",
            "DISTRITO FEDERAL",
            "MATO GROSSO DO SUL",
            "ALAGOAS",
            "PERNAMBUCO",
            "GOIAS",
            "PARAIBA",
            "SERGIPE",
            "SERGIPE",
            "ALAGOAS",
            "PARANA",
            "RIO GRANDE DO NORTE",
            "RONDONIA",
            "PARA",
            "MATO GROSSO",
            "AMAZONAS",
            "RONDONIA",
            "MARANHAO",
            "TOCANTINS",
            "BAHIA",
            "MATO GROSSO",
            "MATO GROSSO DO SUL",
            "GOIAS",
            "PIAUI",
            "PIAUI",
            "MINAS GERAIS",
            "ACRE",
            "MATO GROSSO",
            "MINAS GERAIS",
            "CEARA",
            "BAHIA",
            "MATO GROSSO DO SUL",
            "MARANHAO",
            "SAO PAULO",
            "SAO PAULO",
            "PARANA",
            "BAHIA",
            "PERNAMBUCO",
            "SANTA CATARINA",
            "RORAIMA",
            "PARAIBA",
            "RIO GRANDE DO SUL",
            "RIO GRANDE DO SUL",
            "MATO GROSSO DO SUL",
            "RIO GRANDE DO NORTE",
            "AMAPA",
            "ESPIRITO SANTO",
            "RIO DE JANEIRO",
            "MINAS GERAIS",
            "TOCANTINS",
            "ALAGOAS",
            "DISTRITO FEDERAL",
            "PERNAMBUCO",
            "GOIAS",
            "MARANHAO",
            "SERGIPE",
            "PARAIBA",
            "ALAGOAS",
            "SERGIPE",
            "RIO GRANDE DO NORTE",
            "PARANA",
            "RONDONIA",
            "SANTA CATARINA",
            "PARA",
            "MATO GROSSO",
            "MATO GROSSO",
            "MATO GROSSO",
            "MARANHAO",
            "TOCANTINS",
            "AMAZONAS",
            "RONDONIA",
            "MATO GROSSO DO SUL",
            "GOIAS",
            "PIAUI",
            "MINAS GERAIS",
            "BAHIA",
            "PIAUI",
            "MARANHAO",
            "ACRE",
            "CEARA",
            "MATO GROSSO DO SUL",
            "SAO PAULO",
            "SAO PAULO",
            "BAHIA",
            "MINAS GERAIS",
            "RORAIMA",
            "PARANA",
            "SANTA CATARINA",
            "RIO GRANDE DO SUL",
            "RIO GRANDE DO SUL",
            "PARAIBA",
            "BAHIA",
            "PERNAMBUCO",
            "TOCANTINS",
            "RIO GRANDE DO NORTE",
            "MATO GROSSO DO SUL",
            "RIO DE JANEIRO",
            "AMAPA",
            "ALAGOAS",
            "ESPIRITO SANTO",
            "PERNAMBUCO",
            "GOIAS",
            "MARANHAO",
            "DISTRITO FEDERAL",
            "MINAS GERAIS",
            "PARAIBA",
            "SERGIPE",
            "ALAGOAS",
            "RIO GRANDE DO NORTE",
            "PARANA",
            "SERGIPE",
            "RONDONIA",
            "SANTA CATARINA",
            "PARA",
            "PARA",
            "MATO GROSSO",
            "TOCANTINS",
            "MARANHAO",
            "MATO GROSSO",
            "RONDONIA",
            "AMAZONAS",
            "MATO GROSSO DO SUL",
            "GOIAS",
            "RORAIMA",
            "PIAUI",
            "PIAUI",
            "MINAS GERAIS",
            "MARANHAO",
            "MINAS GERAIS",
            "BAHIA",
            "CEARA",
            "ACRE",
            "MATO GROSSO DO SUL",
            "PARANA",
            "BAHIA",
            "MATO GROSSO",
            "BAHIA",
            "SAO PAULO",
            "SAO PAULO",
            "PARAIBA",
            "SANTA CATARINA",
            "RIO GRANDE DO SUL",
            "AMAPA",
            "RIO GRANDE DO SUL",
            "MATO GROSSO DO SUL",
            "PERNAMBUCO",
            "RIO DE JANEIRO",
            "RIO GRANDE DO NORTE",
            "ESPIRITO SANTO",
            "ALAGOAS",
            "TOCANTINS",
            "GOIAS",
            "PERNAMBUCO",
            "MARANHAO",
            "DISTRITO FEDERAL",
            "MINAS GERAIS",
            "PARAIBA",
            "SERGIPE",
            "RIO GRANDE DO NORTE",
            "ALAGOAS",
            "SERGIPE",
            "PARANA",
            "RONDONIA",
            "PARA",
            "SANTA CATARINA",
            "PARA",
            "MATO GROSSO",
            "MARANHAO",
            "RONDONIA",
            "TOCANTINS",
            "AMAZONAS",
            "MATO GROSSO",
            "PIAUI",
            "RORAIMA",
            "PIAUI",
            "GOIAS",
            "MARANHAO",
            "ACRE",
            "BAHIA",
            "MINAS GERAIS",
            "CEARA",
            "BAHIA",
            "PARANA",
            "SAO PAULO",
            "MINAS GERAIS",
            "MATO GROSSO DO SUL",
            "SAO PAULO",
            "MATO GROSSO DO SUL",
            "AMAPA",
            "BAHIA",
            "SANTA CATARINA",
            "MATO GROSSO",
            "PARAIBA",
            "RIO GRANDE DO SUL",
            "RIO GRANDE DO SUL",
            "PERNAMBUCO",
            "TOCANTINS",
            "ALAGOAS",
            "RIO GRANDE DO NORTE",
            "MATO GROSSO DO SUL",
            "PERNAMBUCO",
            "RIO DE JANEIRO",
            "PARAIBA",
            "ESPIRITO SANTO",
            "MARANHAO",
            "GOIAS",
            "SERGIPE",
            "MINAS GERAIS",
            "ALAGOAS",
            "RIO GRANDE DO NORTE",
            "DISTRITO FEDERAL",
            "SERGIPE",
            "PARANA",
            "RONDONIA",
            "PARA",
            "SANTA CATARINA",
            "PARA",
            "MATO GROSSO",
            "MARANHAO",
            "TOCANTINS",
            "MATO GROSSO",
            "RONDONIA",
            "GOIAS",
            "AMAZONAS",
            "MARANHAO",
            "PIAUI",
            "MINAS GERAIS",
            "BAHIA",
            "MATO GROSSO DO SUL",
            "PIAUI",
            "MINAS GERAIS",
            "ACRE",
            "CEARA",
            "PARANA",
            "BAHIA",
            "MATO GROSSO",
            "SAO PAULO",
            "SAO PAULO",
            "MATO GROSSO DO SUL",
            "RORAIMA",
            "TOCANTINS",
            "AMAPA",
            "SANTA CATARINA",
            "RIO DE JANEIRO",
            "RIO GRANDE DO SUL",
            "BAHIA",
            "RIO GRANDE DO SUL",
            "MATO GROSSO DO SUL",
            "PERNAMBUCO",
            "PARAIBA",
            "ALAGOAS",
            "RIO GRANDE DO NORTE",
            "MARANHAO",
            "DISTRITO FEDERAL",
            "GOIAS",
            "ESPIRITO SANTO",
            "PERNAMBUCO",
            "SERGIPE",
            "PARAIBA",
            "MINAS GERAIS",
            "ALAGOAS",
            "RIO GRANDE DO NORTE",
            "SERGIPE",
            "PARANA",
            "RONDONIA",
            "PARA",
            "PARA",
            "TOCANTINS",
            "MATO GROSSO",
            "MARANHAO",
            "MATO GROSSO",
            "RONDONIA",
            "AMAZONAS",
            "GOIAS",
            "RORAIMA",
            "MARANHAO",
            "PIAUI",
            "MATO GROSSO DO SUL",
            "MINAS GERAIS",
            "ACRE",
            "PIAUI",
            "CEARA",
            "BAHIA",
            "PARANA",
            "MINAS GERAIS",
            "BAHIA",
            "AMAPA",
            "SAO PAULO",
            "MATO GROSSO DO SUL",
            "BAHIA",
            "SANTA CATARINA",
            "RIO GRANDE DO SUL",
            "SAO PAULO",
            "RIO GRANDE DO SUL",
            "MATO GROSSO",
            "ESPIRITO SANTO",
            "PERNAMBUCO",
            "PARAIBA",
            "ALAGOAS",
            "RIO DE JANEIRO",
            "TOCANTINS",
            "PERNAMBUCO",
            "RIO GRANDE DO NORTE",
            "MATO GROSSO DO SUL",
            "MARANHAO",
            "GOIAS",
            "DISTRITO FEDERAL",
            "PARAIBA",
            "SERGIPE",
            "ALAGOAS",
            "MINAS GERAIS",
            "RIO GRANDE DO NORTE",
            "SERGIPE",
            "PARANA",
            "RONDONIA",
            "SANTA CATARINA",
            "PARA",
            "PARA",
            "MARANHAO",
            "TOCANTINS",
            "MATO GROSSO",
            "MARANHAO",
            "RONDONIA",
            "PIAUI",
            "MATO GROSSO",
            "BAHIA",
            "AMAZONAS",
            "GOIAS",
            "PIAUI",
            "MINAS GERAIS",
            "MINAS GERAIS",
            "BAHIA",
            "RORAIMA",
            "ACRE",
            "MATO GROSSO DO SUL",
            "CEARA",
            "BAHIA",
            "AMAPA",
            "MATO GROSSO",
            "MATO GROSSO DO SUL",
            "PARANA",
            "SAO PAULO",
            "ESPIRITO SANTO",
            "SAO PAULO",
            "TOCANTINS",
            "ALAGOAS",
            "PERNAMBUCO",
            "RIO DE JANEIRO",
            "SANTA CATARINA",
            "RIO GRANDE DO SUL",
            "PERNAMBUCO",
            "PARAIBA",
            "RIO GRANDE DO SUL",
            "RIO GRANDE DO NORTE",
            "MARANHAO",
            "MATO GROSSO DO SUL",
            "MINAS GERAIS",
            "SERGIPE",
            "DISTRITO FEDERAL",
            "PARAIBA",
            "GOIAS",
            "ALAGOAS",
            "SERGIPE",
            "RIO GRANDE DO NORTE",
            "PARANA",
            "RONDONIA",
            "SANTA CATARINA",
            "PARA",
            "MATO GROSSO",
            "TOCANTINS",
            "MARANHAO",
            "MATO GROSSO",
            "GOIAS",
            "PIAUI",
            "MINAS GERAIS",
            "RONDONIA",
            "AMAZONAS",
            "BAHIA",
            "MARANHAO",
            "MINAS GERAIS",
            "PIAUI",
            "RORAIMA",
            "SAO PAULO",
            "SAO PAULO",
            "CEARA",
            "ACRE",
            "BAHIA",
            "PARANA",
            "AMAPA",
            "RIO DE JANEIRO",
            "BAHIA",
            "MATO GROSSO DO SUL",
            "MATO GROSSO DO SUL",
            "RIO GRANDE DO SUL",
            "SANTA CATARINA",
            "TOCANTINS",
            "PERNAMBUCO",
            "RIO GRANDE DO SUL",
            "MATO GROSSO",
            "ESPIRITO SANTO",
            "PARAIBA",
            "RIO GRANDE DO NORTE",
            "MATO GROSSO DO SUL",
            "MINAS GERAIS",
            "DISTRITO FEDERAL",
            "ALAGOAS",
            "MARANHAO",
            "PERNAMBUCO",
            "GOIAS",
            "ALAGOAS",
            "PARAIBA",
            "SERGIPE",
            "SERGIPE",
            "RIO GRANDE DO NORTE",
            "PARANA",
            "RONDONIA",
            "PARA",
            "MARANHAO",
            "MATO GROSSO",
            "TOCANTINS",
            "MATO GROSSO",
            "PIAUI",
            "BAHIA",
            "AMAZONAS",
            "GOIAS",
            "MARANHAO",
            "RONDONIA",
            "MINAS GERAIS",
            "BAHIA",
            "PIAUI",
            "ACRE",
            "CEARA",
            "MATO GROSSO DO SUL",
            "SAO PAULO",
            "PARANA",
            "MATO GROSSO",
            "MINAS GERAIS",
            "RORAIMA",
            "SAO PAULO",
            "BAHIA",
            "MATO GROSSO DO SUL",
            "AMAPA",
            "SANTA CATARINA",
            "PERNAMBUCO",
            "RIO GRANDE DO SUL",
            "ALAGOAS",
            "RIO GRANDE DO SUL",
            "RIO GRANDE DO NORTE",
            "PARAIBA",
            "TOCANTINS",
            "MATO GROSSO DO SUL",
            "RIO DE JANEIRO",
            "ESPIRITO SANTO",
            "MINAS GERAIS",
            "GOIAS",
            "PERNAMBUCO",
            "SERGIPE",
            "ALAGOAS",
            "DISTRITO FEDERAL",
            "MARANHAO",
            "PARAIBA",
            "SERGIPE",
            "RIO GRANDE DO NORTE",
            "PARANA",
            "RONDONIA",
            "SANTA CATARINA",
            "PARA",
            "PARA",
            "MARANHAO",
            "TOCANTINS",
            "MATO GROSSO",
            "BAHIA",
            "MATO GROSSO",
            "PIAUI",
            "GOIAS",
            "RONDONIA",
            "MARANHAO",
            "AMAZONAS",
            "MINAS GERAIS",
            "MATO GROSSO DO SUL",
            "PIAUI",
            "BAHIA",
            "CEARA",
            "MINAS GERAIS",
            "AMAPA",
            "SAO PAULO",
            "ACRE",
            "SAO PAULO",
            "PARANA",
            "BAHIA",
            "MATO GROSSO",
            "RORAIMA",
            "MATO GROSSO DO SUL",
            "SANTA CATARINA",
            "PERNAMBUCO",
            "RIO GRANDE DO SUL",
            "RIO GRANDE DO SUL",
            "ALAGOAS",
            "MATO GROSSO DO SUL",
            "PARAIBA",
            "MINAS GERAIS",
            "TOCANTINS",
            "RIO DE JANEIRO",
            "RIO GRANDE DO NORTE",
            "MARANHAO",
            "ESPIRITO SANTO",
            "PERNAMBUCO",
            "ALAGOAS",
            "SERGIPE",
            "DISTRITO FEDERAL",
            "GOIAS",
            "PARAIBA",
            "SERGIPE",
            "RIO GRANDE DO NORTE",
            "PARANA",
            "RONDONIA",
            "SANTA CATARINA",
            "PARA",
            "MARANHAO",
            "MATO GROSSO",
            "TOCANTINS",
            "BAHIA",
            "MATO GROSSO",
            "PIAUI",
            "MINAS GERAIS",
            "GOIAS",
            "RONDONIA",
            "SAO PAULO",
            "MINAS GERAIS",
            "SAO PAULO",
            "MARANHAO",
            "AMAZONAS",
            "PIAUI",
            "PARANA",
            "CEARA",
            "BAHIA",
            "MATO GROSSO",
            "MATO GROSSO DO SUL",
            "MATO GROSSO DO SUL",
            "ACRE",
            "PERNAMBUCO",
            "ALAGOAS",
            "BAHIA",
            "RORAIMA",
            "AMAPA",
            "MATO GROSSO DO SUL",
            "RIO DE JANEIRO",
            "SANTA CATARINA",
            "PARAIBA",
            "TOCANTINS",
            "RIO GRANDE DO SUL",
            "RIO GRANDE DO NORTE",
            "RIO GRANDE DO SUL",
            "ESPIRITO SANTO",
            "MINAS GERAIS",
            "PERNAMBUCO",
            "DISTRITO FEDERAL",
            "GOIAS",
            "PARAIBA",
            "ALAGOAS",
            "SERGIPE",
            "MARANHAO",
            "SERGIPE",
            "RIO GRANDE DO NORTE",
            "PARANA",
            "RONDONIA"
           ],
           [
            "Amazonia",
            "Amazonia",
            "Amazonia",
            "Cerrado",
            "Amazonia",
            "Amazonia",
            "Cerrado",
            "Cerrado",
            "Cerrado",
            "Cerrado",
            "Caatinga",
            "Cerrado",
            "Cerrado",
            "Amazonia",
            "Caatinga",
            "Caatinga",
            "Mata Atlantica",
            "Mata Atlantica",
            "Mata Atlantica",
            "Pantanal",
            "Amazonia",
            "Amazonia",
            "Mata Atlantica",
            "Mata Atlantica",
            "Caatinga",
            "Cerrado",
            "Mata Atlantica",
            "Mata Atlantica",
            "Pampa",
            "Cerrado",
            "Caatinga",
            "Mata Atlantica",
            "Amazonia",
            "Pantanal",
            "Caatinga",
            "Caatinga",
            "Caatinga",
            "Cerrado",
            "Mata Atlantica",
            "Mata Atlantica",
            "Mata Atlantica",
            "Mata Atlantica",
            "Mata Atlantica",
            "Caatinga",
            "Mata Atlantica",
            "Caatinga",
            "Cerrado",
            "Mata Atlantica",
            "Cerrado",
            "Amazonia",
            "Amazonia",
            "Amazonia",
            "Amazonia",
            "Cerrado",
            "Cerrado",
            "Cerrado",
            "Cerrado",
            "Pantanal",
            "Cerrado",
            "Caatinga",
            "Cerrado",
            "Cerrado",
            "Amazonia",
            "Pantanal",
            "Mata Atlantica",
            "Caatinga",
            "Caatinga",
            "Cerrado",
            "Amazonia",
            "Cerrado",
            "Mata Atlantica",
            "Mata Atlantica",
            "Mata Atlantica",
            "Caatinga",
            "Mata Atlantica",
            "Amazonia",
            "Caatinga",
            "Pampa",
            "Mata Atlantica",
            "Mata Atlantica",
            "Caatinga",
            "Amazonia",
            "Mata Atlantica",
            "Mata Atlantica",
            "Caatinga",
            "Amazonia",
            "Mata Atlantica",
            "Cerrado",
            "Mata Atlantica",
            "Mata Atlantica",
            "Caatinga",
            "Mata Atlantica",
            "Mata Atlantica",
            "Caatinga",
            "Caatinga",
            "Mata Atlantica",
            "Cerrado",
            "Cerrado",
            "Pampa",
            "Amazonia",
            "Amazonia",
            "Pantanal",
            "Cerrado",
            "Cerrado",
            "Cerrado",
            "Amazonia",
            "Amazonia",
            "Pantanal",
            "Cerrado",
            "Caatinga",
            "Cerrado",
            "Cerrado",
            "Cerrado",
            "Amazonia",
            "Amazonia",
            "Caatinga",
            "Cerrado",
            "Mata Atlantica",
            "Cerrado",
            "Caatinga",
            "Mata Atlantica",
            "Amazonia",
            "Mata Atlantica",
            "Mata Atlantica",
            "Pampa",
            "Mata Atlantica",
            "Caatinga",
            "Mata Atlantica",
            "Caatinga",
            "Amazonia",
            "Caatinga",
            "Mata Atlantica",
            "Mata Atlantica",
            "Amazonia",
            "Mata Atlantica",
            "Mata Atlantica",
            "Mata Atlantica",
            "Mata Atlantica",
            "Caatinga",
            "Cerrado",
            "Caatinga",
            "Mata Atlantica",
            "Mata Atlantica",
            "Caatinga",
            "Mata Atlantica",
            "Cerrado",
            "Caatinga",
            "Cerrado",
            "Pampa",
            "Cerrado",
            "Amazonia",
            "Amazonia",
            "Cerrado",
            "Cerrado",
            "Cerrado",
            "Amazonia",
            "Amazonia",
            "Pantanal",
            "Cerrado",
            "Amazonia",
            "Cerrado",
            "Caatinga",
            "Cerrado",
            "Amazonia",
            "Mata Atlantica",
            "Cerrado",
            "Caatinga",
            "Amazonia",
            "Cerrado",
            "Mata Atlantica",
            "Caatinga",
            "Pantanal",
            "Mata Atlantica",
            "Mata Atlantica",
            "Cerrado",
            "Caatinga",
            "Mata Atlantica",
            "Mata Atlantica",
            "Amazonia",
            "Pampa",
            "Mata Atlantica",
            "Caatinga",
            "Mata Atlantica",
            "Caatinga",
            "Mata Atlantica",
            "Mata Atlantica",
            "Amazonia",
            "Mata Atlantica",
            "Mata Atlantica",
            "Caatinga",
            "Cerrado",
            "Caatinga",
            "Mata Atlantica",
            "Mata Atlantica",
            "Mata Atlantica",
            "Caatinga",
            "Caatinga",
            "Cerrado",
            "Cerrado",
            "Cerrado",
            "Pampa",
            "Amazonia",
            "Amazonia",
            "Cerrado",
            "Amazonia",
            "Cerrado",
            "Amazonia",
            "Cerrado",
            "Cerrado",
            "Amazonia",
            "Caatinga",
            "Cerrado",
            "Amazonia",
            "Amazonia",
            "Cerrado",
            "Cerrado",
            "Caatinga",
            "Caatinga",
            "Mata Atlantica",
            "Mata Atlantica",
            "Mata Atlantica",
            "Cerrado",
            "Cerrado",
            "Pantanal",
            "Amazonia",
            "Mata Atlantica",
            "Mata Atlantica",
            "Pantanal",
            "Caatinga",
            "Mata Atlantica",
            "Pampa",
            "Caatinga",
            "Amazonia",
            "Mata Atlantica",
            "Caatinga",
            "Mata Atlantica",
            "Mata Atlantica",
            "Mata Atlantica",
            "Mata Atlantica",
            "Mata Atlantica",
            "Caatinga",
            "Mata Atlantica",
            "Mata Atlantica",
            "Caatinga",
            "Caatinga",
            "Mata Atlantica",
            "Cerrado",
            "Caatinga",
            "Cerrado",
            "Cerrado",
            "Cerrado",
            "Pampa",
            "Amazonia",
            "Amazonia",
            "Cerrado",
            "Cerrado",
            "Cerrado",
            "Amazonia",
            "Cerrado",
            "Amazonia",
            "Amazonia",
            "Cerrado",
            "Cerrado",
            "Cerrado",
            "Pantanal",
            "Caatinga",
            "Mata Atlantica",
            "Amazonia",
            "Caatinga",
            "Mata Atlantica",
            "Caatinga",
            "Pantanal",
            "Mata Atlantica",
            "Cerrado",
            "Cerrado",
            "Amazonia",
            "Amazonia",
            "Amazonia",
            "Mata Atlantica",
            "Mata Atlantica",
            "Mata Atlantica",
            "Mata Atlantica",
            "Pampa",
            "Mata Atlantica",
            "Caatinga",
            "Caatinga",
            "Mata Atlantica",
            "Caatinga",
            "Caatinga",
            "Cerrado",
            "Mata Atlantica",
            "Mata Atlantica",
            "Mata Atlantica",
            "Mata Atlantica",
            "Mata Atlantica",
            "Caatinga",
            "Caatinga",
            "Mata Atlantica",
            "Caatinga",
            "Cerrado",
            "Cerrado",
            "Cerrado",
            "Amazonia",
            "Cerrado",
            "Amazonia",
            "Cerrado",
            "Cerrado",
            "Amazonia",
            "Amazonia",
            "Cerrado",
            "Amazonia",
            "Amazonia",
            "Caatinga",
            "Pantanal",
            "Cerrado",
            "Amazonia",
            "Cerrado",
            "Caatinga",
            "Cerrado",
            "Mata Atlantica",
            "Mata Atlantica",
            "Caatinga",
            "Amazonia",
            "Mata Atlantica",
            "Cerrado",
            "Mata Atlantica",
            "Mata Atlantica",
            "Mata Atlantica",
            "Cerrado",
            "Pampa",
            "Pantanal",
            "Mata Atlantica",
            "Caatinga",
            "Caatinga",
            "Mata Atlantica",
            "Mata Atlantica",
            "Amazonia",
            "Mata Atlantica",
            "Caatinga",
            "Mata Atlantica",
            "Caatinga",
            "Mata Atlantica",
            "Cerrado",
            "Mata Atlantica",
            "Mata Atlantica",
            "Caatinga",
            "Caatinga",
            "Mata Atlantica",
            "Caatinga",
            "Cerrado",
            "Cerrado",
            "Pampa",
            "Cerrado",
            "Amazonia",
            "Cerrado",
            "Cerrado",
            "Amazonia",
            "Amazonia",
            "Amazonia",
            "Cerrado",
            "Cerrado",
            "Cerrado",
            "Amazonia",
            "Cerrado",
            "Caatinga",
            "Cerrado",
            "Mata Atlantica",
            "Caatinga",
            "Amazonia",
            "Amazonia",
            "Pantanal",
            "Caatinga",
            "Mata Atlantica",
            "Amazonia",
            "Pantanal",
            "Cerrado",
            "Mata Atlantica",
            "Mata Atlantica",
            "Mata Atlantica",
            "Cerrado",
            "Amazonia",
            "Mata Atlantica",
            "Caatinga",
            "Mata Atlantica",
            "Mata Atlantica",
            "Pampa",
            "Mata Atlantica",
            "Caatinga",
            "Mata Atlantica",
            "Caatinga",
            "Caatinga",
            "Mata Atlantica",
            "Caatinga",
            "Mata Atlantica",
            "Cerrado",
            "Mata Atlantica",
            "Mata Atlantica",
            "Caatinga",
            "Caatinga",
            "Mata Atlantica",
            "Cerrado",
            "Cerrado",
            "Pampa",
            "Amazonia",
            "Amazonia",
            "Cerrado",
            "Cerrado",
            "Cerrado",
            "Cerrado",
            "Cerrado",
            "Cerrado",
            "Amazonia",
            "Amazonia",
            "Cerrado",
            "Amazonia",
            "Mata Atlantica",
            "Caatinga",
            "Amazonia",
            "Mata Atlantica",
            "Cerrado",
            "Caatinga",
            "Amazonia",
            "Caatinga",
            "Mata Atlantica",
            "Amazonia",
            "Mata Atlantica",
            "Mata Atlantica",
            "Pantanal",
            "Cerrado",
            "Mata Atlantica",
            "Mata Atlantica",
            "Amazonia",
            "Caatinga",
            "Pampa",
            "Pantanal",
            "Mata Atlantica",
            "Caatinga",
            "Caatinga",
            "Mata Atlantica",
            "Caatinga",
            "Cerrado",
            "Mata Atlantica",
            "Caatinga",
            "Mata Atlantica",
            "Mata Atlantica",
            "Caatinga",
            "Mata Atlantica",
            "Mata Atlantica",
            "Caatinga",
            "Mata Atlantica",
            "Cerrado",
            "Cerrado",
            "Amazonia",
            "Cerrado",
            "Amazonia",
            "Cerrado",
            "Cerrado",
            "Cerrado",
            "Cerrado",
            "Amazonia",
            "Cerrado",
            "Amazonia",
            "Amazonia",
            "Cerrado",
            "Caatinga",
            "Caatinga",
            "Amazonia",
            "Caatinga",
            "Pantanal",
            "Mata Atlantica",
            "Mata Atlantica",
            "Pantanal",
            "Mata Atlantica",
            "Amazonia",
            "Cerrado",
            "Mata Atlantica",
            "Cerrado",
            "Amazonia",
            "Mata Atlantica",
            "Caatinga",
            "Pampa",
            "Mata Atlantica",
            "Mata Atlantica",
            "Caatinga",
            "Caatinga",
            "Amazonia",
            "Mata Atlantica",
            "Mata Atlantica",
            "Mata Atlantica",
            "Caatinga",
            "Mata Atlantica",
            "Mata Atlantica",
            "Mata Atlantica",
            "Caatinga",
            "Cerrado",
            "Caatinga",
            "Mata Atlantica",
            "Caatinga",
            "Mata Atlantica",
            "Cerrado",
            "Cerrado",
            "Pampa",
            "Cerrado",
            "Amazonia",
            "Cerrado",
            "Cerrado",
            "Amazonia",
            "Cerrado",
            "Cerrado",
            "Cerrado",
            "Cerrado",
            "Amazonia",
            "Amazonia",
            "Amazonia",
            "Cerrado",
            "Pantanal",
            "Caatinga",
            "Caatinga",
            "Caatinga",
            "Mata Atlantica",
            "Amazonia",
            "Mata Atlantica",
            "Amazonia",
            "Cerrado",
            "Mata Atlantica",
            "Mata Atlantica",
            "Pantanal",
            "Amazonia",
            "Cerrado",
            "Mata Atlantica",
            "Caatinga",
            "Mata Atlantica",
            "Pampa",
            "Mata Atlantica",
            "Mata Atlantica",
            "Caatinga",
            "Caatinga",
            "Amazonia",
            "Mata Atlantica",
            "Caatinga",
            "Caatinga",
            "Mata Atlantica",
            "Mata Atlantica",
            "Caatinga",
            "Mata Atlantica",
            "Cerrado",
            "Mata Atlantica",
            "Mata Atlantica",
            "Caatinga",
            "Mata Atlantica",
            "Cerrado",
            "Cerrado",
            "Pampa",
            "Amazonia",
            "Cerrado",
            "Amazonia",
            "Cerrado",
            "Cerrado",
            "Cerrado",
            "Cerrado",
            "Cerrado",
            "Cerrado",
            "Amazonia",
            "Mata Atlantica",
            "Mata Atlantica",
            "Cerrado",
            "Amazonia",
            "Amazonia",
            "Caatinga",
            "Mata Atlantica",
            "Caatinga",
            "Caatinga",
            "Pantanal",
            "Cerrado",
            "Pantanal",
            "Amazonia",
            "Caatinga",
            "Mata Atlantica",
            "Mata Atlantica",
            "Amazonia",
            "Amazonia",
            "Mata Atlantica",
            "Mata Atlantica",
            "Mata Atlantica",
            "Caatinga",
            "Amazonia",
            "Pampa",
            "Caatinga",
            "Mata Atlantica",
            "Mata Atlantica",
            "Caatinga",
            "Mata Atlantica",
            "Cerrado",
            "Mata Atlantica",
            "Mata Atlantica",
            "Caatinga",
            "Mata Atlantica",
            "Caatinga",
            "Caatinga",
            "Mata Atlantica",
            "Cerrado",
            "Cerrado"
           ],
           [
            40158,
            21070,
            20904,
            14898,
            12386,
            11837,
            11743,
            7422,
            5687,
            5405,
            4909,
            4701,
            4358,
            4053,
            3404,
            3134,
            3132,
            1695,
            1328,
            1112,
            1014,
            984,
            954,
            933,
            923,
            918,
            853,
            745,
            679,
            615,
            538,
            468,
            355,
            328,
            311,
            308,
            268,
            251,
            199,
            100,
            79,
            69,
            42,
            38,
            36,
            27,
            16,
            15,
            4,
            550797,
            388832,
            363232,
            298018,
            273757,
            242990,
            229508,
            198174,
            191190,
            174887,
            153437,
            152449,
            151581,
            111755,
            101771,
            85437,
            82478,
            82344,
            79722,
            68705,
            65305,
            59646,
            46078,
            29124,
            22532,
            22222,
            21937,
            20250,
            16398,
            14820,
            13175,
            12650,
            10580,
            9969,
            8943,
            7610,
            7465,
            5911,
            5535,
            4486,
            3556,
            3496,
            2657,
            2331,
            2210,
            1963,
            1338,
            1292,
            46,
            6,
            963316,
            596154,
            508632,
            373590,
            312345,
            304953,
            278338,
            258021,
            234345,
            135978,
            112679,
            111578,
            95919,
            94288,
            87743,
            85243,
            71081,
            63486,
            55792,
            54165,
            49156,
            48377,
            40837,
            40825,
            23860,
            20454,
            19024,
            18003,
            16292,
            15905,
            15874,
            11665,
            10683,
            9693,
            8937,
            6299,
            6076,
            5872,
            5155,
            3390,
            3258,
            3229,
            2300,
            1649,
            1350,
            1099,
            941,
            892,
            73,
            17,
            2,
            603601,
            404639,
            324457,
            268935,
            259064,
            245495,
            210888,
            187087,
            176983,
            163234,
            117146,
            116280,
            96728,
            91692,
            82225,
            79796,
            72016,
            67174,
            54658,
            44002,
            43640,
            43208,
            33910,
            31188,
            23780,
            20663,
            19875,
            18698,
            17823,
            16320,
            13000,
            12771,
            12089,
            11812,
            11059,
            7122,
            5647,
            5357,
            5323,
            5070,
            3761,
            3653,
            2337,
            2169,
            1276,
            1204,
            784,
            694,
            77,
            6,
            1,
            295829,
            191369,
            158319,
            141130,
            134503,
            128131,
            86682,
            73195,
            63554,
            60579,
            49424,
            42136,
            41077,
            39398,
            34383,
            31051,
            25824,
            22566,
            21623,
            21039,
            14639,
            13035,
            12622,
            11239,
            11077,
            9392,
            9296,
            7934,
            6549,
            6462,
            5807,
            4688,
            4337,
            4254,
            3862,
            3709,
            2712,
            2537,
            2362,
            2168,
            1722,
            1567,
            1432,
            1134,
            961,
            948,
            660,
            169,
            15,
            1,
            1,
            713984,
            284937,
            272918,
            256125,
            185232,
            138590,
            122457,
            114942,
            98870,
            63100,
            62587,
            52391,
            47322,
            43682,
            39163,
            35270,
            32574,
            31748,
            30094,
            28859,
            26350,
            22328,
            20292,
            17624,
            15116,
            14780,
            11449,
            9528,
            8267,
            8061,
            7777,
            7062,
            5449,
            4740,
            4129,
            3878,
            3672,
            3590,
            3358,
            3002,
            2897,
            1489,
            1222,
            1091,
            765,
            521,
            370,
            158,
            96,
            2,
            275266,
            194984,
            188078,
            176341,
            126733,
            125793,
            105078,
            74410,
            65607,
            60122,
            55778,
            49577,
            48222,
            45510,
            40496,
            35561,
            34280,
            28439,
            25248,
            24540,
            21602,
            21368,
            18568,
            14945,
            14151,
            13335,
            12623,
            9438,
            8674,
            8170,
            6819,
            6171,
            5985,
            5983,
            5294,
            5267,
            4334,
            4012,
            3901,
            2343,
            2269,
            1998,
            1607,
            915,
            848,
            841,
            802,
            195,
            93,
            5,
            2,
            539270,
            270578,
            212834,
            212686,
            160514,
            129645,
            122054,
            117789,
            117039,
            115440,
            83239,
            66189,
            55597,
            49854,
            47367,
            32524,
            31678,
            30951,
            28644,
            28377,
            27030,
            17250,
            16122,
            15857,
            12978,
            10710,
            9036,
            8497,
            6974,
            6591,
            6429,
            5771,
            5746,
            5053,
            4811,
            4489,
            4333,
            3461,
            2691,
            2328,
            2062,
            1832,
            1789,
            1690,
            1214,
            1145,
            659,
            79,
            66,
            1,
            318738,
            200890,
            188526,
            186092,
            109446,
            89240,
            74863,
            71246,
            63979,
            58873,
            58873,
            56510,
            48584,
            37995,
            26638,
            25773,
            24086,
            22822,
            22756,
            19973,
            18763,
            16440,
            13270,
            11404,
            9966,
            9939,
            8692,
            8046,
            5870,
            5467,
            5271,
            4849,
            4052,
            3863,
            3363,
            2937,
            2862,
            2859,
            2613,
            2340,
            1658,
            1442,
            920,
            811,
            692,
            558,
            296,
            190,
            59,
            177170,
            132882,
            130898,
            125203,
            73706,
            56114,
            43730,
            40269,
            39661,
            38458,
            38150,
            36833,
            29348,
            27881,
            26601,
            24288,
            23557,
            22414,
            21945,
            21644,
            20140,
            20104,
            18657,
            14853,
            14789,
            10397,
            9646,
            7179,
            6384,
            5674,
            5457,
            4076,
            3842,
            3697,
            3682,
            3680,
            3436,
            2683,
            1923,
            1889,
            1862,
            1615,
            1327,
            1287,
            1028,
            792,
            471,
            190,
            6,
            2,
            1,
            376382,
            299846,
            258420,
            216962,
            165894,
            139761,
            130416,
            99729,
            92117,
            88657,
            75584,
            74469,
            73462,
            64426,
            47455,
            37217,
            35315,
            27571,
            26227,
            25579,
            23536,
            23228,
            17563,
            16166,
            13073,
            11455,
            10531,
            9766,
            8978,
            7931,
            6935,
            5813,
            5764,
            5762,
            5381,
            5234,
            5144,
            4672,
            4601,
            3242,
            2155,
            2065,
            2000,
            1775,
            1766,
            1525,
            824,
            129,
            17,
            12,
            67192,
            41492,
            41173,
            38494,
            30186,
            26781,
            25216,
            23186,
            23167,
            20098,
            18089,
            14457,
            14450,
            12321,
            10551,
            10248,
            10239,
            10044,
            10007,
            9334,
            8124,
            8064,
            4345,
            3769,
            3691,
            3525,
            3327,
            2594,
            2489,
            2437,
            2223,
            1721,
            1546,
            1511,
            1393,
            1340,
            1251,
            948,
            946,
            813,
            693,
            596,
            590,
            475,
            363,
            295,
            265,
            66,
            8
           ]
          ]
         },
         "header": {
          "align": "left",
          "fill": {
           "color": "paleturquoise"
          },
          "values": [
           "datahora",
           "estado",
           "bioma",
           0
          ]
         },
         "type": "table"
        }
       ],
       "layout": {
        "template": {
         "data": {
          "bar": [
           {
            "error_x": {
             "color": "#2a3f5f"
            },
            "error_y": {
             "color": "#2a3f5f"
            },
            "marker": {
             "line": {
              "color": "#E5ECF6",
              "width": 0.5
             },
             "pattern": {
              "fillmode": "overlay",
              "size": 10,
              "solidity": 0.2
             }
            },
            "type": "bar"
           }
          ],
          "barpolar": [
           {
            "marker": {
             "line": {
              "color": "#E5ECF6",
              "width": 0.5
             },
             "pattern": {
              "fillmode": "overlay",
              "size": 10,
              "solidity": 0.2
             }
            },
            "type": "barpolar"
           }
          ],
          "carpet": [
           {
            "aaxis": {
             "endlinecolor": "#2a3f5f",
             "gridcolor": "white",
             "linecolor": "white",
             "minorgridcolor": "white",
             "startlinecolor": "#2a3f5f"
            },
            "baxis": {
             "endlinecolor": "#2a3f5f",
             "gridcolor": "white",
             "linecolor": "white",
             "minorgridcolor": "white",
             "startlinecolor": "#2a3f5f"
            },
            "type": "carpet"
           }
          ],
          "choropleth": [
           {
            "colorbar": {
             "outlinewidth": 0,
             "ticks": ""
            },
            "type": "choropleth"
           }
          ],
          "contour": [
           {
            "colorbar": {
             "outlinewidth": 0,
             "ticks": ""
            },
            "colorscale": [
             [
              0,
              "#0d0887"
             ],
             [
              0.1111111111111111,
              "#46039f"
             ],
             [
              0.2222222222222222,
              "#7201a8"
             ],
             [
              0.3333333333333333,
              "#9c179e"
             ],
             [
              0.4444444444444444,
              "#bd3786"
             ],
             [
              0.5555555555555556,
              "#d8576b"
             ],
             [
              0.6666666666666666,
              "#ed7953"
             ],
             [
              0.7777777777777778,
              "#fb9f3a"
             ],
             [
              0.8888888888888888,
              "#fdca26"
             ],
             [
              1,
              "#f0f921"
             ]
            ],
            "type": "contour"
           }
          ],
          "contourcarpet": [
           {
            "colorbar": {
             "outlinewidth": 0,
             "ticks": ""
            },
            "type": "contourcarpet"
           }
          ],
          "heatmap": [
           {
            "colorbar": {
             "outlinewidth": 0,
             "ticks": ""
            },
            "colorscale": [
             [
              0,
              "#0d0887"
             ],
             [
              0.1111111111111111,
              "#46039f"
             ],
             [
              0.2222222222222222,
              "#7201a8"
             ],
             [
              0.3333333333333333,
              "#9c179e"
             ],
             [
              0.4444444444444444,
              "#bd3786"
             ],
             [
              0.5555555555555556,
              "#d8576b"
             ],
             [
              0.6666666666666666,
              "#ed7953"
             ],
             [
              0.7777777777777778,
              "#fb9f3a"
             ],
             [
              0.8888888888888888,
              "#fdca26"
             ],
             [
              1,
              "#f0f921"
             ]
            ],
            "type": "heatmap"
           }
          ],
          "heatmapgl": [
           {
            "colorbar": {
             "outlinewidth": 0,
             "ticks": ""
            },
            "colorscale": [
             [
              0,
              "#0d0887"
             ],
             [
              0.1111111111111111,
              "#46039f"
             ],
             [
              0.2222222222222222,
              "#7201a8"
             ],
             [
              0.3333333333333333,
              "#9c179e"
             ],
             [
              0.4444444444444444,
              "#bd3786"
             ],
             [
              0.5555555555555556,
              "#d8576b"
             ],
             [
              0.6666666666666666,
              "#ed7953"
             ],
             [
              0.7777777777777778,
              "#fb9f3a"
             ],
             [
              0.8888888888888888,
              "#fdca26"
             ],
             [
              1,
              "#f0f921"
             ]
            ],
            "type": "heatmapgl"
           }
          ],
          "histogram": [
           {
            "marker": {
             "pattern": {
              "fillmode": "overlay",
              "size": 10,
              "solidity": 0.2
             }
            },
            "type": "histogram"
           }
          ],
          "histogram2d": [
           {
            "colorbar": {
             "outlinewidth": 0,
             "ticks": ""
            },
            "colorscale": [
             [
              0,
              "#0d0887"
             ],
             [
              0.1111111111111111,
              "#46039f"
             ],
             [
              0.2222222222222222,
              "#7201a8"
             ],
             [
              0.3333333333333333,
              "#9c179e"
             ],
             [
              0.4444444444444444,
              "#bd3786"
             ],
             [
              0.5555555555555556,
              "#d8576b"
             ],
             [
              0.6666666666666666,
              "#ed7953"
             ],
             [
              0.7777777777777778,
              "#fb9f3a"
             ],
             [
              0.8888888888888888,
              "#fdca26"
             ],
             [
              1,
              "#f0f921"
             ]
            ],
            "type": "histogram2d"
           }
          ],
          "histogram2dcontour": [
           {
            "colorbar": {
             "outlinewidth": 0,
             "ticks": ""
            },
            "colorscale": [
             [
              0,
              "#0d0887"
             ],
             [
              0.1111111111111111,
              "#46039f"
             ],
             [
              0.2222222222222222,
              "#7201a8"
             ],
             [
              0.3333333333333333,
              "#9c179e"
             ],
             [
              0.4444444444444444,
              "#bd3786"
             ],
             [
              0.5555555555555556,
              "#d8576b"
             ],
             [
              0.6666666666666666,
              "#ed7953"
             ],
             [
              0.7777777777777778,
              "#fb9f3a"
             ],
             [
              0.8888888888888888,
              "#fdca26"
             ],
             [
              1,
              "#f0f921"
             ]
            ],
            "type": "histogram2dcontour"
           }
          ],
          "mesh3d": [
           {
            "colorbar": {
             "outlinewidth": 0,
             "ticks": ""
            },
            "type": "mesh3d"
           }
          ],
          "parcoords": [
           {
            "line": {
             "colorbar": {
              "outlinewidth": 0,
              "ticks": ""
             }
            },
            "type": "parcoords"
           }
          ],
          "pie": [
           {
            "automargin": true,
            "type": "pie"
           }
          ],
          "scatter": [
           {
            "fillpattern": {
             "fillmode": "overlay",
             "size": 10,
             "solidity": 0.2
            },
            "type": "scatter"
           }
          ],
          "scatter3d": [
           {
            "line": {
             "colorbar": {
              "outlinewidth": 0,
              "ticks": ""
             }
            },
            "marker": {
             "colorbar": {
              "outlinewidth": 0,
              "ticks": ""
             }
            },
            "type": "scatter3d"
           }
          ],
          "scattercarpet": [
           {
            "marker": {
             "colorbar": {
              "outlinewidth": 0,
              "ticks": ""
             }
            },
            "type": "scattercarpet"
           }
          ],
          "scattergeo": [
           {
            "marker": {
             "colorbar": {
              "outlinewidth": 0,
              "ticks": ""
             }
            },
            "type": "scattergeo"
           }
          ],
          "scattergl": [
           {
            "marker": {
             "colorbar": {
              "outlinewidth": 0,
              "ticks": ""
             }
            },
            "type": "scattergl"
           }
          ],
          "scattermapbox": [
           {
            "marker": {
             "colorbar": {
              "outlinewidth": 0,
              "ticks": ""
             }
            },
            "type": "scattermapbox"
           }
          ],
          "scatterpolar": [
           {
            "marker": {
             "colorbar": {
              "outlinewidth": 0,
              "ticks": ""
             }
            },
            "type": "scatterpolar"
           }
          ],
          "scatterpolargl": [
           {
            "marker": {
             "colorbar": {
              "outlinewidth": 0,
              "ticks": ""
             }
            },
            "type": "scatterpolargl"
           }
          ],
          "scatterternary": [
           {
            "marker": {
             "colorbar": {
              "outlinewidth": 0,
              "ticks": ""
             }
            },
            "type": "scatterternary"
           }
          ],
          "surface": [
           {
            "colorbar": {
             "outlinewidth": 0,
             "ticks": ""
            },
            "colorscale": [
             [
              0,
              "#0d0887"
             ],
             [
              0.1111111111111111,
              "#46039f"
             ],
             [
              0.2222222222222222,
              "#7201a8"
             ],
             [
              0.3333333333333333,
              "#9c179e"
             ],
             [
              0.4444444444444444,
              "#bd3786"
             ],
             [
              0.5555555555555556,
              "#d8576b"
             ],
             [
              0.6666666666666666,
              "#ed7953"
             ],
             [
              0.7777777777777778,
              "#fb9f3a"
             ],
             [
              0.8888888888888888,
              "#fdca26"
             ],
             [
              1,
              "#f0f921"
             ]
            ],
            "type": "surface"
           }
          ],
          "table": [
           {
            "cells": {
             "fill": {
              "color": "#EBF0F8"
             },
             "line": {
              "color": "white"
             }
            },
            "header": {
             "fill": {
              "color": "#C8D4E3"
             },
             "line": {
              "color": "white"
             }
            },
            "type": "table"
           }
          ]
         },
         "layout": {
          "annotationdefaults": {
           "arrowcolor": "#2a3f5f",
           "arrowhead": 0,
           "arrowwidth": 1
          },
          "autotypenumbers": "strict",
          "coloraxis": {
           "colorbar": {
            "outlinewidth": 0,
            "ticks": ""
           }
          },
          "colorscale": {
           "diverging": [
            [
             0,
             "#8e0152"
            ],
            [
             0.1,
             "#c51b7d"
            ],
            [
             0.2,
             "#de77ae"
            ],
            [
             0.3,
             "#f1b6da"
            ],
            [
             0.4,
             "#fde0ef"
            ],
            [
             0.5,
             "#f7f7f7"
            ],
            [
             0.6,
             "#e6f5d0"
            ],
            [
             0.7,
             "#b8e186"
            ],
            [
             0.8,
             "#7fbc41"
            ],
            [
             0.9,
             "#4d9221"
            ],
            [
             1,
             "#276419"
            ]
           ],
           "sequential": [
            [
             0,
             "#0d0887"
            ],
            [
             0.1111111111111111,
             "#46039f"
            ],
            [
             0.2222222222222222,
             "#7201a8"
            ],
            [
             0.3333333333333333,
             "#9c179e"
            ],
            [
             0.4444444444444444,
             "#bd3786"
            ],
            [
             0.5555555555555556,
             "#d8576b"
            ],
            [
             0.6666666666666666,
             "#ed7953"
            ],
            [
             0.7777777777777778,
             "#fb9f3a"
            ],
            [
             0.8888888888888888,
             "#fdca26"
            ],
            [
             1,
             "#f0f921"
            ]
           ],
           "sequentialminus": [
            [
             0,
             "#0d0887"
            ],
            [
             0.1111111111111111,
             "#46039f"
            ],
            [
             0.2222222222222222,
             "#7201a8"
            ],
            [
             0.3333333333333333,
             "#9c179e"
            ],
            [
             0.4444444444444444,
             "#bd3786"
            ],
            [
             0.5555555555555556,
             "#d8576b"
            ],
            [
             0.6666666666666666,
             "#ed7953"
            ],
            [
             0.7777777777777778,
             "#fb9f3a"
            ],
            [
             0.8888888888888888,
             "#fdca26"
            ],
            [
             1,
             "#f0f921"
            ]
           ]
          },
          "colorway": [
           "#636efa",
           "#EF553B",
           "#00cc96",
           "#ab63fa",
           "#FFA15A",
           "#19d3f3",
           "#FF6692",
           "#B6E880",
           "#FF97FF",
           "#FECB52"
          ],
          "font": {
           "color": "#2a3f5f"
          },
          "geo": {
           "bgcolor": "white",
           "lakecolor": "white",
           "landcolor": "#E5ECF6",
           "showlakes": true,
           "showland": true,
           "subunitcolor": "white"
          },
          "hoverlabel": {
           "align": "left"
          },
          "hovermode": "closest",
          "mapbox": {
           "style": "light"
          },
          "paper_bgcolor": "white",
          "plot_bgcolor": "#E5ECF6",
          "polar": {
           "angularaxis": {
            "gridcolor": "white",
            "linecolor": "white",
            "ticks": ""
           },
           "bgcolor": "#E5ECF6",
           "radialaxis": {
            "gridcolor": "white",
            "linecolor": "white",
            "ticks": ""
           }
          },
          "scene": {
           "xaxis": {
            "backgroundcolor": "#E5ECF6",
            "gridcolor": "white",
            "gridwidth": 2,
            "linecolor": "white",
            "showbackground": true,
            "ticks": "",
            "zerolinecolor": "white"
           },
           "yaxis": {
            "backgroundcolor": "#E5ECF6",
            "gridcolor": "white",
            "gridwidth": 2,
            "linecolor": "white",
            "showbackground": true,
            "ticks": "",
            "zerolinecolor": "white"
           },
           "zaxis": {
            "backgroundcolor": "#E5ECF6",
            "gridcolor": "white",
            "gridwidth": 2,
            "linecolor": "white",
            "showbackground": true,
            "ticks": "",
            "zerolinecolor": "white"
           }
          },
          "shapedefaults": {
           "line": {
            "color": "#2a3f5f"
           }
          },
          "ternary": {
           "aaxis": {
            "gridcolor": "white",
            "linecolor": "white",
            "ticks": ""
           },
           "baxis": {
            "gridcolor": "white",
            "linecolor": "white",
            "ticks": ""
           },
           "bgcolor": "#E5ECF6",
           "caxis": {
            "gridcolor": "white",
            "linecolor": "white",
            "ticks": ""
           }
          },
          "title": {
           "x": 0.05
          },
          "xaxis": {
           "automargin": true,
           "gridcolor": "white",
           "linecolor": "white",
           "ticks": "",
           "title": {
            "standoff": 15
           },
           "zerolinecolor": "white",
           "zerolinewidth": 2
          },
          "yaxis": {
           "automargin": true,
           "gridcolor": "white",
           "linecolor": "white",
           "ticks": "",
           "title": {
            "standoff": 15
           },
           "zerolinecolor": "white",
           "zerolinewidth": 2
          }
         }
        }
       }
      },
      "text/html": [
       "<div>                            <div id=\"7848bf79-ee06-4dfd-b6e9-37e4f590bc00\" class=\"plotly-graph-div\" style=\"height:525px; width:100%;\"></div>            <script type=\"text/javascript\">                require([\"plotly\"], function(Plotly) {                    window.PLOTLYENV=window.PLOTLYENV || {};                                    if (document.getElementById(\"7848bf79-ee06-4dfd-b6e9-37e4f590bc00\")) {                    Plotly.newPlot(                        \"7848bf79-ee06-4dfd-b6e9-37e4f590bc00\",                        [{\"cells\":{\"align\":\"left\",\"fill\":{\"color\":\"lavender\"},\"values\":[[2022,2022,2022,2022,2022,2022,2022,2022,2022,2022,2022,2022,2022,2022,2022,2022,2022,2022,2022,2022,2022,2022,2022,2022,2022,2022,2022,2022,2022,2022,2022,2022,2022,2022,2022,2022,2022,2022,2022,2022,2022,2022,2022,2022,2022,2022,2022,2022,2022,2021,2021,2021,2021,2021,2021,2021,2021,2021,2021,2021,2021,2021,2021,2021,2021,2021,2021,2021,2021,2021,2021,2021,2021,2021,2021,2021,2021,2021,2021,2021,2021,2021,2021,2021,2021,2021,2021,2021,2021,2021,2021,2021,2021,2021,2021,2021,2021,2021,2021,2020,2020,2020,2020,2020,2020,2020,2020,2020,2020,2020,2020,2020,2020,2020,2020,2020,2020,2020,2020,2020,2020,2020,2020,2020,2020,2020,2020,2020,2020,2020,2020,2020,2020,2020,2020,2020,2020,2020,2020,2020,2020,2020,2020,2020,2020,2020,2020,2020,2020,2020,2019,2019,2019,2019,2019,2019,2019,2019,2019,2019,2019,2019,2019,2019,2019,2019,2019,2019,2019,2019,2019,2019,2019,2019,2019,2019,2019,2019,2019,2019,2019,2019,2019,2019,2019,2019,2019,2019,2019,2019,2019,2019,2019,2019,2019,2019,2019,2019,2019,2019,2019,2018,2018,2018,2018,2018,2018,2018,2018,2018,2018,2018,2018,2018,2018,2018,2018,2018,2018,2018,2018,2018,2018,2018,2018,2018,2018,2018,2018,2018,2018,2018,2018,2018,2018,2018,2018,2018,2018,2018,2018,2018,2018,2018,2018,2018,2018,2018,2018,2018,2018,2018,2017,2017,2017,2017,2017,2017,2017,2017,2017,2017,2017,2017,2017,2017,2017,2017,2017,2017,2017,2017,2017,2017,2017,2017,2017,2017,2017,2017,2017,2017,2017,2017,2017,2017,2017,2017,2017,2017,2017,2017,2017,2017,2017,2017,2017,2017,2017,2017,2017,2017,2016,2016,2016,2016,2016,2016,2016,2016,2016,2016,2016,2016,2016,2016,2016,2016,2016,2016,2016,2016,2016,2016,2016,2016,2016,2016,2016,2016,2016,2016,2016,2016,2016,2016,2016,2016,2016,2016,2016,2016,2016,2016,2016,2016,2016,2016,2016,2016,2016,2016,2016,2015,2015,2015,2015,2015,2015,2015,2015,2015,2015,2015,2015,2015,2015,2015,2015,2015,2015,2015,2015,2015,2015,2015,2015,2015,2015,2015,2015,2015,2015,2015,2015,2015,2015,2015,2015,2015,2015,2015,2015,2015,2015,2015,2015,2015,2015,2015,2015,2015,2015,2014,2014,2014,2014,2014,2014,2014,2014,2014,2014,2014,2014,2014,2014,2014,2014,2014,2014,2014,2014,2014,2014,2014,2014,2014,2014,2014,2014,2014,2014,2014,2014,2014,2014,2014,2014,2014,2014,2014,2014,2014,2014,2014,2014,2014,2014,2014,2014,2014,2013,2013,2013,2013,2013,2013,2013,2013,2013,2013,2013,2013,2013,2013,2013,2013,2013,2013,2013,2013,2013,2013,2013,2013,2013,2013,2013,2013,2013,2013,2013,2013,2013,2013,2013,2013,2013,2013,2013,2013,2013,2013,2013,2013,2013,2013,2013,2013,2013,2013,2013,2012,2012,2012,2012,2012,2012,2012,2012,2012,2012,2012,2012,2012,2012,2012,2012,2012,2012,2012,2012,2012,2012,2012,2012,2012,2012,2012,2012,2012,2012,2012,2012,2012,2012,2012,2012,2012,2012,2012,2012,2012,2012,2012,2012,2012,2012,2012,2012,2012,2012,2011,2011,2011,2011,2011,2011,2011,2011,2011,2011,2011,2011,2011,2011,2011,2011,2011,2011,2011,2011,2011,2011,2011,2011,2011,2011,2011,2011,2011,2011,2011,2011,2011,2011,2011,2011,2011,2011,2011,2011,2011,2011,2011,2011,2011,2011,2011,2011,2011],[\"PARA\",\"AMAZONAS\",\"MATO GROSSO\",\"MARANHAO\",\"RONDONIA\",\"ACRE\",\"TOCANTINS\",\"MATO GROSSO\",\"PIAUI\",\"BAHIA\",\"PIAUI\",\"GOIAS\",\"MINAS GERAIS\",\"MARANHAO\",\"BAHIA\",\"CEARA\",\"MINAS GERAIS\",\"PARANA\",\"SANTA CATARINA\",\"MATO GROSSO DO SUL\",\"RORAIMA\",\"AMAPA\",\"SAO PAULO\",\"BAHIA\",\"PERNAMBUCO\",\"MATO GROSSO DO SUL\",\"RIO GRANDE DO SUL\",\"RIO DE JANEIRO\",\"RIO GRANDE DO SUL\",\"SAO PAULO\",\"PARAIBA\",\"ESPIRITO SANTO\",\"TOCANTINS\",\"MATO GROSSO\",\"RIO GRANDE DO NORTE\",\"MARANHAO\",\"MINAS GERAIS\",\"DISTRITO FEDERAL\",\"MATO GROSSO DO SUL\",\"ALAGOAS\",\"PERNAMBUCO\",\"GOIAS\",\"PARAIBA\",\"SERGIPE\",\"SERGIPE\",\"ALAGOAS\",\"PARANA\",\"RIO GRANDE DO NORTE\",\"RONDONIA\",\"PARA\",\"MATO GROSSO\",\"AMAZONAS\",\"RONDONIA\",\"MARANHAO\",\"TOCANTINS\",\"BAHIA\",\"MATO GROSSO\",\"MATO GROSSO DO SUL\",\"GOIAS\",\"PIAUI\",\"PIAUI\",\"MINAS GERAIS\",\"ACRE\",\"MATO GROSSO\",\"MINAS GERAIS\",\"CEARA\",\"BAHIA\",\"MATO GROSSO DO SUL\",\"MARANHAO\",\"SAO PAULO\",\"SAO PAULO\",\"PARANA\",\"BAHIA\",\"PERNAMBUCO\",\"SANTA CATARINA\",\"RORAIMA\",\"PARAIBA\",\"RIO GRANDE DO SUL\",\"RIO GRANDE DO SUL\",\"MATO GROSSO DO SUL\",\"RIO GRANDE DO NORTE\",\"AMAPA\",\"ESPIRITO SANTO\",\"RIO DE JANEIRO\",\"MINAS GERAIS\",\"TOCANTINS\",\"ALAGOAS\",\"DISTRITO FEDERAL\",\"PERNAMBUCO\",\"GOIAS\",\"MARANHAO\",\"SERGIPE\",\"PARAIBA\",\"ALAGOAS\",\"SERGIPE\",\"RIO GRANDE DO NORTE\",\"PARANA\",\"RONDONIA\",\"SANTA CATARINA\",\"PARA\",\"MATO GROSSO\",\"MATO GROSSO\",\"MATO GROSSO\",\"MARANHAO\",\"TOCANTINS\",\"AMAZONAS\",\"RONDONIA\",\"MATO GROSSO DO SUL\",\"GOIAS\",\"PIAUI\",\"MINAS GERAIS\",\"BAHIA\",\"PIAUI\",\"MARANHAO\",\"ACRE\",\"CEARA\",\"MATO GROSSO DO SUL\",\"SAO PAULO\",\"SAO PAULO\",\"BAHIA\",\"MINAS GERAIS\",\"RORAIMA\",\"PARANA\",\"SANTA CATARINA\",\"RIO GRANDE DO SUL\",\"RIO GRANDE DO SUL\",\"PARAIBA\",\"BAHIA\",\"PERNAMBUCO\",\"TOCANTINS\",\"RIO GRANDE DO NORTE\",\"MATO GROSSO DO SUL\",\"RIO DE JANEIRO\",\"AMAPA\",\"ALAGOAS\",\"ESPIRITO SANTO\",\"PERNAMBUCO\",\"GOIAS\",\"MARANHAO\",\"DISTRITO FEDERAL\",\"MINAS GERAIS\",\"PARAIBA\",\"SERGIPE\",\"ALAGOAS\",\"RIO GRANDE DO NORTE\",\"PARANA\",\"SERGIPE\",\"RONDONIA\",\"SANTA CATARINA\",\"PARA\",\"PARA\",\"MATO GROSSO\",\"TOCANTINS\",\"MARANHAO\",\"MATO GROSSO\",\"RONDONIA\",\"AMAZONAS\",\"MATO GROSSO DO SUL\",\"GOIAS\",\"RORAIMA\",\"PIAUI\",\"PIAUI\",\"MINAS GERAIS\",\"MARANHAO\",\"MINAS GERAIS\",\"BAHIA\",\"CEARA\",\"ACRE\",\"MATO GROSSO DO SUL\",\"PARANA\",\"BAHIA\",\"MATO GROSSO\",\"BAHIA\",\"SAO PAULO\",\"SAO PAULO\",\"PARAIBA\",\"SANTA CATARINA\",\"RIO GRANDE DO SUL\",\"AMAPA\",\"RIO GRANDE DO SUL\",\"MATO GROSSO DO SUL\",\"PERNAMBUCO\",\"RIO DE JANEIRO\",\"RIO GRANDE DO NORTE\",\"ESPIRITO SANTO\",\"ALAGOAS\",\"TOCANTINS\",\"GOIAS\",\"PERNAMBUCO\",\"MARANHAO\",\"DISTRITO FEDERAL\",\"MINAS GERAIS\",\"PARAIBA\",\"SERGIPE\",\"RIO GRANDE DO NORTE\",\"ALAGOAS\",\"SERGIPE\",\"PARANA\",\"RONDONIA\",\"PARA\",\"SANTA CATARINA\",\"PARA\",\"MATO GROSSO\",\"MARANHAO\",\"RONDONIA\",\"TOCANTINS\",\"AMAZONAS\",\"MATO GROSSO\",\"PIAUI\",\"RORAIMA\",\"PIAUI\",\"GOIAS\",\"MARANHAO\",\"ACRE\",\"BAHIA\",\"MINAS GERAIS\",\"CEARA\",\"BAHIA\",\"PARANA\",\"SAO PAULO\",\"MINAS GERAIS\",\"MATO GROSSO DO SUL\",\"SAO PAULO\",\"MATO GROSSO DO SUL\",\"AMAPA\",\"BAHIA\",\"SANTA CATARINA\",\"MATO GROSSO\",\"PARAIBA\",\"RIO GRANDE DO SUL\",\"RIO GRANDE DO SUL\",\"PERNAMBUCO\",\"TOCANTINS\",\"ALAGOAS\",\"RIO GRANDE DO NORTE\",\"MATO GROSSO DO SUL\",\"PERNAMBUCO\",\"RIO DE JANEIRO\",\"PARAIBA\",\"ESPIRITO SANTO\",\"MARANHAO\",\"GOIAS\",\"SERGIPE\",\"MINAS GERAIS\",\"ALAGOAS\",\"RIO GRANDE DO NORTE\",\"DISTRITO FEDERAL\",\"SERGIPE\",\"PARANA\",\"RONDONIA\",\"PARA\",\"SANTA CATARINA\",\"PARA\",\"MATO GROSSO\",\"MARANHAO\",\"TOCANTINS\",\"MATO GROSSO\",\"RONDONIA\",\"GOIAS\",\"AMAZONAS\",\"MARANHAO\",\"PIAUI\",\"MINAS GERAIS\",\"BAHIA\",\"MATO GROSSO DO SUL\",\"PIAUI\",\"MINAS GERAIS\",\"ACRE\",\"CEARA\",\"PARANA\",\"BAHIA\",\"MATO GROSSO\",\"SAO PAULO\",\"SAO PAULO\",\"MATO GROSSO DO SUL\",\"RORAIMA\",\"TOCANTINS\",\"AMAPA\",\"SANTA CATARINA\",\"RIO DE JANEIRO\",\"RIO GRANDE DO SUL\",\"BAHIA\",\"RIO GRANDE DO SUL\",\"MATO GROSSO DO SUL\",\"PERNAMBUCO\",\"PARAIBA\",\"ALAGOAS\",\"RIO GRANDE DO NORTE\",\"MARANHAO\",\"DISTRITO FEDERAL\",\"GOIAS\",\"ESPIRITO SANTO\",\"PERNAMBUCO\",\"SERGIPE\",\"PARAIBA\",\"MINAS GERAIS\",\"ALAGOAS\",\"RIO GRANDE DO NORTE\",\"SERGIPE\",\"PARANA\",\"RONDONIA\",\"PARA\",\"PARA\",\"TOCANTINS\",\"MATO GROSSO\",\"MARANHAO\",\"MATO GROSSO\",\"RONDONIA\",\"AMAZONAS\",\"GOIAS\",\"RORAIMA\",\"MARANHAO\",\"PIAUI\",\"MATO GROSSO DO SUL\",\"MINAS GERAIS\",\"ACRE\",\"PIAUI\",\"CEARA\",\"BAHIA\",\"PARANA\",\"MINAS GERAIS\",\"BAHIA\",\"AMAPA\",\"SAO PAULO\",\"MATO GROSSO DO SUL\",\"BAHIA\",\"SANTA CATARINA\",\"RIO GRANDE DO SUL\",\"SAO PAULO\",\"RIO GRANDE DO SUL\",\"MATO GROSSO\",\"ESPIRITO SANTO\",\"PERNAMBUCO\",\"PARAIBA\",\"ALAGOAS\",\"RIO DE JANEIRO\",\"TOCANTINS\",\"PERNAMBUCO\",\"RIO GRANDE DO NORTE\",\"MATO GROSSO DO SUL\",\"MARANHAO\",\"GOIAS\",\"DISTRITO FEDERAL\",\"PARAIBA\",\"SERGIPE\",\"ALAGOAS\",\"MINAS GERAIS\",\"RIO GRANDE DO NORTE\",\"SERGIPE\",\"PARANA\",\"RONDONIA\",\"SANTA CATARINA\",\"PARA\",\"PARA\",\"MARANHAO\",\"TOCANTINS\",\"MATO GROSSO\",\"MARANHAO\",\"RONDONIA\",\"PIAUI\",\"MATO GROSSO\",\"BAHIA\",\"AMAZONAS\",\"GOIAS\",\"PIAUI\",\"MINAS GERAIS\",\"MINAS GERAIS\",\"BAHIA\",\"RORAIMA\",\"ACRE\",\"MATO GROSSO DO SUL\",\"CEARA\",\"BAHIA\",\"AMAPA\",\"MATO GROSSO\",\"MATO GROSSO DO SUL\",\"PARANA\",\"SAO PAULO\",\"ESPIRITO SANTO\",\"SAO PAULO\",\"TOCANTINS\",\"ALAGOAS\",\"PERNAMBUCO\",\"RIO DE JANEIRO\",\"SANTA CATARINA\",\"RIO GRANDE DO SUL\",\"PERNAMBUCO\",\"PARAIBA\",\"RIO GRANDE DO SUL\",\"RIO GRANDE DO NORTE\",\"MARANHAO\",\"MATO GROSSO DO SUL\",\"MINAS GERAIS\",\"SERGIPE\",\"DISTRITO FEDERAL\",\"PARAIBA\",\"GOIAS\",\"ALAGOAS\",\"SERGIPE\",\"RIO GRANDE DO NORTE\",\"PARANA\",\"RONDONIA\",\"SANTA CATARINA\",\"PARA\",\"MATO GROSSO\",\"TOCANTINS\",\"MARANHAO\",\"MATO GROSSO\",\"GOIAS\",\"PIAUI\",\"MINAS GERAIS\",\"RONDONIA\",\"AMAZONAS\",\"BAHIA\",\"MARANHAO\",\"MINAS GERAIS\",\"PIAUI\",\"RORAIMA\",\"SAO PAULO\",\"SAO PAULO\",\"CEARA\",\"ACRE\",\"BAHIA\",\"PARANA\",\"AMAPA\",\"RIO DE JANEIRO\",\"BAHIA\",\"MATO GROSSO DO SUL\",\"MATO GROSSO DO SUL\",\"RIO GRANDE DO SUL\",\"SANTA CATARINA\",\"TOCANTINS\",\"PERNAMBUCO\",\"RIO GRANDE DO SUL\",\"MATO GROSSO\",\"ESPIRITO SANTO\",\"PARAIBA\",\"RIO GRANDE DO NORTE\",\"MATO GROSSO DO SUL\",\"MINAS GERAIS\",\"DISTRITO FEDERAL\",\"ALAGOAS\",\"MARANHAO\",\"PERNAMBUCO\",\"GOIAS\",\"ALAGOAS\",\"PARAIBA\",\"SERGIPE\",\"SERGIPE\",\"RIO GRANDE DO NORTE\",\"PARANA\",\"RONDONIA\",\"PARA\",\"MARANHAO\",\"MATO GROSSO\",\"TOCANTINS\",\"MATO GROSSO\",\"PIAUI\",\"BAHIA\",\"AMAZONAS\",\"GOIAS\",\"MARANHAO\",\"RONDONIA\",\"MINAS GERAIS\",\"BAHIA\",\"PIAUI\",\"ACRE\",\"CEARA\",\"MATO GROSSO DO SUL\",\"SAO PAULO\",\"PARANA\",\"MATO GROSSO\",\"MINAS GERAIS\",\"RORAIMA\",\"SAO PAULO\",\"BAHIA\",\"MATO GROSSO DO SUL\",\"AMAPA\",\"SANTA CATARINA\",\"PERNAMBUCO\",\"RIO GRANDE DO SUL\",\"ALAGOAS\",\"RIO GRANDE DO SUL\",\"RIO GRANDE DO NORTE\",\"PARAIBA\",\"TOCANTINS\",\"MATO GROSSO DO SUL\",\"RIO DE JANEIRO\",\"ESPIRITO SANTO\",\"MINAS GERAIS\",\"GOIAS\",\"PERNAMBUCO\",\"SERGIPE\",\"ALAGOAS\",\"DISTRITO FEDERAL\",\"MARANHAO\",\"PARAIBA\",\"SERGIPE\",\"RIO GRANDE DO NORTE\",\"PARANA\",\"RONDONIA\",\"SANTA CATARINA\",\"PARA\",\"PARA\",\"MARANHAO\",\"TOCANTINS\",\"MATO GROSSO\",\"BAHIA\",\"MATO GROSSO\",\"PIAUI\",\"GOIAS\",\"RONDONIA\",\"MARANHAO\",\"AMAZONAS\",\"MINAS GERAIS\",\"MATO GROSSO DO SUL\",\"PIAUI\",\"BAHIA\",\"CEARA\",\"MINAS GERAIS\",\"AMAPA\",\"SAO PAULO\",\"ACRE\",\"SAO PAULO\",\"PARANA\",\"BAHIA\",\"MATO GROSSO\",\"RORAIMA\",\"MATO GROSSO DO SUL\",\"SANTA CATARINA\",\"PERNAMBUCO\",\"RIO GRANDE DO SUL\",\"RIO GRANDE DO SUL\",\"ALAGOAS\",\"MATO GROSSO DO SUL\",\"PARAIBA\",\"MINAS GERAIS\",\"TOCANTINS\",\"RIO DE JANEIRO\",\"RIO GRANDE DO NORTE\",\"MARANHAO\",\"ESPIRITO SANTO\",\"PERNAMBUCO\",\"ALAGOAS\",\"SERGIPE\",\"DISTRITO FEDERAL\",\"GOIAS\",\"PARAIBA\",\"SERGIPE\",\"RIO GRANDE DO NORTE\",\"PARANA\",\"RONDONIA\",\"SANTA CATARINA\",\"PARA\",\"MARANHAO\",\"MATO GROSSO\",\"TOCANTINS\",\"BAHIA\",\"MATO GROSSO\",\"PIAUI\",\"MINAS GERAIS\",\"GOIAS\",\"RONDONIA\",\"SAO PAULO\",\"MINAS GERAIS\",\"SAO PAULO\",\"MARANHAO\",\"AMAZONAS\",\"PIAUI\",\"PARANA\",\"CEARA\",\"BAHIA\",\"MATO GROSSO\",\"MATO GROSSO DO SUL\",\"MATO GROSSO DO SUL\",\"ACRE\",\"PERNAMBUCO\",\"ALAGOAS\",\"BAHIA\",\"RORAIMA\",\"AMAPA\",\"MATO GROSSO DO SUL\",\"RIO DE JANEIRO\",\"SANTA CATARINA\",\"PARAIBA\",\"TOCANTINS\",\"RIO GRANDE DO SUL\",\"RIO GRANDE DO NORTE\",\"RIO GRANDE DO SUL\",\"ESPIRITO SANTO\",\"MINAS GERAIS\",\"PERNAMBUCO\",\"DISTRITO FEDERAL\",\"GOIAS\",\"PARAIBA\",\"ALAGOAS\",\"SERGIPE\",\"MARANHAO\",\"SERGIPE\",\"RIO GRANDE DO NORTE\",\"PARANA\",\"RONDONIA\"],[\"Amazonia\",\"Amazonia\",\"Amazonia\",\"Cerrado\",\"Amazonia\",\"Amazonia\",\"Cerrado\",\"Cerrado\",\"Cerrado\",\"Cerrado\",\"Caatinga\",\"Cerrado\",\"Cerrado\",\"Amazonia\",\"Caatinga\",\"Caatinga\",\"Mata Atlantica\",\"Mata Atlantica\",\"Mata Atlantica\",\"Pantanal\",\"Amazonia\",\"Amazonia\",\"Mata Atlantica\",\"Mata Atlantica\",\"Caatinga\",\"Cerrado\",\"Mata Atlantica\",\"Mata Atlantica\",\"Pampa\",\"Cerrado\",\"Caatinga\",\"Mata Atlantica\",\"Amazonia\",\"Pantanal\",\"Caatinga\",\"Caatinga\",\"Caatinga\",\"Cerrado\",\"Mata Atlantica\",\"Mata Atlantica\",\"Mata Atlantica\",\"Mata Atlantica\",\"Mata Atlantica\",\"Caatinga\",\"Mata Atlantica\",\"Caatinga\",\"Cerrado\",\"Mata Atlantica\",\"Cerrado\",\"Amazonia\",\"Amazonia\",\"Amazonia\",\"Amazonia\",\"Cerrado\",\"Cerrado\",\"Cerrado\",\"Cerrado\",\"Pantanal\",\"Cerrado\",\"Caatinga\",\"Cerrado\",\"Cerrado\",\"Amazonia\",\"Pantanal\",\"Mata Atlantica\",\"Caatinga\",\"Caatinga\",\"Cerrado\",\"Amazonia\",\"Cerrado\",\"Mata Atlantica\",\"Mata Atlantica\",\"Mata Atlantica\",\"Caatinga\",\"Mata Atlantica\",\"Amazonia\",\"Caatinga\",\"Pampa\",\"Mata Atlantica\",\"Mata Atlantica\",\"Caatinga\",\"Amazonia\",\"Mata Atlantica\",\"Mata Atlantica\",\"Caatinga\",\"Amazonia\",\"Mata Atlantica\",\"Cerrado\",\"Mata Atlantica\",\"Mata Atlantica\",\"Caatinga\",\"Mata Atlantica\",\"Mata Atlantica\",\"Caatinga\",\"Caatinga\",\"Mata Atlantica\",\"Cerrado\",\"Cerrado\",\"Pampa\",\"Amazonia\",\"Amazonia\",\"Pantanal\",\"Cerrado\",\"Cerrado\",\"Cerrado\",\"Amazonia\",\"Amazonia\",\"Pantanal\",\"Cerrado\",\"Caatinga\",\"Cerrado\",\"Cerrado\",\"Cerrado\",\"Amazonia\",\"Amazonia\",\"Caatinga\",\"Cerrado\",\"Mata Atlantica\",\"Cerrado\",\"Caatinga\",\"Mata Atlantica\",\"Amazonia\",\"Mata Atlantica\",\"Mata Atlantica\",\"Pampa\",\"Mata Atlantica\",\"Caatinga\",\"Mata Atlantica\",\"Caatinga\",\"Amazonia\",\"Caatinga\",\"Mata Atlantica\",\"Mata Atlantica\",\"Amazonia\",\"Mata Atlantica\",\"Mata Atlantica\",\"Mata Atlantica\",\"Mata Atlantica\",\"Caatinga\",\"Cerrado\",\"Caatinga\",\"Mata Atlantica\",\"Mata Atlantica\",\"Caatinga\",\"Mata Atlantica\",\"Cerrado\",\"Caatinga\",\"Cerrado\",\"Pampa\",\"Cerrado\",\"Amazonia\",\"Amazonia\",\"Cerrado\",\"Cerrado\",\"Cerrado\",\"Amazonia\",\"Amazonia\",\"Pantanal\",\"Cerrado\",\"Amazonia\",\"Cerrado\",\"Caatinga\",\"Cerrado\",\"Amazonia\",\"Mata Atlantica\",\"Cerrado\",\"Caatinga\",\"Amazonia\",\"Cerrado\",\"Mata Atlantica\",\"Caatinga\",\"Pantanal\",\"Mata Atlantica\",\"Mata Atlantica\",\"Cerrado\",\"Caatinga\",\"Mata Atlantica\",\"Mata Atlantica\",\"Amazonia\",\"Pampa\",\"Mata Atlantica\",\"Caatinga\",\"Mata Atlantica\",\"Caatinga\",\"Mata Atlantica\",\"Mata Atlantica\",\"Amazonia\",\"Mata Atlantica\",\"Mata Atlantica\",\"Caatinga\",\"Cerrado\",\"Caatinga\",\"Mata Atlantica\",\"Mata Atlantica\",\"Mata Atlantica\",\"Caatinga\",\"Caatinga\",\"Cerrado\",\"Cerrado\",\"Cerrado\",\"Pampa\",\"Amazonia\",\"Amazonia\",\"Cerrado\",\"Amazonia\",\"Cerrado\",\"Amazonia\",\"Cerrado\",\"Cerrado\",\"Amazonia\",\"Caatinga\",\"Cerrado\",\"Amazonia\",\"Amazonia\",\"Cerrado\",\"Cerrado\",\"Caatinga\",\"Caatinga\",\"Mata Atlantica\",\"Mata Atlantica\",\"Mata Atlantica\",\"Cerrado\",\"Cerrado\",\"Pantanal\",\"Amazonia\",\"Mata Atlantica\",\"Mata Atlantica\",\"Pantanal\",\"Caatinga\",\"Mata Atlantica\",\"Pampa\",\"Caatinga\",\"Amazonia\",\"Mata Atlantica\",\"Caatinga\",\"Mata Atlantica\",\"Mata Atlantica\",\"Mata Atlantica\",\"Mata Atlantica\",\"Mata Atlantica\",\"Caatinga\",\"Mata Atlantica\",\"Mata Atlantica\",\"Caatinga\",\"Caatinga\",\"Mata Atlantica\",\"Cerrado\",\"Caatinga\",\"Cerrado\",\"Cerrado\",\"Cerrado\",\"Pampa\",\"Amazonia\",\"Amazonia\",\"Cerrado\",\"Cerrado\",\"Cerrado\",\"Amazonia\",\"Cerrado\",\"Amazonia\",\"Amazonia\",\"Cerrado\",\"Cerrado\",\"Cerrado\",\"Pantanal\",\"Caatinga\",\"Mata Atlantica\",\"Amazonia\",\"Caatinga\",\"Mata Atlantica\",\"Caatinga\",\"Pantanal\",\"Mata Atlantica\",\"Cerrado\",\"Cerrado\",\"Amazonia\",\"Amazonia\",\"Amazonia\",\"Mata Atlantica\",\"Mata Atlantica\",\"Mata Atlantica\",\"Mata Atlantica\",\"Pampa\",\"Mata Atlantica\",\"Caatinga\",\"Caatinga\",\"Mata Atlantica\",\"Caatinga\",\"Caatinga\",\"Cerrado\",\"Mata Atlantica\",\"Mata Atlantica\",\"Mata Atlantica\",\"Mata Atlantica\",\"Mata Atlantica\",\"Caatinga\",\"Caatinga\",\"Mata Atlantica\",\"Caatinga\",\"Cerrado\",\"Cerrado\",\"Cerrado\",\"Amazonia\",\"Cerrado\",\"Amazonia\",\"Cerrado\",\"Cerrado\",\"Amazonia\",\"Amazonia\",\"Cerrado\",\"Amazonia\",\"Amazonia\",\"Caatinga\",\"Pantanal\",\"Cerrado\",\"Amazonia\",\"Cerrado\",\"Caatinga\",\"Cerrado\",\"Mata Atlantica\",\"Mata Atlantica\",\"Caatinga\",\"Amazonia\",\"Mata Atlantica\",\"Cerrado\",\"Mata Atlantica\",\"Mata Atlantica\",\"Mata Atlantica\",\"Cerrado\",\"Pampa\",\"Pantanal\",\"Mata Atlantica\",\"Caatinga\",\"Caatinga\",\"Mata Atlantica\",\"Mata Atlantica\",\"Amazonia\",\"Mata Atlantica\",\"Caatinga\",\"Mata Atlantica\",\"Caatinga\",\"Mata Atlantica\",\"Cerrado\",\"Mata Atlantica\",\"Mata Atlantica\",\"Caatinga\",\"Caatinga\",\"Mata Atlantica\",\"Caatinga\",\"Cerrado\",\"Cerrado\",\"Pampa\",\"Cerrado\",\"Amazonia\",\"Cerrado\",\"Cerrado\",\"Amazonia\",\"Amazonia\",\"Amazonia\",\"Cerrado\",\"Cerrado\",\"Cerrado\",\"Amazonia\",\"Cerrado\",\"Caatinga\",\"Cerrado\",\"Mata Atlantica\",\"Caatinga\",\"Amazonia\",\"Amazonia\",\"Pantanal\",\"Caatinga\",\"Mata Atlantica\",\"Amazonia\",\"Pantanal\",\"Cerrado\",\"Mata Atlantica\",\"Mata Atlantica\",\"Mata Atlantica\",\"Cerrado\",\"Amazonia\",\"Mata Atlantica\",\"Caatinga\",\"Mata Atlantica\",\"Mata Atlantica\",\"Pampa\",\"Mata Atlantica\",\"Caatinga\",\"Mata Atlantica\",\"Caatinga\",\"Caatinga\",\"Mata Atlantica\",\"Caatinga\",\"Mata Atlantica\",\"Cerrado\",\"Mata Atlantica\",\"Mata Atlantica\",\"Caatinga\",\"Caatinga\",\"Mata Atlantica\",\"Cerrado\",\"Cerrado\",\"Pampa\",\"Amazonia\",\"Amazonia\",\"Cerrado\",\"Cerrado\",\"Cerrado\",\"Cerrado\",\"Cerrado\",\"Cerrado\",\"Amazonia\",\"Amazonia\",\"Cerrado\",\"Amazonia\",\"Mata Atlantica\",\"Caatinga\",\"Amazonia\",\"Mata Atlantica\",\"Cerrado\",\"Caatinga\",\"Amazonia\",\"Caatinga\",\"Mata Atlantica\",\"Amazonia\",\"Mata Atlantica\",\"Mata Atlantica\",\"Pantanal\",\"Cerrado\",\"Mata Atlantica\",\"Mata Atlantica\",\"Amazonia\",\"Caatinga\",\"Pampa\",\"Pantanal\",\"Mata Atlantica\",\"Caatinga\",\"Caatinga\",\"Mata Atlantica\",\"Caatinga\",\"Cerrado\",\"Mata Atlantica\",\"Caatinga\",\"Mata Atlantica\",\"Mata Atlantica\",\"Caatinga\",\"Mata Atlantica\",\"Mata Atlantica\",\"Caatinga\",\"Mata Atlantica\",\"Cerrado\",\"Cerrado\",\"Amazonia\",\"Cerrado\",\"Amazonia\",\"Cerrado\",\"Cerrado\",\"Cerrado\",\"Cerrado\",\"Amazonia\",\"Cerrado\",\"Amazonia\",\"Amazonia\",\"Cerrado\",\"Caatinga\",\"Caatinga\",\"Amazonia\",\"Caatinga\",\"Pantanal\",\"Mata Atlantica\",\"Mata Atlantica\",\"Pantanal\",\"Mata Atlantica\",\"Amazonia\",\"Cerrado\",\"Mata Atlantica\",\"Cerrado\",\"Amazonia\",\"Mata Atlantica\",\"Caatinga\",\"Pampa\",\"Mata Atlantica\",\"Mata Atlantica\",\"Caatinga\",\"Caatinga\",\"Amazonia\",\"Mata Atlantica\",\"Mata Atlantica\",\"Mata Atlantica\",\"Caatinga\",\"Mata Atlantica\",\"Mata Atlantica\",\"Mata Atlantica\",\"Caatinga\",\"Cerrado\",\"Caatinga\",\"Mata Atlantica\",\"Caatinga\",\"Mata Atlantica\",\"Cerrado\",\"Cerrado\",\"Pampa\",\"Cerrado\",\"Amazonia\",\"Cerrado\",\"Cerrado\",\"Amazonia\",\"Cerrado\",\"Cerrado\",\"Cerrado\",\"Cerrado\",\"Amazonia\",\"Amazonia\",\"Amazonia\",\"Cerrado\",\"Pantanal\",\"Caatinga\",\"Caatinga\",\"Caatinga\",\"Mata Atlantica\",\"Amazonia\",\"Mata Atlantica\",\"Amazonia\",\"Cerrado\",\"Mata Atlantica\",\"Mata Atlantica\",\"Pantanal\",\"Amazonia\",\"Cerrado\",\"Mata Atlantica\",\"Caatinga\",\"Mata Atlantica\",\"Pampa\",\"Mata Atlantica\",\"Mata Atlantica\",\"Caatinga\",\"Caatinga\",\"Amazonia\",\"Mata Atlantica\",\"Caatinga\",\"Caatinga\",\"Mata Atlantica\",\"Mata Atlantica\",\"Caatinga\",\"Mata Atlantica\",\"Cerrado\",\"Mata Atlantica\",\"Mata Atlantica\",\"Caatinga\",\"Mata Atlantica\",\"Cerrado\",\"Cerrado\",\"Pampa\",\"Amazonia\",\"Cerrado\",\"Amazonia\",\"Cerrado\",\"Cerrado\",\"Cerrado\",\"Cerrado\",\"Cerrado\",\"Cerrado\",\"Amazonia\",\"Mata Atlantica\",\"Mata Atlantica\",\"Cerrado\",\"Amazonia\",\"Amazonia\",\"Caatinga\",\"Mata Atlantica\",\"Caatinga\",\"Caatinga\",\"Pantanal\",\"Cerrado\",\"Pantanal\",\"Amazonia\",\"Caatinga\",\"Mata Atlantica\",\"Mata Atlantica\",\"Amazonia\",\"Amazonia\",\"Mata Atlantica\",\"Mata Atlantica\",\"Mata Atlantica\",\"Caatinga\",\"Amazonia\",\"Pampa\",\"Caatinga\",\"Mata Atlantica\",\"Mata Atlantica\",\"Caatinga\",\"Mata Atlantica\",\"Cerrado\",\"Mata Atlantica\",\"Mata Atlantica\",\"Caatinga\",\"Mata Atlantica\",\"Caatinga\",\"Caatinga\",\"Mata Atlantica\",\"Cerrado\",\"Cerrado\"],[40158,21070,20904,14898,12386,11837,11743,7422,5687,5405,4909,4701,4358,4053,3404,3134,3132,1695,1328,1112,1014,984,954,933,923,918,853,745,679,615,538,468,355,328,311,308,268,251,199,100,79,69,42,38,36,27,16,15,4,550797,388832,363232,298018,273757,242990,229508,198174,191190,174887,153437,152449,151581,111755,101771,85437,82478,82344,79722,68705,65305,59646,46078,29124,22532,22222,21937,20250,16398,14820,13175,12650,10580,9969,8943,7610,7465,5911,5535,4486,3556,3496,2657,2331,2210,1963,1338,1292,46,6,963316,596154,508632,373590,312345,304953,278338,258021,234345,135978,112679,111578,95919,94288,87743,85243,71081,63486,55792,54165,49156,48377,40837,40825,23860,20454,19024,18003,16292,15905,15874,11665,10683,9693,8937,6299,6076,5872,5155,3390,3258,3229,2300,1649,1350,1099,941,892,73,17,2,603601,404639,324457,268935,259064,245495,210888,187087,176983,163234,117146,116280,96728,91692,82225,79796,72016,67174,54658,44002,43640,43208,33910,31188,23780,20663,19875,18698,17823,16320,13000,12771,12089,11812,11059,7122,5647,5357,5323,5070,3761,3653,2337,2169,1276,1204,784,694,77,6,1,295829,191369,158319,141130,134503,128131,86682,73195,63554,60579,49424,42136,41077,39398,34383,31051,25824,22566,21623,21039,14639,13035,12622,11239,11077,9392,9296,7934,6549,6462,5807,4688,4337,4254,3862,3709,2712,2537,2362,2168,1722,1567,1432,1134,961,948,660,169,15,1,1,713984,284937,272918,256125,185232,138590,122457,114942,98870,63100,62587,52391,47322,43682,39163,35270,32574,31748,30094,28859,26350,22328,20292,17624,15116,14780,11449,9528,8267,8061,7777,7062,5449,4740,4129,3878,3672,3590,3358,3002,2897,1489,1222,1091,765,521,370,158,96,2,275266,194984,188078,176341,126733,125793,105078,74410,65607,60122,55778,49577,48222,45510,40496,35561,34280,28439,25248,24540,21602,21368,18568,14945,14151,13335,12623,9438,8674,8170,6819,6171,5985,5983,5294,5267,4334,4012,3901,2343,2269,1998,1607,915,848,841,802,195,93,5,2,539270,270578,212834,212686,160514,129645,122054,117789,117039,115440,83239,66189,55597,49854,47367,32524,31678,30951,28644,28377,27030,17250,16122,15857,12978,10710,9036,8497,6974,6591,6429,5771,5746,5053,4811,4489,4333,3461,2691,2328,2062,1832,1789,1690,1214,1145,659,79,66,1,318738,200890,188526,186092,109446,89240,74863,71246,63979,58873,58873,56510,48584,37995,26638,25773,24086,22822,22756,19973,18763,16440,13270,11404,9966,9939,8692,8046,5870,5467,5271,4849,4052,3863,3363,2937,2862,2859,2613,2340,1658,1442,920,811,692,558,296,190,59,177170,132882,130898,125203,73706,56114,43730,40269,39661,38458,38150,36833,29348,27881,26601,24288,23557,22414,21945,21644,20140,20104,18657,14853,14789,10397,9646,7179,6384,5674,5457,4076,3842,3697,3682,3680,3436,2683,1923,1889,1862,1615,1327,1287,1028,792,471,190,6,2,1,376382,299846,258420,216962,165894,139761,130416,99729,92117,88657,75584,74469,73462,64426,47455,37217,35315,27571,26227,25579,23536,23228,17563,16166,13073,11455,10531,9766,8978,7931,6935,5813,5764,5762,5381,5234,5144,4672,4601,3242,2155,2065,2000,1775,1766,1525,824,129,17,12,67192,41492,41173,38494,30186,26781,25216,23186,23167,20098,18089,14457,14450,12321,10551,10248,10239,10044,10007,9334,8124,8064,4345,3769,3691,3525,3327,2594,2489,2437,2223,1721,1546,1511,1393,1340,1251,948,946,813,693,596,590,475,363,295,265,66,8]]},\"header\":{\"align\":\"left\",\"fill\":{\"color\":\"paleturquoise\"},\"values\":[\"datahora\",\"estado\",\"bioma\",0]},\"type\":\"table\"}],                        {\"template\":{\"data\":{\"histogram2dcontour\":[{\"type\":\"histogram2dcontour\",\"colorbar\":{\"outlinewidth\":0,\"ticks\":\"\"},\"colorscale\":[[0.0,\"#0d0887\"],[0.1111111111111111,\"#46039f\"],[0.2222222222222222,\"#7201a8\"],[0.3333333333333333,\"#9c179e\"],[0.4444444444444444,\"#bd3786\"],[0.5555555555555556,\"#d8576b\"],[0.6666666666666666,\"#ed7953\"],[0.7777777777777778,\"#fb9f3a\"],[0.8888888888888888,\"#fdca26\"],[1.0,\"#f0f921\"]]}],\"choropleth\":[{\"type\":\"choropleth\",\"colorbar\":{\"outlinewidth\":0,\"ticks\":\"\"}}],\"histogram2d\":[{\"type\":\"histogram2d\",\"colorbar\":{\"outlinewidth\":0,\"ticks\":\"\"},\"colorscale\":[[0.0,\"#0d0887\"],[0.1111111111111111,\"#46039f\"],[0.2222222222222222,\"#7201a8\"],[0.3333333333333333,\"#9c179e\"],[0.4444444444444444,\"#bd3786\"],[0.5555555555555556,\"#d8576b\"],[0.6666666666666666,\"#ed7953\"],[0.7777777777777778,\"#fb9f3a\"],[0.8888888888888888,\"#fdca26\"],[1.0,\"#f0f921\"]]}],\"heatmap\":[{\"type\":\"heatmap\",\"colorbar\":{\"outlinewidth\":0,\"ticks\":\"\"},\"colorscale\":[[0.0,\"#0d0887\"],[0.1111111111111111,\"#46039f\"],[0.2222222222222222,\"#7201a8\"],[0.3333333333333333,\"#9c179e\"],[0.4444444444444444,\"#bd3786\"],[0.5555555555555556,\"#d8576b\"],[0.6666666666666666,\"#ed7953\"],[0.7777777777777778,\"#fb9f3a\"],[0.8888888888888888,\"#fdca26\"],[1.0,\"#f0f921\"]]}],\"heatmapgl\":[{\"type\":\"heatmapgl\",\"colorbar\":{\"outlinewidth\":0,\"ticks\":\"\"},\"colorscale\":[[0.0,\"#0d0887\"],[0.1111111111111111,\"#46039f\"],[0.2222222222222222,\"#7201a8\"],[0.3333333333333333,\"#9c179e\"],[0.4444444444444444,\"#bd3786\"],[0.5555555555555556,\"#d8576b\"],[0.6666666666666666,\"#ed7953\"],[0.7777777777777778,\"#fb9f3a\"],[0.8888888888888888,\"#fdca26\"],[1.0,\"#f0f921\"]]}],\"contourcarpet\":[{\"type\":\"contourcarpet\",\"colorbar\":{\"outlinewidth\":0,\"ticks\":\"\"}}],\"contour\":[{\"type\":\"contour\",\"colorbar\":{\"outlinewidth\":0,\"ticks\":\"\"},\"colorscale\":[[0.0,\"#0d0887\"],[0.1111111111111111,\"#46039f\"],[0.2222222222222222,\"#7201a8\"],[0.3333333333333333,\"#9c179e\"],[0.4444444444444444,\"#bd3786\"],[0.5555555555555556,\"#d8576b\"],[0.6666666666666666,\"#ed7953\"],[0.7777777777777778,\"#fb9f3a\"],[0.8888888888888888,\"#fdca26\"],[1.0,\"#f0f921\"]]}],\"surface\":[{\"type\":\"surface\",\"colorbar\":{\"outlinewidth\":0,\"ticks\":\"\"},\"colorscale\":[[0.0,\"#0d0887\"],[0.1111111111111111,\"#46039f\"],[0.2222222222222222,\"#7201a8\"],[0.3333333333333333,\"#9c179e\"],[0.4444444444444444,\"#bd3786\"],[0.5555555555555556,\"#d8576b\"],[0.6666666666666666,\"#ed7953\"],[0.7777777777777778,\"#fb9f3a\"],[0.8888888888888888,\"#fdca26\"],[1.0,\"#f0f921\"]]}],\"mesh3d\":[{\"type\":\"mesh3d\",\"colorbar\":{\"outlinewidth\":0,\"ticks\":\"\"}}],\"scatter\":[{\"fillpattern\":{\"fillmode\":\"overlay\",\"size\":10,\"solidity\":0.2},\"type\":\"scatter\"}],\"parcoords\":[{\"type\":\"parcoords\",\"line\":{\"colorbar\":{\"outlinewidth\":0,\"ticks\":\"\"}}}],\"scatterpolargl\":[{\"type\":\"scatterpolargl\",\"marker\":{\"colorbar\":{\"outlinewidth\":0,\"ticks\":\"\"}}}],\"bar\":[{\"error_x\":{\"color\":\"#2a3f5f\"},\"error_y\":{\"color\":\"#2a3f5f\"},\"marker\":{\"line\":{\"color\":\"#E5ECF6\",\"width\":0.5},\"pattern\":{\"fillmode\":\"overlay\",\"size\":10,\"solidity\":0.2}},\"type\":\"bar\"}],\"scattergeo\":[{\"type\":\"scattergeo\",\"marker\":{\"colorbar\":{\"outlinewidth\":0,\"ticks\":\"\"}}}],\"scatterpolar\":[{\"type\":\"scatterpolar\",\"marker\":{\"colorbar\":{\"outlinewidth\":0,\"ticks\":\"\"}}}],\"histogram\":[{\"marker\":{\"pattern\":{\"fillmode\":\"overlay\",\"size\":10,\"solidity\":0.2}},\"type\":\"histogram\"}],\"scattergl\":[{\"type\":\"scattergl\",\"marker\":{\"colorbar\":{\"outlinewidth\":0,\"ticks\":\"\"}}}],\"scatter3d\":[{\"type\":\"scatter3d\",\"line\":{\"colorbar\":{\"outlinewidth\":0,\"ticks\":\"\"}},\"marker\":{\"colorbar\":{\"outlinewidth\":0,\"ticks\":\"\"}}}],\"scattermapbox\":[{\"type\":\"scattermapbox\",\"marker\":{\"colorbar\":{\"outlinewidth\":0,\"ticks\":\"\"}}}],\"scatterternary\":[{\"type\":\"scatterternary\",\"marker\":{\"colorbar\":{\"outlinewidth\":0,\"ticks\":\"\"}}}],\"scattercarpet\":[{\"type\":\"scattercarpet\",\"marker\":{\"colorbar\":{\"outlinewidth\":0,\"ticks\":\"\"}}}],\"carpet\":[{\"aaxis\":{\"endlinecolor\":\"#2a3f5f\",\"gridcolor\":\"white\",\"linecolor\":\"white\",\"minorgridcolor\":\"white\",\"startlinecolor\":\"#2a3f5f\"},\"baxis\":{\"endlinecolor\":\"#2a3f5f\",\"gridcolor\":\"white\",\"linecolor\":\"white\",\"minorgridcolor\":\"white\",\"startlinecolor\":\"#2a3f5f\"},\"type\":\"carpet\"}],\"table\":[{\"cells\":{\"fill\":{\"color\":\"#EBF0F8\"},\"line\":{\"color\":\"white\"}},\"header\":{\"fill\":{\"color\":\"#C8D4E3\"},\"line\":{\"color\":\"white\"}},\"type\":\"table\"}],\"barpolar\":[{\"marker\":{\"line\":{\"color\":\"#E5ECF6\",\"width\":0.5},\"pattern\":{\"fillmode\":\"overlay\",\"size\":10,\"solidity\":0.2}},\"type\":\"barpolar\"}],\"pie\":[{\"automargin\":true,\"type\":\"pie\"}]},\"layout\":{\"autotypenumbers\":\"strict\",\"colorway\":[\"#636efa\",\"#EF553B\",\"#00cc96\",\"#ab63fa\",\"#FFA15A\",\"#19d3f3\",\"#FF6692\",\"#B6E880\",\"#FF97FF\",\"#FECB52\"],\"font\":{\"color\":\"#2a3f5f\"},\"hovermode\":\"closest\",\"hoverlabel\":{\"align\":\"left\"},\"paper_bgcolor\":\"white\",\"plot_bgcolor\":\"#E5ECF6\",\"polar\":{\"bgcolor\":\"#E5ECF6\",\"angularaxis\":{\"gridcolor\":\"white\",\"linecolor\":\"white\",\"ticks\":\"\"},\"radialaxis\":{\"gridcolor\":\"white\",\"linecolor\":\"white\",\"ticks\":\"\"}},\"ternary\":{\"bgcolor\":\"#E5ECF6\",\"aaxis\":{\"gridcolor\":\"white\",\"linecolor\":\"white\",\"ticks\":\"\"},\"baxis\":{\"gridcolor\":\"white\",\"linecolor\":\"white\",\"ticks\":\"\"},\"caxis\":{\"gridcolor\":\"white\",\"linecolor\":\"white\",\"ticks\":\"\"}},\"coloraxis\":{\"colorbar\":{\"outlinewidth\":0,\"ticks\":\"\"}},\"colorscale\":{\"sequential\":[[0.0,\"#0d0887\"],[0.1111111111111111,\"#46039f\"],[0.2222222222222222,\"#7201a8\"],[0.3333333333333333,\"#9c179e\"],[0.4444444444444444,\"#bd3786\"],[0.5555555555555556,\"#d8576b\"],[0.6666666666666666,\"#ed7953\"],[0.7777777777777778,\"#fb9f3a\"],[0.8888888888888888,\"#fdca26\"],[1.0,\"#f0f921\"]],\"sequentialminus\":[[0.0,\"#0d0887\"],[0.1111111111111111,\"#46039f\"],[0.2222222222222222,\"#7201a8\"],[0.3333333333333333,\"#9c179e\"],[0.4444444444444444,\"#bd3786\"],[0.5555555555555556,\"#d8576b\"],[0.6666666666666666,\"#ed7953\"],[0.7777777777777778,\"#fb9f3a\"],[0.8888888888888888,\"#fdca26\"],[1.0,\"#f0f921\"]],\"diverging\":[[0,\"#8e0152\"],[0.1,\"#c51b7d\"],[0.2,\"#de77ae\"],[0.3,\"#f1b6da\"],[0.4,\"#fde0ef\"],[0.5,\"#f7f7f7\"],[0.6,\"#e6f5d0\"],[0.7,\"#b8e186\"],[0.8,\"#7fbc41\"],[0.9,\"#4d9221\"],[1,\"#276419\"]]},\"xaxis\":{\"gridcolor\":\"white\",\"linecolor\":\"white\",\"ticks\":\"\",\"title\":{\"standoff\":15},\"zerolinecolor\":\"white\",\"automargin\":true,\"zerolinewidth\":2},\"yaxis\":{\"gridcolor\":\"white\",\"linecolor\":\"white\",\"ticks\":\"\",\"title\":{\"standoff\":15},\"zerolinecolor\":\"white\",\"automargin\":true,\"zerolinewidth\":2},\"scene\":{\"xaxis\":{\"backgroundcolor\":\"#E5ECF6\",\"gridcolor\":\"white\",\"linecolor\":\"white\",\"showbackground\":true,\"ticks\":\"\",\"zerolinecolor\":\"white\",\"gridwidth\":2},\"yaxis\":{\"backgroundcolor\":\"#E5ECF6\",\"gridcolor\":\"white\",\"linecolor\":\"white\",\"showbackground\":true,\"ticks\":\"\",\"zerolinecolor\":\"white\",\"gridwidth\":2},\"zaxis\":{\"backgroundcolor\":\"#E5ECF6\",\"gridcolor\":\"white\",\"linecolor\":\"white\",\"showbackground\":true,\"ticks\":\"\",\"zerolinecolor\":\"white\",\"gridwidth\":2}},\"shapedefaults\":{\"line\":{\"color\":\"#2a3f5f\"}},\"annotationdefaults\":{\"arrowcolor\":\"#2a3f5f\",\"arrowhead\":0,\"arrowwidth\":1},\"geo\":{\"bgcolor\":\"white\",\"landcolor\":\"#E5ECF6\",\"subunitcolor\":\"white\",\"showland\":true,\"showlakes\":true,\"lakecolor\":\"white\"},\"title\":{\"x\":0.05},\"mapbox\":{\"style\":\"light\"}}}},                        {\"responsive\": true}                    ).then(function(){\n",
       "                            \n",
       "var gd = document.getElementById('7848bf79-ee06-4dfd-b6e9-37e4f590bc00');\n",
       "var x = new MutationObserver(function (mutations, observer) {{\n",
       "        var display = window.getComputedStyle(gd).display;\n",
       "        if (!display || display === 'none') {{\n",
       "            console.log([gd, 'removed!']);\n",
       "            Plotly.purge(gd);\n",
       "            observer.disconnect();\n",
       "        }}\n",
       "}});\n",
       "\n",
       "// Listen for the removal of the full notebook cells\n",
       "var notebookContainer = gd.closest('#notebook-container');\n",
       "if (notebookContainer) {{\n",
       "    x.observe(notebookContainer, {childList: true});\n",
       "}}\n",
       "\n",
       "// Listen for the clearing of the current output cell\n",
       "var outputEl = gd.closest('.output');\n",
       "if (outputEl) {{\n",
       "    x.observe(outputEl, {childList: true});\n",
       "}}\n",
       "\n",
       "                        })                };                });            </script>        </div>"
      ]
     },
     "metadata": {},
     "output_type": "display_data"
    }
   ],
   "source": [
    "fig = go.Figure(data=[go.Table(\n",
    "    header=dict(values=list(ranking.columns),\n",
    "                fill_color='paleturquoise',\n",
    "                align='left'),\n",
    "    cells=dict(values=[ranking['datahora'] , ranking['estado'], ranking['bioma'], ranking[0]],\n",
    "               fill_color='lavender',\n",
    "               align='left'))\n",
    "])\n",
    "fig"
   ]
  },
  {
   "cell_type": "markdown",
   "metadata": {},
   "source": [
    "## Estados mais prejudicados"
   ]
  },
  {
   "cell_type": "code",
   "execution_count": 31,
   "metadata": {},
   "outputs": [],
   "source": [
    "x =pd.DataFrame(df.groupby(\"estado\").size())\n",
    "x.reset_index(inplace=True)"
   ]
  },
  {
   "cell_type": "code",
   "execution_count": 32,
   "metadata": {},
   "outputs": [
    {
     "data": {
      "application/vnd.plotly.v1+json": {
       "config": {
        "plotlyServerURL": "https://plot.ly"
       },
       "data": [
        {
         "alignmentgroup": "True",
         "hovertemplate": "estado=%{x}<br>y=%{y}<extra></extra>",
         "legendgroup": "",
         "marker": {
          "color": "#636efa",
          "pattern": {
           "shape": ""
          }
         },
         "name": "",
         "offsetgroup": "",
         "orientation": "v",
         "showlegend": false,
         "textposition": "auto",
         "type": "bar",
         "x": [
          "ACRE",
          "ALAGOAS",
          "AMAPA",
          "AMAZONAS",
          "Alagoas",
          "Amapa",
          "Amazonas",
          "BAHIA",
          "Bahia",
          "CEARA",
          "Ceara",
          "DISTRITO FEDERAL",
          "ESPIRITO SANTO",
          "GOIAS",
          "Goias",
          "MARANHAO",
          "MATO GROSSO",
          "MATO GROSSO DO SUL",
          "MINAS GERAIS",
          "Maranhao",
          "Mato Grosso",
          "Mato Grosso do Sul",
          "Minas Gerais",
          "PARA",
          "PARAIBA",
          "PARANA",
          "PERNAMBUCO",
          "PIAUI",
          "Para",
          "Paraiba",
          "Parana",
          "Pernambuco",
          "Piaui",
          "RIO DE JANEIRO",
          "RIO GRANDE DO NORTE",
          "RIO GRANDE DO SUL",
          "RONDONIA",
          "RORAIMA",
          "Rio Grande do Norte",
          "Rio Grande do Sul",
          "Roraima",
          "SANTA CATARINA",
          "SAO PAULO",
          "SERGIPE",
          "Santa Catarina",
          "Sergipe",
          "TOCANTINS",
          "Tocantins"
         ],
         "xaxis": "x",
         "y": [
          5351913,
          4921717,
          3252312,
          2372662,
          1709107,
          1563982,
          1555636,
          1522396,
          1276453,
          1251572,
          1102959,
          604022,
          508825,
          469473,
          450910,
          309506,
          214966,
          169977,
          143402,
          138539,
          117057,
          80743,
          75789,
          73869,
          65156,
          28443,
          28154,
          320,
          142,
          92,
          59,
          53,
          50,
          38,
          33,
          20,
          18,
          14,
          11,
          9,
          6,
          4,
          4,
          4,
          4,
          3,
          2,
          1
         ],
         "yaxis": "y"
        }
       ],
       "layout": {
        "barmode": "relative",
        "legend": {
         "tracegroupgap": 0
        },
        "margin": {
         "t": 60
        },
        "template": {
         "data": {
          "bar": [
           {
            "error_x": {
             "color": "#2a3f5f"
            },
            "error_y": {
             "color": "#2a3f5f"
            },
            "marker": {
             "line": {
              "color": "#E5ECF6",
              "width": 0.5
             },
             "pattern": {
              "fillmode": "overlay",
              "size": 10,
              "solidity": 0.2
             }
            },
            "type": "bar"
           }
          ],
          "barpolar": [
           {
            "marker": {
             "line": {
              "color": "#E5ECF6",
              "width": 0.5
             },
             "pattern": {
              "fillmode": "overlay",
              "size": 10,
              "solidity": 0.2
             }
            },
            "type": "barpolar"
           }
          ],
          "carpet": [
           {
            "aaxis": {
             "endlinecolor": "#2a3f5f",
             "gridcolor": "white",
             "linecolor": "white",
             "minorgridcolor": "white",
             "startlinecolor": "#2a3f5f"
            },
            "baxis": {
             "endlinecolor": "#2a3f5f",
             "gridcolor": "white",
             "linecolor": "white",
             "minorgridcolor": "white",
             "startlinecolor": "#2a3f5f"
            },
            "type": "carpet"
           }
          ],
          "choropleth": [
           {
            "colorbar": {
             "outlinewidth": 0,
             "ticks": ""
            },
            "type": "choropleth"
           }
          ],
          "contour": [
           {
            "colorbar": {
             "outlinewidth": 0,
             "ticks": ""
            },
            "colorscale": [
             [
              0,
              "#0d0887"
             ],
             [
              0.1111111111111111,
              "#46039f"
             ],
             [
              0.2222222222222222,
              "#7201a8"
             ],
             [
              0.3333333333333333,
              "#9c179e"
             ],
             [
              0.4444444444444444,
              "#bd3786"
             ],
             [
              0.5555555555555556,
              "#d8576b"
             ],
             [
              0.6666666666666666,
              "#ed7953"
             ],
             [
              0.7777777777777778,
              "#fb9f3a"
             ],
             [
              0.8888888888888888,
              "#fdca26"
             ],
             [
              1,
              "#f0f921"
             ]
            ],
            "type": "contour"
           }
          ],
          "contourcarpet": [
           {
            "colorbar": {
             "outlinewidth": 0,
             "ticks": ""
            },
            "type": "contourcarpet"
           }
          ],
          "heatmap": [
           {
            "colorbar": {
             "outlinewidth": 0,
             "ticks": ""
            },
            "colorscale": [
             [
              0,
              "#0d0887"
             ],
             [
              0.1111111111111111,
              "#46039f"
             ],
             [
              0.2222222222222222,
              "#7201a8"
             ],
             [
              0.3333333333333333,
              "#9c179e"
             ],
             [
              0.4444444444444444,
              "#bd3786"
             ],
             [
              0.5555555555555556,
              "#d8576b"
             ],
             [
              0.6666666666666666,
              "#ed7953"
             ],
             [
              0.7777777777777778,
              "#fb9f3a"
             ],
             [
              0.8888888888888888,
              "#fdca26"
             ],
             [
              1,
              "#f0f921"
             ]
            ],
            "type": "heatmap"
           }
          ],
          "heatmapgl": [
           {
            "colorbar": {
             "outlinewidth": 0,
             "ticks": ""
            },
            "colorscale": [
             [
              0,
              "#0d0887"
             ],
             [
              0.1111111111111111,
              "#46039f"
             ],
             [
              0.2222222222222222,
              "#7201a8"
             ],
             [
              0.3333333333333333,
              "#9c179e"
             ],
             [
              0.4444444444444444,
              "#bd3786"
             ],
             [
              0.5555555555555556,
              "#d8576b"
             ],
             [
              0.6666666666666666,
              "#ed7953"
             ],
             [
              0.7777777777777778,
              "#fb9f3a"
             ],
             [
              0.8888888888888888,
              "#fdca26"
             ],
             [
              1,
              "#f0f921"
             ]
            ],
            "type": "heatmapgl"
           }
          ],
          "histogram": [
           {
            "marker": {
             "pattern": {
              "fillmode": "overlay",
              "size": 10,
              "solidity": 0.2
             }
            },
            "type": "histogram"
           }
          ],
          "histogram2d": [
           {
            "colorbar": {
             "outlinewidth": 0,
             "ticks": ""
            },
            "colorscale": [
             [
              0,
              "#0d0887"
             ],
             [
              0.1111111111111111,
              "#46039f"
             ],
             [
              0.2222222222222222,
              "#7201a8"
             ],
             [
              0.3333333333333333,
              "#9c179e"
             ],
             [
              0.4444444444444444,
              "#bd3786"
             ],
             [
              0.5555555555555556,
              "#d8576b"
             ],
             [
              0.6666666666666666,
              "#ed7953"
             ],
             [
              0.7777777777777778,
              "#fb9f3a"
             ],
             [
              0.8888888888888888,
              "#fdca26"
             ],
             [
              1,
              "#f0f921"
             ]
            ],
            "type": "histogram2d"
           }
          ],
          "histogram2dcontour": [
           {
            "colorbar": {
             "outlinewidth": 0,
             "ticks": ""
            },
            "colorscale": [
             [
              0,
              "#0d0887"
             ],
             [
              0.1111111111111111,
              "#46039f"
             ],
             [
              0.2222222222222222,
              "#7201a8"
             ],
             [
              0.3333333333333333,
              "#9c179e"
             ],
             [
              0.4444444444444444,
              "#bd3786"
             ],
             [
              0.5555555555555556,
              "#d8576b"
             ],
             [
              0.6666666666666666,
              "#ed7953"
             ],
             [
              0.7777777777777778,
              "#fb9f3a"
             ],
             [
              0.8888888888888888,
              "#fdca26"
             ],
             [
              1,
              "#f0f921"
             ]
            ],
            "type": "histogram2dcontour"
           }
          ],
          "mesh3d": [
           {
            "colorbar": {
             "outlinewidth": 0,
             "ticks": ""
            },
            "type": "mesh3d"
           }
          ],
          "parcoords": [
           {
            "line": {
             "colorbar": {
              "outlinewidth": 0,
              "ticks": ""
             }
            },
            "type": "parcoords"
           }
          ],
          "pie": [
           {
            "automargin": true,
            "type": "pie"
           }
          ],
          "scatter": [
           {
            "fillpattern": {
             "fillmode": "overlay",
             "size": 10,
             "solidity": 0.2
            },
            "type": "scatter"
           }
          ],
          "scatter3d": [
           {
            "line": {
             "colorbar": {
              "outlinewidth": 0,
              "ticks": ""
             }
            },
            "marker": {
             "colorbar": {
              "outlinewidth": 0,
              "ticks": ""
             }
            },
            "type": "scatter3d"
           }
          ],
          "scattercarpet": [
           {
            "marker": {
             "colorbar": {
              "outlinewidth": 0,
              "ticks": ""
             }
            },
            "type": "scattercarpet"
           }
          ],
          "scattergeo": [
           {
            "marker": {
             "colorbar": {
              "outlinewidth": 0,
              "ticks": ""
             }
            },
            "type": "scattergeo"
           }
          ],
          "scattergl": [
           {
            "marker": {
             "colorbar": {
              "outlinewidth": 0,
              "ticks": ""
             }
            },
            "type": "scattergl"
           }
          ],
          "scattermapbox": [
           {
            "marker": {
             "colorbar": {
              "outlinewidth": 0,
              "ticks": ""
             }
            },
            "type": "scattermapbox"
           }
          ],
          "scatterpolar": [
           {
            "marker": {
             "colorbar": {
              "outlinewidth": 0,
              "ticks": ""
             }
            },
            "type": "scatterpolar"
           }
          ],
          "scatterpolargl": [
           {
            "marker": {
             "colorbar": {
              "outlinewidth": 0,
              "ticks": ""
             }
            },
            "type": "scatterpolargl"
           }
          ],
          "scatterternary": [
           {
            "marker": {
             "colorbar": {
              "outlinewidth": 0,
              "ticks": ""
             }
            },
            "type": "scatterternary"
           }
          ],
          "surface": [
           {
            "colorbar": {
             "outlinewidth": 0,
             "ticks": ""
            },
            "colorscale": [
             [
              0,
              "#0d0887"
             ],
             [
              0.1111111111111111,
              "#46039f"
             ],
             [
              0.2222222222222222,
              "#7201a8"
             ],
             [
              0.3333333333333333,
              "#9c179e"
             ],
             [
              0.4444444444444444,
              "#bd3786"
             ],
             [
              0.5555555555555556,
              "#d8576b"
             ],
             [
              0.6666666666666666,
              "#ed7953"
             ],
             [
              0.7777777777777778,
              "#fb9f3a"
             ],
             [
              0.8888888888888888,
              "#fdca26"
             ],
             [
              1,
              "#f0f921"
             ]
            ],
            "type": "surface"
           }
          ],
          "table": [
           {
            "cells": {
             "fill": {
              "color": "#EBF0F8"
             },
             "line": {
              "color": "white"
             }
            },
            "header": {
             "fill": {
              "color": "#C8D4E3"
             },
             "line": {
              "color": "white"
             }
            },
            "type": "table"
           }
          ]
         },
         "layout": {
          "annotationdefaults": {
           "arrowcolor": "#2a3f5f",
           "arrowhead": 0,
           "arrowwidth": 1
          },
          "autotypenumbers": "strict",
          "coloraxis": {
           "colorbar": {
            "outlinewidth": 0,
            "ticks": ""
           }
          },
          "colorscale": {
           "diverging": [
            [
             0,
             "#8e0152"
            ],
            [
             0.1,
             "#c51b7d"
            ],
            [
             0.2,
             "#de77ae"
            ],
            [
             0.3,
             "#f1b6da"
            ],
            [
             0.4,
             "#fde0ef"
            ],
            [
             0.5,
             "#f7f7f7"
            ],
            [
             0.6,
             "#e6f5d0"
            ],
            [
             0.7,
             "#b8e186"
            ],
            [
             0.8,
             "#7fbc41"
            ],
            [
             0.9,
             "#4d9221"
            ],
            [
             1,
             "#276419"
            ]
           ],
           "sequential": [
            [
             0,
             "#0d0887"
            ],
            [
             0.1111111111111111,
             "#46039f"
            ],
            [
             0.2222222222222222,
             "#7201a8"
            ],
            [
             0.3333333333333333,
             "#9c179e"
            ],
            [
             0.4444444444444444,
             "#bd3786"
            ],
            [
             0.5555555555555556,
             "#d8576b"
            ],
            [
             0.6666666666666666,
             "#ed7953"
            ],
            [
             0.7777777777777778,
             "#fb9f3a"
            ],
            [
             0.8888888888888888,
             "#fdca26"
            ],
            [
             1,
             "#f0f921"
            ]
           ],
           "sequentialminus": [
            [
             0,
             "#0d0887"
            ],
            [
             0.1111111111111111,
             "#46039f"
            ],
            [
             0.2222222222222222,
             "#7201a8"
            ],
            [
             0.3333333333333333,
             "#9c179e"
            ],
            [
             0.4444444444444444,
             "#bd3786"
            ],
            [
             0.5555555555555556,
             "#d8576b"
            ],
            [
             0.6666666666666666,
             "#ed7953"
            ],
            [
             0.7777777777777778,
             "#fb9f3a"
            ],
            [
             0.8888888888888888,
             "#fdca26"
            ],
            [
             1,
             "#f0f921"
            ]
           ]
          },
          "colorway": [
           "#636efa",
           "#EF553B",
           "#00cc96",
           "#ab63fa",
           "#FFA15A",
           "#19d3f3",
           "#FF6692",
           "#B6E880",
           "#FF97FF",
           "#FECB52"
          ],
          "font": {
           "color": "#2a3f5f"
          },
          "geo": {
           "bgcolor": "white",
           "lakecolor": "white",
           "landcolor": "#E5ECF6",
           "showlakes": true,
           "showland": true,
           "subunitcolor": "white"
          },
          "hoverlabel": {
           "align": "left"
          },
          "hovermode": "closest",
          "mapbox": {
           "style": "light"
          },
          "paper_bgcolor": "white",
          "plot_bgcolor": "#E5ECF6",
          "polar": {
           "angularaxis": {
            "gridcolor": "white",
            "linecolor": "white",
            "ticks": ""
           },
           "bgcolor": "#E5ECF6",
           "radialaxis": {
            "gridcolor": "white",
            "linecolor": "white",
            "ticks": ""
           }
          },
          "scene": {
           "xaxis": {
            "backgroundcolor": "#E5ECF6",
            "gridcolor": "white",
            "gridwidth": 2,
            "linecolor": "white",
            "showbackground": true,
            "ticks": "",
            "zerolinecolor": "white"
           },
           "yaxis": {
            "backgroundcolor": "#E5ECF6",
            "gridcolor": "white",
            "gridwidth": 2,
            "linecolor": "white",
            "showbackground": true,
            "ticks": "",
            "zerolinecolor": "white"
           },
           "zaxis": {
            "backgroundcolor": "#E5ECF6",
            "gridcolor": "white",
            "gridwidth": 2,
            "linecolor": "white",
            "showbackground": true,
            "ticks": "",
            "zerolinecolor": "white"
           }
          },
          "shapedefaults": {
           "line": {
            "color": "#2a3f5f"
           }
          },
          "ternary": {
           "aaxis": {
            "gridcolor": "white",
            "linecolor": "white",
            "ticks": ""
           },
           "baxis": {
            "gridcolor": "white",
            "linecolor": "white",
            "ticks": ""
           },
           "bgcolor": "#E5ECF6",
           "caxis": {
            "gridcolor": "white",
            "linecolor": "white",
            "ticks": ""
           }
          },
          "title": {
           "x": 0.05
          },
          "xaxis": {
           "automargin": true,
           "gridcolor": "white",
           "linecolor": "white",
           "ticks": "",
           "title": {
            "standoff": 15
           },
           "zerolinecolor": "white",
           "zerolinewidth": 2
          },
          "yaxis": {
           "automargin": true,
           "gridcolor": "white",
           "linecolor": "white",
           "ticks": "",
           "title": {
            "standoff": 15
           },
           "zerolinecolor": "white",
           "zerolinewidth": 2
          }
         }
        },
        "xaxis": {
         "anchor": "y",
         "domain": [
          0,
          1
         ],
         "title": {
          "text": "estado"
         }
        },
        "yaxis": {
         "anchor": "x",
         "domain": [
          0,
          1
         ],
         "title": {
          "text": "y"
         }
        }
       }
      },
      "text/html": [
       "<div>                            <div id=\"04424dda-3de8-4ea2-82fe-b00add4fc525\" class=\"plotly-graph-div\" style=\"height:525px; width:100%;\"></div>            <script type=\"text/javascript\">                require([\"plotly\"], function(Plotly) {                    window.PLOTLYENV=window.PLOTLYENV || {};                                    if (document.getElementById(\"04424dda-3de8-4ea2-82fe-b00add4fc525\")) {                    Plotly.newPlot(                        \"04424dda-3de8-4ea2-82fe-b00add4fc525\",                        [{\"alignmentgroup\":\"True\",\"hovertemplate\":\"estado=%{x}<br>y=%{y}<extra></extra>\",\"legendgroup\":\"\",\"marker\":{\"color\":\"#636efa\",\"pattern\":{\"shape\":\"\"}},\"name\":\"\",\"offsetgroup\":\"\",\"orientation\":\"v\",\"showlegend\":false,\"textposition\":\"auto\",\"x\":[\"ACRE\",\"ALAGOAS\",\"AMAPA\",\"AMAZONAS\",\"Alagoas\",\"Amapa\",\"Amazonas\",\"BAHIA\",\"Bahia\",\"CEARA\",\"Ceara\",\"DISTRITO FEDERAL\",\"ESPIRITO SANTO\",\"GOIAS\",\"Goias\",\"MARANHAO\",\"MATO GROSSO\",\"MATO GROSSO DO SUL\",\"MINAS GERAIS\",\"Maranhao\",\"Mato Grosso\",\"Mato Grosso do Sul\",\"Minas Gerais\",\"PARA\",\"PARAIBA\",\"PARANA\",\"PERNAMBUCO\",\"PIAUI\",\"Para\",\"Paraiba\",\"Parana\",\"Pernambuco\",\"Piaui\",\"RIO DE JANEIRO\",\"RIO GRANDE DO NORTE\",\"RIO GRANDE DO SUL\",\"RONDONIA\",\"RORAIMA\",\"Rio Grande do Norte\",\"Rio Grande do Sul\",\"Roraima\",\"SANTA CATARINA\",\"SAO PAULO\",\"SERGIPE\",\"Santa Catarina\",\"Sergipe\",\"TOCANTINS\",\"Tocantins\"],\"xaxis\":\"x\",\"y\":[5351913,4921717,3252312,2372662,1709107,1563982,1555636,1522396,1276453,1251572,1102959,604022,508825,469473,450910,309506,214966,169977,143402,138539,117057,80743,75789,73869,65156,28443,28154,320,142,92,59,53,50,38,33,20,18,14,11,9,6,4,4,4,4,3,2,1],\"yaxis\":\"y\",\"type\":\"bar\"}],                        {\"template\":{\"data\":{\"histogram2dcontour\":[{\"type\":\"histogram2dcontour\",\"colorbar\":{\"outlinewidth\":0,\"ticks\":\"\"},\"colorscale\":[[0.0,\"#0d0887\"],[0.1111111111111111,\"#46039f\"],[0.2222222222222222,\"#7201a8\"],[0.3333333333333333,\"#9c179e\"],[0.4444444444444444,\"#bd3786\"],[0.5555555555555556,\"#d8576b\"],[0.6666666666666666,\"#ed7953\"],[0.7777777777777778,\"#fb9f3a\"],[0.8888888888888888,\"#fdca26\"],[1.0,\"#f0f921\"]]}],\"choropleth\":[{\"type\":\"choropleth\",\"colorbar\":{\"outlinewidth\":0,\"ticks\":\"\"}}],\"histogram2d\":[{\"type\":\"histogram2d\",\"colorbar\":{\"outlinewidth\":0,\"ticks\":\"\"},\"colorscale\":[[0.0,\"#0d0887\"],[0.1111111111111111,\"#46039f\"],[0.2222222222222222,\"#7201a8\"],[0.3333333333333333,\"#9c179e\"],[0.4444444444444444,\"#bd3786\"],[0.5555555555555556,\"#d8576b\"],[0.6666666666666666,\"#ed7953\"],[0.7777777777777778,\"#fb9f3a\"],[0.8888888888888888,\"#fdca26\"],[1.0,\"#f0f921\"]]}],\"heatmap\":[{\"type\":\"heatmap\",\"colorbar\":{\"outlinewidth\":0,\"ticks\":\"\"},\"colorscale\":[[0.0,\"#0d0887\"],[0.1111111111111111,\"#46039f\"],[0.2222222222222222,\"#7201a8\"],[0.3333333333333333,\"#9c179e\"],[0.4444444444444444,\"#bd3786\"],[0.5555555555555556,\"#d8576b\"],[0.6666666666666666,\"#ed7953\"],[0.7777777777777778,\"#fb9f3a\"],[0.8888888888888888,\"#fdca26\"],[1.0,\"#f0f921\"]]}],\"heatmapgl\":[{\"type\":\"heatmapgl\",\"colorbar\":{\"outlinewidth\":0,\"ticks\":\"\"},\"colorscale\":[[0.0,\"#0d0887\"],[0.1111111111111111,\"#46039f\"],[0.2222222222222222,\"#7201a8\"],[0.3333333333333333,\"#9c179e\"],[0.4444444444444444,\"#bd3786\"],[0.5555555555555556,\"#d8576b\"],[0.6666666666666666,\"#ed7953\"],[0.7777777777777778,\"#fb9f3a\"],[0.8888888888888888,\"#fdca26\"],[1.0,\"#f0f921\"]]}],\"contourcarpet\":[{\"type\":\"contourcarpet\",\"colorbar\":{\"outlinewidth\":0,\"ticks\":\"\"}}],\"contour\":[{\"type\":\"contour\",\"colorbar\":{\"outlinewidth\":0,\"ticks\":\"\"},\"colorscale\":[[0.0,\"#0d0887\"],[0.1111111111111111,\"#46039f\"],[0.2222222222222222,\"#7201a8\"],[0.3333333333333333,\"#9c179e\"],[0.4444444444444444,\"#bd3786\"],[0.5555555555555556,\"#d8576b\"],[0.6666666666666666,\"#ed7953\"],[0.7777777777777778,\"#fb9f3a\"],[0.8888888888888888,\"#fdca26\"],[1.0,\"#f0f921\"]]}],\"surface\":[{\"type\":\"surface\",\"colorbar\":{\"outlinewidth\":0,\"ticks\":\"\"},\"colorscale\":[[0.0,\"#0d0887\"],[0.1111111111111111,\"#46039f\"],[0.2222222222222222,\"#7201a8\"],[0.3333333333333333,\"#9c179e\"],[0.4444444444444444,\"#bd3786\"],[0.5555555555555556,\"#d8576b\"],[0.6666666666666666,\"#ed7953\"],[0.7777777777777778,\"#fb9f3a\"],[0.8888888888888888,\"#fdca26\"],[1.0,\"#f0f921\"]]}],\"mesh3d\":[{\"type\":\"mesh3d\",\"colorbar\":{\"outlinewidth\":0,\"ticks\":\"\"}}],\"scatter\":[{\"fillpattern\":{\"fillmode\":\"overlay\",\"size\":10,\"solidity\":0.2},\"type\":\"scatter\"}],\"parcoords\":[{\"type\":\"parcoords\",\"line\":{\"colorbar\":{\"outlinewidth\":0,\"ticks\":\"\"}}}],\"scatterpolargl\":[{\"type\":\"scatterpolargl\",\"marker\":{\"colorbar\":{\"outlinewidth\":0,\"ticks\":\"\"}}}],\"bar\":[{\"error_x\":{\"color\":\"#2a3f5f\"},\"error_y\":{\"color\":\"#2a3f5f\"},\"marker\":{\"line\":{\"color\":\"#E5ECF6\",\"width\":0.5},\"pattern\":{\"fillmode\":\"overlay\",\"size\":10,\"solidity\":0.2}},\"type\":\"bar\"}],\"scattergeo\":[{\"type\":\"scattergeo\",\"marker\":{\"colorbar\":{\"outlinewidth\":0,\"ticks\":\"\"}}}],\"scatterpolar\":[{\"type\":\"scatterpolar\",\"marker\":{\"colorbar\":{\"outlinewidth\":0,\"ticks\":\"\"}}}],\"histogram\":[{\"marker\":{\"pattern\":{\"fillmode\":\"overlay\",\"size\":10,\"solidity\":0.2}},\"type\":\"histogram\"}],\"scattergl\":[{\"type\":\"scattergl\",\"marker\":{\"colorbar\":{\"outlinewidth\":0,\"ticks\":\"\"}}}],\"scatter3d\":[{\"type\":\"scatter3d\",\"line\":{\"colorbar\":{\"outlinewidth\":0,\"ticks\":\"\"}},\"marker\":{\"colorbar\":{\"outlinewidth\":0,\"ticks\":\"\"}}}],\"scattermapbox\":[{\"type\":\"scattermapbox\",\"marker\":{\"colorbar\":{\"outlinewidth\":0,\"ticks\":\"\"}}}],\"scatterternary\":[{\"type\":\"scatterternary\",\"marker\":{\"colorbar\":{\"outlinewidth\":0,\"ticks\":\"\"}}}],\"scattercarpet\":[{\"type\":\"scattercarpet\",\"marker\":{\"colorbar\":{\"outlinewidth\":0,\"ticks\":\"\"}}}],\"carpet\":[{\"aaxis\":{\"endlinecolor\":\"#2a3f5f\",\"gridcolor\":\"white\",\"linecolor\":\"white\",\"minorgridcolor\":\"white\",\"startlinecolor\":\"#2a3f5f\"},\"baxis\":{\"endlinecolor\":\"#2a3f5f\",\"gridcolor\":\"white\",\"linecolor\":\"white\",\"minorgridcolor\":\"white\",\"startlinecolor\":\"#2a3f5f\"},\"type\":\"carpet\"}],\"table\":[{\"cells\":{\"fill\":{\"color\":\"#EBF0F8\"},\"line\":{\"color\":\"white\"}},\"header\":{\"fill\":{\"color\":\"#C8D4E3\"},\"line\":{\"color\":\"white\"}},\"type\":\"table\"}],\"barpolar\":[{\"marker\":{\"line\":{\"color\":\"#E5ECF6\",\"width\":0.5},\"pattern\":{\"fillmode\":\"overlay\",\"size\":10,\"solidity\":0.2}},\"type\":\"barpolar\"}],\"pie\":[{\"automargin\":true,\"type\":\"pie\"}]},\"layout\":{\"autotypenumbers\":\"strict\",\"colorway\":[\"#636efa\",\"#EF553B\",\"#00cc96\",\"#ab63fa\",\"#FFA15A\",\"#19d3f3\",\"#FF6692\",\"#B6E880\",\"#FF97FF\",\"#FECB52\"],\"font\":{\"color\":\"#2a3f5f\"},\"hovermode\":\"closest\",\"hoverlabel\":{\"align\":\"left\"},\"paper_bgcolor\":\"white\",\"plot_bgcolor\":\"#E5ECF6\",\"polar\":{\"bgcolor\":\"#E5ECF6\",\"angularaxis\":{\"gridcolor\":\"white\",\"linecolor\":\"white\",\"ticks\":\"\"},\"radialaxis\":{\"gridcolor\":\"white\",\"linecolor\":\"white\",\"ticks\":\"\"}},\"ternary\":{\"bgcolor\":\"#E5ECF6\",\"aaxis\":{\"gridcolor\":\"white\",\"linecolor\":\"white\",\"ticks\":\"\"},\"baxis\":{\"gridcolor\":\"white\",\"linecolor\":\"white\",\"ticks\":\"\"},\"caxis\":{\"gridcolor\":\"white\",\"linecolor\":\"white\",\"ticks\":\"\"}},\"coloraxis\":{\"colorbar\":{\"outlinewidth\":0,\"ticks\":\"\"}},\"colorscale\":{\"sequential\":[[0.0,\"#0d0887\"],[0.1111111111111111,\"#46039f\"],[0.2222222222222222,\"#7201a8\"],[0.3333333333333333,\"#9c179e\"],[0.4444444444444444,\"#bd3786\"],[0.5555555555555556,\"#d8576b\"],[0.6666666666666666,\"#ed7953\"],[0.7777777777777778,\"#fb9f3a\"],[0.8888888888888888,\"#fdca26\"],[1.0,\"#f0f921\"]],\"sequentialminus\":[[0.0,\"#0d0887\"],[0.1111111111111111,\"#46039f\"],[0.2222222222222222,\"#7201a8\"],[0.3333333333333333,\"#9c179e\"],[0.4444444444444444,\"#bd3786\"],[0.5555555555555556,\"#d8576b\"],[0.6666666666666666,\"#ed7953\"],[0.7777777777777778,\"#fb9f3a\"],[0.8888888888888888,\"#fdca26\"],[1.0,\"#f0f921\"]],\"diverging\":[[0,\"#8e0152\"],[0.1,\"#c51b7d\"],[0.2,\"#de77ae\"],[0.3,\"#f1b6da\"],[0.4,\"#fde0ef\"],[0.5,\"#f7f7f7\"],[0.6,\"#e6f5d0\"],[0.7,\"#b8e186\"],[0.8,\"#7fbc41\"],[0.9,\"#4d9221\"],[1,\"#276419\"]]},\"xaxis\":{\"gridcolor\":\"white\",\"linecolor\":\"white\",\"ticks\":\"\",\"title\":{\"standoff\":15},\"zerolinecolor\":\"white\",\"automargin\":true,\"zerolinewidth\":2},\"yaxis\":{\"gridcolor\":\"white\",\"linecolor\":\"white\",\"ticks\":\"\",\"title\":{\"standoff\":15},\"zerolinecolor\":\"white\",\"automargin\":true,\"zerolinewidth\":2},\"scene\":{\"xaxis\":{\"backgroundcolor\":\"#E5ECF6\",\"gridcolor\":\"white\",\"linecolor\":\"white\",\"showbackground\":true,\"ticks\":\"\",\"zerolinecolor\":\"white\",\"gridwidth\":2},\"yaxis\":{\"backgroundcolor\":\"#E5ECF6\",\"gridcolor\":\"white\",\"linecolor\":\"white\",\"showbackground\":true,\"ticks\":\"\",\"zerolinecolor\":\"white\",\"gridwidth\":2},\"zaxis\":{\"backgroundcolor\":\"#E5ECF6\",\"gridcolor\":\"white\",\"linecolor\":\"white\",\"showbackground\":true,\"ticks\":\"\",\"zerolinecolor\":\"white\",\"gridwidth\":2}},\"shapedefaults\":{\"line\":{\"color\":\"#2a3f5f\"}},\"annotationdefaults\":{\"arrowcolor\":\"#2a3f5f\",\"arrowhead\":0,\"arrowwidth\":1},\"geo\":{\"bgcolor\":\"white\",\"landcolor\":\"#E5ECF6\",\"subunitcolor\":\"white\",\"showland\":true,\"showlakes\":true,\"lakecolor\":\"white\"},\"title\":{\"x\":0.05},\"mapbox\":{\"style\":\"light\"}}},\"xaxis\":{\"anchor\":\"y\",\"domain\":[0.0,1.0],\"title\":{\"text\":\"estado\"}},\"yaxis\":{\"anchor\":\"x\",\"domain\":[0.0,1.0],\"title\":{\"text\":\"y\"}},\"legend\":{\"tracegroupgap\":0},\"margin\":{\"t\":60},\"barmode\":\"relative\"},                        {\"responsive\": true}                    ).then(function(){\n",
       "                            \n",
       "var gd = document.getElementById('04424dda-3de8-4ea2-82fe-b00add4fc525');\n",
       "var x = new MutationObserver(function (mutations, observer) {{\n",
       "        var display = window.getComputedStyle(gd).display;\n",
       "        if (!display || display === 'none') {{\n",
       "            console.log([gd, 'removed!']);\n",
       "            Plotly.purge(gd);\n",
       "            observer.disconnect();\n",
       "        }}\n",
       "}});\n",
       "\n",
       "// Listen for the removal of the full notebook cells\n",
       "var notebookContainer = gd.closest('#notebook-container');\n",
       "if (notebookContainer) {{\n",
       "    x.observe(notebookContainer, {childList: true});\n",
       "}}\n",
       "\n",
       "// Listen for the clearing of the current output cell\n",
       "var outputEl = gd.closest('.output');\n",
       "if (outputEl) {{\n",
       "    x.observe(outputEl, {childList: true});\n",
       "}}\n",
       "\n",
       "                        })                };                });            </script>        </div>"
      ]
     },
     "metadata": {},
     "output_type": "display_data"
    }
   ],
   "source": [
    "px.bar(x, x='estado', y=x[0].sort_values(ascending=False))"
   ]
  },
  {
   "cell_type": "markdown",
   "metadata": {},
   "source": [
    "## Há alguma diferencia na queimadas dos biomas entre 2011 e 2022"
   ]
  },
  {
   "cell_type": "code",
   "execution_count": 34,
   "metadata": {},
   "outputs": [
    {
     "data": {
      "text/html": [
       "<div>\n",
       "<style scoped>\n",
       "    .dataframe tbody tr th:only-of-type {\n",
       "        vertical-align: middle;\n",
       "    }\n",
       "\n",
       "    .dataframe tbody tr th {\n",
       "        vertical-align: top;\n",
       "    }\n",
       "\n",
       "    .dataframe thead th {\n",
       "        text-align: right;\n",
       "    }\n",
       "</style>\n",
       "<table border=\"1\" class=\"dataframe\">\n",
       "  <thead>\n",
       "    <tr style=\"text-align: right;\">\n",
       "      <th></th>\n",
       "      <th>datahora</th>\n",
       "      <th>estado</th>\n",
       "      <th>bioma</th>\n",
       "      <th>0</th>\n",
       "    </tr>\n",
       "  </thead>\n",
       "  <tbody>\n",
       "    <tr>\n",
       "      <th>0</th>\n",
       "      <td>2011</td>\n",
       "      <td>PARA</td>\n",
       "      <td>Amazonia</td>\n",
       "      <td>67192</td>\n",
       "    </tr>\n",
       "    <tr>\n",
       "      <th>1</th>\n",
       "      <td>2011</td>\n",
       "      <td>MARANHAO</td>\n",
       "      <td>Cerrado</td>\n",
       "      <td>41492</td>\n",
       "    </tr>\n",
       "    <tr>\n",
       "      <th>2</th>\n",
       "      <td>2011</td>\n",
       "      <td>MATO GROSSO</td>\n",
       "      <td>Amazonia</td>\n",
       "      <td>41173</td>\n",
       "    </tr>\n",
       "    <tr>\n",
       "      <th>3</th>\n",
       "      <td>2011</td>\n",
       "      <td>TOCANTINS</td>\n",
       "      <td>Cerrado</td>\n",
       "      <td>38494</td>\n",
       "    </tr>\n",
       "    <tr>\n",
       "      <th>4</th>\n",
       "      <td>2011</td>\n",
       "      <td>BAHIA</td>\n",
       "      <td>Cerrado</td>\n",
       "      <td>30186</td>\n",
       "    </tr>\n",
       "    <tr>\n",
       "      <th>...</th>\n",
       "      <td>...</td>\n",
       "      <td>...</td>\n",
       "      <td>...</td>\n",
       "      <td>...</td>\n",
       "    </tr>\n",
       "    <tr>\n",
       "      <th>597</th>\n",
       "      <td>2022</td>\n",
       "      <td>SERGIPE</td>\n",
       "      <td>Mata Atlantica</td>\n",
       "      <td>36</td>\n",
       "    </tr>\n",
       "    <tr>\n",
       "      <th>598</th>\n",
       "      <td>2022</td>\n",
       "      <td>ALAGOAS</td>\n",
       "      <td>Caatinga</td>\n",
       "      <td>27</td>\n",
       "    </tr>\n",
       "    <tr>\n",
       "      <th>599</th>\n",
       "      <td>2022</td>\n",
       "      <td>PARANA</td>\n",
       "      <td>Cerrado</td>\n",
       "      <td>16</td>\n",
       "    </tr>\n",
       "    <tr>\n",
       "      <th>600</th>\n",
       "      <td>2022</td>\n",
       "      <td>RIO GRANDE DO NORTE</td>\n",
       "      <td>Mata Atlantica</td>\n",
       "      <td>15</td>\n",
       "    </tr>\n",
       "    <tr>\n",
       "      <th>601</th>\n",
       "      <td>2022</td>\n",
       "      <td>RONDONIA</td>\n",
       "      <td>Cerrado</td>\n",
       "      <td>4</td>\n",
       "    </tr>\n",
       "  </tbody>\n",
       "</table>\n",
       "<p>98 rows × 4 columns</p>\n",
       "</div>"
      ],
      "text/plain": [
       "     datahora               estado           bioma      0\n",
       "0        2011                 PARA        Amazonia  67192\n",
       "1        2011             MARANHAO         Cerrado  41492\n",
       "2        2011          MATO GROSSO        Amazonia  41173\n",
       "3        2011            TOCANTINS         Cerrado  38494\n",
       "4        2011                BAHIA         Cerrado  30186\n",
       "..        ...                  ...             ...    ...\n",
       "597      2022              SERGIPE  Mata Atlantica     36\n",
       "598      2022              ALAGOAS        Caatinga     27\n",
       "599      2022               PARANA         Cerrado     16\n",
       "600      2022  RIO GRANDE DO NORTE  Mata Atlantica     15\n",
       "601      2022             RONDONIA         Cerrado      4\n",
       "\n",
       "[98 rows x 4 columns]"
      ]
     },
     "execution_count": 34,
     "metadata": {},
     "output_type": "execute_result"
    }
   ],
   "source": [
    "var =pd.DataFrame( df.groupby(df['datahora'].dt.year)[['estado','bioma']].value_counts())\n",
    "var.reset_index(inplace=True)\n",
    "var_2011_2022 = var[(var['datahora']==2011) | (var['datahora']==2022)]\n",
    "var_2011_2022\n"
   ]
  },
  {
   "cell_type": "code",
   "execution_count": 35,
   "metadata": {},
   "outputs": [
    {
     "data": {
      "application/vnd.plotly.v1+json": {
       "config": {
        "plotlyServerURL": "https://plot.ly"
       },
       "data": [
        {
         "alignmentgroup": "True",
         "bingroup": "x",
         "histfunc": "sum",
         "hovertemplate": "datahora=2011<br>bioma=%{x}<br>sum of 0=%{y}<extra></extra>",
         "legendgroup": "2011",
         "marker": {
          "color": "#636efa",
          "pattern": {
           "shape": ""
          }
         },
         "name": "2011",
         "offsetgroup": "2011",
         "orientation": "v",
         "showlegend": true,
         "type": "histogram",
         "x": [
          "Amazonia",
          "Cerrado",
          "Amazonia",
          "Cerrado",
          "Cerrado",
          "Cerrado",
          "Cerrado",
          "Cerrado",
          "Cerrado",
          "Amazonia",
          "Mata Atlantica",
          "Mata Atlantica",
          "Cerrado",
          "Amazonia",
          "Amazonia",
          "Caatinga",
          "Mata Atlantica",
          "Caatinga",
          "Caatinga",
          "Pantanal",
          "Cerrado",
          "Pantanal",
          "Amazonia",
          "Caatinga",
          "Mata Atlantica",
          "Mata Atlantica",
          "Amazonia",
          "Amazonia",
          "Mata Atlantica",
          "Mata Atlantica",
          "Mata Atlantica",
          "Caatinga",
          "Amazonia",
          "Pampa",
          "Caatinga",
          "Mata Atlantica",
          "Mata Atlantica",
          "Caatinga",
          "Mata Atlantica",
          "Cerrado",
          "Mata Atlantica",
          "Mata Atlantica",
          "Caatinga",
          "Mata Atlantica",
          "Caatinga",
          "Caatinga",
          "Mata Atlantica",
          "Cerrado",
          "Cerrado"
         ],
         "xaxis": "x",
         "y": [
          67192,
          41492,
          41173,
          38494,
          30186,
          26781,
          25216,
          23186,
          23167,
          20098,
          18089,
          14457,
          14450,
          12321,
          10551,
          10248,
          10239,
          10044,
          10007,
          9334,
          8124,
          8064,
          4345,
          3769,
          3691,
          3525,
          3327,
          2594,
          2489,
          2437,
          2223,
          1721,
          1546,
          1511,
          1393,
          1340,
          1251,
          948,
          946,
          813,
          693,
          596,
          590,
          475,
          363,
          295,
          265,
          66,
          8
         ],
         "yaxis": "y"
        },
        {
         "alignmentgroup": "True",
         "bingroup": "x",
         "histfunc": "sum",
         "hovertemplate": "datahora=2022<br>bioma=%{x}<br>sum of 0=%{y}<extra></extra>",
         "legendgroup": "2022",
         "marker": {
          "color": "#EF553B",
          "pattern": {
           "shape": ""
          }
         },
         "name": "2022",
         "offsetgroup": "2022",
         "orientation": "v",
         "showlegend": true,
         "type": "histogram",
         "x": [
          "Amazonia",
          "Amazonia",
          "Amazonia",
          "Cerrado",
          "Amazonia",
          "Amazonia",
          "Cerrado",
          "Cerrado",
          "Cerrado",
          "Cerrado",
          "Caatinga",
          "Cerrado",
          "Cerrado",
          "Amazonia",
          "Caatinga",
          "Caatinga",
          "Mata Atlantica",
          "Mata Atlantica",
          "Mata Atlantica",
          "Pantanal",
          "Amazonia",
          "Amazonia",
          "Mata Atlantica",
          "Mata Atlantica",
          "Caatinga",
          "Cerrado",
          "Mata Atlantica",
          "Mata Atlantica",
          "Pampa",
          "Cerrado",
          "Caatinga",
          "Mata Atlantica",
          "Amazonia",
          "Pantanal",
          "Caatinga",
          "Caatinga",
          "Caatinga",
          "Cerrado",
          "Mata Atlantica",
          "Mata Atlantica",
          "Mata Atlantica",
          "Mata Atlantica",
          "Mata Atlantica",
          "Caatinga",
          "Mata Atlantica",
          "Caatinga",
          "Cerrado",
          "Mata Atlantica",
          "Cerrado"
         ],
         "xaxis": "x",
         "y": [
          40158,
          21070,
          20904,
          14898,
          12386,
          11837,
          11743,
          7422,
          5687,
          5405,
          4909,
          4701,
          4358,
          4053,
          3404,
          3134,
          3132,
          1695,
          1328,
          1112,
          1014,
          984,
          954,
          933,
          923,
          918,
          853,
          745,
          679,
          615,
          538,
          468,
          355,
          328,
          311,
          308,
          268,
          251,
          199,
          100,
          79,
          69,
          42,
          38,
          36,
          27,
          16,
          15,
          4
         ],
         "yaxis": "y"
        }
       ],
       "layout": {
        "barmode": "group",
        "height": 400,
        "legend": {
         "title": {
          "text": "datahora"
         },
         "tracegroupgap": 0
        },
        "margin": {
         "t": 60
        },
        "template": {
         "data": {
          "bar": [
           {
            "error_x": {
             "color": "#2a3f5f"
            },
            "error_y": {
             "color": "#2a3f5f"
            },
            "marker": {
             "line": {
              "color": "#E5ECF6",
              "width": 0.5
             },
             "pattern": {
              "fillmode": "overlay",
              "size": 10,
              "solidity": 0.2
             }
            },
            "type": "bar"
           }
          ],
          "barpolar": [
           {
            "marker": {
             "line": {
              "color": "#E5ECF6",
              "width": 0.5
             },
             "pattern": {
              "fillmode": "overlay",
              "size": 10,
              "solidity": 0.2
             }
            },
            "type": "barpolar"
           }
          ],
          "carpet": [
           {
            "aaxis": {
             "endlinecolor": "#2a3f5f",
             "gridcolor": "white",
             "linecolor": "white",
             "minorgridcolor": "white",
             "startlinecolor": "#2a3f5f"
            },
            "baxis": {
             "endlinecolor": "#2a3f5f",
             "gridcolor": "white",
             "linecolor": "white",
             "minorgridcolor": "white",
             "startlinecolor": "#2a3f5f"
            },
            "type": "carpet"
           }
          ],
          "choropleth": [
           {
            "colorbar": {
             "outlinewidth": 0,
             "ticks": ""
            },
            "type": "choropleth"
           }
          ],
          "contour": [
           {
            "colorbar": {
             "outlinewidth": 0,
             "ticks": ""
            },
            "colorscale": [
             [
              0,
              "#0d0887"
             ],
             [
              0.1111111111111111,
              "#46039f"
             ],
             [
              0.2222222222222222,
              "#7201a8"
             ],
             [
              0.3333333333333333,
              "#9c179e"
             ],
             [
              0.4444444444444444,
              "#bd3786"
             ],
             [
              0.5555555555555556,
              "#d8576b"
             ],
             [
              0.6666666666666666,
              "#ed7953"
             ],
             [
              0.7777777777777778,
              "#fb9f3a"
             ],
             [
              0.8888888888888888,
              "#fdca26"
             ],
             [
              1,
              "#f0f921"
             ]
            ],
            "type": "contour"
           }
          ],
          "contourcarpet": [
           {
            "colorbar": {
             "outlinewidth": 0,
             "ticks": ""
            },
            "type": "contourcarpet"
           }
          ],
          "heatmap": [
           {
            "colorbar": {
             "outlinewidth": 0,
             "ticks": ""
            },
            "colorscale": [
             [
              0,
              "#0d0887"
             ],
             [
              0.1111111111111111,
              "#46039f"
             ],
             [
              0.2222222222222222,
              "#7201a8"
             ],
             [
              0.3333333333333333,
              "#9c179e"
             ],
             [
              0.4444444444444444,
              "#bd3786"
             ],
             [
              0.5555555555555556,
              "#d8576b"
             ],
             [
              0.6666666666666666,
              "#ed7953"
             ],
             [
              0.7777777777777778,
              "#fb9f3a"
             ],
             [
              0.8888888888888888,
              "#fdca26"
             ],
             [
              1,
              "#f0f921"
             ]
            ],
            "type": "heatmap"
           }
          ],
          "heatmapgl": [
           {
            "colorbar": {
             "outlinewidth": 0,
             "ticks": ""
            },
            "colorscale": [
             [
              0,
              "#0d0887"
             ],
             [
              0.1111111111111111,
              "#46039f"
             ],
             [
              0.2222222222222222,
              "#7201a8"
             ],
             [
              0.3333333333333333,
              "#9c179e"
             ],
             [
              0.4444444444444444,
              "#bd3786"
             ],
             [
              0.5555555555555556,
              "#d8576b"
             ],
             [
              0.6666666666666666,
              "#ed7953"
             ],
             [
              0.7777777777777778,
              "#fb9f3a"
             ],
             [
              0.8888888888888888,
              "#fdca26"
             ],
             [
              1,
              "#f0f921"
             ]
            ],
            "type": "heatmapgl"
           }
          ],
          "histogram": [
           {
            "marker": {
             "pattern": {
              "fillmode": "overlay",
              "size": 10,
              "solidity": 0.2
             }
            },
            "type": "histogram"
           }
          ],
          "histogram2d": [
           {
            "colorbar": {
             "outlinewidth": 0,
             "ticks": ""
            },
            "colorscale": [
             [
              0,
              "#0d0887"
             ],
             [
              0.1111111111111111,
              "#46039f"
             ],
             [
              0.2222222222222222,
              "#7201a8"
             ],
             [
              0.3333333333333333,
              "#9c179e"
             ],
             [
              0.4444444444444444,
              "#bd3786"
             ],
             [
              0.5555555555555556,
              "#d8576b"
             ],
             [
              0.6666666666666666,
              "#ed7953"
             ],
             [
              0.7777777777777778,
              "#fb9f3a"
             ],
             [
              0.8888888888888888,
              "#fdca26"
             ],
             [
              1,
              "#f0f921"
             ]
            ],
            "type": "histogram2d"
           }
          ],
          "histogram2dcontour": [
           {
            "colorbar": {
             "outlinewidth": 0,
             "ticks": ""
            },
            "colorscale": [
             [
              0,
              "#0d0887"
             ],
             [
              0.1111111111111111,
              "#46039f"
             ],
             [
              0.2222222222222222,
              "#7201a8"
             ],
             [
              0.3333333333333333,
              "#9c179e"
             ],
             [
              0.4444444444444444,
              "#bd3786"
             ],
             [
              0.5555555555555556,
              "#d8576b"
             ],
             [
              0.6666666666666666,
              "#ed7953"
             ],
             [
              0.7777777777777778,
              "#fb9f3a"
             ],
             [
              0.8888888888888888,
              "#fdca26"
             ],
             [
              1,
              "#f0f921"
             ]
            ],
            "type": "histogram2dcontour"
           }
          ],
          "mesh3d": [
           {
            "colorbar": {
             "outlinewidth": 0,
             "ticks": ""
            },
            "type": "mesh3d"
           }
          ],
          "parcoords": [
           {
            "line": {
             "colorbar": {
              "outlinewidth": 0,
              "ticks": ""
             }
            },
            "type": "parcoords"
           }
          ],
          "pie": [
           {
            "automargin": true,
            "type": "pie"
           }
          ],
          "scatter": [
           {
            "fillpattern": {
             "fillmode": "overlay",
             "size": 10,
             "solidity": 0.2
            },
            "type": "scatter"
           }
          ],
          "scatter3d": [
           {
            "line": {
             "colorbar": {
              "outlinewidth": 0,
              "ticks": ""
             }
            },
            "marker": {
             "colorbar": {
              "outlinewidth": 0,
              "ticks": ""
             }
            },
            "type": "scatter3d"
           }
          ],
          "scattercarpet": [
           {
            "marker": {
             "colorbar": {
              "outlinewidth": 0,
              "ticks": ""
             }
            },
            "type": "scattercarpet"
           }
          ],
          "scattergeo": [
           {
            "marker": {
             "colorbar": {
              "outlinewidth": 0,
              "ticks": ""
             }
            },
            "type": "scattergeo"
           }
          ],
          "scattergl": [
           {
            "marker": {
             "colorbar": {
              "outlinewidth": 0,
              "ticks": ""
             }
            },
            "type": "scattergl"
           }
          ],
          "scattermapbox": [
           {
            "marker": {
             "colorbar": {
              "outlinewidth": 0,
              "ticks": ""
             }
            },
            "type": "scattermapbox"
           }
          ],
          "scatterpolar": [
           {
            "marker": {
             "colorbar": {
              "outlinewidth": 0,
              "ticks": ""
             }
            },
            "type": "scatterpolar"
           }
          ],
          "scatterpolargl": [
           {
            "marker": {
             "colorbar": {
              "outlinewidth": 0,
              "ticks": ""
             }
            },
            "type": "scatterpolargl"
           }
          ],
          "scatterternary": [
           {
            "marker": {
             "colorbar": {
              "outlinewidth": 0,
              "ticks": ""
             }
            },
            "type": "scatterternary"
           }
          ],
          "surface": [
           {
            "colorbar": {
             "outlinewidth": 0,
             "ticks": ""
            },
            "colorscale": [
             [
              0,
              "#0d0887"
             ],
             [
              0.1111111111111111,
              "#46039f"
             ],
             [
              0.2222222222222222,
              "#7201a8"
             ],
             [
              0.3333333333333333,
              "#9c179e"
             ],
             [
              0.4444444444444444,
              "#bd3786"
             ],
             [
              0.5555555555555556,
              "#d8576b"
             ],
             [
              0.6666666666666666,
              "#ed7953"
             ],
             [
              0.7777777777777778,
              "#fb9f3a"
             ],
             [
              0.8888888888888888,
              "#fdca26"
             ],
             [
              1,
              "#f0f921"
             ]
            ],
            "type": "surface"
           }
          ],
          "table": [
           {
            "cells": {
             "fill": {
              "color": "#EBF0F8"
             },
             "line": {
              "color": "white"
             }
            },
            "header": {
             "fill": {
              "color": "#C8D4E3"
             },
             "line": {
              "color": "white"
             }
            },
            "type": "table"
           }
          ]
         },
         "layout": {
          "annotationdefaults": {
           "arrowcolor": "#2a3f5f",
           "arrowhead": 0,
           "arrowwidth": 1
          },
          "autotypenumbers": "strict",
          "coloraxis": {
           "colorbar": {
            "outlinewidth": 0,
            "ticks": ""
           }
          },
          "colorscale": {
           "diverging": [
            [
             0,
             "#8e0152"
            ],
            [
             0.1,
             "#c51b7d"
            ],
            [
             0.2,
             "#de77ae"
            ],
            [
             0.3,
             "#f1b6da"
            ],
            [
             0.4,
             "#fde0ef"
            ],
            [
             0.5,
             "#f7f7f7"
            ],
            [
             0.6,
             "#e6f5d0"
            ],
            [
             0.7,
             "#b8e186"
            ],
            [
             0.8,
             "#7fbc41"
            ],
            [
             0.9,
             "#4d9221"
            ],
            [
             1,
             "#276419"
            ]
           ],
           "sequential": [
            [
             0,
             "#0d0887"
            ],
            [
             0.1111111111111111,
             "#46039f"
            ],
            [
             0.2222222222222222,
             "#7201a8"
            ],
            [
             0.3333333333333333,
             "#9c179e"
            ],
            [
             0.4444444444444444,
             "#bd3786"
            ],
            [
             0.5555555555555556,
             "#d8576b"
            ],
            [
             0.6666666666666666,
             "#ed7953"
            ],
            [
             0.7777777777777778,
             "#fb9f3a"
            ],
            [
             0.8888888888888888,
             "#fdca26"
            ],
            [
             1,
             "#f0f921"
            ]
           ],
           "sequentialminus": [
            [
             0,
             "#0d0887"
            ],
            [
             0.1111111111111111,
             "#46039f"
            ],
            [
             0.2222222222222222,
             "#7201a8"
            ],
            [
             0.3333333333333333,
             "#9c179e"
            ],
            [
             0.4444444444444444,
             "#bd3786"
            ],
            [
             0.5555555555555556,
             "#d8576b"
            ],
            [
             0.6666666666666666,
             "#ed7953"
            ],
            [
             0.7777777777777778,
             "#fb9f3a"
            ],
            [
             0.8888888888888888,
             "#fdca26"
            ],
            [
             1,
             "#f0f921"
            ]
           ]
          },
          "colorway": [
           "#636efa",
           "#EF553B",
           "#00cc96",
           "#ab63fa",
           "#FFA15A",
           "#19d3f3",
           "#FF6692",
           "#B6E880",
           "#FF97FF",
           "#FECB52"
          ],
          "font": {
           "color": "#2a3f5f"
          },
          "geo": {
           "bgcolor": "white",
           "lakecolor": "white",
           "landcolor": "#E5ECF6",
           "showlakes": true,
           "showland": true,
           "subunitcolor": "white"
          },
          "hoverlabel": {
           "align": "left"
          },
          "hovermode": "closest",
          "mapbox": {
           "style": "light"
          },
          "paper_bgcolor": "white",
          "plot_bgcolor": "#E5ECF6",
          "polar": {
           "angularaxis": {
            "gridcolor": "white",
            "linecolor": "white",
            "ticks": ""
           },
           "bgcolor": "#E5ECF6",
           "radialaxis": {
            "gridcolor": "white",
            "linecolor": "white",
            "ticks": ""
           }
          },
          "scene": {
           "xaxis": {
            "backgroundcolor": "#E5ECF6",
            "gridcolor": "white",
            "gridwidth": 2,
            "linecolor": "white",
            "showbackground": true,
            "ticks": "",
            "zerolinecolor": "white"
           },
           "yaxis": {
            "backgroundcolor": "#E5ECF6",
            "gridcolor": "white",
            "gridwidth": 2,
            "linecolor": "white",
            "showbackground": true,
            "ticks": "",
            "zerolinecolor": "white"
           },
           "zaxis": {
            "backgroundcolor": "#E5ECF6",
            "gridcolor": "white",
            "gridwidth": 2,
            "linecolor": "white",
            "showbackground": true,
            "ticks": "",
            "zerolinecolor": "white"
           }
          },
          "shapedefaults": {
           "line": {
            "color": "#2a3f5f"
           }
          },
          "ternary": {
           "aaxis": {
            "gridcolor": "white",
            "linecolor": "white",
            "ticks": ""
           },
           "baxis": {
            "gridcolor": "white",
            "linecolor": "white",
            "ticks": ""
           },
           "bgcolor": "#E5ECF6",
           "caxis": {
            "gridcolor": "white",
            "linecolor": "white",
            "ticks": ""
           }
          },
          "title": {
           "x": 0.05
          },
          "xaxis": {
           "automargin": true,
           "gridcolor": "white",
           "linecolor": "white",
           "ticks": "",
           "title": {
            "standoff": 15
           },
           "zerolinecolor": "white",
           "zerolinewidth": 2
          },
          "yaxis": {
           "automargin": true,
           "gridcolor": "white",
           "linecolor": "white",
           "ticks": "",
           "title": {
            "standoff": 15
           },
           "zerolinecolor": "white",
           "zerolinewidth": 2
          }
         }
        },
        "xaxis": {
         "anchor": "y",
         "domain": [
          0,
          1
         ],
         "title": {
          "text": "bioma"
         }
        },
        "yaxis": {
         "anchor": "x",
         "domain": [
          0,
          1
         ],
         "title": {
          "text": "sum of 0"
         }
        }
       }
      },
      "text/html": [
       "<div>                            <div id=\"8b249624-c3a5-476b-a6ea-639d40bed6dc\" class=\"plotly-graph-div\" style=\"height:400px; width:100%;\"></div>            <script type=\"text/javascript\">                require([\"plotly\"], function(Plotly) {                    window.PLOTLYENV=window.PLOTLYENV || {};                                    if (document.getElementById(\"8b249624-c3a5-476b-a6ea-639d40bed6dc\")) {                    Plotly.newPlot(                        \"8b249624-c3a5-476b-a6ea-639d40bed6dc\",                        [{\"alignmentgroup\":\"True\",\"bingroup\":\"x\",\"histfunc\":\"sum\",\"hovertemplate\":\"datahora=2011<br>bioma=%{x}<br>sum of 0=%{y}<extra></extra>\",\"legendgroup\":\"2011\",\"marker\":{\"color\":\"#636efa\",\"pattern\":{\"shape\":\"\"}},\"name\":\"2011\",\"offsetgroup\":\"2011\",\"orientation\":\"v\",\"showlegend\":true,\"x\":[\"Amazonia\",\"Cerrado\",\"Amazonia\",\"Cerrado\",\"Cerrado\",\"Cerrado\",\"Cerrado\",\"Cerrado\",\"Cerrado\",\"Amazonia\",\"Mata Atlantica\",\"Mata Atlantica\",\"Cerrado\",\"Amazonia\",\"Amazonia\",\"Caatinga\",\"Mata Atlantica\",\"Caatinga\",\"Caatinga\",\"Pantanal\",\"Cerrado\",\"Pantanal\",\"Amazonia\",\"Caatinga\",\"Mata Atlantica\",\"Mata Atlantica\",\"Amazonia\",\"Amazonia\",\"Mata Atlantica\",\"Mata Atlantica\",\"Mata Atlantica\",\"Caatinga\",\"Amazonia\",\"Pampa\",\"Caatinga\",\"Mata Atlantica\",\"Mata Atlantica\",\"Caatinga\",\"Mata Atlantica\",\"Cerrado\",\"Mata Atlantica\",\"Mata Atlantica\",\"Caatinga\",\"Mata Atlantica\",\"Caatinga\",\"Caatinga\",\"Mata Atlantica\",\"Cerrado\",\"Cerrado\"],\"xaxis\":\"x\",\"y\":[67192,41492,41173,38494,30186,26781,25216,23186,23167,20098,18089,14457,14450,12321,10551,10248,10239,10044,10007,9334,8124,8064,4345,3769,3691,3525,3327,2594,2489,2437,2223,1721,1546,1511,1393,1340,1251,948,946,813,693,596,590,475,363,295,265,66,8],\"yaxis\":\"y\",\"type\":\"histogram\"},{\"alignmentgroup\":\"True\",\"bingroup\":\"x\",\"histfunc\":\"sum\",\"hovertemplate\":\"datahora=2022<br>bioma=%{x}<br>sum of 0=%{y}<extra></extra>\",\"legendgroup\":\"2022\",\"marker\":{\"color\":\"#EF553B\",\"pattern\":{\"shape\":\"\"}},\"name\":\"2022\",\"offsetgroup\":\"2022\",\"orientation\":\"v\",\"showlegend\":true,\"x\":[\"Amazonia\",\"Amazonia\",\"Amazonia\",\"Cerrado\",\"Amazonia\",\"Amazonia\",\"Cerrado\",\"Cerrado\",\"Cerrado\",\"Cerrado\",\"Caatinga\",\"Cerrado\",\"Cerrado\",\"Amazonia\",\"Caatinga\",\"Caatinga\",\"Mata Atlantica\",\"Mata Atlantica\",\"Mata Atlantica\",\"Pantanal\",\"Amazonia\",\"Amazonia\",\"Mata Atlantica\",\"Mata Atlantica\",\"Caatinga\",\"Cerrado\",\"Mata Atlantica\",\"Mata Atlantica\",\"Pampa\",\"Cerrado\",\"Caatinga\",\"Mata Atlantica\",\"Amazonia\",\"Pantanal\",\"Caatinga\",\"Caatinga\",\"Caatinga\",\"Cerrado\",\"Mata Atlantica\",\"Mata Atlantica\",\"Mata Atlantica\",\"Mata Atlantica\",\"Mata Atlantica\",\"Caatinga\",\"Mata Atlantica\",\"Caatinga\",\"Cerrado\",\"Mata Atlantica\",\"Cerrado\"],\"xaxis\":\"x\",\"y\":[40158,21070,20904,14898,12386,11837,11743,7422,5687,5405,4909,4701,4358,4053,3404,3134,3132,1695,1328,1112,1014,984,954,933,923,918,853,745,679,615,538,468,355,328,311,308,268,251,199,100,79,69,42,38,36,27,16,15,4],\"yaxis\":\"y\",\"type\":\"histogram\"}],                        {\"template\":{\"data\":{\"histogram2dcontour\":[{\"type\":\"histogram2dcontour\",\"colorbar\":{\"outlinewidth\":0,\"ticks\":\"\"},\"colorscale\":[[0.0,\"#0d0887\"],[0.1111111111111111,\"#46039f\"],[0.2222222222222222,\"#7201a8\"],[0.3333333333333333,\"#9c179e\"],[0.4444444444444444,\"#bd3786\"],[0.5555555555555556,\"#d8576b\"],[0.6666666666666666,\"#ed7953\"],[0.7777777777777778,\"#fb9f3a\"],[0.8888888888888888,\"#fdca26\"],[1.0,\"#f0f921\"]]}],\"choropleth\":[{\"type\":\"choropleth\",\"colorbar\":{\"outlinewidth\":0,\"ticks\":\"\"}}],\"histogram2d\":[{\"type\":\"histogram2d\",\"colorbar\":{\"outlinewidth\":0,\"ticks\":\"\"},\"colorscale\":[[0.0,\"#0d0887\"],[0.1111111111111111,\"#46039f\"],[0.2222222222222222,\"#7201a8\"],[0.3333333333333333,\"#9c179e\"],[0.4444444444444444,\"#bd3786\"],[0.5555555555555556,\"#d8576b\"],[0.6666666666666666,\"#ed7953\"],[0.7777777777777778,\"#fb9f3a\"],[0.8888888888888888,\"#fdca26\"],[1.0,\"#f0f921\"]]}],\"heatmap\":[{\"type\":\"heatmap\",\"colorbar\":{\"outlinewidth\":0,\"ticks\":\"\"},\"colorscale\":[[0.0,\"#0d0887\"],[0.1111111111111111,\"#46039f\"],[0.2222222222222222,\"#7201a8\"],[0.3333333333333333,\"#9c179e\"],[0.4444444444444444,\"#bd3786\"],[0.5555555555555556,\"#d8576b\"],[0.6666666666666666,\"#ed7953\"],[0.7777777777777778,\"#fb9f3a\"],[0.8888888888888888,\"#fdca26\"],[1.0,\"#f0f921\"]]}],\"heatmapgl\":[{\"type\":\"heatmapgl\",\"colorbar\":{\"outlinewidth\":0,\"ticks\":\"\"},\"colorscale\":[[0.0,\"#0d0887\"],[0.1111111111111111,\"#46039f\"],[0.2222222222222222,\"#7201a8\"],[0.3333333333333333,\"#9c179e\"],[0.4444444444444444,\"#bd3786\"],[0.5555555555555556,\"#d8576b\"],[0.6666666666666666,\"#ed7953\"],[0.7777777777777778,\"#fb9f3a\"],[0.8888888888888888,\"#fdca26\"],[1.0,\"#f0f921\"]]}],\"contourcarpet\":[{\"type\":\"contourcarpet\",\"colorbar\":{\"outlinewidth\":0,\"ticks\":\"\"}}],\"contour\":[{\"type\":\"contour\",\"colorbar\":{\"outlinewidth\":0,\"ticks\":\"\"},\"colorscale\":[[0.0,\"#0d0887\"],[0.1111111111111111,\"#46039f\"],[0.2222222222222222,\"#7201a8\"],[0.3333333333333333,\"#9c179e\"],[0.4444444444444444,\"#bd3786\"],[0.5555555555555556,\"#d8576b\"],[0.6666666666666666,\"#ed7953\"],[0.7777777777777778,\"#fb9f3a\"],[0.8888888888888888,\"#fdca26\"],[1.0,\"#f0f921\"]]}],\"surface\":[{\"type\":\"surface\",\"colorbar\":{\"outlinewidth\":0,\"ticks\":\"\"},\"colorscale\":[[0.0,\"#0d0887\"],[0.1111111111111111,\"#46039f\"],[0.2222222222222222,\"#7201a8\"],[0.3333333333333333,\"#9c179e\"],[0.4444444444444444,\"#bd3786\"],[0.5555555555555556,\"#d8576b\"],[0.6666666666666666,\"#ed7953\"],[0.7777777777777778,\"#fb9f3a\"],[0.8888888888888888,\"#fdca26\"],[1.0,\"#f0f921\"]]}],\"mesh3d\":[{\"type\":\"mesh3d\",\"colorbar\":{\"outlinewidth\":0,\"ticks\":\"\"}}],\"scatter\":[{\"fillpattern\":{\"fillmode\":\"overlay\",\"size\":10,\"solidity\":0.2},\"type\":\"scatter\"}],\"parcoords\":[{\"type\":\"parcoords\",\"line\":{\"colorbar\":{\"outlinewidth\":0,\"ticks\":\"\"}}}],\"scatterpolargl\":[{\"type\":\"scatterpolargl\",\"marker\":{\"colorbar\":{\"outlinewidth\":0,\"ticks\":\"\"}}}],\"bar\":[{\"error_x\":{\"color\":\"#2a3f5f\"},\"error_y\":{\"color\":\"#2a3f5f\"},\"marker\":{\"line\":{\"color\":\"#E5ECF6\",\"width\":0.5},\"pattern\":{\"fillmode\":\"overlay\",\"size\":10,\"solidity\":0.2}},\"type\":\"bar\"}],\"scattergeo\":[{\"type\":\"scattergeo\",\"marker\":{\"colorbar\":{\"outlinewidth\":0,\"ticks\":\"\"}}}],\"scatterpolar\":[{\"type\":\"scatterpolar\",\"marker\":{\"colorbar\":{\"outlinewidth\":0,\"ticks\":\"\"}}}],\"histogram\":[{\"marker\":{\"pattern\":{\"fillmode\":\"overlay\",\"size\":10,\"solidity\":0.2}},\"type\":\"histogram\"}],\"scattergl\":[{\"type\":\"scattergl\",\"marker\":{\"colorbar\":{\"outlinewidth\":0,\"ticks\":\"\"}}}],\"scatter3d\":[{\"type\":\"scatter3d\",\"line\":{\"colorbar\":{\"outlinewidth\":0,\"ticks\":\"\"}},\"marker\":{\"colorbar\":{\"outlinewidth\":0,\"ticks\":\"\"}}}],\"scattermapbox\":[{\"type\":\"scattermapbox\",\"marker\":{\"colorbar\":{\"outlinewidth\":0,\"ticks\":\"\"}}}],\"scatterternary\":[{\"type\":\"scatterternary\",\"marker\":{\"colorbar\":{\"outlinewidth\":0,\"ticks\":\"\"}}}],\"scattercarpet\":[{\"type\":\"scattercarpet\",\"marker\":{\"colorbar\":{\"outlinewidth\":0,\"ticks\":\"\"}}}],\"carpet\":[{\"aaxis\":{\"endlinecolor\":\"#2a3f5f\",\"gridcolor\":\"white\",\"linecolor\":\"white\",\"minorgridcolor\":\"white\",\"startlinecolor\":\"#2a3f5f\"},\"baxis\":{\"endlinecolor\":\"#2a3f5f\",\"gridcolor\":\"white\",\"linecolor\":\"white\",\"minorgridcolor\":\"white\",\"startlinecolor\":\"#2a3f5f\"},\"type\":\"carpet\"}],\"table\":[{\"cells\":{\"fill\":{\"color\":\"#EBF0F8\"},\"line\":{\"color\":\"white\"}},\"header\":{\"fill\":{\"color\":\"#C8D4E3\"},\"line\":{\"color\":\"white\"}},\"type\":\"table\"}],\"barpolar\":[{\"marker\":{\"line\":{\"color\":\"#E5ECF6\",\"width\":0.5},\"pattern\":{\"fillmode\":\"overlay\",\"size\":10,\"solidity\":0.2}},\"type\":\"barpolar\"}],\"pie\":[{\"automargin\":true,\"type\":\"pie\"}]},\"layout\":{\"autotypenumbers\":\"strict\",\"colorway\":[\"#636efa\",\"#EF553B\",\"#00cc96\",\"#ab63fa\",\"#FFA15A\",\"#19d3f3\",\"#FF6692\",\"#B6E880\",\"#FF97FF\",\"#FECB52\"],\"font\":{\"color\":\"#2a3f5f\"},\"hovermode\":\"closest\",\"hoverlabel\":{\"align\":\"left\"},\"paper_bgcolor\":\"white\",\"plot_bgcolor\":\"#E5ECF6\",\"polar\":{\"bgcolor\":\"#E5ECF6\",\"angularaxis\":{\"gridcolor\":\"white\",\"linecolor\":\"white\",\"ticks\":\"\"},\"radialaxis\":{\"gridcolor\":\"white\",\"linecolor\":\"white\",\"ticks\":\"\"}},\"ternary\":{\"bgcolor\":\"#E5ECF6\",\"aaxis\":{\"gridcolor\":\"white\",\"linecolor\":\"white\",\"ticks\":\"\"},\"baxis\":{\"gridcolor\":\"white\",\"linecolor\":\"white\",\"ticks\":\"\"},\"caxis\":{\"gridcolor\":\"white\",\"linecolor\":\"white\",\"ticks\":\"\"}},\"coloraxis\":{\"colorbar\":{\"outlinewidth\":0,\"ticks\":\"\"}},\"colorscale\":{\"sequential\":[[0.0,\"#0d0887\"],[0.1111111111111111,\"#46039f\"],[0.2222222222222222,\"#7201a8\"],[0.3333333333333333,\"#9c179e\"],[0.4444444444444444,\"#bd3786\"],[0.5555555555555556,\"#d8576b\"],[0.6666666666666666,\"#ed7953\"],[0.7777777777777778,\"#fb9f3a\"],[0.8888888888888888,\"#fdca26\"],[1.0,\"#f0f921\"]],\"sequentialminus\":[[0.0,\"#0d0887\"],[0.1111111111111111,\"#46039f\"],[0.2222222222222222,\"#7201a8\"],[0.3333333333333333,\"#9c179e\"],[0.4444444444444444,\"#bd3786\"],[0.5555555555555556,\"#d8576b\"],[0.6666666666666666,\"#ed7953\"],[0.7777777777777778,\"#fb9f3a\"],[0.8888888888888888,\"#fdca26\"],[1.0,\"#f0f921\"]],\"diverging\":[[0,\"#8e0152\"],[0.1,\"#c51b7d\"],[0.2,\"#de77ae\"],[0.3,\"#f1b6da\"],[0.4,\"#fde0ef\"],[0.5,\"#f7f7f7\"],[0.6,\"#e6f5d0\"],[0.7,\"#b8e186\"],[0.8,\"#7fbc41\"],[0.9,\"#4d9221\"],[1,\"#276419\"]]},\"xaxis\":{\"gridcolor\":\"white\",\"linecolor\":\"white\",\"ticks\":\"\",\"title\":{\"standoff\":15},\"zerolinecolor\":\"white\",\"automargin\":true,\"zerolinewidth\":2},\"yaxis\":{\"gridcolor\":\"white\",\"linecolor\":\"white\",\"ticks\":\"\",\"title\":{\"standoff\":15},\"zerolinecolor\":\"white\",\"automargin\":true,\"zerolinewidth\":2},\"scene\":{\"xaxis\":{\"backgroundcolor\":\"#E5ECF6\",\"gridcolor\":\"white\",\"linecolor\":\"white\",\"showbackground\":true,\"ticks\":\"\",\"zerolinecolor\":\"white\",\"gridwidth\":2},\"yaxis\":{\"backgroundcolor\":\"#E5ECF6\",\"gridcolor\":\"white\",\"linecolor\":\"white\",\"showbackground\":true,\"ticks\":\"\",\"zerolinecolor\":\"white\",\"gridwidth\":2},\"zaxis\":{\"backgroundcolor\":\"#E5ECF6\",\"gridcolor\":\"white\",\"linecolor\":\"white\",\"showbackground\":true,\"ticks\":\"\",\"zerolinecolor\":\"white\",\"gridwidth\":2}},\"shapedefaults\":{\"line\":{\"color\":\"#2a3f5f\"}},\"annotationdefaults\":{\"arrowcolor\":\"#2a3f5f\",\"arrowhead\":0,\"arrowwidth\":1},\"geo\":{\"bgcolor\":\"white\",\"landcolor\":\"#E5ECF6\",\"subunitcolor\":\"white\",\"showland\":true,\"showlakes\":true,\"lakecolor\":\"white\"},\"title\":{\"x\":0.05},\"mapbox\":{\"style\":\"light\"}}},\"xaxis\":{\"anchor\":\"y\",\"domain\":[0.0,1.0],\"title\":{\"text\":\"bioma\"}},\"yaxis\":{\"anchor\":\"x\",\"domain\":[0.0,1.0],\"title\":{\"text\":\"sum of 0\"}},\"legend\":{\"title\":{\"text\":\"datahora\"},\"tracegroupgap\":0},\"margin\":{\"t\":60},\"barmode\":\"group\",\"height\":400},                        {\"responsive\": true}                    ).then(function(){\n",
       "                            \n",
       "var gd = document.getElementById('8b249624-c3a5-476b-a6ea-639d40bed6dc');\n",
       "var x = new MutationObserver(function (mutations, observer) {{\n",
       "        var display = window.getComputedStyle(gd).display;\n",
       "        if (!display || display === 'none') {{\n",
       "            console.log([gd, 'removed!']);\n",
       "            Plotly.purge(gd);\n",
       "            observer.disconnect();\n",
       "        }}\n",
       "}});\n",
       "\n",
       "// Listen for the removal of the full notebook cells\n",
       "var notebookContainer = gd.closest('#notebook-container');\n",
       "if (notebookContainer) {{\n",
       "    x.observe(notebookContainer, {childList: true});\n",
       "}}\n",
       "\n",
       "// Listen for the clearing of the current output cell\n",
       "var outputEl = gd.closest('.output');\n",
       "if (outputEl) {{\n",
       "    x.observe(outputEl, {childList: true});\n",
       "}}\n",
       "\n",
       "                        })                };                });            </script>        </div>"
      ]
     },
     "metadata": {},
     "output_type": "display_data"
    }
   ],
   "source": [
    "#grafico para mostrar a diferença\n",
    "graf_difenca = px.histogram(var_2011_2022, x='bioma', y=0,\n",
    "             color='datahora', barmode='group',\n",
    "             height=400)\n",
    "graf_difenca "
   ]
  },
  {
   "cell_type": "markdown",
   "metadata": {},
   "source": [
    "## Queimadas dos biomas por anos"
   ]
  },
  {
   "cell_type": "code",
   "execution_count": 36,
   "metadata": {},
   "outputs": [
    {
     "data": {
      "application/vnd.plotly.v1+json": {
       "config": {
        "plotlyServerURL": "https://plot.ly"
       },
       "data": [
        {
         "alignmentgroup": "True",
         "bingroup": "x",
         "histfunc": "sum",
         "hovertemplate": "bioma=Amazonia<br>datahora=%{x}<br>sum of 0=%{y}<extra></extra>",
         "legendgroup": "Amazonia",
         "marker": {
          "color": "#636efa",
          "pattern": {
           "shape": ""
          }
         },
         "name": "Amazonia",
         "offsetgroup": "Amazonia",
         "orientation": "v",
         "showlegend": true,
         "type": "histogram",
         "x": [
          2011,
          2011,
          2011,
          2011,
          2011,
          2011,
          2011,
          2011,
          2011,
          2012,
          2012,
          2012,
          2012,
          2012,
          2012,
          2012,
          2012,
          2012,
          2013,
          2013,
          2013,
          2013,
          2013,
          2013,
          2013,
          2013,
          2013,
          2014,
          2014,
          2014,
          2014,
          2014,
          2014,
          2014,
          2014,
          2014,
          2015,
          2015,
          2015,
          2015,
          2015,
          2015,
          2015,
          2015,
          2015,
          2016,
          2016,
          2016,
          2016,
          2016,
          2016,
          2016,
          2016,
          2016,
          2017,
          2017,
          2017,
          2017,
          2017,
          2017,
          2017,
          2017,
          2017,
          2018,
          2018,
          2018,
          2018,
          2018,
          2018,
          2018,
          2018,
          2018,
          2019,
          2019,
          2019,
          2019,
          2019,
          2019,
          2019,
          2019,
          2019,
          2020,
          2020,
          2020,
          2020,
          2020,
          2020,
          2020,
          2020,
          2020,
          2021,
          2021,
          2021,
          2021,
          2021,
          2021,
          2021,
          2021,
          2021,
          2022,
          2022,
          2022,
          2022,
          2022,
          2022,
          2022,
          2022,
          2022
         ],
         "xaxis": "x",
         "y": [
          67192,
          41173,
          20098,
          12321,
          10551,
          4345,
          3327,
          2594,
          1546,
          376382,
          216962,
          92117,
          88657,
          75584,
          27571,
          25579,
          13073,
          5381,
          177170,
          130898,
          40269,
          38458,
          38150,
          26601,
          20104,
          10397,
          3697,
          318738,
          200890,
          63979,
          58873,
          56510,
          26638,
          22756,
          16440,
          5870,
          539270,
          212686,
          160514,
          129645,
          115440,
          32524,
          31678,
          27030,
          8497,
          275266,
          188078,
          125793,
          105078,
          65607,
          60122,
          45510,
          21602,
          5294,
          713984,
          284937,
          138590,
          114942,
          98870,
          35270,
          17624,
          15116,
          14780,
          295829,
          191369,
          141130,
          128131,
          63554,
          42136,
          41077,
          11239,
          4688,
          603601,
          404639,
          245495,
          210888,
          163234,
          91692,
          67174,
          17823,
          5647,
          963316,
          596154,
          278338,
          258021,
          87743,
          85243,
          40837,
          15874,
          8937,
          550797,
          388832,
          363232,
          298018,
          111755,
          68705,
          21937,
          10580,
          7465,
          40158,
          21070,
          20904,
          12386,
          11837,
          4053,
          1014,
          984,
          355
         ],
         "yaxis": "y"
        },
        {
         "alignmentgroup": "True",
         "bingroup": "x",
         "histfunc": "sum",
         "hovertemplate": "bioma=Cerrado<br>datahora=%{x}<br>sum of 0=%{y}<extra></extra>",
         "legendgroup": "Cerrado",
         "marker": {
          "color": "#EF553B",
          "pattern": {
           "shape": ""
          }
         },
         "name": "Cerrado",
         "offsetgroup": "Cerrado",
         "orientation": "v",
         "showlegend": true,
         "type": "histogram",
         "x": [
          2011,
          2011,
          2011,
          2011,
          2011,
          2011,
          2011,
          2011,
          2011,
          2011,
          2011,
          2011,
          2012,
          2012,
          2012,
          2012,
          2012,
          2012,
          2012,
          2012,
          2012,
          2012,
          2012,
          2012,
          2013,
          2013,
          2013,
          2013,
          2013,
          2013,
          2013,
          2013,
          2013,
          2013,
          2013,
          2013,
          2013,
          2014,
          2014,
          2014,
          2014,
          2014,
          2014,
          2014,
          2014,
          2014,
          2014,
          2014,
          2014,
          2015,
          2015,
          2015,
          2015,
          2015,
          2015,
          2015,
          2015,
          2015,
          2015,
          2015,
          2015,
          2016,
          2016,
          2016,
          2016,
          2016,
          2016,
          2016,
          2016,
          2016,
          2016,
          2016,
          2016,
          2016,
          2017,
          2017,
          2017,
          2017,
          2017,
          2017,
          2017,
          2017,
          2017,
          2017,
          2017,
          2017,
          2017,
          2018,
          2018,
          2018,
          2018,
          2018,
          2018,
          2018,
          2018,
          2018,
          2018,
          2018,
          2018,
          2018,
          2019,
          2019,
          2019,
          2019,
          2019,
          2019,
          2019,
          2019,
          2019,
          2019,
          2019,
          2019,
          2019,
          2020,
          2020,
          2020,
          2020,
          2020,
          2020,
          2020,
          2020,
          2020,
          2020,
          2020,
          2020,
          2020,
          2021,
          2021,
          2021,
          2021,
          2021,
          2021,
          2021,
          2021,
          2021,
          2021,
          2021,
          2021,
          2022,
          2022,
          2022,
          2022,
          2022,
          2022,
          2022,
          2022,
          2022,
          2022,
          2022,
          2022
         ],
         "xaxis": "x",
         "y": [
          41492,
          38494,
          30186,
          26781,
          25216,
          23186,
          23167,
          14450,
          8124,
          813,
          66,
          8,
          299846,
          258420,
          165894,
          139761,
          130416,
          99729,
          74469,
          23536,
          11455,
          2000,
          129,
          17,
          132882,
          125203,
          73706,
          56114,
          43730,
          39661,
          36833,
          18657,
          14789,
          1327,
          190,
          6,
          1,
          188526,
          186092,
          109446,
          89240,
          74863,
          71246,
          58873,
          24086,
          9939,
          2859,
          190,
          59,
          270578,
          212834,
          122054,
          117789,
          117039,
          83239,
          55597,
          16122,
          9036,
          1832,
          79,
          66,
          194984,
          176341,
          126733,
          74410,
          48222,
          40496,
          34280,
          18568,
          12623,
          2269,
          195,
          93,
          2,
          272918,
          256125,
          185232,
          122457,
          63100,
          62587,
          52391,
          22328,
          20292,
          3590,
          158,
          96,
          2,
          158319,
          134503,
          86682,
          73195,
          49424,
          39398,
          34383,
          14639,
          13035,
          948,
          169,
          15,
          1,
          324457,
          268935,
          259064,
          176983,
          117146,
          96728,
          79796,
          54658,
          23780,
          3761,
          694,
          77,
          6,
          373590,
          312345,
          304953,
          135978,
          111578,
          95919,
          94288,
          63486,
          54165,
          3258,
          941,
          73,
          2,
          273757,
          242990,
          229508,
          198174,
          174887,
          152449,
          151581,
          79722,
          65305,
          5535,
          1292,
          46,
          14898,
          11743,
          7422,
          5687,
          5405,
          4701,
          4358,
          918,
          615,
          251,
          16,
          4
         ],
         "yaxis": "y"
        },
        {
         "alignmentgroup": "True",
         "bingroup": "x",
         "histfunc": "sum",
         "hovertemplate": "bioma=Mata Atlantica<br>datahora=%{x}<br>sum of 0=%{y}<extra></extra>",
         "legendgroup": "Mata Atlantica",
         "marker": {
          "color": "#00cc96",
          "pattern": {
           "shape": ""
          }
         },
         "name": "Mata Atlantica",
         "offsetgroup": "Mata Atlantica",
         "orientation": "v",
         "showlegend": true,
         "type": "histogram",
         "x": [
          2011,
          2011,
          2011,
          2011,
          2011,
          2011,
          2011,
          2011,
          2011,
          2011,
          2011,
          2011,
          2011,
          2011,
          2011,
          2012,
          2012,
          2012,
          2012,
          2012,
          2012,
          2012,
          2012,
          2012,
          2012,
          2012,
          2012,
          2012,
          2012,
          2012,
          2013,
          2013,
          2013,
          2013,
          2013,
          2013,
          2013,
          2013,
          2013,
          2013,
          2013,
          2013,
          2013,
          2013,
          2013,
          2014,
          2014,
          2014,
          2014,
          2014,
          2014,
          2014,
          2014,
          2014,
          2014,
          2014,
          2014,
          2014,
          2014,
          2014,
          2015,
          2015,
          2015,
          2015,
          2015,
          2015,
          2015,
          2015,
          2015,
          2015,
          2015,
          2015,
          2015,
          2015,
          2015,
          2016,
          2016,
          2016,
          2016,
          2016,
          2016,
          2016,
          2016,
          2016,
          2016,
          2016,
          2016,
          2016,
          2016,
          2016,
          2017,
          2017,
          2017,
          2017,
          2017,
          2017,
          2017,
          2017,
          2017,
          2017,
          2017,
          2017,
          2017,
          2017,
          2017,
          2018,
          2018,
          2018,
          2018,
          2018,
          2018,
          2018,
          2018,
          2018,
          2018,
          2018,
          2018,
          2018,
          2018,
          2018,
          2019,
          2019,
          2019,
          2019,
          2019,
          2019,
          2019,
          2019,
          2019,
          2019,
          2019,
          2019,
          2019,
          2019,
          2019,
          2020,
          2020,
          2020,
          2020,
          2020,
          2020,
          2020,
          2020,
          2020,
          2020,
          2020,
          2020,
          2020,
          2020,
          2020,
          2021,
          2021,
          2021,
          2021,
          2021,
          2021,
          2021,
          2021,
          2021,
          2021,
          2021,
          2021,
          2021,
          2021,
          2021,
          2022,
          2022,
          2022,
          2022,
          2022,
          2022,
          2022,
          2022,
          2022,
          2022,
          2022,
          2022,
          2022,
          2022,
          2022
         ],
         "xaxis": "x",
         "y": [
          18089,
          14457,
          10239,
          3691,
          3525,
          2489,
          2437,
          2223,
          1340,
          1251,
          946,
          693,
          596,
          475,
          265,
          35315,
          26227,
          23228,
          17563,
          10531,
          8978,
          6935,
          5813,
          5234,
          4601,
          3242,
          2065,
          1775,
          1766,
          824,
          22414,
          21945,
          20140,
          14853,
          9646,
          5674,
          5457,
          3682,
          3680,
          3436,
          1923,
          1889,
          1862,
          1028,
          471,
          48584,
          25773,
          18763,
          13270,
          11404,
          8692,
          8046,
          4052,
          2937,
          2613,
          1658,
          1442,
          811,
          692,
          296,
          49854,
          28377,
          15857,
          12978,
          10710,
          6974,
          6429,
          5771,
          5053,
          4489,
          2691,
          2062,
          1789,
          1690,
          659,
          28439,
          25248,
          21368,
          14945,
          14151,
          13335,
          8170,
          5985,
          5983,
          5267,
          4012,
          2343,
          1998,
          1607,
          841,
          39163,
          31748,
          26350,
          11449,
          9528,
          8267,
          8061,
          7062,
          4129,
          3358,
          3002,
          2897,
          1489,
          1222,
          521,
          22566,
          21623,
          21039,
          11077,
          9392,
          6549,
          4337,
          3862,
          3709,
          2712,
          2537,
          2362,
          1722,
          1567,
          961,
          82225,
          44002,
          33910,
          31188,
          19875,
          18698,
          13000,
          12089,
          11059,
          7122,
          5357,
          5323,
          2337,
          2169,
          1276,
          55792,
          48377,
          40825,
          23860,
          19024,
          16292,
          10683,
          9693,
          6299,
          6076,
          5872,
          5155,
          2300,
          1649,
          1099,
          85437,
          59646,
          46078,
          29124,
          22222,
          14820,
          13175,
          9969,
          8943,
          5911,
          4486,
          3556,
          2657,
          2331,
          1338,
          3132,
          1695,
          1328,
          954,
          933,
          853,
          745,
          468,
          199,
          100,
          79,
          69,
          42,
          36,
          15
         ],
         "yaxis": "y"
        },
        {
         "alignmentgroup": "True",
         "bingroup": "x",
         "histfunc": "sum",
         "hovertemplate": "bioma=Caatinga<br>datahora=%{x}<br>sum of 0=%{y}<extra></extra>",
         "legendgroup": "Caatinga",
         "marker": {
          "color": "#ab63fa",
          "pattern": {
           "shape": ""
          }
         },
         "name": "Caatinga",
         "offsetgroup": "Caatinga",
         "orientation": "v",
         "showlegend": true,
         "type": "histogram",
         "x": [
          2011,
          2011,
          2011,
          2011,
          2011,
          2011,
          2011,
          2011,
          2011,
          2011,
          2012,
          2012,
          2012,
          2012,
          2012,
          2012,
          2012,
          2012,
          2012,
          2012,
          2013,
          2013,
          2013,
          2013,
          2013,
          2013,
          2013,
          2013,
          2013,
          2013,
          2014,
          2014,
          2014,
          2014,
          2014,
          2014,
          2014,
          2014,
          2014,
          2014,
          2015,
          2015,
          2015,
          2015,
          2015,
          2015,
          2015,
          2015,
          2015,
          2015,
          2016,
          2016,
          2016,
          2016,
          2016,
          2016,
          2016,
          2016,
          2016,
          2016,
          2017,
          2017,
          2017,
          2017,
          2017,
          2017,
          2017,
          2017,
          2017,
          2017,
          2018,
          2018,
          2018,
          2018,
          2018,
          2018,
          2018,
          2018,
          2018,
          2018,
          2019,
          2019,
          2019,
          2019,
          2019,
          2019,
          2019,
          2019,
          2019,
          2019,
          2020,
          2020,
          2020,
          2020,
          2020,
          2020,
          2020,
          2020,
          2020,
          2020,
          2021,
          2021,
          2021,
          2021,
          2021,
          2021,
          2021,
          2021,
          2021,
          2021,
          2022,
          2022,
          2022,
          2022,
          2022,
          2022,
          2022,
          2022,
          2022,
          2022
         ],
         "xaxis": "x",
         "y": [
          10248,
          10044,
          10007,
          3769,
          1721,
          1393,
          948,
          590,
          363,
          295,
          64426,
          47455,
          37217,
          9766,
          5764,
          5762,
          5144,
          4672,
          2155,
          1525,
          29348,
          27881,
          24288,
          7179,
          4076,
          3842,
          2683,
          1615,
          1287,
          792,
          37995,
          22822,
          19973,
          5467,
          3863,
          3363,
          2862,
          2340,
          920,
          558,
          66189,
          47367,
          28644,
          6591,
          4811,
          4333,
          3461,
          2328,
          1214,
          1145,
          55778,
          35561,
          24540,
          6819,
          6171,
          4334,
          3901,
          915,
          848,
          802,
          43682,
          32574,
          30094,
          5449,
          4740,
          3878,
          3672,
          1091,
          765,
          370,
          60579,
          31051,
          25824,
          7934,
          5807,
          4254,
          2168,
          1432,
          1134,
          660,
          116280,
          72016,
          43640,
          20663,
          12771,
          11812,
          5070,
          3653,
          1204,
          784,
          112679,
          71081,
          49156,
          18003,
          15905,
          11665,
          3390,
          3229,
          1350,
          892,
          153437,
          82478,
          82344,
          22532,
          20250,
          12650,
          7610,
          3496,
          2210,
          1963,
          4909,
          3404,
          3134,
          923,
          538,
          311,
          308,
          268,
          38,
          27
         ],
         "yaxis": "y"
        },
        {
         "alignmentgroup": "True",
         "bingroup": "x",
         "histfunc": "sum",
         "hovertemplate": "bioma=Pantanal<br>datahora=%{x}<br>sum of 0=%{y}<extra></extra>",
         "legendgroup": "Pantanal",
         "marker": {
          "color": "#FFA15A",
          "pattern": {
           "shape": ""
          }
         },
         "name": "Pantanal",
         "offsetgroup": "Pantanal",
         "orientation": "v",
         "showlegend": true,
         "type": "histogram",
         "x": [
          2011,
          2011,
          2012,
          2012,
          2013,
          2013,
          2014,
          2014,
          2015,
          2015,
          2016,
          2016,
          2017,
          2017,
          2018,
          2018,
          2019,
          2019,
          2020,
          2020,
          2021,
          2021,
          2022,
          2022
         ],
         "xaxis": "x",
         "y": [
          9334,
          8064,
          73462,
          16166,
          23557,
          21644,
          9966,
          4849,
          30951,
          17250,
          49577,
          8674,
          47322,
          28859,
          12622,
          9296,
          187087,
          43208,
          508632,
          234345,
          191190,
          101771,
          1112,
          328
         ],
         "yaxis": "y"
        },
        {
         "alignmentgroup": "True",
         "bingroup": "x",
         "histfunc": "sum",
         "hovertemplate": "bioma=Pampa<br>datahora=%{x}<br>sum of 0=%{y}<extra></extra>",
         "legendgroup": "Pampa",
         "marker": {
          "color": "#19d3f3",
          "pattern": {
           "shape": ""
          }
         },
         "name": "Pampa",
         "offsetgroup": "Pampa",
         "orientation": "v",
         "showlegend": true,
         "type": "histogram",
         "x": [
          2011,
          2012,
          2012,
          2013,
          2013,
          2014,
          2015,
          2015,
          2016,
          2016,
          2017,
          2018,
          2018,
          2019,
          2019,
          2020,
          2020,
          2021,
          2021,
          2022
         ],
         "xaxis": "x",
         "y": [
          1511,
          7931,
          12,
          6384,
          2,
          5271,
          5746,
          1,
          9438,
          5,
          7777,
          6462,
          1,
          16320,
          1,
          20454,
          17,
          16398,
          6,
          679
         ],
         "yaxis": "y"
        }
       ],
       "layout": {
        "barmode": "group",
        "height": 400,
        "legend": {
         "title": {
          "text": "bioma"
         },
         "tracegroupgap": 0
        },
        "margin": {
         "t": 60
        },
        "template": {
         "data": {
          "bar": [
           {
            "error_x": {
             "color": "#2a3f5f"
            },
            "error_y": {
             "color": "#2a3f5f"
            },
            "marker": {
             "line": {
              "color": "#E5ECF6",
              "width": 0.5
             },
             "pattern": {
              "fillmode": "overlay",
              "size": 10,
              "solidity": 0.2
             }
            },
            "type": "bar"
           }
          ],
          "barpolar": [
           {
            "marker": {
             "line": {
              "color": "#E5ECF6",
              "width": 0.5
             },
             "pattern": {
              "fillmode": "overlay",
              "size": 10,
              "solidity": 0.2
             }
            },
            "type": "barpolar"
           }
          ],
          "carpet": [
           {
            "aaxis": {
             "endlinecolor": "#2a3f5f",
             "gridcolor": "white",
             "linecolor": "white",
             "minorgridcolor": "white",
             "startlinecolor": "#2a3f5f"
            },
            "baxis": {
             "endlinecolor": "#2a3f5f",
             "gridcolor": "white",
             "linecolor": "white",
             "minorgridcolor": "white",
             "startlinecolor": "#2a3f5f"
            },
            "type": "carpet"
           }
          ],
          "choropleth": [
           {
            "colorbar": {
             "outlinewidth": 0,
             "ticks": ""
            },
            "type": "choropleth"
           }
          ],
          "contour": [
           {
            "colorbar": {
             "outlinewidth": 0,
             "ticks": ""
            },
            "colorscale": [
             [
              0,
              "#0d0887"
             ],
             [
              0.1111111111111111,
              "#46039f"
             ],
             [
              0.2222222222222222,
              "#7201a8"
             ],
             [
              0.3333333333333333,
              "#9c179e"
             ],
             [
              0.4444444444444444,
              "#bd3786"
             ],
             [
              0.5555555555555556,
              "#d8576b"
             ],
             [
              0.6666666666666666,
              "#ed7953"
             ],
             [
              0.7777777777777778,
              "#fb9f3a"
             ],
             [
              0.8888888888888888,
              "#fdca26"
             ],
             [
              1,
              "#f0f921"
             ]
            ],
            "type": "contour"
           }
          ],
          "contourcarpet": [
           {
            "colorbar": {
             "outlinewidth": 0,
             "ticks": ""
            },
            "type": "contourcarpet"
           }
          ],
          "heatmap": [
           {
            "colorbar": {
             "outlinewidth": 0,
             "ticks": ""
            },
            "colorscale": [
             [
              0,
              "#0d0887"
             ],
             [
              0.1111111111111111,
              "#46039f"
             ],
             [
              0.2222222222222222,
              "#7201a8"
             ],
             [
              0.3333333333333333,
              "#9c179e"
             ],
             [
              0.4444444444444444,
              "#bd3786"
             ],
             [
              0.5555555555555556,
              "#d8576b"
             ],
             [
              0.6666666666666666,
              "#ed7953"
             ],
             [
              0.7777777777777778,
              "#fb9f3a"
             ],
             [
              0.8888888888888888,
              "#fdca26"
             ],
             [
              1,
              "#f0f921"
             ]
            ],
            "type": "heatmap"
           }
          ],
          "heatmapgl": [
           {
            "colorbar": {
             "outlinewidth": 0,
             "ticks": ""
            },
            "colorscale": [
             [
              0,
              "#0d0887"
             ],
             [
              0.1111111111111111,
              "#46039f"
             ],
             [
              0.2222222222222222,
              "#7201a8"
             ],
             [
              0.3333333333333333,
              "#9c179e"
             ],
             [
              0.4444444444444444,
              "#bd3786"
             ],
             [
              0.5555555555555556,
              "#d8576b"
             ],
             [
              0.6666666666666666,
              "#ed7953"
             ],
             [
              0.7777777777777778,
              "#fb9f3a"
             ],
             [
              0.8888888888888888,
              "#fdca26"
             ],
             [
              1,
              "#f0f921"
             ]
            ],
            "type": "heatmapgl"
           }
          ],
          "histogram": [
           {
            "marker": {
             "pattern": {
              "fillmode": "overlay",
              "size": 10,
              "solidity": 0.2
             }
            },
            "type": "histogram"
           }
          ],
          "histogram2d": [
           {
            "colorbar": {
             "outlinewidth": 0,
             "ticks": ""
            },
            "colorscale": [
             [
              0,
              "#0d0887"
             ],
             [
              0.1111111111111111,
              "#46039f"
             ],
             [
              0.2222222222222222,
              "#7201a8"
             ],
             [
              0.3333333333333333,
              "#9c179e"
             ],
             [
              0.4444444444444444,
              "#bd3786"
             ],
             [
              0.5555555555555556,
              "#d8576b"
             ],
             [
              0.6666666666666666,
              "#ed7953"
             ],
             [
              0.7777777777777778,
              "#fb9f3a"
             ],
             [
              0.8888888888888888,
              "#fdca26"
             ],
             [
              1,
              "#f0f921"
             ]
            ],
            "type": "histogram2d"
           }
          ],
          "histogram2dcontour": [
           {
            "colorbar": {
             "outlinewidth": 0,
             "ticks": ""
            },
            "colorscale": [
             [
              0,
              "#0d0887"
             ],
             [
              0.1111111111111111,
              "#46039f"
             ],
             [
              0.2222222222222222,
              "#7201a8"
             ],
             [
              0.3333333333333333,
              "#9c179e"
             ],
             [
              0.4444444444444444,
              "#bd3786"
             ],
             [
              0.5555555555555556,
              "#d8576b"
             ],
             [
              0.6666666666666666,
              "#ed7953"
             ],
             [
              0.7777777777777778,
              "#fb9f3a"
             ],
             [
              0.8888888888888888,
              "#fdca26"
             ],
             [
              1,
              "#f0f921"
             ]
            ],
            "type": "histogram2dcontour"
           }
          ],
          "mesh3d": [
           {
            "colorbar": {
             "outlinewidth": 0,
             "ticks": ""
            },
            "type": "mesh3d"
           }
          ],
          "parcoords": [
           {
            "line": {
             "colorbar": {
              "outlinewidth": 0,
              "ticks": ""
             }
            },
            "type": "parcoords"
           }
          ],
          "pie": [
           {
            "automargin": true,
            "type": "pie"
           }
          ],
          "scatter": [
           {
            "fillpattern": {
             "fillmode": "overlay",
             "size": 10,
             "solidity": 0.2
            },
            "type": "scatter"
           }
          ],
          "scatter3d": [
           {
            "line": {
             "colorbar": {
              "outlinewidth": 0,
              "ticks": ""
             }
            },
            "marker": {
             "colorbar": {
              "outlinewidth": 0,
              "ticks": ""
             }
            },
            "type": "scatter3d"
           }
          ],
          "scattercarpet": [
           {
            "marker": {
             "colorbar": {
              "outlinewidth": 0,
              "ticks": ""
             }
            },
            "type": "scattercarpet"
           }
          ],
          "scattergeo": [
           {
            "marker": {
             "colorbar": {
              "outlinewidth": 0,
              "ticks": ""
             }
            },
            "type": "scattergeo"
           }
          ],
          "scattergl": [
           {
            "marker": {
             "colorbar": {
              "outlinewidth": 0,
              "ticks": ""
             }
            },
            "type": "scattergl"
           }
          ],
          "scattermapbox": [
           {
            "marker": {
             "colorbar": {
              "outlinewidth": 0,
              "ticks": ""
             }
            },
            "type": "scattermapbox"
           }
          ],
          "scatterpolar": [
           {
            "marker": {
             "colorbar": {
              "outlinewidth": 0,
              "ticks": ""
             }
            },
            "type": "scatterpolar"
           }
          ],
          "scatterpolargl": [
           {
            "marker": {
             "colorbar": {
              "outlinewidth": 0,
              "ticks": ""
             }
            },
            "type": "scatterpolargl"
           }
          ],
          "scatterternary": [
           {
            "marker": {
             "colorbar": {
              "outlinewidth": 0,
              "ticks": ""
             }
            },
            "type": "scatterternary"
           }
          ],
          "surface": [
           {
            "colorbar": {
             "outlinewidth": 0,
             "ticks": ""
            },
            "colorscale": [
             [
              0,
              "#0d0887"
             ],
             [
              0.1111111111111111,
              "#46039f"
             ],
             [
              0.2222222222222222,
              "#7201a8"
             ],
             [
              0.3333333333333333,
              "#9c179e"
             ],
             [
              0.4444444444444444,
              "#bd3786"
             ],
             [
              0.5555555555555556,
              "#d8576b"
             ],
             [
              0.6666666666666666,
              "#ed7953"
             ],
             [
              0.7777777777777778,
              "#fb9f3a"
             ],
             [
              0.8888888888888888,
              "#fdca26"
             ],
             [
              1,
              "#f0f921"
             ]
            ],
            "type": "surface"
           }
          ],
          "table": [
           {
            "cells": {
             "fill": {
              "color": "#EBF0F8"
             },
             "line": {
              "color": "white"
             }
            },
            "header": {
             "fill": {
              "color": "#C8D4E3"
             },
             "line": {
              "color": "white"
             }
            },
            "type": "table"
           }
          ]
         },
         "layout": {
          "annotationdefaults": {
           "arrowcolor": "#2a3f5f",
           "arrowhead": 0,
           "arrowwidth": 1
          },
          "autotypenumbers": "strict",
          "coloraxis": {
           "colorbar": {
            "outlinewidth": 0,
            "ticks": ""
           }
          },
          "colorscale": {
           "diverging": [
            [
             0,
             "#8e0152"
            ],
            [
             0.1,
             "#c51b7d"
            ],
            [
             0.2,
             "#de77ae"
            ],
            [
             0.3,
             "#f1b6da"
            ],
            [
             0.4,
             "#fde0ef"
            ],
            [
             0.5,
             "#f7f7f7"
            ],
            [
             0.6,
             "#e6f5d0"
            ],
            [
             0.7,
             "#b8e186"
            ],
            [
             0.8,
             "#7fbc41"
            ],
            [
             0.9,
             "#4d9221"
            ],
            [
             1,
             "#276419"
            ]
           ],
           "sequential": [
            [
             0,
             "#0d0887"
            ],
            [
             0.1111111111111111,
             "#46039f"
            ],
            [
             0.2222222222222222,
             "#7201a8"
            ],
            [
             0.3333333333333333,
             "#9c179e"
            ],
            [
             0.4444444444444444,
             "#bd3786"
            ],
            [
             0.5555555555555556,
             "#d8576b"
            ],
            [
             0.6666666666666666,
             "#ed7953"
            ],
            [
             0.7777777777777778,
             "#fb9f3a"
            ],
            [
             0.8888888888888888,
             "#fdca26"
            ],
            [
             1,
             "#f0f921"
            ]
           ],
           "sequentialminus": [
            [
             0,
             "#0d0887"
            ],
            [
             0.1111111111111111,
             "#46039f"
            ],
            [
             0.2222222222222222,
             "#7201a8"
            ],
            [
             0.3333333333333333,
             "#9c179e"
            ],
            [
             0.4444444444444444,
             "#bd3786"
            ],
            [
             0.5555555555555556,
             "#d8576b"
            ],
            [
             0.6666666666666666,
             "#ed7953"
            ],
            [
             0.7777777777777778,
             "#fb9f3a"
            ],
            [
             0.8888888888888888,
             "#fdca26"
            ],
            [
             1,
             "#f0f921"
            ]
           ]
          },
          "colorway": [
           "#636efa",
           "#EF553B",
           "#00cc96",
           "#ab63fa",
           "#FFA15A",
           "#19d3f3",
           "#FF6692",
           "#B6E880",
           "#FF97FF",
           "#FECB52"
          ],
          "font": {
           "color": "#2a3f5f"
          },
          "geo": {
           "bgcolor": "white",
           "lakecolor": "white",
           "landcolor": "#E5ECF6",
           "showlakes": true,
           "showland": true,
           "subunitcolor": "white"
          },
          "hoverlabel": {
           "align": "left"
          },
          "hovermode": "closest",
          "mapbox": {
           "style": "light"
          },
          "paper_bgcolor": "white",
          "plot_bgcolor": "#E5ECF6",
          "polar": {
           "angularaxis": {
            "gridcolor": "white",
            "linecolor": "white",
            "ticks": ""
           },
           "bgcolor": "#E5ECF6",
           "radialaxis": {
            "gridcolor": "white",
            "linecolor": "white",
            "ticks": ""
           }
          },
          "scene": {
           "xaxis": {
            "backgroundcolor": "#E5ECF6",
            "gridcolor": "white",
            "gridwidth": 2,
            "linecolor": "white",
            "showbackground": true,
            "ticks": "",
            "zerolinecolor": "white"
           },
           "yaxis": {
            "backgroundcolor": "#E5ECF6",
            "gridcolor": "white",
            "gridwidth": 2,
            "linecolor": "white",
            "showbackground": true,
            "ticks": "",
            "zerolinecolor": "white"
           },
           "zaxis": {
            "backgroundcolor": "#E5ECF6",
            "gridcolor": "white",
            "gridwidth": 2,
            "linecolor": "white",
            "showbackground": true,
            "ticks": "",
            "zerolinecolor": "white"
           }
          },
          "shapedefaults": {
           "line": {
            "color": "#2a3f5f"
           }
          },
          "ternary": {
           "aaxis": {
            "gridcolor": "white",
            "linecolor": "white",
            "ticks": ""
           },
           "baxis": {
            "gridcolor": "white",
            "linecolor": "white",
            "ticks": ""
           },
           "bgcolor": "#E5ECF6",
           "caxis": {
            "gridcolor": "white",
            "linecolor": "white",
            "ticks": ""
           }
          },
          "title": {
           "x": 0.05
          },
          "xaxis": {
           "automargin": true,
           "gridcolor": "white",
           "linecolor": "white",
           "ticks": "",
           "title": {
            "standoff": 15
           },
           "zerolinecolor": "white",
           "zerolinewidth": 2
          },
          "yaxis": {
           "automargin": true,
           "gridcolor": "white",
           "linecolor": "white",
           "ticks": "",
           "title": {
            "standoff": 15
           },
           "zerolinecolor": "white",
           "zerolinewidth": 2
          }
         }
        },
        "xaxis": {
         "anchor": "y",
         "domain": [
          0,
          1
         ],
         "title": {
          "text": "datahora"
         }
        },
        "yaxis": {
         "anchor": "x",
         "domain": [
          0,
          1
         ],
         "title": {
          "text": "sum of 0"
         }
        }
       }
      },
      "text/html": [
       "<div>                            <div id=\"1c147125-a7c2-48b7-8610-d9157af6e9ac\" class=\"plotly-graph-div\" style=\"height:400px; width:100%;\"></div>            <script type=\"text/javascript\">                require([\"plotly\"], function(Plotly) {                    window.PLOTLYENV=window.PLOTLYENV || {};                                    if (document.getElementById(\"1c147125-a7c2-48b7-8610-d9157af6e9ac\")) {                    Plotly.newPlot(                        \"1c147125-a7c2-48b7-8610-d9157af6e9ac\",                        [{\"alignmentgroup\":\"True\",\"bingroup\":\"x\",\"histfunc\":\"sum\",\"hovertemplate\":\"bioma=Amazonia<br>datahora=%{x}<br>sum of 0=%{y}<extra></extra>\",\"legendgroup\":\"Amazonia\",\"marker\":{\"color\":\"#636efa\",\"pattern\":{\"shape\":\"\"}},\"name\":\"Amazonia\",\"offsetgroup\":\"Amazonia\",\"orientation\":\"v\",\"showlegend\":true,\"x\":[2011,2011,2011,2011,2011,2011,2011,2011,2011,2012,2012,2012,2012,2012,2012,2012,2012,2012,2013,2013,2013,2013,2013,2013,2013,2013,2013,2014,2014,2014,2014,2014,2014,2014,2014,2014,2015,2015,2015,2015,2015,2015,2015,2015,2015,2016,2016,2016,2016,2016,2016,2016,2016,2016,2017,2017,2017,2017,2017,2017,2017,2017,2017,2018,2018,2018,2018,2018,2018,2018,2018,2018,2019,2019,2019,2019,2019,2019,2019,2019,2019,2020,2020,2020,2020,2020,2020,2020,2020,2020,2021,2021,2021,2021,2021,2021,2021,2021,2021,2022,2022,2022,2022,2022,2022,2022,2022,2022],\"xaxis\":\"x\",\"y\":[67192,41173,20098,12321,10551,4345,3327,2594,1546,376382,216962,92117,88657,75584,27571,25579,13073,5381,177170,130898,40269,38458,38150,26601,20104,10397,3697,318738,200890,63979,58873,56510,26638,22756,16440,5870,539270,212686,160514,129645,115440,32524,31678,27030,8497,275266,188078,125793,105078,65607,60122,45510,21602,5294,713984,284937,138590,114942,98870,35270,17624,15116,14780,295829,191369,141130,128131,63554,42136,41077,11239,4688,603601,404639,245495,210888,163234,91692,67174,17823,5647,963316,596154,278338,258021,87743,85243,40837,15874,8937,550797,388832,363232,298018,111755,68705,21937,10580,7465,40158,21070,20904,12386,11837,4053,1014,984,355],\"yaxis\":\"y\",\"type\":\"histogram\"},{\"alignmentgroup\":\"True\",\"bingroup\":\"x\",\"histfunc\":\"sum\",\"hovertemplate\":\"bioma=Cerrado<br>datahora=%{x}<br>sum of 0=%{y}<extra></extra>\",\"legendgroup\":\"Cerrado\",\"marker\":{\"color\":\"#EF553B\",\"pattern\":{\"shape\":\"\"}},\"name\":\"Cerrado\",\"offsetgroup\":\"Cerrado\",\"orientation\":\"v\",\"showlegend\":true,\"x\":[2011,2011,2011,2011,2011,2011,2011,2011,2011,2011,2011,2011,2012,2012,2012,2012,2012,2012,2012,2012,2012,2012,2012,2012,2013,2013,2013,2013,2013,2013,2013,2013,2013,2013,2013,2013,2013,2014,2014,2014,2014,2014,2014,2014,2014,2014,2014,2014,2014,2015,2015,2015,2015,2015,2015,2015,2015,2015,2015,2015,2015,2016,2016,2016,2016,2016,2016,2016,2016,2016,2016,2016,2016,2016,2017,2017,2017,2017,2017,2017,2017,2017,2017,2017,2017,2017,2017,2018,2018,2018,2018,2018,2018,2018,2018,2018,2018,2018,2018,2018,2019,2019,2019,2019,2019,2019,2019,2019,2019,2019,2019,2019,2019,2020,2020,2020,2020,2020,2020,2020,2020,2020,2020,2020,2020,2020,2021,2021,2021,2021,2021,2021,2021,2021,2021,2021,2021,2021,2022,2022,2022,2022,2022,2022,2022,2022,2022,2022,2022,2022],\"xaxis\":\"x\",\"y\":[41492,38494,30186,26781,25216,23186,23167,14450,8124,813,66,8,299846,258420,165894,139761,130416,99729,74469,23536,11455,2000,129,17,132882,125203,73706,56114,43730,39661,36833,18657,14789,1327,190,6,1,188526,186092,109446,89240,74863,71246,58873,24086,9939,2859,190,59,270578,212834,122054,117789,117039,83239,55597,16122,9036,1832,79,66,194984,176341,126733,74410,48222,40496,34280,18568,12623,2269,195,93,2,272918,256125,185232,122457,63100,62587,52391,22328,20292,3590,158,96,2,158319,134503,86682,73195,49424,39398,34383,14639,13035,948,169,15,1,324457,268935,259064,176983,117146,96728,79796,54658,23780,3761,694,77,6,373590,312345,304953,135978,111578,95919,94288,63486,54165,3258,941,73,2,273757,242990,229508,198174,174887,152449,151581,79722,65305,5535,1292,46,14898,11743,7422,5687,5405,4701,4358,918,615,251,16,4],\"yaxis\":\"y\",\"type\":\"histogram\"},{\"alignmentgroup\":\"True\",\"bingroup\":\"x\",\"histfunc\":\"sum\",\"hovertemplate\":\"bioma=Mata Atlantica<br>datahora=%{x}<br>sum of 0=%{y}<extra></extra>\",\"legendgroup\":\"Mata Atlantica\",\"marker\":{\"color\":\"#00cc96\",\"pattern\":{\"shape\":\"\"}},\"name\":\"Mata Atlantica\",\"offsetgroup\":\"Mata Atlantica\",\"orientation\":\"v\",\"showlegend\":true,\"x\":[2011,2011,2011,2011,2011,2011,2011,2011,2011,2011,2011,2011,2011,2011,2011,2012,2012,2012,2012,2012,2012,2012,2012,2012,2012,2012,2012,2012,2012,2012,2013,2013,2013,2013,2013,2013,2013,2013,2013,2013,2013,2013,2013,2013,2013,2014,2014,2014,2014,2014,2014,2014,2014,2014,2014,2014,2014,2014,2014,2014,2015,2015,2015,2015,2015,2015,2015,2015,2015,2015,2015,2015,2015,2015,2015,2016,2016,2016,2016,2016,2016,2016,2016,2016,2016,2016,2016,2016,2016,2016,2017,2017,2017,2017,2017,2017,2017,2017,2017,2017,2017,2017,2017,2017,2017,2018,2018,2018,2018,2018,2018,2018,2018,2018,2018,2018,2018,2018,2018,2018,2019,2019,2019,2019,2019,2019,2019,2019,2019,2019,2019,2019,2019,2019,2019,2020,2020,2020,2020,2020,2020,2020,2020,2020,2020,2020,2020,2020,2020,2020,2021,2021,2021,2021,2021,2021,2021,2021,2021,2021,2021,2021,2021,2021,2021,2022,2022,2022,2022,2022,2022,2022,2022,2022,2022,2022,2022,2022,2022,2022],\"xaxis\":\"x\",\"y\":[18089,14457,10239,3691,3525,2489,2437,2223,1340,1251,946,693,596,475,265,35315,26227,23228,17563,10531,8978,6935,5813,5234,4601,3242,2065,1775,1766,824,22414,21945,20140,14853,9646,5674,5457,3682,3680,3436,1923,1889,1862,1028,471,48584,25773,18763,13270,11404,8692,8046,4052,2937,2613,1658,1442,811,692,296,49854,28377,15857,12978,10710,6974,6429,5771,5053,4489,2691,2062,1789,1690,659,28439,25248,21368,14945,14151,13335,8170,5985,5983,5267,4012,2343,1998,1607,841,39163,31748,26350,11449,9528,8267,8061,7062,4129,3358,3002,2897,1489,1222,521,22566,21623,21039,11077,9392,6549,4337,3862,3709,2712,2537,2362,1722,1567,961,82225,44002,33910,31188,19875,18698,13000,12089,11059,7122,5357,5323,2337,2169,1276,55792,48377,40825,23860,19024,16292,10683,9693,6299,6076,5872,5155,2300,1649,1099,85437,59646,46078,29124,22222,14820,13175,9969,8943,5911,4486,3556,2657,2331,1338,3132,1695,1328,954,933,853,745,468,199,100,79,69,42,36,15],\"yaxis\":\"y\",\"type\":\"histogram\"},{\"alignmentgroup\":\"True\",\"bingroup\":\"x\",\"histfunc\":\"sum\",\"hovertemplate\":\"bioma=Caatinga<br>datahora=%{x}<br>sum of 0=%{y}<extra></extra>\",\"legendgroup\":\"Caatinga\",\"marker\":{\"color\":\"#ab63fa\",\"pattern\":{\"shape\":\"\"}},\"name\":\"Caatinga\",\"offsetgroup\":\"Caatinga\",\"orientation\":\"v\",\"showlegend\":true,\"x\":[2011,2011,2011,2011,2011,2011,2011,2011,2011,2011,2012,2012,2012,2012,2012,2012,2012,2012,2012,2012,2013,2013,2013,2013,2013,2013,2013,2013,2013,2013,2014,2014,2014,2014,2014,2014,2014,2014,2014,2014,2015,2015,2015,2015,2015,2015,2015,2015,2015,2015,2016,2016,2016,2016,2016,2016,2016,2016,2016,2016,2017,2017,2017,2017,2017,2017,2017,2017,2017,2017,2018,2018,2018,2018,2018,2018,2018,2018,2018,2018,2019,2019,2019,2019,2019,2019,2019,2019,2019,2019,2020,2020,2020,2020,2020,2020,2020,2020,2020,2020,2021,2021,2021,2021,2021,2021,2021,2021,2021,2021,2022,2022,2022,2022,2022,2022,2022,2022,2022,2022],\"xaxis\":\"x\",\"y\":[10248,10044,10007,3769,1721,1393,948,590,363,295,64426,47455,37217,9766,5764,5762,5144,4672,2155,1525,29348,27881,24288,7179,4076,3842,2683,1615,1287,792,37995,22822,19973,5467,3863,3363,2862,2340,920,558,66189,47367,28644,6591,4811,4333,3461,2328,1214,1145,55778,35561,24540,6819,6171,4334,3901,915,848,802,43682,32574,30094,5449,4740,3878,3672,1091,765,370,60579,31051,25824,7934,5807,4254,2168,1432,1134,660,116280,72016,43640,20663,12771,11812,5070,3653,1204,784,112679,71081,49156,18003,15905,11665,3390,3229,1350,892,153437,82478,82344,22532,20250,12650,7610,3496,2210,1963,4909,3404,3134,923,538,311,308,268,38,27],\"yaxis\":\"y\",\"type\":\"histogram\"},{\"alignmentgroup\":\"True\",\"bingroup\":\"x\",\"histfunc\":\"sum\",\"hovertemplate\":\"bioma=Pantanal<br>datahora=%{x}<br>sum of 0=%{y}<extra></extra>\",\"legendgroup\":\"Pantanal\",\"marker\":{\"color\":\"#FFA15A\",\"pattern\":{\"shape\":\"\"}},\"name\":\"Pantanal\",\"offsetgroup\":\"Pantanal\",\"orientation\":\"v\",\"showlegend\":true,\"x\":[2011,2011,2012,2012,2013,2013,2014,2014,2015,2015,2016,2016,2017,2017,2018,2018,2019,2019,2020,2020,2021,2021,2022,2022],\"xaxis\":\"x\",\"y\":[9334,8064,73462,16166,23557,21644,9966,4849,30951,17250,49577,8674,47322,28859,12622,9296,187087,43208,508632,234345,191190,101771,1112,328],\"yaxis\":\"y\",\"type\":\"histogram\"},{\"alignmentgroup\":\"True\",\"bingroup\":\"x\",\"histfunc\":\"sum\",\"hovertemplate\":\"bioma=Pampa<br>datahora=%{x}<br>sum of 0=%{y}<extra></extra>\",\"legendgroup\":\"Pampa\",\"marker\":{\"color\":\"#19d3f3\",\"pattern\":{\"shape\":\"\"}},\"name\":\"Pampa\",\"offsetgroup\":\"Pampa\",\"orientation\":\"v\",\"showlegend\":true,\"x\":[2011,2012,2012,2013,2013,2014,2015,2015,2016,2016,2017,2018,2018,2019,2019,2020,2020,2021,2021,2022],\"xaxis\":\"x\",\"y\":[1511,7931,12,6384,2,5271,5746,1,9438,5,7777,6462,1,16320,1,20454,17,16398,6,679],\"yaxis\":\"y\",\"type\":\"histogram\"}],                        {\"template\":{\"data\":{\"histogram2dcontour\":[{\"type\":\"histogram2dcontour\",\"colorbar\":{\"outlinewidth\":0,\"ticks\":\"\"},\"colorscale\":[[0.0,\"#0d0887\"],[0.1111111111111111,\"#46039f\"],[0.2222222222222222,\"#7201a8\"],[0.3333333333333333,\"#9c179e\"],[0.4444444444444444,\"#bd3786\"],[0.5555555555555556,\"#d8576b\"],[0.6666666666666666,\"#ed7953\"],[0.7777777777777778,\"#fb9f3a\"],[0.8888888888888888,\"#fdca26\"],[1.0,\"#f0f921\"]]}],\"choropleth\":[{\"type\":\"choropleth\",\"colorbar\":{\"outlinewidth\":0,\"ticks\":\"\"}}],\"histogram2d\":[{\"type\":\"histogram2d\",\"colorbar\":{\"outlinewidth\":0,\"ticks\":\"\"},\"colorscale\":[[0.0,\"#0d0887\"],[0.1111111111111111,\"#46039f\"],[0.2222222222222222,\"#7201a8\"],[0.3333333333333333,\"#9c179e\"],[0.4444444444444444,\"#bd3786\"],[0.5555555555555556,\"#d8576b\"],[0.6666666666666666,\"#ed7953\"],[0.7777777777777778,\"#fb9f3a\"],[0.8888888888888888,\"#fdca26\"],[1.0,\"#f0f921\"]]}],\"heatmap\":[{\"type\":\"heatmap\",\"colorbar\":{\"outlinewidth\":0,\"ticks\":\"\"},\"colorscale\":[[0.0,\"#0d0887\"],[0.1111111111111111,\"#46039f\"],[0.2222222222222222,\"#7201a8\"],[0.3333333333333333,\"#9c179e\"],[0.4444444444444444,\"#bd3786\"],[0.5555555555555556,\"#d8576b\"],[0.6666666666666666,\"#ed7953\"],[0.7777777777777778,\"#fb9f3a\"],[0.8888888888888888,\"#fdca26\"],[1.0,\"#f0f921\"]]}],\"heatmapgl\":[{\"type\":\"heatmapgl\",\"colorbar\":{\"outlinewidth\":0,\"ticks\":\"\"},\"colorscale\":[[0.0,\"#0d0887\"],[0.1111111111111111,\"#46039f\"],[0.2222222222222222,\"#7201a8\"],[0.3333333333333333,\"#9c179e\"],[0.4444444444444444,\"#bd3786\"],[0.5555555555555556,\"#d8576b\"],[0.6666666666666666,\"#ed7953\"],[0.7777777777777778,\"#fb9f3a\"],[0.8888888888888888,\"#fdca26\"],[1.0,\"#f0f921\"]]}],\"contourcarpet\":[{\"type\":\"contourcarpet\",\"colorbar\":{\"outlinewidth\":0,\"ticks\":\"\"}}],\"contour\":[{\"type\":\"contour\",\"colorbar\":{\"outlinewidth\":0,\"ticks\":\"\"},\"colorscale\":[[0.0,\"#0d0887\"],[0.1111111111111111,\"#46039f\"],[0.2222222222222222,\"#7201a8\"],[0.3333333333333333,\"#9c179e\"],[0.4444444444444444,\"#bd3786\"],[0.5555555555555556,\"#d8576b\"],[0.6666666666666666,\"#ed7953\"],[0.7777777777777778,\"#fb9f3a\"],[0.8888888888888888,\"#fdca26\"],[1.0,\"#f0f921\"]]}],\"surface\":[{\"type\":\"surface\",\"colorbar\":{\"outlinewidth\":0,\"ticks\":\"\"},\"colorscale\":[[0.0,\"#0d0887\"],[0.1111111111111111,\"#46039f\"],[0.2222222222222222,\"#7201a8\"],[0.3333333333333333,\"#9c179e\"],[0.4444444444444444,\"#bd3786\"],[0.5555555555555556,\"#d8576b\"],[0.6666666666666666,\"#ed7953\"],[0.7777777777777778,\"#fb9f3a\"],[0.8888888888888888,\"#fdca26\"],[1.0,\"#f0f921\"]]}],\"mesh3d\":[{\"type\":\"mesh3d\",\"colorbar\":{\"outlinewidth\":0,\"ticks\":\"\"}}],\"scatter\":[{\"fillpattern\":{\"fillmode\":\"overlay\",\"size\":10,\"solidity\":0.2},\"type\":\"scatter\"}],\"parcoords\":[{\"type\":\"parcoords\",\"line\":{\"colorbar\":{\"outlinewidth\":0,\"ticks\":\"\"}}}],\"scatterpolargl\":[{\"type\":\"scatterpolargl\",\"marker\":{\"colorbar\":{\"outlinewidth\":0,\"ticks\":\"\"}}}],\"bar\":[{\"error_x\":{\"color\":\"#2a3f5f\"},\"error_y\":{\"color\":\"#2a3f5f\"},\"marker\":{\"line\":{\"color\":\"#E5ECF6\",\"width\":0.5},\"pattern\":{\"fillmode\":\"overlay\",\"size\":10,\"solidity\":0.2}},\"type\":\"bar\"}],\"scattergeo\":[{\"type\":\"scattergeo\",\"marker\":{\"colorbar\":{\"outlinewidth\":0,\"ticks\":\"\"}}}],\"scatterpolar\":[{\"type\":\"scatterpolar\",\"marker\":{\"colorbar\":{\"outlinewidth\":0,\"ticks\":\"\"}}}],\"histogram\":[{\"marker\":{\"pattern\":{\"fillmode\":\"overlay\",\"size\":10,\"solidity\":0.2}},\"type\":\"histogram\"}],\"scattergl\":[{\"type\":\"scattergl\",\"marker\":{\"colorbar\":{\"outlinewidth\":0,\"ticks\":\"\"}}}],\"scatter3d\":[{\"type\":\"scatter3d\",\"line\":{\"colorbar\":{\"outlinewidth\":0,\"ticks\":\"\"}},\"marker\":{\"colorbar\":{\"outlinewidth\":0,\"ticks\":\"\"}}}],\"scattermapbox\":[{\"type\":\"scattermapbox\",\"marker\":{\"colorbar\":{\"outlinewidth\":0,\"ticks\":\"\"}}}],\"scatterternary\":[{\"type\":\"scatterternary\",\"marker\":{\"colorbar\":{\"outlinewidth\":0,\"ticks\":\"\"}}}],\"scattercarpet\":[{\"type\":\"scattercarpet\",\"marker\":{\"colorbar\":{\"outlinewidth\":0,\"ticks\":\"\"}}}],\"carpet\":[{\"aaxis\":{\"endlinecolor\":\"#2a3f5f\",\"gridcolor\":\"white\",\"linecolor\":\"white\",\"minorgridcolor\":\"white\",\"startlinecolor\":\"#2a3f5f\"},\"baxis\":{\"endlinecolor\":\"#2a3f5f\",\"gridcolor\":\"white\",\"linecolor\":\"white\",\"minorgridcolor\":\"white\",\"startlinecolor\":\"#2a3f5f\"},\"type\":\"carpet\"}],\"table\":[{\"cells\":{\"fill\":{\"color\":\"#EBF0F8\"},\"line\":{\"color\":\"white\"}},\"header\":{\"fill\":{\"color\":\"#C8D4E3\"},\"line\":{\"color\":\"white\"}},\"type\":\"table\"}],\"barpolar\":[{\"marker\":{\"line\":{\"color\":\"#E5ECF6\",\"width\":0.5},\"pattern\":{\"fillmode\":\"overlay\",\"size\":10,\"solidity\":0.2}},\"type\":\"barpolar\"}],\"pie\":[{\"automargin\":true,\"type\":\"pie\"}]},\"layout\":{\"autotypenumbers\":\"strict\",\"colorway\":[\"#636efa\",\"#EF553B\",\"#00cc96\",\"#ab63fa\",\"#FFA15A\",\"#19d3f3\",\"#FF6692\",\"#B6E880\",\"#FF97FF\",\"#FECB52\"],\"font\":{\"color\":\"#2a3f5f\"},\"hovermode\":\"closest\",\"hoverlabel\":{\"align\":\"left\"},\"paper_bgcolor\":\"white\",\"plot_bgcolor\":\"#E5ECF6\",\"polar\":{\"bgcolor\":\"#E5ECF6\",\"angularaxis\":{\"gridcolor\":\"white\",\"linecolor\":\"white\",\"ticks\":\"\"},\"radialaxis\":{\"gridcolor\":\"white\",\"linecolor\":\"white\",\"ticks\":\"\"}},\"ternary\":{\"bgcolor\":\"#E5ECF6\",\"aaxis\":{\"gridcolor\":\"white\",\"linecolor\":\"white\",\"ticks\":\"\"},\"baxis\":{\"gridcolor\":\"white\",\"linecolor\":\"white\",\"ticks\":\"\"},\"caxis\":{\"gridcolor\":\"white\",\"linecolor\":\"white\",\"ticks\":\"\"}},\"coloraxis\":{\"colorbar\":{\"outlinewidth\":0,\"ticks\":\"\"}},\"colorscale\":{\"sequential\":[[0.0,\"#0d0887\"],[0.1111111111111111,\"#46039f\"],[0.2222222222222222,\"#7201a8\"],[0.3333333333333333,\"#9c179e\"],[0.4444444444444444,\"#bd3786\"],[0.5555555555555556,\"#d8576b\"],[0.6666666666666666,\"#ed7953\"],[0.7777777777777778,\"#fb9f3a\"],[0.8888888888888888,\"#fdca26\"],[1.0,\"#f0f921\"]],\"sequentialminus\":[[0.0,\"#0d0887\"],[0.1111111111111111,\"#46039f\"],[0.2222222222222222,\"#7201a8\"],[0.3333333333333333,\"#9c179e\"],[0.4444444444444444,\"#bd3786\"],[0.5555555555555556,\"#d8576b\"],[0.6666666666666666,\"#ed7953\"],[0.7777777777777778,\"#fb9f3a\"],[0.8888888888888888,\"#fdca26\"],[1.0,\"#f0f921\"]],\"diverging\":[[0,\"#8e0152\"],[0.1,\"#c51b7d\"],[0.2,\"#de77ae\"],[0.3,\"#f1b6da\"],[0.4,\"#fde0ef\"],[0.5,\"#f7f7f7\"],[0.6,\"#e6f5d0\"],[0.7,\"#b8e186\"],[0.8,\"#7fbc41\"],[0.9,\"#4d9221\"],[1,\"#276419\"]]},\"xaxis\":{\"gridcolor\":\"white\",\"linecolor\":\"white\",\"ticks\":\"\",\"title\":{\"standoff\":15},\"zerolinecolor\":\"white\",\"automargin\":true,\"zerolinewidth\":2},\"yaxis\":{\"gridcolor\":\"white\",\"linecolor\":\"white\",\"ticks\":\"\",\"title\":{\"standoff\":15},\"zerolinecolor\":\"white\",\"automargin\":true,\"zerolinewidth\":2},\"scene\":{\"xaxis\":{\"backgroundcolor\":\"#E5ECF6\",\"gridcolor\":\"white\",\"linecolor\":\"white\",\"showbackground\":true,\"ticks\":\"\",\"zerolinecolor\":\"white\",\"gridwidth\":2},\"yaxis\":{\"backgroundcolor\":\"#E5ECF6\",\"gridcolor\":\"white\",\"linecolor\":\"white\",\"showbackground\":true,\"ticks\":\"\",\"zerolinecolor\":\"white\",\"gridwidth\":2},\"zaxis\":{\"backgroundcolor\":\"#E5ECF6\",\"gridcolor\":\"white\",\"linecolor\":\"white\",\"showbackground\":true,\"ticks\":\"\",\"zerolinecolor\":\"white\",\"gridwidth\":2}},\"shapedefaults\":{\"line\":{\"color\":\"#2a3f5f\"}},\"annotationdefaults\":{\"arrowcolor\":\"#2a3f5f\",\"arrowhead\":0,\"arrowwidth\":1},\"geo\":{\"bgcolor\":\"white\",\"landcolor\":\"#E5ECF6\",\"subunitcolor\":\"white\",\"showland\":true,\"showlakes\":true,\"lakecolor\":\"white\"},\"title\":{\"x\":0.05},\"mapbox\":{\"style\":\"light\"}}},\"xaxis\":{\"anchor\":\"y\",\"domain\":[0.0,1.0],\"title\":{\"text\":\"datahora\"}},\"yaxis\":{\"anchor\":\"x\",\"domain\":[0.0,1.0],\"title\":{\"text\":\"sum of 0\"}},\"legend\":{\"title\":{\"text\":\"bioma\"},\"tracegroupgap\":0},\"margin\":{\"t\":60},\"barmode\":\"group\",\"height\":400},                        {\"responsive\": true}                    ).then(function(){\n",
       "                            \n",
       "var gd = document.getElementById('1c147125-a7c2-48b7-8610-d9157af6e9ac');\n",
       "var x = new MutationObserver(function (mutations, observer) {{\n",
       "        var display = window.getComputedStyle(gd).display;\n",
       "        if (!display || display === 'none') {{\n",
       "            console.log([gd, 'removed!']);\n",
       "            Plotly.purge(gd);\n",
       "            observer.disconnect();\n",
       "        }}\n",
       "}});\n",
       "\n",
       "// Listen for the removal of the full notebook cells\n",
       "var notebookContainer = gd.closest('#notebook-container');\n",
       "if (notebookContainer) {{\n",
       "    x.observe(notebookContainer, {childList: true});\n",
       "}}\n",
       "\n",
       "// Listen for the clearing of the current output cell\n",
       "var outputEl = gd.closest('.output');\n",
       "if (outputEl) {{\n",
       "    x.observe(outputEl, {childList: true});\n",
       "}}\n",
       "\n",
       "                        })                };                });            </script>        </div>"
      ]
     },
     "metadata": {},
     "output_type": "display_data"
    }
   ],
   "source": [
    "# grafico com todos os anos\n",
    "\n",
    "grafico_difereca_entre_anos= px.histogram(var, x='datahora', y=var[0],\n",
    "             color='bioma', barmode='group',\n",
    "             height=400)\n",
    "grafico_difereca_entre_anos"
   ]
  },
  {
   "cell_type": "markdown",
   "metadata": {},
   "source": [
    "## Bioma por estações"
   ]
  },
  {
   "cell_type": "code",
   "execution_count": 45,
   "metadata": {},
   "outputs": [],
   "source": [
    "primavera = (df['datahora'] > '2016-09-23') & (df['datahora']  <= '2016-12-21')\n",
    "verao = (df['datahora']  > '2016-12-21') | ( df['datahora']  >= '2016-01-01') & (df['datahora']  < '2016-03-21')\n",
    "outono = (df['datahora']  > '2016-03-21') & (df['datahora']  <= '2016-06-20')\n",
    "inverno = (df['datahora'] > '2016-06-20') & (df['datahora']  <= '2016-09-23')\n",
    "\n",
    "df['estacao']=''\n",
    "df.loc[primavera, 'estacao']=\"primavera\"\n",
    "df.loc[verao, 'estacao']=\"verao\"\n",
    "df.loc[outono,'estacao']=\"outono\"\n",
    "df.loc[inverno, 'estacao']='inverno'\n"
   ]
  },
  {
   "cell_type": "code",
   "execution_count": 47,
   "metadata": {},
   "outputs": [
    {
     "data": {
      "text/html": [
       "<div>\n",
       "<style scoped>\n",
       "    .dataframe tbody tr th:only-of-type {\n",
       "        vertical-align: middle;\n",
       "    }\n",
       "\n",
       "    .dataframe tbody tr th {\n",
       "        vertical-align: top;\n",
       "    }\n",
       "\n",
       "    .dataframe thead th {\n",
       "        text-align: right;\n",
       "    }\n",
       "</style>\n",
       "<table border=\"1\" class=\"dataframe\">\n",
       "  <thead>\n",
       "    <tr style=\"text-align: right;\">\n",
       "      <th></th>\n",
       "      <th></th>\n",
       "      <th>Total</th>\n",
       "    </tr>\n",
       "    <tr>\n",
       "      <th>estacao</th>\n",
       "      <th>riscofogo</th>\n",
       "      <th></th>\n",
       "    </tr>\n",
       "  </thead>\n",
       "  <tbody>\n",
       "    <tr>\n",
       "      <th rowspan=\"4\" valign=\"top\"></th>\n",
       "      <th>(0.0, 0.25]</th>\n",
       "      <td>179782</td>\n",
       "    </tr>\n",
       "    <tr>\n",
       "      <th>(0.25, 0.5]</th>\n",
       "      <td>275881</td>\n",
       "    </tr>\n",
       "    <tr>\n",
       "      <th>(0.5, 0.75]</th>\n",
       "      <td>260822</td>\n",
       "    </tr>\n",
       "    <tr>\n",
       "      <th>(0.75, 1.0]</th>\n",
       "      <td>3631822</td>\n",
       "    </tr>\n",
       "    <tr>\n",
       "      <th rowspan=\"4\" valign=\"top\">inverno</th>\n",
       "      <th>(0.0, 0.25]</th>\n",
       "      <td>39547</td>\n",
       "    </tr>\n",
       "    <tr>\n",
       "      <th>(0.25, 0.5]</th>\n",
       "      <td>51001</td>\n",
       "    </tr>\n",
       "    <tr>\n",
       "      <th>(0.5, 0.75]</th>\n",
       "      <td>50977</td>\n",
       "    </tr>\n",
       "    <tr>\n",
       "      <th>(0.75, 1.0]</th>\n",
       "      <td>889760</td>\n",
       "    </tr>\n",
       "    <tr>\n",
       "      <th rowspan=\"4\" valign=\"top\">outono</th>\n",
       "      <th>(0.0, 0.25]</th>\n",
       "      <td>6962</td>\n",
       "    </tr>\n",
       "    <tr>\n",
       "      <th>(0.25, 0.5]</th>\n",
       "      <td>10586</td>\n",
       "    </tr>\n",
       "    <tr>\n",
       "      <th>(0.5, 0.75]</th>\n",
       "      <td>9850</td>\n",
       "    </tr>\n",
       "    <tr>\n",
       "      <th>(0.75, 1.0]</th>\n",
       "      <td>81516</td>\n",
       "    </tr>\n",
       "    <tr>\n",
       "      <th rowspan=\"4\" valign=\"top\">primavera</th>\n",
       "      <th>(0.0, 0.25]</th>\n",
       "      <td>70948</td>\n",
       "    </tr>\n",
       "    <tr>\n",
       "      <th>(0.25, 0.5]</th>\n",
       "      <td>89747</td>\n",
       "    </tr>\n",
       "    <tr>\n",
       "      <th>(0.5, 0.75]</th>\n",
       "      <td>67552</td>\n",
       "    </tr>\n",
       "    <tr>\n",
       "      <th>(0.75, 1.0]</th>\n",
       "      <td>378079</td>\n",
       "    </tr>\n",
       "    <tr>\n",
       "      <th rowspan=\"4\" valign=\"top\">verao</th>\n",
       "      <th>(0.0, 0.25]</th>\n",
       "      <td>1373672</td>\n",
       "    </tr>\n",
       "    <tr>\n",
       "      <th>(0.25, 0.5]</th>\n",
       "      <td>1707489</td>\n",
       "    </tr>\n",
       "    <tr>\n",
       "      <th>(0.5, 0.75]</th>\n",
       "      <td>1419038</td>\n",
       "    </tr>\n",
       "    <tr>\n",
       "      <th>(0.75, 1.0]</th>\n",
       "      <td>12575042</td>\n",
       "    </tr>\n",
       "  </tbody>\n",
       "</table>\n",
       "</div>"
      ],
      "text/plain": [
       "                          Total\n",
       "estacao   riscofogo            \n",
       "          (0.0, 0.25]    179782\n",
       "          (0.25, 0.5]    275881\n",
       "          (0.5, 0.75]    260822\n",
       "          (0.75, 1.0]   3631822\n",
       "inverno   (0.0, 0.25]     39547\n",
       "          (0.25, 0.5]     51001\n",
       "          (0.5, 0.75]     50977\n",
       "          (0.75, 1.0]    889760\n",
       "outono    (0.0, 0.25]      6962\n",
       "          (0.25, 0.5]     10586\n",
       "          (0.5, 0.75]      9850\n",
       "          (0.75, 1.0]     81516\n",
       "primavera (0.0, 0.25]     70948\n",
       "          (0.25, 0.5]     89747\n",
       "          (0.5, 0.75]     67552\n",
       "          (0.75, 1.0]    378079\n",
       "verao     (0.0, 0.25]   1373672\n",
       "          (0.25, 0.5]   1707489\n",
       "          (0.5, 0.75]   1419038\n",
       "          (0.75, 1.0]  12575042"
      ]
     },
     "execution_count": 47,
     "metadata": {},
     "output_type": "execute_result"
    }
   ],
   "source": [
    "# Contado por grupo de risco e por estação\n",
    "df.filter(items=[\"riscofogo\", \"estacao\"])\\\n",
    "     .groupby([\"estacao\",pd.cut(df[\"riscofogo\"], np.arange(0, 1+.25, .25))])\\\n",
    "     .count().rename(columns={'riscofogo':'Total'})"
   ]
  },
  {
   "cell_type": "markdown",
   "metadata": {},
   "source": [
    " Qual é a correlacao dos biomas com as estações"
   ]
  },
  {
   "cell_type": "code",
   "execution_count": 50,
   "metadata": {},
   "outputs": [],
   "source": [
    "estacao_bioma=pd.DataFrame(index=df['bioma'].unique())\n",
    "for estacao in (\"primavera\", \"verao\", \"outono\", \"inverno\"): \n",
    "    for bioma in df['bioma'].unique():\n",
    "        #estacao_bioma.set_value(bioma,estacao, len(dados.loc[ (dados['estacao']==estacao) & (dados['bioma']==bioma)]))\n",
    "        estacao_bioma.loc[bioma,estacao] = len(df.loc[ (df['estacao']==estacao) & (df['bioma']==bioma)])\n"
   ]
  },
  {
   "cell_type": "code",
   "execution_count": 57,
   "metadata": {},
   "outputs": [
    {
     "data": {
      "text/plain": [
       "(5.0, 0.0)"
      ]
     },
     "execution_count": 57,
     "metadata": {},
     "output_type": "execute_result"
    },
    {
     "data": {
      "image/png": "[encoded data removed]",
      "text/plain": [
       "<Figure size 700x600 with 2 Axes>"
      ]
     },
     "metadata": {},
     "output_type": "display_data"
    }
   ],
   "source": [
    "f, ax = plt.subplots(figsize=(7, 6))        \n",
    "sns.heatmap(estacao_bioma, cmap='Blues', annot=True, fmt='g', ax=ax)\n",
    "ax.set_ylim(5, 0)\n"
   ]
  },
  {
   "cell_type": "markdown",
   "metadata": {},
   "source": [
    "## Matrix de correlação "
   ]
  },
  {
   "cell_type": "code",
   "execution_count": 11,
   "metadata": {},
   "outputs": [
    {
     "name": "stderr",
     "output_type": "stream",
     "text": [
      "C:\\Users\\Beatriz\\AppData\\Local\\Temp\\ipykernel_8712\\326060382.py:5: DeprecationWarning: `np.bool` is a deprecated alias for the builtin `bool`. To silence this warning, use `bool` by itself. Doing this will not modify any behavior and is safe. If you specifically wanted the numpy scalar type, use `np.bool_` here.\n",
      "Deprecated in NumPy 1.20; for more details and guidance: https://numpy.org/devdocs/release/1.20.0-notes.html#deprecations\n",
      "  sns.heatmap(corr, mask=np.zeros_like(corr, dtype=np.bool), cmap=\"Blues\",\n"
     ]
    },
    {
     "data": {
      "text/plain": [
       "(4.0, 0.0)"
      ]
     },
     "execution_count": 11,
     "metadata": {},
     "output_type": "execute_result"
    },
    {
     "data": {
      "image/png": "[encoded data removed]",
      "text/plain": [
       "<Figure size 1000x700 with 2 Axes>"
      ]
     },
     "metadata": {},
     "output_type": "display_data"
    }
   ],
   "source": [
    "f, ax = plt.subplots(figsize=(10, 7))\n",
    "\n",
    "\n",
    "corr = dados.corr()\n",
    "sns.heatmap(corr, mask=np.zeros_like(corr, dtype=np.bool), cmap=\"Blues\",\n",
    "            square=True, ax=ax, annot=True)\n",
    "ax.set_ylim(4.0, 0)"
   ]
  },
  {
   "cell_type": "markdown",
   "metadata": {},
   "source": [
    "## Matrix de correlação nos ultimos 7 anos"
   ]
  },
  {
   "cell_type": "code",
   "execution_count": 12,
   "metadata": {},
   "outputs": [
    {
     "name": "stderr",
     "output_type": "stream",
     "text": [
      "C:\\Users\\Beatriz\\AppData\\Local\\Temp\\ipykernel_8712\\3353429457.py:8: DeprecationWarning: `np.bool` is a deprecated alias for the builtin `bool`. To silence this warning, use `bool` by itself. Doing this will not modify any behavior and is safe. If you specifically wanted the numpy scalar type, use `np.bool_` here.\n",
      "Deprecated in NumPy 1.20; for more details and guidance: https://numpy.org/devdocs/release/1.20.0-notes.html#deprecations\n",
      "  sns.heatmap(corr, mask=np.zeros_like(corr, dtype=np.bool), cmap='Blues',\n"
     ]
    },
    {
     "data": {
      "image/png": "[encoded data removed]",
      "text/plain": [
       "<Figure size 640x480 with 15 Axes>"
      ]
     },
     "metadata": {},
     "output_type": "display_data"
    }
   ],
   "source": [
    "anos = [2016,2017,2018,2019,2020,2021,2022]\n",
    "\n",
    "f, ((ax1, ax2), (ax3, ax4), (ax5, ax6),(ax7, ax8)) = plt.subplots(4, 2, sharex=True, sharey=True)\n",
    "ax = [ax1, ax2, ax3, ax4, ax5, ax6, ax7, ax8]\n",
    "\n",
    "for i in range(0, 7):\n",
    "    corr = dados[dados['datahora'].dt.year == anos[i]].corr()\n",
    "    sns.heatmap(corr, mask=np.zeros_like(corr, dtype=np.bool), cmap='Blues', \n",
    "                square=True, ax=ax[i], annot=True, vmin=-1, vmax=1)\n",
    "    ax[i].set_title(str(anos[i]))\n",
    "    ax[i].set_ylim(4.0, 0)\n",
    "\n",
    "ax8.set_visible(False)\n",
    "\n",
    "plt.subplots_adjust(hspace=0.2, top=3, right=1.8)"
   ]
  },
  {
   "cell_type": "markdown",
   "metadata": {},
   "source": [
    "## Regressão linear "
   ]
  },
  {
   "cell_type": "raw",
   "metadata": {},
   "source": [
    "Com Base no historico alguma change do risco de fogo ser pelas as demais variaveis?"
   ]
  },
  {
   "cell_type": "code",
   "execution_count": 70,
   "metadata": {},
   "outputs": [],
   "source": [
    "from sklearn.model_selection import train_test_split \n",
    "from sklearn.linear_model import LinearRegression\n",
    "from sklearn import metrics\n",
    "from sklearn.preprocessing import LabelEncoder\n",
    "\n",
    "le = LabelEncoder()"
   ]
  },
  {
   "cell_type": "code",
   "execution_count": 51,
   "metadata": {},
   "outputs": [
    {
     "name": "stderr",
     "output_type": "stream",
     "text": [
      "C:\\Users\\Beatriz\\AppData\\Local\\Temp\\ipykernel_1920\\2698141911.py:1: SettingWithCopyWarning: \n",
      "A value is trying to be set on a copy of a slice from a DataFrame\n",
      "\n",
      "See the caveats in the documentation: https://pandas.pydata.org/pandas-docs/stable/user_guide/indexing.html#returning-a-view-versus-a-copy\n",
      "  dados.drop(['datahora'], axis = 1,inplace =True )\n"
     ]
    }
   ],
   "source": [
    "dados.drop(['datahora'], axis = 1,inplace =True )"
   ]
  },
  {
   "cell_type": "code",
   "execution_count": 52,
   "metadata": {},
   "outputs": [
    {
     "name": "stderr",
     "output_type": "stream",
     "text": [
      "C:\\Users\\Beatriz\\AppData\\Local\\Temp\\ipykernel_1920\\370758500.py:3: SettingWithCopyWarning: \n",
      "A value is trying to be set on a copy of a slice from a DataFrame.\n",
      "Try using .loc[row_indexer,col_indexer] = value instead\n",
      "\n",
      "See the caveats in the documentation: https://pandas.pydata.org/pandas-docs/stable/user_guide/indexing.html#returning-a-view-versus-a-copy\n",
      "  dados.bioma = le.transform(dados.bioma)\n"
     ]
    }
   ],
   "source": [
    "# classificando as informções em numericas\n",
    "le.fit(dados.bioma) \n",
    "dados.bioma = le.transform(dados.bioma)\n"
   ]
  },
  {
   "cell_type": "code",
   "execution_count": 53,
   "metadata": {},
   "outputs": [
    {
     "name": "stdout",
     "output_type": "stream",
     "text": [
      "<class 'pandas.core.frame.DataFrame'>\n",
      "Int64Index: 29360427 entries, 0 to 195405\n",
      "Data columns (total 5 columns):\n",
      " #   Column        Dtype  \n",
      "---  ------        -----  \n",
      " 0   bioma         int32  \n",
      " 1   diasemchuva   float64\n",
      " 2   precipitacao  float64\n",
      " 3   riscofogo     float64\n",
      " 4   frp           float64\n",
      "dtypes: float64(4), int32(1)\n",
      "memory usage: 1.2 GB\n"
     ]
    }
   ],
   "source": [
    "dados.info()"
   ]
  },
  {
   "cell_type": "code",
   "execution_count": 54,
   "metadata": {},
   "outputs": [],
   "source": [
    "x = dados.drop(['riscofogo'], axis = 1)\n",
    "y = dados.riscofogo   "
   ]
  },
  {
   "cell_type": "code",
   "execution_count": 56,
   "metadata": {},
   "outputs": [
    {
     "data": {
      "text/plain": [
       "LinearRegression()"
      ]
     },
     "execution_count": 56,
     "metadata": {},
     "output_type": "execute_result"
    }
   ],
   "source": [
    "#separando o x e y test e o x e y train para poder treinar o modelo\n",
    "x_train, x_test, y_train, y_test = train_test_split(x, y, test_size=0.2, random_state=0)\n",
    "lr = LinearRegression()\n",
    "lr.fit(x_train,y_train)\n",
    "\n"
   ]
  },
  {
   "cell_type": "code",
   "execution_count": 57,
   "metadata": {},
   "outputs": [
    {
     "name": "stdout",
     "output_type": "stream",
     "text": [
      "Coeficiente de Determinação (R²): 0.004914340645258308\n"
     ]
    }
   ],
   "source": [
    "\n",
    "r_sq = lr.score(x, y)\n",
    "print('Coeficiente de Determinação (R²):', r_sq)"
   ]
  },
  {
   "cell_type": "markdown",
   "metadata": {},
   "source": [
    "O modelo linear explica que 0,49% da variância da variável dependente a partir do regressores "
   ]
  },
  {
   "cell_type": "code",
   "execution_count": 58,
   "metadata": {},
   "outputs": [
    {
     "name": "stdout",
     "output_type": "stream",
     "text": [
      "Intercepto: -2.8287291311276945\n"
     ]
    }
   ],
   "source": [
    "print('Intercepto:', lr.intercept_)"
   ]
  },
  {
   "cell_type": "code",
   "execution_count": 60,
   "metadata": {},
   "outputs": [
    {
     "data": {
      "text/html": [
       "<div>\n",
       "<style scoped>\n",
       "    .dataframe tbody tr th:only-of-type {\n",
       "        vertical-align: middle;\n",
       "    }\n",
       "\n",
       "    .dataframe tbody tr th {\n",
       "        vertical-align: top;\n",
       "    }\n",
       "\n",
       "    .dataframe thead th {\n",
       "        text-align: right;\n",
       "    }\n",
       "</style>\n",
       "<table border=\"1\" class=\"dataframe\">\n",
       "  <thead>\n",
       "    <tr style=\"text-align: right;\">\n",
       "      <th></th>\n",
       "      <th>Coefficient</th>\n",
       "    </tr>\n",
       "  </thead>\n",
       "  <tbody>\n",
       "    <tr>\n",
       "      <th>bioma</th>\n",
       "      <td>-3.151412</td>\n",
       "    </tr>\n",
       "    <tr>\n",
       "      <th>diasemchuva</th>\n",
       "      <td>0.052694</td>\n",
       "    </tr>\n",
       "    <tr>\n",
       "      <th>precipitacao</th>\n",
       "      <td>-0.340708</td>\n",
       "    </tr>\n",
       "    <tr>\n",
       "      <th>frp</th>\n",
       "      <td>0.011366</td>\n",
       "    </tr>\n",
       "  </tbody>\n",
       "</table>\n",
       "</div>"
      ],
      "text/plain": [
       "              Coefficient\n",
       "bioma           -3.151412\n",
       "diasemchuva      0.052694\n",
       "precipitacao    -0.340708\n",
       "frp              0.011366"
      ]
     },
     "execution_count": 60,
     "metadata": {},
     "output_type": "execute_result"
    }
   ],
   "source": [
    "coeff_df = pd.DataFrame(lr.coef_,x.columns,columns=['Coefficient'])\n",
    "coeff_df"
   ]
  },
  {
   "cell_type": "code",
   "execution_count": 61,
   "metadata": {},
   "outputs": [
    {
     "name": "stdout",
     "output_type": "stream",
     "text": [
      "MAE: 14.073106953605482\n",
      "MSE: 7007.181493449528\n",
      "RMSE: 83.70890928359734\n"
     ]
    }
   ],
   "source": [
    "y_pred = lr.predict(x_test)\n",
    "print('MAE:', metrics.mean_absolute_error(y_test, y_pred))\n",
    "print('MSE:', metrics.mean_squared_error(y_test, y_pred))\n",
    "print('RMSE:', np.sqrt(metrics.mean_squared_error(y_test, y_pred)))"
   ]
  },
  {
   "cell_type": "markdown",
   "metadata": {},
   "source": [
    "## Teste de hipotese"
   ]
  },
  {
   "cell_type": "markdown",
   "metadata": {},
   "source": [
    "Teste de normalidade\n",
    "\n",
    "O risco de fogo é verdadeira"
   ]
  },
  {
   "cell_type": "code",
   "execution_count": 67,
   "metadata": {},
   "outputs": [],
   "source": [
    "from scipy.stats import normaltest"
   ]
  },
  {
   "cell_type": "code",
   "execution_count": 75,
   "metadata": {},
   "outputs": [],
   "source": [
    "significancia = 0.05"
   ]
  },
  {
   "cell_type": "code",
   "execution_count": 76,
   "metadata": {},
   "outputs": [
    {
     "data": {
      "text/plain": [
       "<AxesSubplot:>"
      ]
     },
     "execution_count": 76,
     "metadata": {},
     "output_type": "execute_result"
    },
    {
     "data": {
      "image/png": "[encoded data removed]",
      "text/plain": [
       "<Figure size 640x480 with 1 Axes>"
      ]
     },
     "metadata": {},
     "output_type": "display_data"
    }
   ],
   "source": [
    "dados1.riscofogo.hist(bins = 50)"
   ]
  },
  {
   "cell_type": "code",
   "execution_count": 82,
   "metadata": {},
   "outputs": [
    {
     "data": {
      "text/plain": [
       "NormaltestResult(statistic=48924401.64411907, pvalue=0.0)"
      ]
     },
     "execution_count": 82,
     "metadata": {},
     "output_type": "execute_result"
    }
   ],
   "source": [
    "normaltest(dados1.riscofogo)\n",
    "\n"
   ]
  },
  {
   "cell_type": "code",
   "execution_count": 84,
   "metadata": {},
   "outputs": [
    {
     "name": "stdout",
     "output_type": "stream",
     "text": [
      "48924401.64411907\n",
      "0.0\n"
     ]
    }
   ],
   "source": [
    "stat_test, p_valor = normaltest(dados1.riscofogo)\n",
    "print(stat_test)\n",
    "print(p_valor)"
   ]
  },
  {
   "cell_type": "code",
   "execution_count": 85,
   "metadata": {},
   "outputs": [
    {
     "data": {
      "text/plain": [
       "True"
      ]
     },
     "execution_count": 85,
     "metadata": {},
     "output_type": "execute_result"
    }
   ],
   "source": [
    "p_valor <= significancia"
   ]
  },
  {
   "cell_type": "markdown",
   "metadata": {},
   "source": [
    "Não é proveniente de uma distribuição normal, rejeitando assim a hipotese.\n",
    "Agora vamos ver se o bioma é proviniente."
   ]
  },
  {
   "cell_type": "code",
   "execution_count": 91,
   "metadata": {},
   "outputs": [
    {
     "data": {
      "text/plain": [
       "<AxesSubplot:>"
      ]
     },
     "execution_count": 91,
     "metadata": {},
     "output_type": "execute_result"
    },
    {
     "data": {
      "image/png": "[encoded data removed]",
      "text/plain": [
       "<Figure size 640x480 with 1 Axes>"
      ]
     },
     "metadata": {},
     "output_type": "display_data"
    }
   ],
   "source": [
    "dados1.bioma.hist(bins = 50)"
   ]
  },
  {
   "cell_type": "code",
   "execution_count": 92,
   "metadata": {},
   "outputs": [
    {
     "data": {
      "text/plain": [
       "NormaltestResult(statistic=3216872.404763416, pvalue=0.0)"
      ]
     },
     "execution_count": 92,
     "metadata": {},
     "output_type": "execute_result"
    }
   ],
   "source": [
    "normaltest(dados1.bioma)\n"
   ]
  },
  {
   "cell_type": "code",
   "execution_count": 94,
   "metadata": {},
   "outputs": [
    {
     "name": "stdout",
     "output_type": "stream",
     "text": [
      "3216872.404763416\n",
      "0.0\n"
     ]
    }
   ],
   "source": [
    "stat_test, p_valor = normaltest(dados1.bioma)\n",
    "print(stat_test)\n",
    "print(p_valor)"
   ]
  },
  {
   "cell_type": "code",
   "execution_count": 95,
   "metadata": {},
   "outputs": [
    {
     "data": {
      "text/plain": [
       "True"
      ]
     },
     "execution_count": 95,
     "metadata": {},
     "output_type": "execute_result"
    }
   ],
   "source": [
    "p_valor <= significancia"
   ]
  },
  {
   "cell_type": "markdown",
   "metadata": {},
   "source": [
    "Não é proveniente de uma distribuição normal, rejeitando assim a hipotese.\n"
   ]
  },
  {
   "cell_type": "code",
   "execution_count": 65,
   "metadata": {},
   "outputs": [
    {
     "data": {
      "text/plain": [
       "<AxesSubplot:>"
      ]
     },
     "execution_count": 65,
     "metadata": {},
     "output_type": "execute_result"
    },
    {
     "data": {
      "image/png": "[encoded data removed]",
      "text/plain": [
       "<Figure size 640x480 with 1 Axes>"
      ]
     },
     "metadata": {},
     "output_type": "display_data"
    }
   ],
   "source": [
    "df.estacao.hist(bins = 50)"
   ]
  },
  {
   "cell_type": "code",
   "execution_count": null,
   "metadata": {},
   "outputs": [],
   "source": [
    "le.fit(df.estacao) \n",
    "df.estacao = le.transform(df.estacao)\n"
   ]
  },
  {
   "cell_type": "code",
   "execution_count": null,
   "metadata": {},
   "outputs": [],
   "source": [
    "normaltest(df.estacao)\n",
    "stat_test, p_valor = normaltest(dados1.bioma)\n",
    "print(stat_test)\n",
    "print(p_valor)"
   ]
  },
  {
   "cell_type": "code",
   "execution_count": null,
   "metadata": {},
   "outputs": [],
   "source": []
  }
 ],
 "metadata": {
  "kernelspec": {
   "display_name": "Python 3 (ipykernel)",
   "language": "python",
   "name": "python3"
  },
  "language_info": {
   "codemirror_mode": {
    "name": "ipython",
    "version": 3
   },
   "file_extension": ".py",
   "mimetype": "text/x-python",
   "name": "python",
   "nbconvert_exporter": "python",
   "pygments_lexer": "ipython3",
   "version": "3.9.13"
  },
  "vscode": {
   "interpreter": {
    "hash": "4641df161b31aa840beca7a6f18da4742f04f966217c434ca3994e6365788010"
   }
  }
 },
 "nbformat": 4,
 "nbformat_minor": 2
}
